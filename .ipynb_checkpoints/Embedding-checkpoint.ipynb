{
 "cells": [
  {
   "cell_type": "code",
   "execution_count": 2,
   "metadata": {},
   "outputs": [],
   "source": [
    "import pandas as pd\n",
    "import torch\n",
    "from torch import nn\n",
    "import torch.optim as optim\n",
    "import torch.nn.functional as F\n",
    "from torch.nn.modules.distance import PairwiseDistance\n",
    "import numpy as np\n",
    "import matplotlib.pyplot as plt\n",
    "import torch.utils.data\n",
    "from tqdm import tnrange\n",
    "from tqdm import tqdm_notebook"
   ]
  },
  {
   "cell_type": "markdown",
   "metadata": {},
   "source": [
    "# Device"
   ]
  },
  {
   "cell_type": "code",
   "execution_count": 3,
   "metadata": {},
   "outputs": [],
   "source": [
    "device = torch.device('cuda')\n",
    "# device = torch.device('cpu')"
   ]
  },
  {
   "cell_type": "markdown",
   "metadata": {},
   "source": [
    "# Dataset"
   ]
  },
  {
   "cell_type": "code",
   "execution_count": 4,
   "metadata": {},
   "outputs": [],
   "source": [
    "class Images(torch.utils.data.Dataset):\n",
    "    def __init__(self):\n",
    "        D = np.r_[pd.read_csv(\"./mnist1.csv\").to_numpy(), pd.read_csv(\"./mnist2.csv\").to_numpy()]\n",
    "        self.X = torch.Tensor(D[:, :-1].reshape(70000, 1, 28, 28))/255\n",
    "        self.y = torch.Tensor(D[:, -1:])\n",
    "        \n",
    "    def __len__(self):\n",
    "        return self.X.shape[0]\n",
    "\n",
    "    def __getitem__(self, idx):\n",
    "        return self.X[idx, :, :, :], self.y[idx, 0]\n",
    "    \n",
    "    def to(self, device):\n",
    "        self.X = self.X.to(device)\n",
    "        self.y = self.y.to(device)"
   ]
  },
  {
   "cell_type": "code",
   "execution_count": 5,
   "metadata": {},
   "outputs": [],
   "source": [
    "Img = Images()\n",
    "Img.to(device)"
   ]
  },
  {
   "cell_type": "code",
   "execution_count": 6,
   "metadata": {
    "scrolled": true
   },
   "outputs": [
    {
     "data": {
      "image/png": "[encoded data removed]",
      "text/plain": [
       "<Figure size 432x288 with 1 Axes>"
      ]
     },
     "metadata": {
      "needs_background": "light"
     },
     "output_type": "display_data"
    }
   ],
   "source": [
    "plt.imshow(Img[0][0].to(torch.device('cpu')).reshape(28,28));"
   ]
  },
  {
   "cell_type": "code",
   "execution_count": 7,
   "metadata": {},
   "outputs": [],
   "source": [
    "sampler = torch.utils.data.RandomSampler(Img)"
   ]
  },
  {
   "cell_type": "code",
   "execution_count": 8,
   "metadata": {},
   "outputs": [],
   "source": [
    "dataLoader = torch.utils.data.DataLoader(Img, sampler=sampler, batch_size=2000)"
   ]
  },
  {
   "cell_type": "markdown",
   "metadata": {},
   "source": [
    "# Autoencoder"
   ]
  },
  {
   "cell_type": "code",
   "execution_count": 32,
   "metadata": {},
   "outputs": [],
   "source": [
    "class AUTOENC(nn.Module):\n",
    "    def __init__(self):\n",
    "        super(AUTOENC, self).__init__()\n",
    "#         a = 50\n",
    "#         b = 100\n",
    "#         c = 150\n",
    "        a = 50\n",
    "        b = 10\n",
    "        c = 1\n",
    "        \n",
    "        self.conv10 = nn.Conv2d(1, a, 5)\n",
    "        self.conv15 = nn.Conv2d(a, a, 5)\n",
    "        self.conv20 = nn.Conv2d(a, b, 5)\n",
    "        self.conv25 = nn.Conv2d(b, b, 5)\n",
    "        self.conv30 = nn.Conv2d(b, c, 5)\n",
    "        \n",
    "        self.conv40 = nn.Conv2d(c, b, 5)\n",
    "        self.conv45 = nn.Conv2d(b, b, 5)\n",
    "        self.conv50 = nn.Conv2d(b, a, 5)\n",
    "        self.conv55 = nn.Conv2d(a, a, 5)\n",
    "        self.conv60 = nn.Conv2d(a, 1, 5)\n",
    "        \n",
    "        self.pool = nn.MaxPool2d(2, return_indices=True)\n",
    "        self.unpool = nn.MaxUnpool2d(2)\n",
    "        \n",
    "    def forward(self, X):\n",
    "        X = torch.relu(self.conv10(F.pad(X,(2,2,2,2))))\n",
    "\n",
    "        X = torch.relu(self.conv15(F.pad(X,(2,2,2,2))))\n",
    "        X, inda = self.pool(X)\n",
    "        X = torch.relu(self.conv20(F.pad(X,(2,2,2,2))))\n",
    "        \n",
    "        X = torch.relu(self.conv25(F.pad(X,(2,2,2,2))))\n",
    "        X, indb = self.pool(X)\n",
    "        X = torch.relu(self.conv30(F.pad(X,(2,2,2,2))))\n",
    "        \n",
    "        X = torch.relu(self.conv40(F.pad(X,(2,2,2,2))))\n",
    "        X = self.unpool(X, indb)\n",
    "        X = torch.relu(self.conv45(F.pad(X,(2,2,2,2))))\n",
    "        \n",
    "        X = torch.relu(self.conv50(F.pad(X,(2,2,2,2))))\n",
    "        X = self.unpool(X, inda)\n",
    "        X = torch.relu(self.conv55(F.pad(X,(2,2,2,2))))\n",
    "        \n",
    "        X = torch.sigmoid(self.conv60(F.pad(X,(2,2,2,2))))\n",
    "        \n",
    "        return X"
   ]
  },
  {
   "cell_type": "markdown",
   "metadata": {},
   "source": [
    "# Training"
   ]
  },
  {
   "cell_type": "code",
   "execution_count": 33,
   "metadata": {},
   "outputs": [],
   "source": [
    "model = AUTOENC().to(device)"
   ]
  },
  {
   "cell_type": "code",
   "execution_count": 34,
   "metadata": {},
   "outputs": [],
   "source": [
    "opt = optim.Adam(model.parameters(), lr=0.001)"
   ]
  },
  {
   "cell_type": "code",
   "execution_count": 35,
   "metadata": {
    "scrolled": true
   },
   "outputs": [
    {
     "data": {
      "application/vnd.jupyter.widget-view+json": {
       "model_id": "02947b0981814e05903f5692a9a52a90",
       "version_major": 2,
       "version_minor": 0
      },
      "text/plain": [
       "HBox(children=(IntProgress(value=0, max=35), HTML(value='')))"
      ]
     },
     "metadata": {},
     "output_type": "display_data"
    },
    {
     "name": "stdout",
     "output_type": "stream",
     "text": [
      "Iteration 3 \n",
      "        L: 261879.0312\n",
      "Iteration 6 \n",
      "        L: 243626.3125\n",
      "Iteration 9 \n",
      "        L: 226470.1406\n",
      "Iteration 12 \n",
      "        L: 227216.1094\n",
      "Iteration 15 \n",
      "        L: 217862.7188\n",
      "Iteration 18 \n",
      "        L: 216677.1250\n",
      "Iteration 21 \n",
      "        L: 214350.4688\n",
      "Iteration 24 \n",
      "        L: 205679.2188\n",
      "Iteration 27 \n",
      "        L: 199486.2812\n",
      "Iteration 30 \n",
      "        L: 190547.7812\n",
      "Iteration 33 \n",
      "        L: 179151.9062\n",
      "\n"
     ]
    },
    {
     "data": {
      "application/vnd.jupyter.widget-view+json": {
       "model_id": "d961ae381ddd466e9f3abaf95f23d496",
       "version_major": 2,
       "version_minor": 0
      },
      "text/plain": [
       "HBox(children=(IntProgress(value=0, max=35), HTML(value='')))"
      ]
     },
     "metadata": {},
     "output_type": "display_data"
    },
    {
     "name": "stdout",
     "output_type": "stream",
     "text": [
      "Iteration 3 \n",
      "        L: 144623.8750\n",
      "Iteration 6 \n",
      "        L: 125512.6875\n",
      "Iteration 9 \n",
      "        L: 111393.4375\n",
      "Iteration 12 \n",
      "        L: 96879.6172\n",
      "Iteration 15 \n",
      "        L: 86855.8750\n",
      "Iteration 18 \n",
      "        L: 75250.6016\n",
      "Iteration 21 \n",
      "        L: 64313.3125\n",
      "Iteration 24 \n",
      "        L: 56880.2812\n",
      "Iteration 27 \n",
      "        L: 51410.0859\n",
      "Iteration 30 \n",
      "        L: 47668.1484\n",
      "Iteration 33 \n",
      "        L: 45206.0000\n",
      "\n"
     ]
    },
    {
     "data": {
      "application/vnd.jupyter.widget-view+json": {
       "model_id": "75e5d1ae11624299b4b6d21e1f38bf8f",
       "version_major": 2,
       "version_minor": 0
      },
      "text/plain": [
       "HBox(children=(IntProgress(value=0, max=35), HTML(value='')))"
      ]
     },
     "metadata": {},
     "output_type": "display_data"
    },
    {
     "name": "stdout",
     "output_type": "stream",
     "text": [
      "Iteration 3 \n",
      "        L: 41513.6797\n",
      "Iteration 6 \n",
      "        L: 39560.9609\n",
      "Iteration 9 \n",
      "        L: 36347.6250\n",
      "Iteration 12 \n",
      "        L: 34235.1484\n",
      "Iteration 15 \n",
      "        L: 32109.8594\n",
      "Iteration 18 \n",
      "        L: 28280.9844\n",
      "Iteration 21 \n",
      "        L: 26342.0449\n",
      "Iteration 24 \n",
      "        L: 24583.8730\n",
      "Iteration 27 \n",
      "        L: 23118.5859\n",
      "Iteration 30 \n",
      "        L: 22159.4414\n",
      "Iteration 33 \n",
      "        L: 20653.3887\n",
      "\n"
     ]
    },
    {
     "data": {
      "application/vnd.jupyter.widget-view+json": {
       "model_id": "d72f01f22fec4056819523ccdc7cb6fa",
       "version_major": 2,
       "version_minor": 0
      },
      "text/plain": [
       "HBox(children=(IntProgress(value=0, max=35), HTML(value='')))"
      ]
     },
     "metadata": {},
     "output_type": "display_data"
    },
    {
     "name": "stdout",
     "output_type": "stream",
     "text": [
      "Iteration 3 \n",
      "        L: 18872.2109\n",
      "Iteration 6 \n",
      "        L: 18451.7461\n",
      "Iteration 9 \n",
      "        L: 17743.0781\n",
      "Iteration 12 \n",
      "        L: 16931.8359\n",
      "Iteration 15 \n",
      "        L: 16397.8926\n",
      "Iteration 18 \n",
      "        L: 16043.1260\n",
      "Iteration 21 \n",
      "        L: 14982.7246\n",
      "Iteration 24 \n",
      "        L: 14801.3086\n",
      "Iteration 27 \n",
      "        L: 14443.2344\n",
      "Iteration 30 \n",
      "        L: 14207.7734\n",
      "Iteration 33 \n",
      "        L: 13875.1250\n",
      "\n"
     ]
    },
    {
     "data": {
      "application/vnd.jupyter.widget-view+json": {
       "model_id": "0c04606369bf4ac79aeb2cbeb40b1f28",
       "version_major": 2,
       "version_minor": 0
      },
      "text/plain": [
       "HBox(children=(IntProgress(value=0, max=35), HTML(value='')))"
      ]
     },
     "metadata": {},
     "output_type": "display_data"
    },
    {
     "name": "stdout",
     "output_type": "stream",
     "text": [
      "Iteration 3 \n",
      "        L: 13132.3047\n",
      "Iteration 6 \n",
      "        L: 12788.0039\n",
      "Iteration 9 \n",
      "        L: 12561.9902\n",
      "Iteration 12 \n",
      "        L: 12532.9463\n",
      "Iteration 15 \n",
      "        L: 12457.4355\n",
      "Iteration 18 \n",
      "        L: 12351.6475\n",
      "Iteration 21 \n",
      "        L: 11797.5156\n",
      "Iteration 24 \n",
      "        L: 11959.7598\n",
      "Iteration 27 \n",
      "        L: 11595.0000\n",
      "Iteration 30 \n",
      "        L: 11405.9092\n",
      "Iteration 33 \n",
      "        L: 11390.5078\n",
      "\n"
     ]
    },
    {
     "data": {
      "application/vnd.jupyter.widget-view+json": {
       "model_id": "1e1c4b0d3d6345999c3538456b3c621a",
       "version_major": 2,
       "version_minor": 0
      },
      "text/plain": [
       "HBox(children=(IntProgress(value=0, max=35), HTML(value='')))"
      ]
     },
     "metadata": {},
     "output_type": "display_data"
    },
    {
     "name": "stdout",
     "output_type": "stream",
     "text": [
      "Iteration 3 \n",
      "        L: 10815.4316\n",
      "Iteration 6 \n",
      "        L: 10916.2070\n",
      "Iteration 9 \n",
      "        L: 10691.9941\n",
      "Iteration 12 \n",
      "        L: 10925.0664\n",
      "Iteration 15 \n",
      "        L: 10664.6270\n",
      "Iteration 18 \n",
      "        L: 10689.9238\n",
      "Iteration 21 \n",
      "        L: 10528.1377\n",
      "Iteration 24 \n",
      "        L: 10385.9697\n",
      "Iteration 27 \n",
      "        L: 10290.1865\n",
      "Iteration 30 \n",
      "        L: 10235.2861\n",
      "Iteration 33 \n",
      "        L: 10415.1289\n",
      "\n"
     ]
    },
    {
     "data": {
      "application/vnd.jupyter.widget-view+json": {
       "model_id": "813a549877a044c7bedf2df81d273156",
       "version_major": 2,
       "version_minor": 0
      },
      "text/plain": [
       "HBox(children=(IntProgress(value=0, max=35), HTML(value='')))"
      ]
     },
     "metadata": {},
     "output_type": "display_data"
    },
    {
     "name": "stdout",
     "output_type": "stream",
     "text": [
      "Iteration 3 \n",
      "        L: 10807.5781\n",
      "Iteration 6 \n",
      "        L: 9793.7578\n",
      "Iteration 9 \n",
      "        L: 10284.6816\n",
      "Iteration 12 \n",
      "        L: 10063.9141\n",
      "Iteration 15 \n",
      "        L: 10017.8887\n",
      "Iteration 18 \n",
      "        L: 9724.6729\n",
      "Iteration 21 \n",
      "        L: 9652.9912\n",
      "Iteration 24 \n",
      "        L: 9655.8594\n",
      "Iteration 27 \n",
      "        L: 9589.7139\n",
      "Iteration 30 \n",
      "        L: 9335.7021\n",
      "Iteration 33 \n",
      "        L: 9326.9775\n",
      "\n"
     ]
    },
    {
     "data": {
      "application/vnd.jupyter.widget-view+json": {
       "model_id": "ad571dc4cd1742a4a3a651266934adba",
       "version_major": 2,
       "version_minor": 0
      },
      "text/plain": [
       "HBox(children=(IntProgress(value=0, max=35), HTML(value='')))"
      ]
     },
     "metadata": {},
     "output_type": "display_data"
    },
    {
     "name": "stdout",
     "output_type": "stream",
     "text": [
      "Iteration 3 \n",
      "        L: 9201.3223\n",
      "Iteration 6 \n",
      "        L: 9122.4746\n",
      "Iteration 9 \n",
      "        L: 9205.5098\n",
      "Iteration 12 \n",
      "        L: 9078.0430\n",
      "Iteration 15 \n",
      "        L: 9006.8457\n",
      "Iteration 18 \n",
      "        L: 9199.6445\n",
      "Iteration 21 \n",
      "        L: 9091.7891\n",
      "Iteration 24 \n",
      "        L: 8942.0898\n",
      "Iteration 27 \n",
      "        L: 8773.9727\n",
      "Iteration 30 \n",
      "        L: 8851.7539\n",
      "Iteration 33 \n",
      "        L: 8651.0850\n",
      "\n"
     ]
    },
    {
     "data": {
      "application/vnd.jupyter.widget-view+json": {
       "model_id": "ab861f7347b446e29d8d628559d90022",
       "version_major": 2,
       "version_minor": 0
      },
      "text/plain": [
       "HBox(children=(IntProgress(value=0, max=35), HTML(value='')))"
      ]
     },
     "metadata": {},
     "output_type": "display_data"
    },
    {
     "name": "stdout",
     "output_type": "stream",
     "text": [
      "Iteration 3 \n",
      "        L: 8977.5938\n",
      "Iteration 6 \n",
      "        L: 8622.8467\n",
      "Iteration 9 \n",
      "        L: 8609.5068\n",
      "Iteration 12 \n",
      "        L: 8759.7939\n",
      "Iteration 15 \n",
      "        L: 8500.4453\n",
      "Iteration 18 \n",
      "        L: 8591.8770\n",
      "Iteration 21 \n",
      "        L: 8423.0430\n",
      "Iteration 24 \n",
      "        L: 8488.7402\n",
      "Iteration 27 \n",
      "        L: 8256.3535\n",
      "Iteration 30 \n",
      "        L: 8264.5264\n",
      "Iteration 33 \n",
      "        L: 8573.6240\n",
      "\n"
     ]
    },
    {
     "data": {
      "application/vnd.jupyter.widget-view+json": {
       "model_id": "068a1393360247fcb8ab64cbf962f009",
       "version_major": 2,
       "version_minor": 0
      },
      "text/plain": [
       "HBox(children=(IntProgress(value=0, max=35), HTML(value='')))"
      ]
     },
     "metadata": {},
     "output_type": "display_data"
    },
    {
     "name": "stdout",
     "output_type": "stream",
     "text": [
      "Iteration 3 \n",
      "        L: 8289.1016\n",
      "Iteration 6 \n",
      "        L: 8609.3164\n",
      "Iteration 9 \n",
      "        L: 8139.2773\n",
      "Iteration 12 \n",
      "        L: 8684.8770\n",
      "Iteration 15 \n",
      "        L: 8037.2266\n",
      "Iteration 18 \n",
      "        L: 8537.4492\n",
      "Iteration 21 \n",
      "        L: 8007.5625\n",
      "Iteration 24 \n",
      "        L: 8472.8818\n",
      "Iteration 27 \n",
      "        L: 8068.1611\n",
      "Iteration 30 \n",
      "        L: 8086.2852\n",
      "Iteration 33 \n",
      "        L: 8185.3784\n",
      "\n"
     ]
    },
    {
     "data": {
      "application/vnd.jupyter.widget-view+json": {
       "model_id": "67e9bb4af2674dc3b6d993abcf03b96b",
       "version_major": 2,
       "version_minor": 0
      },
      "text/plain": [
       "HBox(children=(IntProgress(value=0, max=35), HTML(value='')))"
      ]
     },
     "metadata": {},
     "output_type": "display_data"
    },
    {
     "name": "stdout",
     "output_type": "stream",
     "text": [
      "Iteration 3 \n",
      "        L: 7933.5742\n",
      "Iteration 6 \n",
      "        L: 7866.3721\n",
      "Iteration 9 \n",
      "        L: 7851.2993\n",
      "Iteration 12 \n",
      "        L: 7847.9521\n",
      "Iteration 15 \n",
      "        L: 7696.5581\n",
      "Iteration 18 \n",
      "        L: 8022.9111\n",
      "Iteration 21 \n",
      "        L: 7712.7500\n",
      "Iteration 24 \n",
      "        L: 7650.9106\n",
      "Iteration 27 \n",
      "        L: 8282.8887\n",
      "Iteration 30 \n",
      "        L: 7572.4414\n",
      "Iteration 33 \n",
      "        L: 8016.0645\n",
      "\n"
     ]
    },
    {
     "data": {
      "application/vnd.jupyter.widget-view+json": {
       "model_id": "52d9d50d86d3480b91b73bc8ec5e120b",
       "version_major": 2,
       "version_minor": 0
      },
      "text/plain": [
       "HBox(children=(IntProgress(value=0, max=35), HTML(value='')))"
      ]
     },
     "metadata": {},
     "output_type": "display_data"
    },
    {
     "name": "stdout",
     "output_type": "stream",
     "text": [
      "Iteration 3 \n",
      "        L: 8154.1230\n",
      "Iteration 6 \n",
      "        L: 7644.3242\n",
      "Iteration 9 \n",
      "        L: 7311.3779\n",
      "Iteration 12 \n",
      "        L: 7568.8789\n",
      "Iteration 15 \n",
      "        L: 7512.3613\n",
      "Iteration 18 \n",
      "        L: 7385.2627\n",
      "Iteration 21 \n",
      "        L: 7338.7480\n",
      "Iteration 24 \n",
      "        L: 7443.9941\n",
      "Iteration 27 \n",
      "        L: 7299.2100\n",
      "Iteration 30 \n",
      "        L: 7145.5918\n",
      "Iteration 33 \n",
      "        L: 7566.9248\n",
      "\n"
     ]
    },
    {
     "data": {
      "application/vnd.jupyter.widget-view+json": {
       "model_id": "e91e5e40325f40aab737cb5d82af77b9",
       "version_major": 2,
       "version_minor": 0
      },
      "text/plain": [
       "HBox(children=(IntProgress(value=0, max=35), HTML(value='')))"
      ]
     },
     "metadata": {},
     "output_type": "display_data"
    },
    {
     "name": "stdout",
     "output_type": "stream",
     "text": [
      "Iteration 3 \n",
      "        L: 7402.2871\n",
      "Iteration 6 \n",
      "        L: 7142.6953\n",
      "Iteration 9 \n",
      "        L: 7193.6821\n",
      "Iteration 12 \n",
      "        L: 7070.8252\n",
      "Iteration 15 \n",
      "        L: 7058.1621\n",
      "Iteration 18 \n",
      "        L: 7162.0107\n",
      "Iteration 21 \n",
      "        L: 7049.4541\n",
      "Iteration 24 \n",
      "        L: 7027.5840\n",
      "Iteration 27 \n",
      "        L: 6970.9707\n",
      "Iteration 30 \n",
      "        L: 6856.8340\n",
      "Iteration 33 \n",
      "        L: 7014.1113\n",
      "\n"
     ]
    },
    {
     "data": {
      "application/vnd.jupyter.widget-view+json": {
       "model_id": "e99574e1234b4e2c9e4ab1a3cf95833e",
       "version_major": 2,
       "version_minor": 0
      },
      "text/plain": [
       "HBox(children=(IntProgress(value=0, max=35), HTML(value='')))"
      ]
     },
     "metadata": {},
     "output_type": "display_data"
    },
    {
     "name": "stdout",
     "output_type": "stream",
     "text": [
      "Iteration 3 \n",
      "        L: 6888.0566\n",
      "Iteration 6 \n",
      "        L: 7141.4707\n",
      "Iteration 9 \n",
      "        L: 6922.4429\n",
      "Iteration 12 \n",
      "        L: 6809.8535\n",
      "Iteration 15 \n",
      "        L: 6741.9663\n",
      "Iteration 18 \n",
      "        L: 6823.4482\n",
      "Iteration 21 \n",
      "        L: 6664.5303\n",
      "Iteration 24 \n",
      "        L: 6597.7266\n",
      "Iteration 27 \n",
      "        L: 6662.4927\n",
      "Iteration 30 \n",
      "        L: 6997.1758\n",
      "Iteration 33 \n",
      "        L: 7064.6475\n",
      "\n"
     ]
    },
    {
     "data": {
      "application/vnd.jupyter.widget-view+json": {
       "model_id": "4c8caf7147bd489da32cbb0f3ae1bdf4",
       "version_major": 2,
       "version_minor": 0
      },
      "text/plain": [
       "HBox(children=(IntProgress(value=0, max=35), HTML(value='')))"
      ]
     },
     "metadata": {},
     "output_type": "display_data"
    },
    {
     "name": "stdout",
     "output_type": "stream",
     "text": [
      "Iteration 3 \n",
      "        L: 7067.3364\n",
      "Iteration 6 \n",
      "        L: 6669.9307\n",
      "Iteration 9 \n",
      "        L: 6910.0840\n",
      "Iteration 12 \n",
      "        L: 6674.1299\n",
      "Iteration 15 \n",
      "        L: 6665.2095\n",
      "Iteration 18 \n",
      "        L: 6466.0444\n",
      "Iteration 21 \n",
      "        L: 6608.7759\n",
      "Iteration 24 \n",
      "        L: 6697.9858\n",
      "Iteration 27 \n",
      "        L: 6447.8252\n",
      "Iteration 30 \n",
      "        L: 6613.1875\n",
      "Iteration 33 \n",
      "        L: 6408.6582\n",
      "\n"
     ]
    },
    {
     "data": {
      "application/vnd.jupyter.widget-view+json": {
       "model_id": "1bc07d8bae26423fbf1bbcd678390e96",
       "version_major": 2,
       "version_minor": 0
      },
      "text/plain": [
       "HBox(children=(IntProgress(value=0, max=35), HTML(value='')))"
      ]
     },
     "metadata": {},
     "output_type": "display_data"
    },
    {
     "name": "stdout",
     "output_type": "stream",
     "text": [
      "Iteration 3 \n",
      "        L: 6436.8477\n",
      "Iteration 6 \n",
      "        L: 6493.9551\n",
      "Iteration 9 \n",
      "        L: 6301.1060\n",
      "Iteration 12 \n",
      "        L: 6322.9424\n",
      "Iteration 15 \n",
      "        L: 6315.2275\n",
      "Iteration 18 \n",
      "        L: 6208.4961\n",
      "Iteration 21 \n",
      "        L: 6350.9785\n",
      "Iteration 24 \n",
      "        L: 6348.2627\n",
      "Iteration 27 \n",
      "        L: 6215.5142\n",
      "Iteration 30 \n",
      "        L: 6168.6592\n",
      "Iteration 33 \n",
      "        L: 6132.3086\n",
      "\n"
     ]
    },
    {
     "data": {
      "application/vnd.jupyter.widget-view+json": {
       "model_id": "9e19a74290fd41148c240529315bc3bb",
       "version_major": 2,
       "version_minor": 0
      },
      "text/plain": [
       "HBox(children=(IntProgress(value=0, max=35), HTML(value='')))"
      ]
     },
     "metadata": {},
     "output_type": "display_data"
    },
    {
     "name": "stdout",
     "output_type": "stream",
     "text": [
      "Iteration 3 \n",
      "        L: 6708.2231\n",
      "Iteration 6 \n",
      "        L: 6889.4575\n",
      "Iteration 9 \n",
      "        L: 6096.0791\n",
      "Iteration 12 \n",
      "        L: 6447.6929\n",
      "Iteration 15 \n",
      "        L: 6132.0391\n",
      "Iteration 18 \n",
      "        L: 6239.4365\n",
      "Iteration 21 \n",
      "        L: 6130.4214\n",
      "Iteration 24 \n",
      "        L: 6137.8154\n",
      "Iteration 27 \n",
      "        L: 5984.4844\n",
      "Iteration 30 \n",
      "        L: 6128.8682\n",
      "Iteration 33 \n",
      "        L: 6125.1431\n",
      "\n"
     ]
    },
    {
     "data": {
      "application/vnd.jupyter.widget-view+json": {
       "model_id": "8b738a502cc54f2a9c76c15a79e18270",
       "version_major": 2,
       "version_minor": 0
      },
      "text/plain": [
       "HBox(children=(IntProgress(value=0, max=35), HTML(value='')))"
      ]
     },
     "metadata": {},
     "output_type": "display_data"
    },
    {
     "name": "stdout",
     "output_type": "stream",
     "text": [
      "Iteration 3 \n",
      "        L: 5901.5532\n",
      "Iteration 6 \n",
      "        L: 6232.7090\n",
      "Iteration 9 \n",
      "        L: 6146.8154\n",
      "Iteration 12 \n",
      "        L: 6002.2510\n",
      "Iteration 15 \n",
      "        L: 5850.7432\n",
      "Iteration 18 \n",
      "        L: 6200.1064\n",
      "Iteration 21 \n",
      "        L: 6088.0205\n",
      "Iteration 24 \n",
      "        L: 5958.3174\n",
      "Iteration 27 \n",
      "        L: 6466.7583\n",
      "Iteration 30 \n",
      "        L: 5948.5830\n",
      "Iteration 33 \n",
      "        L: 6008.4727\n",
      "\n"
     ]
    },
    {
     "data": {
      "application/vnd.jupyter.widget-view+json": {
       "model_id": "d4372490468c450581aba0a324dcb267",
       "version_major": 2,
       "version_minor": 0
      },
      "text/plain": [
       "HBox(children=(IntProgress(value=0, max=35), HTML(value='')))"
      ]
     },
     "metadata": {},
     "output_type": "display_data"
    },
    {
     "name": "stdout",
     "output_type": "stream",
     "text": [
      "Iteration 3 \n",
      "        L: 6060.3809\n",
      "Iteration 6 \n",
      "        L: 5932.6577\n",
      "Iteration 9 \n",
      "        L: 6103.7207\n",
      "Iteration 12 \n",
      "        L: 6040.2314\n",
      "Iteration 15 \n",
      "        L: 6015.9404\n",
      "Iteration 18 \n",
      "        L: 5758.0479\n",
      "Iteration 21 \n",
      "        L: 6052.4795\n",
      "Iteration 24 \n",
      "        L: 5767.2197\n",
      "Iteration 27 \n",
      "        L: 6078.3584\n",
      "Iteration 30 \n",
      "        L: 5897.4883\n",
      "Iteration 33 \n",
      "        L: 5816.8711\n",
      "\n"
     ]
    },
    {
     "data": {
      "application/vnd.jupyter.widget-view+json": {
       "model_id": "63081be9c78a427199afee989b6c416d",
       "version_major": 2,
       "version_minor": 0
      },
      "text/plain": [
       "HBox(children=(IntProgress(value=0, max=35), HTML(value='')))"
      ]
     },
     "metadata": {},
     "output_type": "display_data"
    },
    {
     "name": "stdout",
     "output_type": "stream",
     "text": [
      "Iteration 3 \n",
      "        L: 5752.4961\n",
      "Iteration 6 \n",
      "        L: 5941.2827\n",
      "Iteration 9 \n",
      "        L: 5761.1084\n",
      "Iteration 12 \n",
      "        L: 5856.3760\n",
      "Iteration 15 \n",
      "        L: 5666.9155\n",
      "Iteration 18 \n",
      "        L: 5753.4106\n",
      "Iteration 21 \n",
      "        L: 5629.9399\n",
      "Iteration 24 \n",
      "        L: 5675.2114\n",
      "Iteration 27 \n",
      "        L: 5731.7925\n",
      "Iteration 30 \n",
      "        L: 5761.2451\n",
      "Iteration 33 \n",
      "        L: 5609.4805\n",
      "\n"
     ]
    },
    {
     "data": {
      "application/vnd.jupyter.widget-view+json": {
       "model_id": "cb3a491b6218404e94789e76860adee6",
       "version_major": 2,
       "version_minor": 0
      },
      "text/plain": [
       "HBox(children=(IntProgress(value=0, max=35), HTML(value='')))"
      ]
     },
     "metadata": {},
     "output_type": "display_data"
    },
    {
     "name": "stdout",
     "output_type": "stream",
     "text": [
      "Iteration 3 \n",
      "        L: 5628.7344\n",
      "Iteration 6 \n",
      "        L: 5652.0059\n",
      "Iteration 9 \n",
      "        L: 5723.9131\n",
      "Iteration 12 \n",
      "        L: 5585.0537\n",
      "Iteration 15 \n",
      "        L: 5648.0674\n",
      "Iteration 18 \n",
      "        L: 5809.6699\n",
      "Iteration 21 \n",
      "        L: 6020.1377\n",
      "Iteration 24 \n",
      "        L: 5651.8403\n",
      "Iteration 27 \n",
      "        L: 5601.8389\n",
      "Iteration 30 \n",
      "        L: 5970.4741\n",
      "Iteration 33 \n",
      "        L: 5614.9482\n",
      "\n"
     ]
    },
    {
     "data": {
      "application/vnd.jupyter.widget-view+json": {
       "model_id": "0f2dbaebb183476385b423c710a688b1",
       "version_major": 2,
       "version_minor": 0
      },
      "text/plain": [
       "HBox(children=(IntProgress(value=0, max=35), HTML(value='')))"
      ]
     },
     "metadata": {},
     "output_type": "display_data"
    },
    {
     "name": "stdout",
     "output_type": "stream",
     "text": [
      "Iteration 3 \n",
      "        L: 5628.6064\n",
      "Iteration 6 \n",
      "        L: 5586.9102\n",
      "Iteration 9 \n",
      "        L: 5512.5278\n",
      "Iteration 12 \n",
      "        L: 5741.4814\n",
      "Iteration 15 \n",
      "        L: 5477.2852\n",
      "Iteration 18 \n",
      "        L: 5489.7666\n",
      "Iteration 21 \n",
      "        L: 5451.3149\n",
      "Iteration 24 \n",
      "        L: 5585.0073\n",
      "Iteration 27 \n",
      "        L: 5586.4414\n",
      "Iteration 30 \n",
      "        L: 5483.0762\n",
      "Iteration 33 \n",
      "        L: 5896.8848\n",
      "\n"
     ]
    },
    {
     "data": {
      "application/vnd.jupyter.widget-view+json": {
       "model_id": "e84bedf4f8e44bc08683a0291a3f7c62",
       "version_major": 2,
       "version_minor": 0
      },
      "text/plain": [
       "HBox(children=(IntProgress(value=0, max=35), HTML(value='')))"
      ]
     },
     "metadata": {},
     "output_type": "display_data"
    },
    {
     "name": "stdout",
     "output_type": "stream",
     "text": [
      "Iteration 3 \n",
      "        L: 5500.6123\n",
      "Iteration 6 \n",
      "        L: 5607.6338\n",
      "Iteration 9 \n",
      "        L: 5379.9580\n",
      "Iteration 12 \n",
      "        L: 5371.0347\n",
      "Iteration 15 \n",
      "        L: 5400.5498\n",
      "Iteration 18 \n",
      "        L: 5579.0000\n",
      "Iteration 21 \n",
      "        L: 5288.8564\n",
      "Iteration 24 \n",
      "        L: 5685.2422\n",
      "Iteration 27 \n",
      "        L: 5332.5791\n",
      "Iteration 30 \n",
      "        L: 5895.3662\n",
      "Iteration 33 \n",
      "        L: 5501.1431\n",
      "\n"
     ]
    },
    {
     "data": {
      "application/vnd.jupyter.widget-view+json": {
       "model_id": "67b818571e334fec9151825eb0b85774",
       "version_major": 2,
       "version_minor": 0
      },
      "text/plain": [
       "HBox(children=(IntProgress(value=0, max=35), HTML(value='')))"
      ]
     },
     "metadata": {},
     "output_type": "display_data"
    },
    {
     "name": "stdout",
     "output_type": "stream",
     "text": [
      "Iteration 3 \n",
      "        L: 5575.9912\n",
      "Iteration 6 \n",
      "        L: 5326.8638\n",
      "Iteration 9 \n",
      "        L: 5273.7788\n",
      "Iteration 12 \n",
      "        L: 5638.3262\n",
      "Iteration 15 \n",
      "        L: 5351.0063\n",
      "Iteration 18 \n",
      "        L: 5351.2983\n",
      "Iteration 21 \n",
      "        L: 5238.5806\n",
      "Iteration 24 \n",
      "        L: 5269.0703\n",
      "Iteration 27 \n",
      "        L: 5232.1167\n",
      "Iteration 30 \n",
      "        L: 5248.2056\n",
      "Iteration 33 \n",
      "        L: 5158.1494\n",
      "\n"
     ]
    },
    {
     "data": {
      "application/vnd.jupyter.widget-view+json": {
       "model_id": "38f12e2a8e3d4735977164d25af5b02b",
       "version_major": 2,
       "version_minor": 0
      },
      "text/plain": [
       "HBox(children=(IntProgress(value=0, max=35), HTML(value='')))"
      ]
     },
     "metadata": {},
     "output_type": "display_data"
    },
    {
     "name": "stdout",
     "output_type": "stream",
     "text": [
      "Iteration 3 \n",
      "        L: 5280.3696\n",
      "Iteration 6 \n",
      "        L: 5240.9502\n",
      "Iteration 9 \n",
      "        L: 5304.3320\n",
      "Iteration 12 \n",
      "        L: 5431.7046\n",
      "Iteration 15 \n",
      "        L: 5175.3086\n",
      "Iteration 18 \n",
      "        L: 5585.5078\n",
      "Iteration 21 \n",
      "        L: 5273.0615\n",
      "Iteration 24 \n",
      "        L: 5245.2490\n",
      "Iteration 27 \n",
      "        L: 5257.2314\n",
      "Iteration 30 \n",
      "        L: 5214.1162\n",
      "Iteration 33 \n",
      "        L: 5179.0762\n",
      "\n"
     ]
    },
    {
     "data": {
      "application/vnd.jupyter.widget-view+json": {
       "model_id": "15373d37f09d45d28a88c8425ee7379f",
       "version_major": 2,
       "version_minor": 0
      },
      "text/plain": [
       "HBox(children=(IntProgress(value=0, max=35), HTML(value='')))"
      ]
     },
     "metadata": {},
     "output_type": "display_data"
    },
    {
     "name": "stdout",
     "output_type": "stream",
     "text": [
      "Iteration 3 \n",
      "        L: 5208.8379\n",
      "Iteration 6 \n",
      "        L: 5280.6836\n",
      "Iteration 9 \n",
      "        L: 5352.0762\n",
      "Iteration 12 \n",
      "        L: 5199.4834\n",
      "Iteration 15 \n",
      "        L: 5263.0859\n",
      "Iteration 18 \n",
      "        L: 5263.4414\n",
      "Iteration 21 \n",
      "        L: 5070.8291\n",
      "Iteration 24 \n",
      "        L: 5103.8838\n",
      "Iteration 27 \n",
      "        L: 5157.4707\n",
      "Iteration 30 \n",
      "        L: 5103.7100\n",
      "Iteration 33 \n",
      "        L: 5188.3569\n",
      "\n"
     ]
    },
    {
     "data": {
      "application/vnd.jupyter.widget-view+json": {
       "model_id": "73a62bd42b5e42c69cfa8990bff7880d",
       "version_major": 2,
       "version_minor": 0
      },
      "text/plain": [
       "HBox(children=(IntProgress(value=0, max=35), HTML(value='')))"
      ]
     },
     "metadata": {},
     "output_type": "display_data"
    },
    {
     "name": "stdout",
     "output_type": "stream",
     "text": [
      "Iteration 3 \n",
      "        L: 5401.6489\n",
      "Iteration 6 \n",
      "        L: 5059.5664\n",
      "Iteration 9 \n",
      "        L: 5185.9307\n",
      "Iteration 12 \n",
      "        L: 5152.5815\n",
      "Iteration 15 \n",
      "        L: 5090.6904\n",
      "Iteration 18 \n",
      "        L: 5300.7451\n",
      "Iteration 21 \n",
      "        L: 5121.2500\n",
      "Iteration 24 \n",
      "        L: 5234.0469\n",
      "Iteration 27 \n",
      "        L: 5044.3369\n",
      "Iteration 30 \n",
      "        L: 5245.4199\n",
      "Iteration 33 \n",
      "        L: 5166.8232\n",
      "\n"
     ]
    },
    {
     "data": {
      "application/vnd.jupyter.widget-view+json": {
       "model_id": "36a31f01836c4d4f8c2173180c6b9dd5",
       "version_major": 2,
       "version_minor": 0
      },
      "text/plain": [
       "HBox(children=(IntProgress(value=0, max=35), HTML(value='')))"
      ]
     },
     "metadata": {},
     "output_type": "display_data"
    },
    {
     "name": "stdout",
     "output_type": "stream",
     "text": [
      "Iteration 3 \n",
      "        L: 5126.4463\n",
      "Iteration 6 \n",
      "        L: 5237.9111\n",
      "Iteration 9 \n",
      "        L: 5075.0513\n",
      "Iteration 12 \n",
      "        L: 4974.5098\n",
      "Iteration 15 \n",
      "        L: 5092.0674\n",
      "Iteration 18 \n",
      "        L: 5084.3901\n",
      "Iteration 21 \n",
      "        L: 5014.9551\n",
      "Iteration 24 \n",
      "        L: 4962.9385\n",
      "Iteration 27 \n",
      "        L: 5386.9126\n",
      "Iteration 30 \n",
      "        L: 5071.6792\n",
      "Iteration 33 \n",
      "        L: 5086.5967\n",
      "\n"
     ]
    },
    {
     "data": {
      "application/vnd.jupyter.widget-view+json": {
       "model_id": "2f00f47c581f4b15888a4ecf205f32a8",
       "version_major": 2,
       "version_minor": 0
      },
      "text/plain": [
       "HBox(children=(IntProgress(value=0, max=35), HTML(value='')))"
      ]
     },
     "metadata": {},
     "output_type": "display_data"
    },
    {
     "name": "stdout",
     "output_type": "stream",
     "text": [
      "Iteration 3 \n",
      "        L: 5017.8315\n",
      "Iteration 6 \n",
      "        L: 4970.1680\n",
      "Iteration 9 \n",
      "        L: 5033.2637\n",
      "Iteration 12 \n",
      "        L: 5667.6230\n",
      "Iteration 15 \n",
      "        L: 5230.4614\n",
      "Iteration 18 \n",
      "        L: 5264.5371\n",
      "Iteration 21 \n",
      "        L: 5189.5015\n",
      "Iteration 24 \n",
      "        L: 5315.8135\n",
      "Iteration 27 \n",
      "        L: 4865.7222\n",
      "Iteration 30 \n",
      "        L: 5009.1914\n",
      "Iteration 33 \n",
      "        L: 4916.2529\n",
      "\n"
     ]
    },
    {
     "data": {
      "application/vnd.jupyter.widget-view+json": {
       "model_id": "1c1f2ae97c94441c87d40ebbaf8176e9",
       "version_major": 2,
       "version_minor": 0
      },
      "text/plain": [
       "HBox(children=(IntProgress(value=0, max=35), HTML(value='')))"
      ]
     },
     "metadata": {},
     "output_type": "display_data"
    },
    {
     "name": "stdout",
     "output_type": "stream",
     "text": [
      "Iteration 3 \n",
      "        L: 4941.7139\n",
      "Iteration 6 \n",
      "        L: 4985.9316\n",
      "Iteration 9 \n",
      "        L: 4889.7603\n",
      "Iteration 12 \n",
      "        L: 5022.9688\n",
      "Iteration 15 \n",
      "        L: 4902.7354\n",
      "Iteration 18 \n",
      "        L: 4964.6211\n",
      "Iteration 21 \n",
      "        L: 4927.9224\n",
      "Iteration 24 \n",
      "        L: 4924.3462\n",
      "Iteration 27 \n",
      "        L: 5084.2100\n",
      "Iteration 30 \n",
      "        L: 4881.5693\n",
      "Iteration 33 \n",
      "        L: 4878.6343\n",
      "\n"
     ]
    },
    {
     "data": {
      "application/vnd.jupyter.widget-view+json": {
       "model_id": "b4d4ce6bf4d94b99a2f2059bdfa9611c",
       "version_major": 2,
       "version_minor": 0
      },
      "text/plain": [
       "HBox(children=(IntProgress(value=0, max=35), HTML(value='')))"
      ]
     },
     "metadata": {},
     "output_type": "display_data"
    },
    {
     "name": "stdout",
     "output_type": "stream",
     "text": [
      "Iteration 3 \n",
      "        L: 4888.4849\n",
      "Iteration 6 \n",
      "        L: 4842.2773\n",
      "Iteration 9 \n",
      "        L: 4900.9258\n",
      "Iteration 12 \n",
      "        L: 4828.1367\n",
      "Iteration 15 \n",
      "        L: 4812.3271\n",
      "Iteration 18 \n",
      "        L: 4857.8423\n",
      "Iteration 21 \n",
      "        L: 4798.1494\n",
      "Iteration 24 \n",
      "        L: 4795.6270\n",
      "Iteration 27 \n",
      "        L: 4849.5547\n",
      "Iteration 30 \n",
      "        L: 4892.3711\n",
      "Iteration 33 \n",
      "        L: 4949.3389\n",
      "\n"
     ]
    },
    {
     "data": {
      "application/vnd.jupyter.widget-view+json": {
       "model_id": "7440d4dbdf2b454ea51d44ed5d32ddce",
       "version_major": 2,
       "version_minor": 0
      },
      "text/plain": [
       "HBox(children=(IntProgress(value=0, max=35), HTML(value='')))"
      ]
     },
     "metadata": {},
     "output_type": "display_data"
    },
    {
     "name": "stdout",
     "output_type": "stream",
     "text": [
      "Iteration 3 \n",
      "        L: 5036.1279\n",
      "Iteration 6 \n",
      "        L: 4909.9756\n",
      "Iteration 9 \n",
      "        L: 4757.3755\n",
      "Iteration 12 \n",
      "        L: 4779.6221\n",
      "Iteration 15 \n",
      "        L: 4757.9067\n",
      "Iteration 18 \n",
      "        L: 4778.6714\n",
      "Iteration 21 \n",
      "        L: 4861.9639\n",
      "Iteration 24 \n",
      "        L: 4961.5850\n",
      "Iteration 27 \n",
      "        L: 5191.6431\n",
      "Iteration 30 \n",
      "        L: 5101.0063\n",
      "Iteration 33 \n",
      "        L: 4921.3560\n",
      "\n"
     ]
    },
    {
     "data": {
      "application/vnd.jupyter.widget-view+json": {
       "model_id": "2b7c52d46d144253ad3d8d6d6c203cdd",
       "version_major": 2,
       "version_minor": 0
      },
      "text/plain": [
       "HBox(children=(IntProgress(value=0, max=35), HTML(value='')))"
      ]
     },
     "metadata": {},
     "output_type": "display_data"
    },
    {
     "name": "stdout",
     "output_type": "stream",
     "text": [
      "Iteration 3 \n",
      "        L: 4944.8286\n",
      "Iteration 6 \n",
      "        L: 4788.5156\n",
      "Iteration 9 \n",
      "        L: 4963.1592\n",
      "Iteration 12 \n",
      "        L: 4730.5928\n",
      "Iteration 15 \n",
      "        L: 4899.1553\n",
      "Iteration 18 \n",
      "        L: 4721.4282\n",
      "Iteration 21 \n",
      "        L: 4777.4629\n",
      "Iteration 24 \n",
      "        L: 4765.9795\n",
      "Iteration 27 \n",
      "        L: 4722.0942\n",
      "Iteration 30 \n",
      "        L: 4770.3369\n",
      "Iteration 33 \n",
      "        L: 4877.8555\n",
      "\n"
     ]
    },
    {
     "data": {
      "application/vnd.jupyter.widget-view+json": {
       "model_id": "92c5dad6e96a4ea3948072555833a7ee",
       "version_major": 2,
       "version_minor": 0
      },
      "text/plain": [
       "HBox(children=(IntProgress(value=0, max=35), HTML(value='')))"
      ]
     },
     "metadata": {},
     "output_type": "display_data"
    },
    {
     "name": "stdout",
     "output_type": "stream",
     "text": [
      "Iteration 3 \n",
      "        L: 4824.0029\n",
      "Iteration 6 \n",
      "        L: 5335.4497\n",
      "Iteration 9 \n",
      "        L: 4997.7749\n",
      "Iteration 12 \n",
      "        L: 4946.6357\n",
      "Iteration 15 \n",
      "        L: 5095.9609\n",
      "Iteration 18 \n",
      "        L: 4690.1152\n",
      "Iteration 21 \n",
      "        L: 4748.7456\n",
      "Iteration 24 \n",
      "        L: 4664.5264\n",
      "Iteration 27 \n",
      "        L: 4796.4214\n",
      "Iteration 30 \n",
      "        L: 4702.8208\n",
      "Iteration 33 \n",
      "        L: 4674.3276\n",
      "\n"
     ]
    },
    {
     "data": {
      "application/vnd.jupyter.widget-view+json": {
       "model_id": "e6a129cf58c24459807ec084c3606b62",
       "version_major": 2,
       "version_minor": 0
      },
      "text/plain": [
       "HBox(children=(IntProgress(value=0, max=35), HTML(value='')))"
      ]
     },
     "metadata": {},
     "output_type": "display_data"
    },
    {
     "name": "stdout",
     "output_type": "stream",
     "text": [
      "Iteration 3 \n",
      "        L: 4809.9941\n",
      "Iteration 6 \n",
      "        L: 4682.1299\n",
      "Iteration 9 \n",
      "        L: 4685.5029\n",
      "Iteration 12 \n",
      "        L: 4797.1572\n",
      "Iteration 15 \n",
      "        L: 4720.0273\n",
      "Iteration 18 \n",
      "        L: 4748.4521\n",
      "Iteration 21 \n",
      "        L: 4864.8721\n",
      "Iteration 24 \n",
      "        L: 4598.4287\n",
      "Iteration 27 \n",
      "        L: 4682.9795\n",
      "Iteration 30 \n",
      "        L: 4849.5601\n",
      "Iteration 33 \n",
      "        L: 4645.0474\n",
      "\n"
     ]
    },
    {
     "data": {
      "application/vnd.jupyter.widget-view+json": {
       "model_id": "1258e30645074f4bb280eb5dddb4b8a9",
       "version_major": 2,
       "version_minor": 0
      },
      "text/plain": [
       "HBox(children=(IntProgress(value=0, max=35), HTML(value='')))"
      ]
     },
     "metadata": {},
     "output_type": "display_data"
    },
    {
     "name": "stdout",
     "output_type": "stream",
     "text": [
      "Iteration 3 \n",
      "        L: 4702.0972\n",
      "Iteration 6 \n",
      "        L: 4764.9346\n",
      "Iteration 9 \n",
      "        L: 4654.9561\n",
      "Iteration 12 \n",
      "        L: 4621.4331\n",
      "Iteration 15 \n",
      "        L: 4635.9990\n",
      "Iteration 18 \n",
      "        L: 4940.0298\n",
      "Iteration 21 \n",
      "        L: 4601.9839\n",
      "Iteration 24 \n",
      "        L: 4835.3154\n",
      "Iteration 27 \n",
      "        L: 4790.7021\n",
      "Iteration 30 \n",
      "        L: 4737.0527\n",
      "Iteration 33 \n",
      "        L: 5015.2612\n",
      "\n"
     ]
    },
    {
     "data": {
      "application/vnd.jupyter.widget-view+json": {
       "model_id": "091f9c5d664340818e07d3a8816cf66f",
       "version_major": 2,
       "version_minor": 0
      },
      "text/plain": [
       "HBox(children=(IntProgress(value=0, max=35), HTML(value='')))"
      ]
     },
     "metadata": {},
     "output_type": "display_data"
    },
    {
     "name": "stdout",
     "output_type": "stream",
     "text": [
      "Iteration 3 \n",
      "        L: 4706.6992\n",
      "Iteration 6 \n",
      "        L: 4593.2812\n",
      "Iteration 9 \n",
      "        L: 5248.7842\n",
      "Iteration 12 \n",
      "        L: 4533.4521\n",
      "Iteration 15 \n",
      "        L: 4676.4048\n",
      "Iteration 18 \n",
      "        L: 4586.2417\n",
      "Iteration 21 \n",
      "        L: 5013.4326\n",
      "Iteration 24 \n",
      "        L: 4537.6455\n",
      "Iteration 27 \n",
      "        L: 5079.6807\n",
      "Iteration 30 \n",
      "        L: 4845.4595\n",
      "Iteration 33 \n",
      "        L: 4735.7842\n",
      "\n"
     ]
    },
    {
     "data": {
      "application/vnd.jupyter.widget-view+json": {
       "model_id": "e9ca3a4c35994169a076944d5ce3e665",
       "version_major": 2,
       "version_minor": 0
      },
      "text/plain": [
       "HBox(children=(IntProgress(value=0, max=35), HTML(value='')))"
      ]
     },
     "metadata": {},
     "output_type": "display_data"
    },
    {
     "name": "stdout",
     "output_type": "stream",
     "text": [
      "Iteration 3 \n",
      "        L: 4608.4258\n",
      "Iteration 6 \n",
      "        L: 4795.6782\n",
      "Iteration 9 \n",
      "        L: 4919.5518\n",
      "Iteration 12 \n",
      "        L: 4440.3535\n",
      "Iteration 15 \n",
      "        L: 4665.3311\n",
      "Iteration 18 \n",
      "        L: 4620.8770\n",
      "Iteration 21 \n",
      "        L: 4471.8354\n",
      "Iteration 24 \n",
      "        L: 4621.6519\n",
      "Iteration 27 \n",
      "        L: 4532.9028\n",
      "Iteration 30 \n",
      "        L: 4510.8159\n",
      "Iteration 33 \n",
      "        L: 4756.6411\n",
      "\n"
     ]
    },
    {
     "data": {
      "application/vnd.jupyter.widget-view+json": {
       "model_id": "7d038b54c0e140d49c3218702c6d4654",
       "version_major": 2,
       "version_minor": 0
      },
      "text/plain": [
       "HBox(children=(IntProgress(value=0, max=35), HTML(value='')))"
      ]
     },
     "metadata": {},
     "output_type": "display_data"
    },
    {
     "name": "stdout",
     "output_type": "stream",
     "text": [
      "Iteration 3 \n",
      "        L: 4515.6890\n",
      "Iteration 6 \n",
      "        L: 4562.6602\n",
      "Iteration 9 \n",
      "        L: 4539.3643\n",
      "Iteration 12 \n",
      "        L: 4540.3281\n",
      "Iteration 15 \n",
      "        L: 4555.7510\n",
      "Iteration 18 \n",
      "        L: 4502.7666\n",
      "Iteration 21 \n",
      "        L: 4604.3706\n",
      "Iteration 24 \n",
      "        L: 4572.0415\n",
      "Iteration 27 \n",
      "        L: 4450.3730\n",
      "Iteration 30 \n",
      "        L: 4584.8120\n",
      "Iteration 33 \n",
      "        L: 4646.5928\n",
      "\n"
     ]
    },
    {
     "data": {
      "application/vnd.jupyter.widget-view+json": {
       "model_id": "ddd5be62a9874bd0bec1269ea70f6930",
       "version_major": 2,
       "version_minor": 0
      },
      "text/plain": [
       "HBox(children=(IntProgress(value=0, max=35), HTML(value='')))"
      ]
     },
     "metadata": {},
     "output_type": "display_data"
    },
    {
     "name": "stdout",
     "output_type": "stream",
     "text": [
      "Iteration 3 \n",
      "        L: 4678.6201\n",
      "Iteration 6 \n",
      "        L: 4625.7700\n",
      "Iteration 9 \n",
      "        L: 4562.8730\n",
      "Iteration 12 \n",
      "        L: 4485.3530\n",
      "Iteration 15 \n",
      "        L: 4503.0718\n",
      "Iteration 18 \n",
      "        L: 4462.4868\n",
      "Iteration 21 \n",
      "        L: 4469.4521\n",
      "Iteration 24 \n",
      "        L: 4476.8096\n",
      "Iteration 27 \n",
      "        L: 4473.3506\n",
      "Iteration 30 \n",
      "        L: 4444.5352\n",
      "Iteration 33 \n",
      "        L: 4442.3613\n",
      "\n"
     ]
    },
    {
     "data": {
      "application/vnd.jupyter.widget-view+json": {
       "model_id": "21ed804fe96c43d491d033bb98edf44b",
       "version_major": 2,
       "version_minor": 0
      },
      "text/plain": [
       "HBox(children=(IntProgress(value=0, max=35), HTML(value='')))"
      ]
     },
     "metadata": {},
     "output_type": "display_data"
    },
    {
     "name": "stdout",
     "output_type": "stream",
     "text": [
      "Iteration 3 \n",
      "        L: 4561.2100\n",
      "Iteration 6 \n",
      "        L: 4754.6875\n",
      "Iteration 9 \n",
      "        L: 4390.5088\n",
      "Iteration 12 \n",
      "        L: 4609.5186\n",
      "Iteration 15 \n",
      "        L: 4549.3535\n",
      "Iteration 18 \n",
      "        L: 4470.1455\n",
      "Iteration 21 \n",
      "        L: 4571.3101\n",
      "Iteration 24 \n",
      "        L: 4416.8555\n",
      "Iteration 27 \n",
      "        L: 4472.9980\n",
      "Iteration 30 \n",
      "        L: 4706.0903\n",
      "Iteration 33 \n",
      "        L: 4775.5142\n",
      "\n"
     ]
    },
    {
     "data": {
      "application/vnd.jupyter.widget-view+json": {
       "model_id": "0c24dd677f2e4a068878f1d0a26062e5",
       "version_major": 2,
       "version_minor": 0
      },
      "text/plain": [
       "HBox(children=(IntProgress(value=0, max=35), HTML(value='')))"
      ]
     },
     "metadata": {},
     "output_type": "display_data"
    },
    {
     "name": "stdout",
     "output_type": "stream",
     "text": [
      "Iteration 3 \n",
      "        L: 4761.3564\n",
      "Iteration 6 \n",
      "        L: 4407.8340\n",
      "Iteration 9 \n",
      "        L: 4669.9463\n",
      "Iteration 12 \n",
      "        L: 4456.5391\n",
      "Iteration 15 \n",
      "        L: 4492.3354\n",
      "Iteration 18 \n",
      "        L: 4373.9199\n",
      "Iteration 21 \n",
      "        L: 4567.5693\n",
      "Iteration 24 \n",
      "        L: 4680.4893\n",
      "Iteration 27 \n",
      "        L: 4518.4014\n",
      "Iteration 30 \n",
      "        L: 4455.3467\n",
      "Iteration 33 \n",
      "        L: 4625.0449\n",
      "\n"
     ]
    },
    {
     "data": {
      "application/vnd.jupyter.widget-view+json": {
       "model_id": "6009751f21bb4b7e9a4429400b602a61",
       "version_major": 2,
       "version_minor": 0
      },
      "text/plain": [
       "HBox(children=(IntProgress(value=0, max=35), HTML(value='')))"
      ]
     },
     "metadata": {},
     "output_type": "display_data"
    },
    {
     "name": "stdout",
     "output_type": "stream",
     "text": [
      "Iteration 3 \n",
      "        L: 4472.3164\n",
      "Iteration 6 \n",
      "        L: 4322.7500\n",
      "Iteration 9 \n",
      "        L: 4541.7515\n",
      "Iteration 12 \n",
      "        L: 4348.6455\n",
      "Iteration 15 \n",
      "        L: 4479.2070\n",
      "Iteration 18 \n",
      "        L: 4422.2891\n",
      "Iteration 21 \n",
      "        L: 4653.0840\n",
      "Iteration 24 \n",
      "        L: 4385.5327\n",
      "Iteration 27 \n",
      "        L: 4527.8076\n",
      "Iteration 30 \n",
      "        L: 4438.8740\n",
      "Iteration 33 \n",
      "        L: 4570.0322\n",
      "\n"
     ]
    },
    {
     "data": {
      "application/vnd.jupyter.widget-view+json": {
       "model_id": "bc9aa67b063a4dd1907cb85d9acceae7",
       "version_major": 2,
       "version_minor": 0
      },
      "text/plain": [
       "HBox(children=(IntProgress(value=0, max=35), HTML(value='')))"
      ]
     },
     "metadata": {},
     "output_type": "display_data"
    },
    {
     "name": "stdout",
     "output_type": "stream",
     "text": [
      "Iteration 3 \n",
      "        L: 4377.6753\n",
      "Iteration 6 \n",
      "        L: 4367.1729\n",
      "Iteration 9 \n",
      "        L: 4550.1689\n",
      "Iteration 12 \n",
      "        L: 4388.3242\n",
      "Iteration 15 \n",
      "        L: 4471.4766\n",
      "Iteration 18 \n",
      "        L: 4512.1831\n",
      "Iteration 21 \n",
      "        L: 4362.9478\n",
      "Iteration 24 \n",
      "        L: 4481.5020\n",
      "Iteration 27 \n",
      "        L: 4269.3208\n",
      "Iteration 30 \n",
      "        L: 4669.5649\n",
      "Iteration 33 \n",
      "        L: 4313.4268\n",
      "\n"
     ]
    },
    {
     "data": {
      "application/vnd.jupyter.widget-view+json": {
       "model_id": "977d07f6cf534b4bb83a5967fea6c3b0",
       "version_major": 2,
       "version_minor": 0
      },
      "text/plain": [
       "HBox(children=(IntProgress(value=0, max=35), HTML(value='')))"
      ]
     },
     "metadata": {},
     "output_type": "display_data"
    },
    {
     "name": "stdout",
     "output_type": "stream",
     "text": [
      "Iteration 3 \n",
      "        L: 4496.5518\n",
      "Iteration 6 \n",
      "        L: 4427.3677\n",
      "Iteration 9 \n",
      "        L: 4658.4546\n",
      "Iteration 12 \n",
      "        L: 4287.2539\n",
      "Iteration 15 \n",
      "        L: 4424.6631\n",
      "Iteration 18 \n",
      "        L: 4325.3516\n",
      "Iteration 21 \n",
      "        L: 4337.7695\n",
      "Iteration 24 \n",
      "        L: 4415.1069\n",
      "Iteration 27 \n",
      "        L: 4229.4795\n",
      "Iteration 30 \n",
      "        L: 4434.3032\n",
      "Iteration 33 \n",
      "        L: 4266.1104\n",
      "\n"
     ]
    },
    {
     "data": {
      "application/vnd.jupyter.widget-view+json": {
       "model_id": "a16386b01c96476baa7211158dd1ed21",
       "version_major": 2,
       "version_minor": 0
      },
      "text/plain": [
       "HBox(children=(IntProgress(value=0, max=35), HTML(value='')))"
      ]
     },
     "metadata": {},
     "output_type": "display_data"
    },
    {
     "name": "stdout",
     "output_type": "stream",
     "text": [
      "Iteration 3 \n",
      "        L: 4673.0068\n",
      "Iteration 6 \n",
      "        L: 4345.4395\n",
      "Iteration 9 \n",
      "        L: 4361.4590\n",
      "Iteration 12 \n",
      "        L: 4471.4385\n",
      "Iteration 15 \n",
      "        L: 4294.1890\n",
      "Iteration 18 \n",
      "        L: 4355.1611\n",
      "Iteration 21 \n",
      "        L: 4268.5029\n",
      "Iteration 24 \n",
      "        L: 4321.9414\n",
      "Iteration 27 \n",
      "        L: 4300.3721\n",
      "Iteration 30 \n",
      "        L: 4233.7539\n",
      "Iteration 33 \n",
      "        L: 4277.1860\n",
      "\n"
     ]
    },
    {
     "data": {
      "application/vnd.jupyter.widget-view+json": {
       "model_id": "2ff6c51d98f948838f7f808d443f8c58",
       "version_major": 2,
       "version_minor": 0
      },
      "text/plain": [
       "HBox(children=(IntProgress(value=0, max=35), HTML(value='')))"
      ]
     },
     "metadata": {},
     "output_type": "display_data"
    },
    {
     "name": "stdout",
     "output_type": "stream",
     "text": [
      "Iteration 3 \n",
      "        L: 4253.5156\n",
      "Iteration 6 \n",
      "        L: 4244.5879\n",
      "Iteration 9 \n",
      "        L: 4204.6123\n",
      "Iteration 12 \n",
      "        L: 4128.4307\n",
      "Iteration 15 \n",
      "        L: 4245.4521\n",
      "Iteration 18 \n",
      "        L: 4254.4854\n",
      "Iteration 21 \n",
      "        L: 4302.8457\n",
      "Iteration 24 \n",
      "        L: 4262.8457\n",
      "Iteration 27 \n",
      "        L: 4247.9360\n",
      "Iteration 30 \n",
      "        L: 4302.6250\n",
      "Iteration 33 \n",
      "        L: 4406.7388\n",
      "\n"
     ]
    },
    {
     "data": {
      "application/vnd.jupyter.widget-view+json": {
       "model_id": "41e9c06c3fb0463c9ce513cea6d94295",
       "version_major": 2,
       "version_minor": 0
      },
      "text/plain": [
       "HBox(children=(IntProgress(value=0, max=35), HTML(value='')))"
      ]
     },
     "metadata": {},
     "output_type": "display_data"
    },
    {
     "name": "stdout",
     "output_type": "stream",
     "text": [
      "Iteration 3 \n",
      "        L: 4302.5596\n",
      "Iteration 6 \n",
      "        L: 4231.3867\n",
      "Iteration 9 \n",
      "        L: 4320.6816\n",
      "Iteration 12 \n",
      "        L: 4310.1982\n",
      "Iteration 15 \n",
      "        L: 4308.8091\n",
      "Iteration 18 \n",
      "        L: 4207.4717\n",
      "Iteration 21 \n",
      "        L: 4464.2695\n",
      "Iteration 24 \n",
      "        L: 4635.2124\n",
      "Iteration 27 \n",
      "        L: 4291.7891\n",
      "Iteration 30 \n",
      "        L: 4333.6177\n",
      "Iteration 33 \n",
      "        L: 4207.1294\n",
      "\n"
     ]
    },
    {
     "data": {
      "application/vnd.jupyter.widget-view+json": {
       "model_id": "e69daa62b0e145f28159d17e92623294",
       "version_major": 2,
       "version_minor": 0
      },
      "text/plain": [
       "HBox(children=(IntProgress(value=0, max=35), HTML(value='')))"
      ]
     },
     "metadata": {},
     "output_type": "display_data"
    },
    {
     "name": "stdout",
     "output_type": "stream",
     "text": [
      "Iteration 3 \n",
      "        L: 4224.8789\n",
      "Iteration 6 \n",
      "        L: 4225.7466\n",
      "Iteration 9 \n",
      "        L: 4299.7461\n",
      "Iteration 12 \n",
      "        L: 4555.3545\n",
      "Iteration 15 \n",
      "        L: 4180.8311\n",
      "Iteration 18 \n",
      "        L: 4698.0830\n",
      "Iteration 21 \n",
      "        L: 4913.0635\n",
      "Iteration 24 \n",
      "        L: 4321.7598\n",
      "Iteration 27 \n",
      "        L: 4408.3076\n",
      "Iteration 30 \n",
      "        L: 4596.2383\n",
      "Iteration 33 \n",
      "        L: 4243.8721\n",
      "\n"
     ]
    },
    {
     "data": {
      "application/vnd.jupyter.widget-view+json": {
       "model_id": "943b823a86b549489315244500206477",
       "version_major": 2,
       "version_minor": 0
      },
      "text/plain": [
       "HBox(children=(IntProgress(value=0, max=35), HTML(value='')))"
      ]
     },
     "metadata": {},
     "output_type": "display_data"
    },
    {
     "name": "stdout",
     "output_type": "stream",
     "text": [
      "Iteration 3 \n",
      "        L: 4319.0410\n",
      "Iteration 6 \n",
      "        L: 4128.8716\n",
      "Iteration 9 \n",
      "        L: 4342.8154\n",
      "Iteration 12 \n",
      "        L: 4303.8296\n",
      "Iteration 15 \n",
      "        L: 4168.6025\n",
      "Iteration 18 \n",
      "        L: 4177.0571\n",
      "Iteration 21 \n",
      "        L: 4180.4170\n",
      "Iteration 24 \n",
      "        L: 4104.9731\n",
      "Iteration 27 \n",
      "        L: 4157.8525\n",
      "Iteration 30 \n",
      "        L: 4141.9912\n",
      "Iteration 33 \n",
      "        L: 4175.7246\n",
      "\n"
     ]
    },
    {
     "data": {
      "application/vnd.jupyter.widget-view+json": {
       "model_id": "8293b052c894413f9cf38ac8889223e0",
       "version_major": 2,
       "version_minor": 0
      },
      "text/plain": [
       "HBox(children=(IntProgress(value=0, max=35), HTML(value='')))"
      ]
     },
     "metadata": {},
     "output_type": "display_data"
    },
    {
     "name": "stdout",
     "output_type": "stream",
     "text": [
      "Iteration 3 \n",
      "        L: 4174.2183\n",
      "Iteration 6 \n",
      "        L: 4156.2373\n",
      "Iteration 9 \n",
      "        L: 4282.9429\n",
      "Iteration 12 \n",
      "        L: 4108.8994\n",
      "Iteration 15 \n",
      "        L: 4152.5869\n",
      "Iteration 18 \n",
      "        L: 4076.1753\n",
      "Iteration 21 \n",
      "        L: 4183.9912\n",
      "Iteration 24 \n",
      "        L: 4466.9668\n",
      "Iteration 27 \n",
      "        L: 4148.4551\n",
      "Iteration 30 \n",
      "        L: 4322.2319\n",
      "Iteration 33 \n",
      "        L: 4112.1875\n",
      "\n"
     ]
    },
    {
     "data": {
      "application/vnd.jupyter.widget-view+json": {
       "model_id": "5efb64dc1dda4f6e97455d25f372e8fb",
       "version_major": 2,
       "version_minor": 0
      },
      "text/plain": [
       "HBox(children=(IntProgress(value=0, max=35), HTML(value='')))"
      ]
     },
     "metadata": {},
     "output_type": "display_data"
    },
    {
     "name": "stdout",
     "output_type": "stream",
     "text": [
      "Iteration 3 \n",
      "        L: 4126.6230\n",
      "Iteration 6 \n",
      "        L: 4229.3779\n",
      "Iteration 9 \n",
      "        L: 4173.0630\n",
      "Iteration 12 \n",
      "        L: 4189.8564\n",
      "Iteration 15 \n",
      "        L: 4095.2573\n",
      "Iteration 18 \n",
      "        L: 4149.9419\n",
      "Iteration 21 \n",
      "        L: 4179.8086\n",
      "Iteration 24 \n",
      "        L: 4126.4858\n",
      "Iteration 27 \n",
      "        L: 4126.9077\n",
      "Iteration 30 \n",
      "        L: 4204.2393\n",
      "Iteration 33 \n",
      "        L: 4127.5371\n",
      "\n"
     ]
    },
    {
     "data": {
      "application/vnd.jupyter.widget-view+json": {
       "model_id": "d30d29da54584b2da28dcc0aef5edc97",
       "version_major": 2,
       "version_minor": 0
      },
      "text/plain": [
       "HBox(children=(IntProgress(value=0, max=35), HTML(value='')))"
      ]
     },
     "metadata": {},
     "output_type": "display_data"
    },
    {
     "name": "stdout",
     "output_type": "stream",
     "text": [
      "Iteration 3 \n",
      "        L: 4063.9771\n",
      "Iteration 6 \n",
      "        L: 4219.4766\n",
      "Iteration 9 \n",
      "        L: 4202.5972\n",
      "Iteration 12 \n",
      "        L: 4068.2661\n",
      "Iteration 15 \n",
      "        L: 4173.9941\n",
      "Iteration 18 \n",
      "        L: 4095.1194\n",
      "Iteration 21 \n",
      "        L: 4063.3564\n",
      "Iteration 24 \n",
      "        L: 4087.0520\n",
      "Iteration 27 \n",
      "        L: 4010.6638\n",
      "Iteration 30 \n",
      "        L: 4168.0586\n",
      "Iteration 33 \n",
      "        L: 4760.6685\n",
      "\n"
     ]
    },
    {
     "data": {
      "application/vnd.jupyter.widget-view+json": {
       "model_id": "d57cd2d1c8c04a6fbb5fd3bbece900a7",
       "version_major": 2,
       "version_minor": 0
      },
      "text/plain": [
       "HBox(children=(IntProgress(value=0, max=35), HTML(value='')))"
      ]
     },
     "metadata": {},
     "output_type": "display_data"
    },
    {
     "name": "stdout",
     "output_type": "stream",
     "text": [
      "Iteration 3 \n",
      "        L: 4131.9092\n",
      "Iteration 6 \n",
      "        L: 4244.3940\n",
      "Iteration 9 \n",
      "        L: 4093.4495\n",
      "Iteration 12 \n",
      "        L: 4090.1201\n",
      "Iteration 15 \n",
      "        L: 4132.4141\n",
      "Iteration 18 \n",
      "        L: 4130.3535\n",
      "Iteration 21 \n",
      "        L: 4369.9658\n",
      "Iteration 24 \n",
      "        L: 4182.9873\n",
      "Iteration 27 \n",
      "        L: 4074.7539\n",
      "Iteration 30 \n",
      "        L: 4068.5972\n",
      "Iteration 33 \n",
      "        L: 4139.0591\n",
      "\n"
     ]
    },
    {
     "data": {
      "application/vnd.jupyter.widget-view+json": {
       "model_id": "83ef85a043c14e3d8e5b613460475d0b",
       "version_major": 2,
       "version_minor": 0
      },
      "text/plain": [
       "HBox(children=(IntProgress(value=0, max=35), HTML(value='')))"
      ]
     },
     "metadata": {},
     "output_type": "display_data"
    },
    {
     "name": "stdout",
     "output_type": "stream",
     "text": [
      "Iteration 3 \n",
      "        L: 4055.8960\n",
      "Iteration 6 \n",
      "        L: 3997.3154\n",
      "Iteration 9 \n",
      "        L: 4058.8496\n",
      "Iteration 12 \n",
      "        L: 4038.2778\n",
      "Iteration 15 \n",
      "        L: 4054.9707\n",
      "Iteration 18 \n",
      "        L: 4189.2510\n",
      "Iteration 21 \n",
      "        L: 4878.6689\n",
      "Iteration 24 \n",
      "        L: 4116.0283\n",
      "Iteration 27 \n",
      "        L: 4171.8394\n",
      "Iteration 30 \n",
      "        L: 4096.3984\n",
      "Iteration 33 \n",
      "        L: 4049.2554\n",
      "\n"
     ]
    },
    {
     "data": {
      "application/vnd.jupyter.widget-view+json": {
       "model_id": "ea786566d82b43efaee6e7d2a72902af",
       "version_major": 2,
       "version_minor": 0
      },
      "text/plain": [
       "HBox(children=(IntProgress(value=0, max=35), HTML(value='')))"
      ]
     },
     "metadata": {},
     "output_type": "display_data"
    },
    {
     "name": "stdout",
     "output_type": "stream",
     "text": [
      "Iteration 3 \n",
      "        L: 4077.8296\n",
      "Iteration 6 \n",
      "        L: 3987.7612\n",
      "Iteration 9 \n",
      "        L: 4083.6682\n",
      "Iteration 12 \n",
      "        L: 4050.2168\n",
      "Iteration 15 \n",
      "        L: 4125.4141\n",
      "Iteration 18 \n",
      "        L: 4289.3867\n",
      "Iteration 21 \n",
      "        L: 4062.0156\n",
      "Iteration 24 \n",
      "        L: 4045.7832\n",
      "Iteration 27 \n",
      "        L: 4105.6758\n",
      "Iteration 30 \n",
      "        L: 4349.3633\n",
      "Iteration 33 \n",
      "        L: 4245.4185\n",
      "\n"
     ]
    },
    {
     "data": {
      "application/vnd.jupyter.widget-view+json": {
       "model_id": "2b81a65c5a8f422aadeac100490e8424",
       "version_major": 2,
       "version_minor": 0
      },
      "text/plain": [
       "HBox(children=(IntProgress(value=0, max=35), HTML(value='')))"
      ]
     },
     "metadata": {},
     "output_type": "display_data"
    },
    {
     "name": "stdout",
     "output_type": "stream",
     "text": [
      "Iteration 3 \n",
      "        L: 4221.3857\n",
      "Iteration 6 \n",
      "        L: 3965.2734\n",
      "Iteration 9 \n",
      "        L: 4089.1836\n",
      "Iteration 12 \n",
      "        L: 4112.3115\n",
      "Iteration 15 \n",
      "        L: 3989.1904\n",
      "Iteration 18 \n",
      "        L: 3955.0903\n",
      "Iteration 21 \n",
      "        L: 3927.7620\n",
      "Iteration 24 \n",
      "        L: 4102.7803\n",
      "Iteration 27 \n",
      "        L: 4016.3655\n",
      "Iteration 30 \n",
      "        L: 4059.0388\n",
      "Iteration 33 \n",
      "        L: 4126.7397\n",
      "\n"
     ]
    },
    {
     "data": {
      "application/vnd.jupyter.widget-view+json": {
       "model_id": "d24053b37bcd45e8b62daf633c5d07b3",
       "version_major": 2,
       "version_minor": 0
      },
      "text/plain": [
       "HBox(children=(IntProgress(value=0, max=35), HTML(value='')))"
      ]
     },
     "metadata": {},
     "output_type": "display_data"
    },
    {
     "name": "stdout",
     "output_type": "stream",
     "text": [
      "Iteration 3 \n",
      "        L: 4060.9988\n",
      "Iteration 6 \n",
      "        L: 4002.1895\n",
      "Iteration 9 \n",
      "        L: 4029.0916\n",
      "Iteration 12 \n",
      "        L: 3968.7529\n",
      "Iteration 15 \n",
      "        L: 3967.4199\n",
      "Iteration 18 \n",
      "        L: 4101.3398\n",
      "Iteration 21 \n",
      "        L: 4275.8135\n",
      "Iteration 24 \n",
      "        L: 4037.3328\n",
      "Iteration 27 \n",
      "        L: 4080.9385\n",
      "Iteration 30 \n",
      "        L: 4173.3672\n",
      "Iteration 33 \n",
      "        L: 4007.0518\n",
      "\n"
     ]
    },
    {
     "data": {
      "application/vnd.jupyter.widget-view+json": {
       "model_id": "e801bb7d4543431ca87a9c0c581b4f30",
       "version_major": 2,
       "version_minor": 0
      },
      "text/plain": [
       "HBox(children=(IntProgress(value=0, max=35), HTML(value='')))"
      ]
     },
     "metadata": {},
     "output_type": "display_data"
    },
    {
     "name": "stdout",
     "output_type": "stream",
     "text": [
      "Iteration 3 \n",
      "        L: 4079.3530\n",
      "Iteration 6 \n",
      "        L: 3944.3975\n",
      "Iteration 9 \n",
      "        L: 4451.0439\n",
      "Iteration 12 \n",
      "        L: 4177.5264\n",
      "Iteration 15 \n",
      "        L: 4186.4277\n",
      "Iteration 18 \n",
      "        L: 4005.0596\n",
      "Iteration 21 \n",
      "        L: 4107.7256\n",
      "Iteration 24 \n",
      "        L: 4035.7622\n",
      "Iteration 27 \n",
      "        L: 3955.7134\n",
      "Iteration 30 \n",
      "        L: 3994.9771\n",
      "Iteration 33 \n",
      "        L: 3894.4822\n",
      "\n"
     ]
    },
    {
     "data": {
      "application/vnd.jupyter.widget-view+json": {
       "model_id": "06fa414293a240edba0aa393d7c59d79",
       "version_major": 2,
       "version_minor": 0
      },
      "text/plain": [
       "HBox(children=(IntProgress(value=0, max=35), HTML(value='')))"
      ]
     },
     "metadata": {},
     "output_type": "display_data"
    },
    {
     "name": "stdout",
     "output_type": "stream",
     "text": [
      "Iteration 3 \n",
      "        L: 3936.8457\n",
      "Iteration 6 \n",
      "        L: 3993.3091\n",
      "Iteration 9 \n",
      "        L: 3922.7869\n",
      "Iteration 12 \n",
      "        L: 4027.8188\n",
      "Iteration 15 \n",
      "        L: 3950.7930\n",
      "Iteration 18 \n",
      "        L: 4099.8984\n",
      "Iteration 21 \n",
      "        L: 4299.5913\n",
      "Iteration 24 \n",
      "        L: 3961.0730\n",
      "Iteration 27 \n",
      "        L: 4145.9316\n",
      "Iteration 30 \n",
      "        L: 3918.6091\n",
      "Iteration 33 \n",
      "        L: 4037.9619\n",
      "\n"
     ]
    },
    {
     "data": {
      "application/vnd.jupyter.widget-view+json": {
       "model_id": "ce16e107ddf948488bff9c61f78ea22b",
       "version_major": 2,
       "version_minor": 0
      },
      "text/plain": [
       "HBox(children=(IntProgress(value=0, max=35), HTML(value='')))"
      ]
     },
     "metadata": {},
     "output_type": "display_data"
    },
    {
     "name": "stdout",
     "output_type": "stream",
     "text": [
      "Iteration 3 \n",
      "        L: 3948.0303\n",
      "Iteration 6 \n",
      "        L: 3946.2693\n",
      "Iteration 9 \n",
      "        L: 4038.1709\n",
      "Iteration 12 \n",
      "        L: 4091.8711\n",
      "Iteration 15 \n",
      "        L: 3877.0327\n",
      "Iteration 18 \n",
      "        L: 3974.6458\n",
      "Iteration 21 \n",
      "        L: 3910.5088\n",
      "Iteration 24 \n",
      "        L: 3933.0830\n",
      "Iteration 27 \n",
      "        L: 3845.8738\n",
      "Iteration 30 \n",
      "        L: 3961.4104\n",
      "Iteration 33 \n",
      "        L: 3960.3774\n",
      "\n"
     ]
    },
    {
     "data": {
      "application/vnd.jupyter.widget-view+json": {
       "model_id": "336fa2ba49d94abeaff6ac3f6ff777c6",
       "version_major": 2,
       "version_minor": 0
      },
      "text/plain": [
       "HBox(children=(IntProgress(value=0, max=35), HTML(value='')))"
      ]
     },
     "metadata": {},
     "output_type": "display_data"
    },
    {
     "name": "stdout",
     "output_type": "stream",
     "text": [
      "Iteration 3 \n",
      "        L: 3938.9097\n",
      "Iteration 6 \n",
      "        L: 4002.0879\n",
      "Iteration 9 \n",
      "        L: 4078.7109\n",
      "Iteration 12 \n",
      "        L: 3831.3079\n",
      "Iteration 15 \n",
      "        L: 3938.2229\n",
      "Iteration 18 \n",
      "        L: 3956.6987\n",
      "Iteration 21 \n",
      "        L: 4091.5454\n",
      "Iteration 24 \n",
      "        L: 4102.4287\n",
      "Iteration 27 \n",
      "        L: 4115.9277\n",
      "Iteration 30 \n",
      "        L: 3874.9492\n",
      "Iteration 33 \n",
      "        L: 3923.1375\n",
      "\n"
     ]
    },
    {
     "data": {
      "application/vnd.jupyter.widget-view+json": {
       "model_id": "f4609c27853c463ba21ddf8bd1b943e8",
       "version_major": 2,
       "version_minor": 0
      },
      "text/plain": [
       "HBox(children=(IntProgress(value=0, max=35), HTML(value='')))"
      ]
     },
     "metadata": {},
     "output_type": "display_data"
    },
    {
     "name": "stdout",
     "output_type": "stream",
     "text": [
      "Iteration 3 \n",
      "        L: 3969.4355\n",
      "Iteration 6 \n",
      "        L: 3860.6211\n",
      "Iteration 9 \n",
      "        L: 3857.9878\n",
      "Iteration 12 \n",
      "        L: 3879.4392\n",
      "Iteration 15 \n",
      "        L: 4003.6648\n",
      "Iteration 18 \n",
      "        L: 3949.0649\n",
      "Iteration 21 \n",
      "        L: 4287.2627\n",
      "Iteration 24 \n",
      "        L: 4346.2959\n",
      "Iteration 27 \n",
      "        L: 3842.8564\n",
      "Iteration 30 \n",
      "        L: 4103.7168\n",
      "Iteration 33 \n",
      "        L: 3976.5728\n",
      "\n"
     ]
    },
    {
     "data": {
      "application/vnd.jupyter.widget-view+json": {
       "model_id": "cb0954436d0d4804bf9c95a57f2668bd",
       "version_major": 2,
       "version_minor": 0
      },
      "text/plain": [
       "HBox(children=(IntProgress(value=0, max=35), HTML(value='')))"
      ]
     },
     "metadata": {},
     "output_type": "display_data"
    },
    {
     "name": "stdout",
     "output_type": "stream",
     "text": [
      "Iteration 3 \n",
      "        L: 3875.9905\n",
      "Iteration 6 \n",
      "        L: 3934.8564\n",
      "Iteration 9 \n",
      "        L: 3861.6226\n",
      "Iteration 12 \n",
      "        L: 3942.2222\n",
      "Iteration 15 \n",
      "        L: 3946.1067\n",
      "Iteration 18 \n",
      "        L: 3916.3442\n",
      "Iteration 21 \n",
      "        L: 3907.2246\n",
      "Iteration 24 \n",
      "        L: 3917.4014\n",
      "Iteration 27 \n",
      "        L: 4140.5806\n",
      "Iteration 30 \n",
      "        L: 3827.8562\n",
      "Iteration 33 \n",
      "        L: 4009.0684\n",
      "\n"
     ]
    },
    {
     "data": {
      "application/vnd.jupyter.widget-view+json": {
       "model_id": "a5e2bcffe1c14bb1b659152e123c2ada",
       "version_major": 2,
       "version_minor": 0
      },
      "text/plain": [
       "HBox(children=(IntProgress(value=0, max=35), HTML(value='')))"
      ]
     },
     "metadata": {},
     "output_type": "display_data"
    },
    {
     "name": "stdout",
     "output_type": "stream",
     "text": [
      "Iteration 3 \n",
      "        L: 3818.4312\n",
      "Iteration 6 \n",
      "        L: 3942.7480\n",
      "Iteration 9 \n",
      "        L: 3913.4585\n",
      "Iteration 12 \n",
      "        L: 3880.2656\n",
      "Iteration 15 \n",
      "        L: 3976.0154\n",
      "Iteration 18 \n",
      "        L: 3852.5203\n",
      "Iteration 21 \n",
      "        L: 3820.0400\n",
      "Iteration 24 \n",
      "        L: 3945.5898\n",
      "Iteration 27 \n",
      "        L: 4094.3645\n",
      "Iteration 30 \n",
      "        L: 4072.0908\n",
      "Iteration 33 \n",
      "        L: 3876.7632\n",
      "\n"
     ]
    },
    {
     "data": {
      "application/vnd.jupyter.widget-view+json": {
       "model_id": "0982701463214a7c93c1f09add34d6ac",
       "version_major": 2,
       "version_minor": 0
      },
      "text/plain": [
       "HBox(children=(IntProgress(value=0, max=35), HTML(value='')))"
      ]
     },
     "metadata": {},
     "output_type": "display_data"
    },
    {
     "name": "stdout",
     "output_type": "stream",
     "text": [
      "Iteration 3 \n",
      "        L: 4023.2275\n",
      "Iteration 6 \n",
      "        L: 3892.6514\n",
      "Iteration 9 \n",
      "        L: 3862.9353\n",
      "Iteration 12 \n",
      "        L: 3944.4160\n",
      "Iteration 15 \n",
      "        L: 3952.0930\n",
      "Iteration 18 \n",
      "        L: 3815.2676\n",
      "Iteration 21 \n",
      "        L: 3865.0896\n",
      "Iteration 24 \n",
      "        L: 3901.4211\n",
      "Iteration 27 \n",
      "        L: 3875.0903\n",
      "Iteration 30 \n",
      "        L: 4244.4150\n",
      "Iteration 33 \n",
      "        L: 3874.8735\n",
      "\n"
     ]
    },
    {
     "data": {
      "application/vnd.jupyter.widget-view+json": {
       "model_id": "c04bdea9bc4348bc95febc3fbe9e1862",
       "version_major": 2,
       "version_minor": 0
      },
      "text/plain": [
       "HBox(children=(IntProgress(value=0, max=35), HTML(value='')))"
      ]
     },
     "metadata": {},
     "output_type": "display_data"
    },
    {
     "name": "stdout",
     "output_type": "stream",
     "text": [
      "Iteration 3 \n",
      "        L: 4046.0400\n",
      "Iteration 6 \n",
      "        L: 3857.7271\n",
      "Iteration 9 \n",
      "        L: 4073.9697\n",
      "Iteration 12 \n",
      "        L: 3836.4417\n",
      "Iteration 15 \n",
      "        L: 3924.3252\n",
      "Iteration 18 \n",
      "        L: 3803.6235\n",
      "Iteration 21 \n",
      "        L: 3924.5293\n",
      "Iteration 24 \n",
      "        L: 3864.4834\n",
      "Iteration 27 \n",
      "        L: 3779.3975\n",
      "Iteration 30 \n",
      "        L: 3846.1245\n",
      "Iteration 33 \n",
      "        L: 3862.1753\n",
      "\n"
     ]
    },
    {
     "data": {
      "application/vnd.jupyter.widget-view+json": {
       "model_id": "01c121264dcf4a4a8f499715f5a02033",
       "version_major": 2,
       "version_minor": 0
      },
      "text/plain": [
       "HBox(children=(IntProgress(value=0, max=35), HTML(value='')))"
      ]
     },
     "metadata": {},
     "output_type": "display_data"
    },
    {
     "name": "stdout",
     "output_type": "stream",
     "text": [
      "Iteration 3 \n",
      "        L: 3803.6123\n",
      "Iteration 6 \n",
      "        L: 4160.7368\n",
      "Iteration 9 \n",
      "        L: 4122.7158\n",
      "Iteration 12 \n",
      "        L: 3819.1006\n",
      "Iteration 15 \n",
      "        L: 3984.0767\n",
      "Iteration 18 \n",
      "        L: 3739.6396\n",
      "Iteration 21 \n",
      "        L: 3804.8105\n",
      "Iteration 24 \n",
      "        L: 3827.3313\n",
      "Iteration 27 \n",
      "        L: 3857.8877\n",
      "Iteration 30 \n",
      "        L: 3745.9446\n",
      "Iteration 33 \n",
      "        L: 3886.9077\n",
      "\n"
     ]
    },
    {
     "data": {
      "application/vnd.jupyter.widget-view+json": {
       "model_id": "ef19b9f2cf8f4eb5a52eef8450131bae",
       "version_major": 2,
       "version_minor": 0
      },
      "text/plain": [
       "HBox(children=(IntProgress(value=0, max=35), HTML(value='')))"
      ]
     },
     "metadata": {},
     "output_type": "display_data"
    },
    {
     "name": "stdout",
     "output_type": "stream",
     "text": [
      "Iteration 3 \n",
      "        L: 3768.2617\n",
      "Iteration 6 \n",
      "        L: 3830.3110\n",
      "Iteration 9 \n",
      "        L: 3887.3411\n",
      "Iteration 12 \n",
      "        L: 3771.1096\n",
      "Iteration 15 \n",
      "        L: 3815.2783\n",
      "Iteration 18 \n",
      "        L: 3981.4236\n",
      "Iteration 21 \n",
      "        L: 3890.4651\n",
      "Iteration 24 \n",
      "        L: 3795.6301\n",
      "Iteration 27 \n",
      "        L: 3826.9053\n",
      "Iteration 30 \n",
      "        L: 3762.9246\n",
      "Iteration 33 \n",
      "        L: 4335.3545\n",
      "\n"
     ]
    },
    {
     "data": {
      "application/vnd.jupyter.widget-view+json": {
       "model_id": "31185b92749641c7850607aa9af39903",
       "version_major": 2,
       "version_minor": 0
      },
      "text/plain": [
       "HBox(children=(IntProgress(value=0, max=35), HTML(value='')))"
      ]
     },
     "metadata": {},
     "output_type": "display_data"
    },
    {
     "name": "stdout",
     "output_type": "stream",
     "text": [
      "Iteration 3 \n",
      "        L: 3800.9692\n",
      "Iteration 6 \n",
      "        L: 3816.4834\n",
      "Iteration 9 \n",
      "        L: 3802.1392\n",
      "Iteration 12 \n",
      "        L: 3809.0667\n",
      "Iteration 15 \n",
      "        L: 4337.8721\n",
      "Iteration 18 \n",
      "        L: 3741.1050\n",
      "Iteration 21 \n",
      "        L: 4218.6025\n",
      "Iteration 24 \n",
      "        L: 3760.9045\n",
      "Iteration 27 \n",
      "        L: 4061.4448\n",
      "Iteration 30 \n",
      "        L: 3860.5291\n",
      "Iteration 33 \n",
      "        L: 3791.7153\n",
      "\n"
     ]
    },
    {
     "data": {
      "application/vnd.jupyter.widget-view+json": {
       "model_id": "8e55ab116d3948139fbeb130a7f008ab",
       "version_major": 2,
       "version_minor": 0
      },
      "text/plain": [
       "HBox(children=(IntProgress(value=0, max=35), HTML(value='')))"
      ]
     },
     "metadata": {},
     "output_type": "display_data"
    },
    {
     "name": "stdout",
     "output_type": "stream",
     "text": [
      "Iteration 3 \n",
      "        L: 3781.0654\n",
      "Iteration 6 \n",
      "        L: 3752.5469\n",
      "Iteration 9 \n",
      "        L: 3816.7180\n",
      "Iteration 12 \n",
      "        L: 3773.6724\n",
      "Iteration 15 \n",
      "        L: 3755.9414\n",
      "Iteration 18 \n",
      "        L: 3813.9146\n",
      "Iteration 21 \n",
      "        L: 3739.8022\n",
      "Iteration 24 \n",
      "        L: 3814.0759\n",
      "Iteration 27 \n",
      "        L: 3796.6821\n",
      "Iteration 30 \n",
      "        L: 3808.3677\n",
      "Iteration 33 \n",
      "        L: 3712.4243\n",
      "\n"
     ]
    },
    {
     "data": {
      "application/vnd.jupyter.widget-view+json": {
       "model_id": "238ddef6125441298e2b0f320d2d5baa",
       "version_major": 2,
       "version_minor": 0
      },
      "text/plain": [
       "HBox(children=(IntProgress(value=0, max=35), HTML(value='')))"
      ]
     },
     "metadata": {},
     "output_type": "display_data"
    },
    {
     "name": "stdout",
     "output_type": "stream",
     "text": [
      "Iteration 3 \n",
      "        L: 4211.0488\n",
      "Iteration 6 \n",
      "        L: 3910.6938\n",
      "Iteration 9 \n",
      "        L: 3718.1177\n",
      "Iteration 12 \n",
      "        L: 3749.6919\n",
      "Iteration 15 \n",
      "        L: 3795.6294\n",
      "Iteration 18 \n",
      "        L: 3715.7810\n",
      "Iteration 21 \n",
      "        L: 3819.3582\n",
      "Iteration 24 \n",
      "        L: 3765.3350\n",
      "Iteration 27 \n",
      "        L: 3704.2336\n",
      "Iteration 30 \n",
      "        L: 3691.8225\n",
      "Iteration 33 \n",
      "        L: 3846.6514\n",
      "\n"
     ]
    },
    {
     "data": {
      "application/vnd.jupyter.widget-view+json": {
       "model_id": "117d1f897d674efcabbc3cdcc0b37553",
       "version_major": 2,
       "version_minor": 0
      },
      "text/plain": [
       "HBox(children=(IntProgress(value=0, max=35), HTML(value='')))"
      ]
     },
     "metadata": {},
     "output_type": "display_data"
    },
    {
     "name": "stdout",
     "output_type": "stream",
     "text": [
      "Iteration 3 \n",
      "        L: 3784.8215\n",
      "Iteration 6 \n",
      "        L: 3863.2144\n",
      "Iteration 9 \n",
      "        L: 3805.7493\n",
      "Iteration 12 \n",
      "        L: 3812.5439\n",
      "Iteration 15 \n",
      "        L: 3708.5032\n",
      "Iteration 18 \n",
      "        L: 3721.1265\n",
      "Iteration 21 \n",
      "        L: 3714.4736\n",
      "Iteration 24 \n",
      "        L: 3790.9634\n",
      "Iteration 27 \n",
      "        L: 3969.9346\n",
      "Iteration 30 \n",
      "        L: 3989.7405\n",
      "Iteration 33 \n",
      "        L: 3883.5430\n",
      "\n"
     ]
    },
    {
     "data": {
      "application/vnd.jupyter.widget-view+json": {
       "model_id": "8df49f2a04a74f79aa56f48c3a49c9fd",
       "version_major": 2,
       "version_minor": 0
      },
      "text/plain": [
       "HBox(children=(IntProgress(value=0, max=35), HTML(value='')))"
      ]
     },
     "metadata": {},
     "output_type": "display_data"
    },
    {
     "name": "stdout",
     "output_type": "stream",
     "text": [
      "Iteration 3 \n",
      "        L: 3741.0117\n",
      "Iteration 6 \n",
      "        L: 3741.4856\n",
      "Iteration 9 \n",
      "        L: 3701.9717\n",
      "Iteration 12 \n",
      "        L: 3723.1914\n",
      "Iteration 15 \n",
      "        L: 3938.9209\n",
      "Iteration 18 \n",
      "        L: 3881.0640\n",
      "Iteration 21 \n",
      "        L: 3813.2646\n",
      "Iteration 24 \n",
      "        L: 3686.8794\n",
      "Iteration 27 \n",
      "        L: 4000.0757\n",
      "Iteration 30 \n",
      "        L: 3829.1265\n",
      "Iteration 33 \n",
      "        L: 3697.8760\n",
      "\n"
     ]
    },
    {
     "data": {
      "application/vnd.jupyter.widget-view+json": {
       "model_id": "ab2c3ed065ee405d9b4ea9c54ddf97e9",
       "version_major": 2,
       "version_minor": 0
      },
      "text/plain": [
       "HBox(children=(IntProgress(value=0, max=35), HTML(value='')))"
      ]
     },
     "metadata": {},
     "output_type": "display_data"
    },
    {
     "name": "stdout",
     "output_type": "stream",
     "text": [
      "Iteration 3 \n",
      "        L: 3739.9722\n",
      "Iteration 6 \n",
      "        L: 3732.5500\n",
      "Iteration 9 \n",
      "        L: 3709.2095\n",
      "Iteration 12 \n",
      "        L: 3822.5879\n",
      "Iteration 15 \n",
      "        L: 3782.4468\n",
      "Iteration 18 \n",
      "        L: 3695.9570\n",
      "Iteration 21 \n",
      "        L: 3769.8301\n",
      "Iteration 24 \n",
      "        L: 3808.9062\n",
      "Iteration 27 \n",
      "        L: 3636.6870\n",
      "Iteration 30 \n",
      "        L: 3766.0022\n",
      "Iteration 33 \n",
      "        L: 3735.6445\n",
      "\n"
     ]
    },
    {
     "data": {
      "application/vnd.jupyter.widget-view+json": {
       "model_id": "a493c9c76204400caaa990a0a30b9cb2",
       "version_major": 2,
       "version_minor": 0
      },
      "text/plain": [
       "HBox(children=(IntProgress(value=0, max=35), HTML(value='')))"
      ]
     },
     "metadata": {},
     "output_type": "display_data"
    },
    {
     "name": "stdout",
     "output_type": "stream",
     "text": [
      "Iteration 3 \n",
      "        L: 3934.3013\n",
      "Iteration 6 \n",
      "        L: 3906.8887\n",
      "Iteration 9 \n",
      "        L: 3698.1504\n",
      "Iteration 12 \n",
      "        L: 3856.1909\n",
      "Iteration 15 \n",
      "        L: 3617.9688\n",
      "Iteration 18 \n",
      "        L: 3645.9492\n",
      "Iteration 21 \n",
      "        L: 3683.5854\n",
      "Iteration 24 \n",
      "        L: 3692.6616\n",
      "Iteration 27 \n",
      "        L: 3702.3103\n",
      "Iteration 30 \n",
      "        L: 3803.4810\n",
      "Iteration 33 \n",
      "        L: 3689.4399\n",
      "\n"
     ]
    },
    {
     "data": {
      "application/vnd.jupyter.widget-view+json": {
       "model_id": "483f26fcab734e5ba15f2c314a3346a0",
       "version_major": 2,
       "version_minor": 0
      },
      "text/plain": [
       "HBox(children=(IntProgress(value=0, max=35), HTML(value='')))"
      ]
     },
     "metadata": {},
     "output_type": "display_data"
    },
    {
     "name": "stdout",
     "output_type": "stream",
     "text": [
      "Iteration 3 \n",
      "        L: 3661.9282\n",
      "Iteration 6 \n",
      "        L: 3657.6294\n",
      "Iteration 9 \n",
      "        L: 3622.7266\n",
      "Iteration 12 \n",
      "        L: 3679.0273\n",
      "Iteration 15 \n",
      "        L: 3688.8232\n",
      "Iteration 18 \n",
      "        L: 3741.8132\n",
      "Iteration 21 \n",
      "        L: 3832.0740\n",
      "Iteration 24 \n",
      "        L: 4051.8857\n",
      "Iteration 27 \n",
      "        L: 4042.2056\n",
      "Iteration 30 \n",
      "        L: 3671.9810\n",
      "Iteration 33 \n",
      "        L: 3892.5701\n",
      "\n"
     ]
    },
    {
     "data": {
      "application/vnd.jupyter.widget-view+json": {
       "model_id": "c3d0ebde40e949e2b2c0af093fa9c6f5",
       "version_major": 2,
       "version_minor": 0
      },
      "text/plain": [
       "HBox(children=(IntProgress(value=0, max=35), HTML(value='')))"
      ]
     },
     "metadata": {},
     "output_type": "display_data"
    },
    {
     "name": "stdout",
     "output_type": "stream",
     "text": [
      "Iteration 3 \n",
      "        L: 3685.9946\n",
      "Iteration 6 \n",
      "        L: 3673.1709\n",
      "Iteration 9 \n",
      "        L: 3666.6133\n",
      "Iteration 12 \n",
      "        L: 3761.9285\n",
      "Iteration 15 \n",
      "        L: 3637.2820\n",
      "Iteration 18 \n",
      "        L: 3660.5098\n",
      "Iteration 21 \n",
      "        L: 3775.7878\n",
      "Iteration 24 \n",
      "        L: 3712.9727\n",
      "Iteration 27 \n",
      "        L: 3745.6538\n",
      "Iteration 30 \n",
      "        L: 3673.1123\n",
      "Iteration 33 \n",
      "        L: 3778.5479\n",
      "\n"
     ]
    },
    {
     "data": {
      "application/vnd.jupyter.widget-view+json": {
       "model_id": "beaafc831fa94ba0a93efe6f44862b06",
       "version_major": 2,
       "version_minor": 0
      },
      "text/plain": [
       "HBox(children=(IntProgress(value=0, max=35), HTML(value='')))"
      ]
     },
     "metadata": {},
     "output_type": "display_data"
    },
    {
     "name": "stdout",
     "output_type": "stream",
     "text": [
      "Iteration 3 \n",
      "        L: 3855.3872\n",
      "Iteration 6 \n",
      "        L: 3659.6675\n",
      "Iteration 9 \n",
      "        L: 3972.6892\n",
      "Iteration 12 \n",
      "        L: 3815.3979\n",
      "Iteration 15 \n",
      "        L: 4025.2793\n",
      "Iteration 18 \n",
      "        L: 3703.9824\n",
      "Iteration 21 \n",
      "        L: 3767.3179\n",
      "Iteration 24 \n",
      "        L: 3635.6934\n",
      "Iteration 27 \n",
      "        L: 3688.7661\n",
      "Iteration 30 \n",
      "        L: 3614.5530\n",
      "Iteration 33 \n",
      "        L: 3682.1855\n",
      "\n"
     ]
    },
    {
     "data": {
      "application/vnd.jupyter.widget-view+json": {
       "model_id": "cd26e6c51aa94e468ea565976d4deb31",
       "version_major": 2,
       "version_minor": 0
      },
      "text/plain": [
       "HBox(children=(IntProgress(value=0, max=35), HTML(value='')))"
      ]
     },
     "metadata": {},
     "output_type": "display_data"
    },
    {
     "name": "stdout",
     "output_type": "stream",
     "text": [
      "Iteration 3 \n",
      "        L: 3673.7534\n",
      "Iteration 6 \n",
      "        L: 3746.7751\n",
      "Iteration 9 \n",
      "        L: 3699.3130\n",
      "Iteration 12 \n",
      "        L: 3616.3215\n",
      "Iteration 15 \n",
      "        L: 3663.9470\n",
      "Iteration 18 \n",
      "        L: 3643.6602\n",
      "Iteration 21 \n",
      "        L: 3667.7656\n",
      "Iteration 24 \n",
      "        L: 3702.3472\n",
      "Iteration 27 \n",
      "        L: 3868.0374\n",
      "Iteration 30 \n",
      "        L: 3807.2993\n",
      "Iteration 33 \n",
      "        L: 3656.7454\n",
      "\n"
     ]
    },
    {
     "data": {
      "application/vnd.jupyter.widget-view+json": {
       "model_id": "1256b9582ebc4c17905987af56abcd32",
       "version_major": 2,
       "version_minor": 0
      },
      "text/plain": [
       "HBox(children=(IntProgress(value=0, max=35), HTML(value='')))"
      ]
     },
     "metadata": {},
     "output_type": "display_data"
    },
    {
     "name": "stdout",
     "output_type": "stream",
     "text": [
      "Iteration 3 \n",
      "        L: 3675.8655\n",
      "Iteration 6 \n",
      "        L: 3693.7864\n",
      "Iteration 9 \n",
      "        L: 3751.2295\n",
      "Iteration 12 \n",
      "        L: 3664.4136\n",
      "Iteration 15 \n",
      "        L: 3747.0510\n",
      "Iteration 18 \n",
      "        L: 3690.5938\n",
      "Iteration 21 \n",
      "        L: 3606.8748\n",
      "Iteration 24 \n",
      "        L: 3744.2927\n",
      "Iteration 27 \n",
      "        L: 3672.4314\n",
      "Iteration 30 \n",
      "        L: 3814.0757\n",
      "Iteration 33 \n",
      "        L: 3891.5054\n",
      "\n"
     ]
    },
    {
     "data": {
      "application/vnd.jupyter.widget-view+json": {
       "model_id": "0b785366e44a46acbbac2bddf26a75a7",
       "version_major": 2,
       "version_minor": 0
      },
      "text/plain": [
       "HBox(children=(IntProgress(value=0, max=35), HTML(value='')))"
      ]
     },
     "metadata": {},
     "output_type": "display_data"
    },
    {
     "name": "stdout",
     "output_type": "stream",
     "text": [
      "Iteration 3 \n",
      "        L: 3725.3237\n",
      "Iteration 6 \n",
      "        L: 3654.4644\n",
      "Iteration 9 \n",
      "        L: 3756.7002\n",
      "Iteration 12 \n",
      "        L: 3651.4514\n",
      "Iteration 15 \n",
      "        L: 3559.6670\n",
      "Iteration 18 \n",
      "        L: 3598.8682\n",
      "Iteration 21 \n",
      "        L: 3713.8945\n",
      "Iteration 24 \n",
      "        L: 3586.4673\n",
      "Iteration 27 \n",
      "        L: 3737.2466\n",
      "Iteration 30 \n",
      "        L: 3758.6589\n",
      "Iteration 33 \n",
      "        L: 3646.7666\n",
      "\n"
     ]
    },
    {
     "data": {
      "application/vnd.jupyter.widget-view+json": {
       "model_id": "ac40cb738a3a474883c81aac25f2f2cc",
       "version_major": 2,
       "version_minor": 0
      },
      "text/plain": [
       "HBox(children=(IntProgress(value=0, max=35), HTML(value='')))"
      ]
     },
     "metadata": {},
     "output_type": "display_data"
    },
    {
     "name": "stdout",
     "output_type": "stream",
     "text": [
      "Iteration 3 \n",
      "        L: 3555.3110\n",
      "Iteration 6 \n",
      "        L: 3678.3909\n",
      "Iteration 9 \n",
      "        L: 3621.5835\n",
      "Iteration 12 \n",
      "        L: 3579.4941\n",
      "Iteration 15 \n",
      "        L: 3655.2949\n",
      "Iteration 18 \n",
      "        L: 3713.2129\n",
      "Iteration 21 \n",
      "        L: 3799.5452\n",
      "Iteration 24 \n",
      "        L: 3719.7354\n",
      "Iteration 27 \n",
      "        L: 3590.3638\n",
      "Iteration 30 \n",
      "        L: 3639.4824\n",
      "Iteration 33 \n",
      "        L: 3730.3867\n",
      "\n"
     ]
    },
    {
     "data": {
      "application/vnd.jupyter.widget-view+json": {
       "model_id": "4fb27900eefd49cea3cf6307e23ce36e",
       "version_major": 2,
       "version_minor": 0
      },
      "text/plain": [
       "HBox(children=(IntProgress(value=0, max=35), HTML(value='')))"
      ]
     },
     "metadata": {},
     "output_type": "display_data"
    },
    {
     "name": "stdout",
     "output_type": "stream",
     "text": [
      "Iteration 3 \n",
      "        L: 3627.6768\n",
      "Iteration 6 \n",
      "        L: 3690.3047\n",
      "Iteration 9 \n",
      "        L: 3743.0522\n",
      "Iteration 12 \n",
      "        L: 4060.4268\n",
      "Iteration 15 \n",
      "        L: 3672.8767\n",
      "Iteration 18 \n",
      "        L: 3711.9961\n",
      "Iteration 21 \n",
      "        L: 3569.9131\n",
      "Iteration 24 \n",
      "        L: 3666.7095\n",
      "Iteration 27 \n",
      "        L: 3630.1958\n",
      "Iteration 30 \n",
      "        L: 3637.5596\n",
      "Iteration 33 \n",
      "        L: 3658.5432\n",
      "\n"
     ]
    },
    {
     "data": {
      "application/vnd.jupyter.widget-view+json": {
       "model_id": "0c546111ee1342eb8c7ceb9daad4a395",
       "version_major": 2,
       "version_minor": 0
      },
      "text/plain": [
       "HBox(children=(IntProgress(value=0, max=35), HTML(value='')))"
      ]
     },
     "metadata": {},
     "output_type": "display_data"
    },
    {
     "name": "stdout",
     "output_type": "stream",
     "text": [
      "Iteration 3 \n",
      "        L: 3783.3931\n",
      "Iteration 6 \n",
      "        L: 3582.9612\n",
      "Iteration 9 \n",
      "        L: 3731.1956\n",
      "Iteration 12 \n",
      "        L: 3784.7385\n",
      "Iteration 15 \n",
      "        L: 3563.5898\n",
      "Iteration 18 \n",
      "        L: 3763.9285\n",
      "Iteration 21 \n",
      "        L: 3586.9128\n",
      "Iteration 24 \n",
      "        L: 3767.2017\n",
      "Iteration 27 \n",
      "        L: 3588.6665\n",
      "Iteration 30 \n",
      "        L: 3932.8174\n",
      "Iteration 33 \n",
      "        L: 3619.6245\n",
      "\n"
     ]
    },
    {
     "data": {
      "application/vnd.jupyter.widget-view+json": {
       "model_id": "7a0fc15ee11940deb830875b9c8c4cba",
       "version_major": 2,
       "version_minor": 0
      },
      "text/plain": [
       "HBox(children=(IntProgress(value=0, max=35), HTML(value='')))"
      ]
     },
     "metadata": {},
     "output_type": "display_data"
    },
    {
     "name": "stdout",
     "output_type": "stream",
     "text": [
      "Iteration 3 \n",
      "        L: 3593.2764\n",
      "Iteration 6 \n",
      "        L: 3571.1543\n",
      "Iteration 9 \n",
      "        L: 3563.5750\n",
      "Iteration 12 \n",
      "        L: 3561.1865\n",
      "Iteration 15 \n",
      "        L: 3582.7139\n",
      "Iteration 18 \n",
      "        L: 3636.5093\n",
      "Iteration 21 \n",
      "        L: 3774.4084\n",
      "Iteration 24 \n",
      "        L: 3540.7466\n",
      "Iteration 27 \n",
      "        L: 3548.8901\n",
      "Iteration 30 \n",
      "        L: 3628.3159\n",
      "Iteration 33 \n",
      "        L: 3672.2654\n",
      "\n"
     ]
    },
    {
     "data": {
      "application/vnd.jupyter.widget-view+json": {
       "model_id": "fecef9941da64c90a7b20ebfc098fcfb",
       "version_major": 2,
       "version_minor": 0
      },
      "text/plain": [
       "HBox(children=(IntProgress(value=0, max=35), HTML(value='')))"
      ]
     },
     "metadata": {},
     "output_type": "display_data"
    },
    {
     "name": "stdout",
     "output_type": "stream",
     "text": [
      "Iteration 3 \n",
      "        L: 3658.7249\n",
      "Iteration 6 \n",
      "        L: 3694.0784\n",
      "Iteration 9 \n",
      "        L: 3609.1143\n",
      "Iteration 12 \n",
      "        L: 3570.2874\n",
      "Iteration 15 \n",
      "        L: 3556.4355\n",
      "Iteration 18 \n",
      "        L: 3687.7126\n",
      "Iteration 21 \n",
      "        L: 3618.2727\n",
      "Iteration 24 \n",
      "        L: 3631.4990\n",
      "Iteration 27 \n",
      "        L: 3887.1155\n",
      "Iteration 30 \n",
      "        L: 3739.2891\n",
      "Iteration 33 \n",
      "        L: 3557.9221\n",
      "\n"
     ]
    },
    {
     "data": {
      "application/vnd.jupyter.widget-view+json": {
       "model_id": "c7f8c40ca81e4db6bcb692c21f2ca9f0",
       "version_major": 2,
       "version_minor": 0
      },
      "text/plain": [
       "HBox(children=(IntProgress(value=0, max=35), HTML(value='')))"
      ]
     },
     "metadata": {},
     "output_type": "display_data"
    },
    {
     "name": "stdout",
     "output_type": "stream",
     "text": [
      "Iteration 3 \n",
      "        L: 3619.0542\n",
      "Iteration 6 \n",
      "        L: 3572.5024\n",
      "Iteration 9 \n",
      "        L: 3576.2825\n",
      "Iteration 12 \n",
      "        L: 3555.0542\n",
      "Iteration 15 \n",
      "        L: 3590.5566\n",
      "Iteration 18 \n",
      "        L: 3931.9448\n",
      "Iteration 21 \n",
      "        L: 3496.2144\n",
      "Iteration 24 \n",
      "        L: 3630.0918\n",
      "Iteration 27 \n",
      "        L: 3474.9951\n",
      "Iteration 30 \n",
      "        L: 3552.2852\n",
      "Iteration 33 \n",
      "        L: 3521.7080\n",
      "\n"
     ]
    },
    {
     "data": {
      "application/vnd.jupyter.widget-view+json": {
       "model_id": "80ca7bfdffc547d5969d1b1496b90190",
       "version_major": 2,
       "version_minor": 0
      },
      "text/plain": [
       "HBox(children=(IntProgress(value=0, max=35), HTML(value='')))"
      ]
     },
     "metadata": {},
     "output_type": "display_data"
    },
    {
     "name": "stdout",
     "output_type": "stream",
     "text": [
      "Iteration 3 \n",
      "        L: 3528.2676\n",
      "Iteration 6 \n",
      "        L: 3622.4526\n",
      "Iteration 9 \n",
      "        L: 3571.6375\n",
      "Iteration 12 \n",
      "        L: 3594.1565\n",
      "Iteration 15 \n",
      "        L: 3560.2166\n",
      "Iteration 18 \n",
      "        L: 3553.9155\n",
      "Iteration 21 \n",
      "        L: 3560.7981\n",
      "Iteration 24 \n",
      "        L: 3502.9548\n",
      "Iteration 27 \n",
      "        L: 3516.5681\n",
      "Iteration 30 \n",
      "        L: 3583.1941\n",
      "Iteration 33 \n",
      "        L: 3644.6721\n",
      "\n"
     ]
    },
    {
     "data": {
      "application/vnd.jupyter.widget-view+json": {
       "model_id": "1c3a8ecfa22044a9ac72729e5ff66ae6",
       "version_major": 2,
       "version_minor": 0
      },
      "text/plain": [
       "HBox(children=(IntProgress(value=0, max=35), HTML(value='')))"
      ]
     },
     "metadata": {},
     "output_type": "display_data"
    },
    {
     "name": "stdout",
     "output_type": "stream",
     "text": [
      "Iteration 3 \n",
      "        L: 3537.9927\n",
      "Iteration 6 \n",
      "        L: 3700.6123\n",
      "Iteration 9 \n",
      "        L: 3835.1675\n",
      "Iteration 12 \n",
      "        L: 3535.1660\n",
      "Iteration 15 \n",
      "        L: 3474.0154\n",
      "Iteration 18 \n",
      "        L: 3575.2344\n",
      "Iteration 21 \n",
      "        L: 4008.3066\n",
      "Iteration 24 \n",
      "        L: 4068.1812\n",
      "Iteration 27 \n",
      "        L: 3520.6189\n",
      "Iteration 30 \n",
      "        L: 3704.4429\n",
      "Iteration 33 \n",
      "        L: 3616.1677\n",
      "\n"
     ]
    },
    {
     "data": {
      "application/vnd.jupyter.widget-view+json": {
       "model_id": "23688d809f624b40b66f243c46bc3d23",
       "version_major": 2,
       "version_minor": 0
      },
      "text/plain": [
       "HBox(children=(IntProgress(value=0, max=35), HTML(value='')))"
      ]
     },
     "metadata": {},
     "output_type": "display_data"
    },
    {
     "name": "stdout",
     "output_type": "stream",
     "text": [
      "Iteration 3 \n",
      "        L: 3569.1638\n",
      "Iteration 6 \n",
      "        L: 3751.2271\n",
      "Iteration 9 \n",
      "        L: 3677.1069\n",
      "Iteration 12 \n",
      "        L: 3551.0649\n",
      "Iteration 15 \n",
      "        L: 3851.6841\n",
      "Iteration 18 \n",
      "        L: 3523.9172\n",
      "Iteration 21 \n",
      "        L: 3582.7368\n",
      "Iteration 24 \n",
      "        L: 3619.6826\n",
      "Iteration 27 \n",
      "        L: 3533.1387\n",
      "Iteration 30 \n",
      "        L: 3575.2009\n",
      "Iteration 33 \n",
      "        L: 3566.9075\n",
      "\n"
     ]
    },
    {
     "data": {
      "application/vnd.jupyter.widget-view+json": {
       "model_id": "5b6c9e2ede2f4cf9967d56e4724a39a5",
       "version_major": 2,
       "version_minor": 0
      },
      "text/plain": [
       "HBox(children=(IntProgress(value=0, max=35), HTML(value='')))"
      ]
     },
     "metadata": {},
     "output_type": "display_data"
    },
    {
     "name": "stdout",
     "output_type": "stream",
     "text": [
      "Iteration 3 \n",
      "        L: 3476.7725\n",
      "Iteration 6 \n",
      "        L: 3510.9028\n",
      "Iteration 9 \n",
      "        L: 3622.9536\n",
      "Iteration 12 \n",
      "        L: 3612.5391\n",
      "Iteration 15 \n",
      "        L: 3523.8374\n",
      "Iteration 18 \n",
      "        L: 3620.5081\n",
      "Iteration 21 \n",
      "        L: 3678.3633\n",
      "Iteration 24 \n",
      "        L: 3604.3955\n",
      "Iteration 27 \n",
      "        L: 3584.6787\n",
      "Iteration 30 \n",
      "        L: 3512.5320\n",
      "Iteration 33 \n",
      "        L: 3572.2854\n",
      "\n"
     ]
    },
    {
     "data": {
      "application/vnd.jupyter.widget-view+json": {
       "model_id": "7d0d4b241dd24d0e95a80882b15f0a72",
       "version_major": 2,
       "version_minor": 0
      },
      "text/plain": [
       "HBox(children=(IntProgress(value=0, max=35), HTML(value='')))"
      ]
     },
     "metadata": {},
     "output_type": "display_data"
    },
    {
     "name": "stdout",
     "output_type": "stream",
     "text": [
      "Iteration 3 \n",
      "        L: 3549.0154\n",
      "Iteration 6 \n",
      "        L: 3516.6484\n",
      "Iteration 9 \n",
      "        L: 3514.7683\n",
      "Iteration 12 \n",
      "        L: 3569.9912\n",
      "Iteration 15 \n",
      "        L: 3766.8926\n",
      "Iteration 18 \n",
      "        L: 3475.3462\n",
      "Iteration 21 \n",
      "        L: 3655.4373\n",
      "Iteration 24 \n",
      "        L: 3529.7053\n",
      "Iteration 27 \n",
      "        L: 3643.2598\n",
      "Iteration 30 \n",
      "        L: 3451.1858\n",
      "Iteration 33 \n",
      "        L: 3653.6367\n",
      "\n"
     ]
    },
    {
     "data": {
      "application/vnd.jupyter.widget-view+json": {
       "model_id": "aae9bc7a09d6435baa6ce7a68f9d2b8c",
       "version_major": 2,
       "version_minor": 0
      },
      "text/plain": [
       "HBox(children=(IntProgress(value=0, max=35), HTML(value='')))"
      ]
     },
     "metadata": {},
     "output_type": "display_data"
    },
    {
     "name": "stdout",
     "output_type": "stream",
     "text": [
      "Iteration 3 \n",
      "        L: 3617.7397\n",
      "Iteration 6 \n",
      "        L: 3717.0864\n",
      "Iteration 9 \n",
      "        L: 3449.3462\n",
      "Iteration 12 \n",
      "        L: 3576.3013\n",
      "Iteration 15 \n",
      "        L: 3598.5967\n",
      "Iteration 18 \n",
      "        L: 3581.2271\n",
      "Iteration 21 \n",
      "        L: 3630.3655\n",
      "Iteration 24 \n",
      "        L: 3469.2817\n",
      "Iteration 27 \n",
      "        L: 3721.4785\n",
      "Iteration 30 \n",
      "        L: 3533.2119\n",
      "Iteration 33 \n",
      "        L: 3578.7861\n",
      "\n"
     ]
    },
    {
     "data": {
      "application/vnd.jupyter.widget-view+json": {
       "model_id": "b80a63c342674ac5ba661d417d81c919",
       "version_major": 2,
       "version_minor": 0
      },
      "text/plain": [
       "HBox(children=(IntProgress(value=0, max=35), HTML(value='')))"
      ]
     },
     "metadata": {},
     "output_type": "display_data"
    },
    {
     "name": "stdout",
     "output_type": "stream",
     "text": [
      "Iteration 3 \n",
      "        L: 3566.5996\n",
      "Iteration 6 \n",
      "        L: 3593.1997\n",
      "Iteration 9 \n",
      "        L: 3470.6814\n",
      "Iteration 12 \n",
      "        L: 3517.5771\n",
      "Iteration 15 \n",
      "        L: 3416.7441\n",
      "Iteration 18 \n",
      "        L: 3580.6333\n",
      "Iteration 21 \n",
      "        L: 3531.0732\n",
      "Iteration 24 \n",
      "        L: 3512.7114\n",
      "Iteration 27 \n",
      "        L: 3550.3506\n",
      "Iteration 30 \n",
      "        L: 3481.7998\n",
      "Iteration 33 \n",
      "        L: 3519.0732\n",
      "\n"
     ]
    },
    {
     "data": {
      "application/vnd.jupyter.widget-view+json": {
       "model_id": "14aa200e7fb943a39d48f634a97ad0b6",
       "version_major": 2,
       "version_minor": 0
      },
      "text/plain": [
       "HBox(children=(IntProgress(value=0, max=35), HTML(value='')))"
      ]
     },
     "metadata": {},
     "output_type": "display_data"
    },
    {
     "name": "stdout",
     "output_type": "stream",
     "text": [
      "Iteration 3 \n",
      "        L: 3542.6270\n",
      "Iteration 6 \n",
      "        L: 3464.5193\n",
      "Iteration 9 \n",
      "        L: 3494.6016\n",
      "Iteration 12 \n",
      "        L: 3458.1516\n",
      "Iteration 15 \n",
      "        L: 3613.2190\n",
      "Iteration 18 \n",
      "        L: 3513.1377\n",
      "Iteration 21 \n",
      "        L: 3474.6609\n",
      "Iteration 24 \n",
      "        L: 3422.8047\n",
      "Iteration 27 \n",
      "        L: 3464.2205\n",
      "Iteration 30 \n",
      "        L: 3693.8926\n",
      "Iteration 33 \n",
      "        L: 3601.8430\n",
      "\n"
     ]
    },
    {
     "data": {
      "application/vnd.jupyter.widget-view+json": {
       "model_id": "d609234b06ce45948e2114dbb386e36d",
       "version_major": 2,
       "version_minor": 0
      },
      "text/plain": [
       "HBox(children=(IntProgress(value=0, max=35), HTML(value='')))"
      ]
     },
     "metadata": {},
     "output_type": "display_data"
    },
    {
     "name": "stdout",
     "output_type": "stream",
     "text": [
      "Iteration 3 \n",
      "        L: 3470.7659\n",
      "Iteration 6 \n",
      "        L: 3593.7961\n",
      "Iteration 9 \n",
      "        L: 3445.9851\n",
      "Iteration 12 \n",
      "        L: 3537.6836\n",
      "Iteration 15 \n",
      "        L: 3519.8223\n",
      "Iteration 18 \n",
      "        L: 3482.2515\n",
      "Iteration 21 \n",
      "        L: 3718.5542\n",
      "Iteration 24 \n",
      "        L: 3603.6646\n",
      "Iteration 27 \n",
      "        L: 3486.4546\n",
      "Iteration 30 \n",
      "        L: 3906.5945\n",
      "Iteration 33 \n",
      "        L: 3440.8088\n",
      "\n"
     ]
    },
    {
     "data": {
      "application/vnd.jupyter.widget-view+json": {
       "model_id": "c54ee9f806404e79852d01c510dd8266",
       "version_major": 2,
       "version_minor": 0
      },
      "text/plain": [
       "HBox(children=(IntProgress(value=0, max=35), HTML(value='')))"
      ]
     },
     "metadata": {},
     "output_type": "display_data"
    },
    {
     "name": "stdout",
     "output_type": "stream",
     "text": [
      "Iteration 3 \n",
      "        L: 3468.3740\n",
      "Iteration 6 \n",
      "        L: 3617.3257\n",
      "Iteration 9 \n",
      "        L: 3476.3645\n",
      "Iteration 12 \n",
      "        L: 3719.8787\n",
      "Iteration 15 \n",
      "        L: 3410.9824\n",
      "Iteration 18 \n",
      "        L: 3678.2432\n",
      "Iteration 21 \n",
      "        L: 3464.1379\n",
      "Iteration 24 \n",
      "        L: 3488.9177\n",
      "Iteration 27 \n",
      "        L: 3659.8491\n",
      "Iteration 30 \n",
      "        L: 3488.7268\n",
      "Iteration 33 \n",
      "        L: 3843.1438\n",
      "\n"
     ]
    },
    {
     "data": {
      "application/vnd.jupyter.widget-view+json": {
       "model_id": "cf65db4f84ff4db688cb41abc2802708",
       "version_major": 2,
       "version_minor": 0
      },
      "text/plain": [
       "HBox(children=(IntProgress(value=0, max=35), HTML(value='')))"
      ]
     },
     "metadata": {},
     "output_type": "display_data"
    },
    {
     "name": "stdout",
     "output_type": "stream",
     "text": [
      "Iteration 3 \n",
      "        L: 3482.4800\n",
      "Iteration 6 \n",
      "        L: 3469.7649\n",
      "Iteration 9 \n",
      "        L: 3499.3794\n",
      "Iteration 12 \n",
      "        L: 3624.9319\n",
      "Iteration 15 \n",
      "        L: 3491.1733\n",
      "Iteration 18 \n",
      "        L: 3489.8291\n",
      "Iteration 21 \n",
      "        L: 3452.6646\n",
      "Iteration 24 \n",
      "        L: 3556.8003\n",
      "Iteration 27 \n",
      "        L: 3439.4053\n",
      "Iteration 30 \n",
      "        L: 3475.1709\n",
      "Iteration 33 \n",
      "        L: 3555.1824\n",
      "\n"
     ]
    },
    {
     "data": {
      "application/vnd.jupyter.widget-view+json": {
       "model_id": "b88883af9c4143e1ad32def2a133796c",
       "version_major": 2,
       "version_minor": 0
      },
      "text/plain": [
       "HBox(children=(IntProgress(value=0, max=35), HTML(value='')))"
      ]
     },
     "metadata": {},
     "output_type": "display_data"
    },
    {
     "name": "stdout",
     "output_type": "stream",
     "text": [
      "Iteration 3 \n",
      "        L: 3446.6123\n",
      "Iteration 6 \n",
      "        L: 3686.6909\n",
      "Iteration 9 \n",
      "        L: 3416.6011\n",
      "Iteration 12 \n",
      "        L: 3594.1362\n",
      "Iteration 15 \n",
      "        L: 3508.8621\n",
      "Iteration 18 \n",
      "        L: 3528.0322\n",
      "Iteration 21 \n",
      "        L: 3388.0522\n",
      "Iteration 24 \n",
      "        L: 3493.1421\n",
      "Iteration 27 \n",
      "        L: 3522.7424\n",
      "Iteration 30 \n",
      "        L: 3473.6387\n",
      "Iteration 33 \n",
      "        L: 3502.3745\n",
      "\n"
     ]
    }
   ],
   "source": [
    "EPOCHS=100\n",
    "for epoch in range(EPOCHS):\n",
    "    i = 1\n",
    "    for X, y in tqdm_notebook(dataLoader):\n",
    "        model.zero_grad()\n",
    "        X_pred = model.forward(X)\n",
    "        L = torch.sum((X - X_pred)**2)\n",
    "        L.backward()\n",
    "        opt.step()\n",
    "\n",
    "        # Print\n",
    "        if (i % (len(dataLoader)//10)) == 0: print(\"Iteration %d \\n        L: %.4f\" % (i, L))\n",
    "        i += 1\n",
    "        \n",
    "        torch.cuda.empty_cache()"
   ]
  },
  {
   "cell_type": "code",
   "execution_count": 40,
   "metadata": {},
   "outputs": [
    {
     "data": {
      "text/plain": [
       "<matplotlib.image.AxesImage at 0x1da5c959fd0>"
      ]
     },
     "execution_count": 40,
     "metadata": {},
     "output_type": "execute_result"
    },
    {
     "data": {
      "image/png": "[encoded data removed]",
      "text/plain": [
       "<Figure size 432x288 with 1 Axes>"
      ]
     },
     "metadata": {
      "needs_background": "light"
     },
     "output_type": "display_data"
    }
   ],
   "source": [
    "plt.imshow(model.forward(X[2:3]).reshape(28,28).to(torch.device('cpu')).detach().numpy())"
   ]
  },
  {
   "cell_type": "code",
   "execution_count": 38,
   "metadata": {},
   "outputs": [
    {
     "data": {
      "text/plain": [
       "<matplotlib.image.AxesImage at 0x1da5ca12d68>"
      ]
     },
     "execution_count": 38,
     "metadata": {},
     "output_type": "execute_result"
    },
    {
     "data": {
      "image/png": "[encoded data removed]",
      "text/plain": [
       "<Figure size 432x288 with 1 Axes>"
      ]
     },
     "metadata": {
      "needs_background": "light"
     },
     "output_type": "display_data"
    }
   ],
   "source": [
    "plt.imshow(X[2].reshape(28,28).to(torch.device('cpu')))"
   ]
  },
  {
   "cell_type": "code",
   "execution_count": null,
   "metadata": {},
   "outputs": [],
   "source": []
  }
 ],
 "metadata": {
  "kernelspec": {
   "display_name": "Python 3",
   "language": "python",
   "name": "python3"
  },
  "language_info": {
   "codemirror_mode": {
    "name": "ipython",
    "version": 3
   },
   "file_extension": ".py",
   "mimetype": "text/x-python",
   "name": "python",
   "nbconvert_exporter": "python",
   "pygments_lexer": "ipython3",
   "version": "3.7.3"
  }
 },
 "nbformat": 4,
 "nbformat_minor": 2
}
