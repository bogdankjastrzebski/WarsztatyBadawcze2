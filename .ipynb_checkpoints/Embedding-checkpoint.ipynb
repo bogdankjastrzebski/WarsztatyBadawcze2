{
 "cells": [
  {
   "cell_type": "code",
   "execution_count": 84,
   "metadata": {},
   "outputs": [],
   "source": [
    "import pandas as pd\n",
    "import torch\n",
    "from torch import nn\n",
    "import torch.optim as optim\n",
    "import torch.nn.functional as F\n",
    "from torch.nn.modules.distance import PairwiseDistance\n",
    "import numpy as np\n",
    "import matplotlib.pyplot as plt\n",
    "import torch.utils.data\n",
    "from tqdm import tnrange\n",
    "from tqdm import tqdm_notebook"
   ]
  },
  {
   "cell_type": "markdown",
   "metadata": {},
   "source": [
    "# Device"
   ]
  },
  {
   "cell_type": "code",
   "execution_count": 135,
   "metadata": {},
   "outputs": [],
   "source": [
    "device = torch.device('cuda')\n",
    "# device = torch.device('cpu')"
   ]
  },
  {
   "cell_type": "markdown",
   "metadata": {},
   "source": [
    "# Dataset"
   ]
  },
  {
   "cell_type": "code",
   "execution_count": 148,
   "metadata": {},
   "outputs": [],
   "source": [
    "class Images(torch.utils.data.Dataset):\n",
    "    def __init__(self):\n",
    "        D = np.r_[pd.read_csv(\"./mnist1.csv\").to_numpy(), pd.read_csv(\"./mnist2.csv\").to_numpy()]\n",
    "        self.X = torch.Tensor(D[:, :-1].reshape(70000, 1, 28, 28))\n",
    "        self.y = torch.Tensor(D[:, -1:])\n",
    "        \n",
    "    def __len__(self):\n",
    "        return self.X.shape[0]\n",
    "\n",
    "    def __getitem__(self, idx):\n",
    "        return self.X[idx, :, :, :], self.y[idx, 0]\n",
    "    \n",
    "    def to(self, device):\n",
    "        self.X = self.X.to(device)\n",
    "        self.y = self.y.to(device)"
   ]
  },
  {
   "cell_type": "code",
   "execution_count": 149,
   "metadata": {},
   "outputs": [],
   "source": [
    "Img = Images()\n",
    "Img.to(device)"
   ]
  },
  {
   "cell_type": "code",
   "execution_count": 150,
   "metadata": {
    "scrolled": true
   },
   "outputs": [
    {
     "data": {
      "image/png": "[encoded data removed]",
      "text/plain": [
       "<Figure size 432x288 with 1 Axes>"
      ]
     },
     "metadata": {
      "needs_background": "light"
     },
     "output_type": "display_data"
    }
   ],
   "source": [
    "plt.imshow(Img[0][0].to(torch.device('cpu')).reshape(28,28));"
   ]
  },
  {
   "cell_type": "code",
   "execution_count": 151,
   "metadata": {},
   "outputs": [],
   "source": [
    "sampler = torch.utils.data.RandomSampler(Img)"
   ]
  },
  {
   "cell_type": "code",
   "execution_count": 152,
   "metadata": {},
   "outputs": [],
   "source": [
    "dataLoader = torch.utils.data.DataLoader(Img, sampler=sampler, batch_size=200)"
   ]
  },
  {
   "cell_type": "markdown",
   "metadata": {},
   "source": [
    "# Autoencoder"
   ]
  },
  {
   "cell_type": "code",
   "execution_count": 153,
   "metadata": {},
   "outputs": [],
   "source": [
    "class AUTOENC(nn.Module):\n",
    "    def __init__(self):\n",
    "        super(AUTOENC, self).__init__()\n",
    "        \n",
    "        a = 50\n",
    "        b = 100\n",
    "        c = 150\n",
    "        \n",
    "        self.conv1 = nn.Conv2d(1, a, 5)\n",
    "        self.conv2 = nn.Conv2d(a, b, 5)\n",
    "        self.conv3 = nn.Conv2d(b, c, 5)\n",
    "        self.conv4 = nn.Conv2d(c, b, 5)\n",
    "        self.conv5 = nn.Conv2d(b, a, 5)\n",
    "        self.conv6 = nn.Conv2d(a, 1, 5)\n",
    "        \n",
    "    def forward(self, X):\n",
    "        X = self.conv1(F.pad(X,(2,2,2,2)))\n",
    "        X = self.conv2(F.pad(X,(2,2,2,2)))\n",
    "        X = self.conv3(F.pad(X,(2,2,2,2)))\n",
    "        X = self.conv4(F.pad(X,(2,2,2,2)))\n",
    "        X = self.conv5(F.pad(X,(2,2,2,2)))\n",
    "        X = self.conv6(F.pad(X,(2,2,2,2)))\n",
    "        return X"
   ]
  },
  {
   "cell_type": "markdown",
   "metadata": {},
   "source": [
    "# Training"
   ]
  },
  {
   "cell_type": "code",
   "execution_count": 154,
   "metadata": {},
   "outputs": [],
   "source": [
    "model = AUTOENC().to(device)"
   ]
  },
  {
   "cell_type": "code",
   "execution_count": 155,
   "metadata": {},
   "outputs": [],
   "source": [
    "opt = optim.Adam(model.parameters(), lr=0.001)"
   ]
  },
  {
   "cell_type": "code",
   "execution_count": 158,
   "metadata": {
    "scrolled": true
   },
   "outputs": [
    {
     "data": {
      "application/vnd.jupyter.widget-view+json": {
       "model_id": "432ad470d1a649dca9ce50d5db87d252",
       "version_major": 2,
       "version_minor": 0
      },
      "text/plain": [
       "HBox(children=(IntProgress(value=0, max=350), HTML(value='')))"
      ]
     },
     "metadata": {},
     "output_type": "display_data"
    },
    {
     "name": "stdout",
     "output_type": "stream",
     "text": [
      "Iteration 3 \n",
      "        L: 106239168.0000\n",
      "Iteration 6 \n",
      "        L: 106632672.0000\n",
      "Iteration 9 \n",
      "        L: 107915928.0000\n",
      "Iteration 12 \n",
      "        L: 102204768.0000\n",
      "Iteration 15 \n",
      "        L: 100755744.0000\n",
      "Iteration 18 \n",
      "        L: 104750080.0000\n",
      "Iteration 21 \n",
      "        L: 105917408.0000\n",
      "Iteration 24 \n",
      "        L: 101822416.0000\n",
      "Iteration 27 \n",
      "        L: 99718368.0000\n",
      "Iteration 30 \n",
      "        L: 102539592.0000\n",
      "Iteration 33 \n",
      "        L: 100087624.0000\n",
      "Iteration 36 \n",
      "        L: 98498016.0000\n",
      "Iteration 39 \n",
      "        L: 100806832.0000\n",
      "Iteration 42 \n",
      "        L: 104603504.0000\n",
      "Iteration 45 \n",
      "        L: 99483216.0000\n",
      "Iteration 48 \n",
      "        L: 98863992.0000\n",
      "Iteration 51 \n",
      "        L: 97334144.0000\n",
      "Iteration 54 \n",
      "        L: 99068584.0000\n",
      "Iteration 57 \n",
      "        L: 95724880.0000\n",
      "Iteration 60 \n",
      "        L: 96949008.0000\n",
      "Iteration 63 \n",
      "        L: 95407320.0000\n",
      "Iteration 66 \n",
      "        L: 96114480.0000\n",
      "Iteration 69 \n",
      "        L: 95682488.0000\n",
      "Iteration 72 \n",
      "        L: 95862976.0000\n",
      "Iteration 75 \n",
      "        L: 95464424.0000\n",
      "Iteration 78 \n",
      "        L: 93716424.0000\n",
      "Iteration 81 \n",
      "        L: 90981584.0000\n",
      "Iteration 84 \n",
      "        L: 92398096.0000\n",
      "Iteration 87 \n",
      "        L: 93711904.0000\n",
      "Iteration 90 \n",
      "        L: 89656256.0000\n",
      "Iteration 93 \n",
      "        L: 99187968.0000\n",
      "Iteration 96 \n",
      "        L: 91315032.0000\n",
      "Iteration 99 \n",
      "        L: 93857832.0000\n",
      "Iteration 102 \n",
      "        L: 94805408.0000\n",
      "Iteration 105 \n",
      "        L: 90308656.0000\n",
      "Iteration 108 \n",
      "        L: 93210032.0000\n",
      "Iteration 111 \n",
      "        L: 88206752.0000\n",
      "Iteration 114 \n",
      "        L: 89152984.0000\n",
      "Iteration 117 \n",
      "        L: 92538208.0000\n",
      "Iteration 120 \n",
      "        L: 92417408.0000\n",
      "Iteration 123 \n",
      "        L: 88319616.0000\n",
      "Iteration 126 \n",
      "        L: 90787152.0000\n",
      "Iteration 129 \n",
      "        L: 91099176.0000\n",
      "Iteration 132 \n",
      "        L: 89754376.0000\n",
      "Iteration 135 \n",
      "        L: 87536832.0000\n",
      "Iteration 138 \n",
      "        L: 96088176.0000\n",
      "Iteration 141 \n",
      "        L: 89040152.0000\n",
      "Iteration 144 \n",
      "        L: 91045192.0000\n",
      "Iteration 147 \n",
      "        L: 85554376.0000\n",
      "Iteration 150 \n",
      "        L: 87736576.0000\n",
      "Iteration 153 \n",
      "        L: 95375360.0000\n",
      "Iteration 156 \n",
      "        L: 87585040.0000\n",
      "Iteration 159 \n",
      "        L: 87543336.0000\n",
      "Iteration 162 \n",
      "        L: 86616576.0000\n",
      "Iteration 165 \n",
      "        L: 83398344.0000\n",
      "Iteration 168 \n",
      "        L: 86665712.0000\n",
      "Iteration 171 \n",
      "        L: 88592584.0000\n",
      "Iteration 174 \n",
      "        L: 85241560.0000\n",
      "Iteration 177 \n",
      "        L: 82118640.0000\n",
      "Iteration 180 \n",
      "        L: 85172800.0000\n",
      "Iteration 183 \n",
      "        L: 82140904.0000\n",
      "Iteration 186 \n",
      "        L: 83759648.0000\n",
      "Iteration 189 \n",
      "        L: 80423744.0000\n",
      "Iteration 192 \n",
      "        L: 81128600.0000\n",
      "Iteration 195 \n",
      "        L: 81576048.0000\n",
      "Iteration 198 \n",
      "        L: 86355648.0000\n",
      "Iteration 201 \n",
      "        L: 79964832.0000\n",
      "Iteration 204 \n",
      "        L: 82288880.0000\n",
      "Iteration 207 \n",
      "        L: 79279200.0000\n",
      "Iteration 210 \n",
      "        L: 82947320.0000\n",
      "Iteration 213 \n",
      "        L: 79741224.0000\n",
      "Iteration 216 \n",
      "        L: 82454016.0000\n",
      "Iteration 219 \n",
      "        L: 81804912.0000\n",
      "Iteration 222 \n",
      "        L: 78627152.0000\n",
      "Iteration 225 \n",
      "        L: 79096568.0000\n",
      "Iteration 228 \n",
      "        L: 82767744.0000\n",
      "Iteration 231 \n",
      "        L: 80214000.0000\n",
      "Iteration 234 \n",
      "        L: 78936624.0000\n",
      "Iteration 237 \n",
      "        L: 80597160.0000\n",
      "Iteration 240 \n",
      "        L: 79341792.0000\n",
      "Iteration 243 \n",
      "        L: 78544024.0000\n",
      "Iteration 246 \n",
      "        L: 80103792.0000\n",
      "Iteration 249 \n",
      "        L: 81315416.0000\n",
      "Iteration 252 \n",
      "        L: 75391704.0000\n",
      "Iteration 255 \n",
      "        L: 78233000.0000\n",
      "Iteration 258 \n",
      "        L: 79506832.0000\n",
      "Iteration 261 \n",
      "        L: 78040136.0000\n",
      "Iteration 264 \n",
      "        L: 75088160.0000\n",
      "Iteration 267 \n",
      "        L: 78278816.0000\n",
      "Iteration 270 \n",
      "        L: 75032560.0000\n",
      "Iteration 273 \n",
      "        L: 76928368.0000\n",
      "Iteration 276 \n",
      "        L: 75029064.0000\n",
      "Iteration 279 \n",
      "        L: 75473448.0000\n",
      "Iteration 282 \n",
      "        L: 75811064.0000\n",
      "Iteration 285 \n",
      "        L: 76163472.0000\n",
      "Iteration 288 \n",
      "        L: 76339200.0000\n",
      "Iteration 291 \n",
      "        L: 74995840.0000\n",
      "Iteration 294 \n",
      "        L: 70298296.0000\n",
      "Iteration 297 \n",
      "        L: 76084096.0000\n",
      "Iteration 300 \n",
      "        L: 74046320.0000\n",
      "Iteration 303 \n",
      "        L: 77151144.0000\n",
      "Iteration 306 \n",
      "        L: 74747376.0000\n",
      "Iteration 309 \n",
      "        L: 71955120.0000\n",
      "Iteration 312 \n",
      "        L: 71802768.0000\n",
      "Iteration 315 \n",
      "        L: 76061496.0000\n",
      "Iteration 318 \n",
      "        L: 74246392.0000\n",
      "Iteration 321 \n",
      "        L: 74760504.0000\n",
      "Iteration 324 \n",
      "        L: 72658728.0000\n",
      "Iteration 327 \n",
      "        L: 70200544.0000\n",
      "Iteration 330 \n",
      "        L: 70339680.0000\n",
      "Iteration 333 \n",
      "        L: 69764640.0000\n",
      "Iteration 336 \n",
      "        L: 72924000.0000\n",
      "Iteration 339 \n",
      "        L: 70781424.0000\n",
      "Iteration 342 \n",
      "        L: 69163888.0000\n",
      "Iteration 345 \n",
      "        L: 70164720.0000\n",
      "Iteration 348 \n",
      "        L: 69944344.0000\n"
     ]
    }
   ],
   "source": [
    "EPOCHS=10\n",
    "for epoch in range(EPOCHS):\n",
    "    i = 1\n",
    "    for X, y in tqdm_notebook(dataLoader):\n",
    "        model.zero_grad()\n",
    "        X_pred = model.forward(X)\n",
    "        L = torch.sum((X - X_pred)**2)\n",
    "        L.backward()\n",
    "        opt.step()\n",
    "\n",
    "        # Print\n",
    "        if (i % (len(dataLoader)//10)) == 0: print(\"Iteration %d \\n        L: %.4f\" % (i, L))\n",
    "        i += 1"
   ]
  },
  {
   "cell_type": "code",
   "execution_count": null,
   "metadata": {},
   "outputs": [],
   "source": []
  }
 ],
 "metadata": {
  "kernelspec": {
   "display_name": "Python 3",
   "language": "python",
   "name": "python3"
  },
  "language_info": {
   "codemirror_mode": {
    "name": "ipython",
    "version": 3
   },
   "file_extension": ".py",
   "mimetype": "text/x-python",
   "name": "python",
   "nbconvert_exporter": "python",
   "pygments_lexer": "ipython3",
   "version": "3.7.3"
  }
 },
 "nbformat": 4,
 "nbformat_minor": 2
}
