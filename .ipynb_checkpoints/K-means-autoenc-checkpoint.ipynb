{
 "cells": [
  {
   "cell_type": "code",
   "execution_count": 1,
   "metadata": {},
   "outputs": [],
   "source": [
    "import pandas as pd\n",
    "import torch\n",
    "from torch import nn\n",
    "import torch.optim as optim\n",
    "import torch.nn.functional as F\n",
    "from torch.nn.modules.distance import PairwiseDistance\n",
    "import numpy as np\n",
    "import matplotlib.pyplot as plt\n",
    "import torch.utils.data\n",
    "from tqdm import tnrange\n",
    "from tqdm import tqdm_notebook"
   ]
  },
  {
   "cell_type": "code",
   "execution_count": 2,
   "metadata": {},
   "outputs": [],
   "source": [
    "cuda = torch.device('cuda')\n",
    "cpu = torch.device('cpu')"
   ]
  },
  {
   "cell_type": "code",
   "execution_count": 3,
   "metadata": {},
   "outputs": [],
   "source": [
    "class Images(torch.utils.data.Dataset):\n",
    "    def __init__(self):\n",
    "        D = np.r_[pd.read_csv(\"./mnist1.csv\").to_numpy(), pd.read_csv(\"./mnist2.csv\").to_numpy()]\n",
    "        self.X = torch.Tensor(D[:, :-1].reshape(70000, 1, 28, 28))/255\n",
    "        self.y = torch.Tensor(D[:, -1:])\n",
    "        \n",
    "    def __len__(self):\n",
    "        return self.X.shape[0]\n",
    "\n",
    "    def __getitem__(self, idx):\n",
    "        return self.X[idx, :, :, :], self.y[idx, 0]\n",
    "    \n",
    "    def to(self, device):\n",
    "        self.X = self.X.to(device)\n",
    "        self.y = self.y.to(device)"
   ]
  },
  {
   "cell_type": "code",
   "execution_count": 4,
   "metadata": {},
   "outputs": [],
   "source": [
    "Img = Images()\n",
    "Img.to(cuda)"
   ]
  },
  {
   "cell_type": "code",
   "execution_count": 5,
   "metadata": {},
   "outputs": [
    {
     "data": {
      "image/png": "[encoded data removed]",
      "text/plain": [
       "<Figure size 432x288 with 1 Axes>"
      ]
     },
     "metadata": {
      "needs_background": "light"
     },
     "output_type": "display_data"
    }
   ],
   "source": [
    "plt.imshow(Img[0][0].to(torch.device('cpu')).reshape(28,28));"
   ]
  },
  {
   "cell_type": "code",
   "execution_count": 6,
   "metadata": {},
   "outputs": [],
   "source": [
    "ratio = 0.001\n",
    "train, valid = torch.utils.data.random_split(Img, [int(len(Img)*(1 - ratio)), int(len(Img)*ratio)])"
   ]
  },
  {
   "cell_type": "code",
   "execution_count": 7,
   "metadata": {},
   "outputs": [],
   "source": [
    "dataLoader = torch.utils.data.DataLoader(train, batch_size=500)"
   ]
  },
  {
   "cell_type": "markdown",
   "metadata": {},
   "source": [
    "# MSE"
   ]
  },
  {
   "cell_type": "code",
   "execution_count": 8,
   "metadata": {},
   "outputs": [],
   "source": [
    "def onehot(y):\n",
    "    ret = torch.zeros(y.shape[0], 10)\n",
    "    ret[torch.arange(y.shape[0]), y.long()] = 1\n",
    "    return ret"
   ]
  },
  {
   "cell_type": "code",
   "execution_count": 9,
   "metadata": {},
   "outputs": [],
   "source": [
    "def CE(y, y_pred):\n",
    "    y = onehot(y) == 1\n",
    "    return -torch.log(y_pred[y]).sum()# - torch.log(1 - y_pred[~y]).sum() + 0"
   ]
  },
  {
   "cell_type": "markdown",
   "metadata": {},
   "source": [
    "# KMeans"
   ]
  },
  {
   "cell_type": "code",
   "execution_count": 10,
   "metadata": {},
   "outputs": [],
   "source": [
    "def dist2(X, Y):\n",
    "    Xsq = X.pow(2).sum(1, keepdim=True)\n",
    "    Ysq = Y.pow(2).sum(1, keepdim=True)\n",
    "    return Xsq + Ysq.T - 2*X @ Y.T"
   ]
  },
  {
   "cell_type": "code",
   "execution_count": 31,
   "metadata": {},
   "outputs": [],
   "source": [
    "class KMeans(nn.Module):\n",
    "    def __init__(self, X, k):\n",
    "        super(KMeans, self).__init__()\n",
    "        self.M = nn.Parameter(X[torch.randperm(X.shape[0])[:k], :].clone())\n",
    "        self.newM = nn.Parameter(torch.zeros_like(self.M.data))\n",
    "        self.n = nn.Parameter(torch.zeros(k))\n",
    "        self.iteration_cost = 0\n",
    "        \n",
    "    def accumulate(self, X):\n",
    "        D, Ind = dist2(X, self.M).min(1)\n",
    "        self.iteration_cost += D.sum()\n",
    "        for i in range(self.M.shape[0]):\n",
    "            self.newM[i, :] += X[Ind == i, :].sum(0)\n",
    "            self.n[i] += torch.sum(Ind == i)\n",
    "            \n",
    "    def step(self):\n",
    "        self.M.data[self.n!=0, :] = (self.newM[self.n!=0, :].T/self.n[self.n!=0]).T\n",
    "        self.newM.zero_()\n",
    "        self.n.zero_()\n",
    "        ret = self.iteration_cost\n",
    "        self.iteration_cost = 0\n",
    "        return ret\n",
    "        "
   ]
  },
  {
   "cell_type": "code",
   "execution_count": 32,
   "metadata": {
    "scrolled": true
   },
   "outputs": [],
   "source": [
    "models = [KMeans(X.reshape(X.shape[0], 28*28)[y == i, :].to(cpu), 10).to(cuda) for i in range(10)]"
   ]
  },
  {
   "cell_type": "code",
   "execution_count": 33,
   "metadata": {},
   "outputs": [
    {
     "data": {
      "application/vnd.jupyter.widget-view+json": {
       "model_id": "fffec41d4560445d9298936946ffb858",
       "version_major": 2,
       "version_minor": 0
      },
      "text/plain": [
       "HBox(children=(IntProgress(value=0), HTML(value='')))"
      ]
     },
     "metadata": {},
     "output_type": "display_data"
    },
    {
     "name": "stdout",
     "output_type": "stream",
     "text": [
      "tensor(263683.3750, device='cuda:0', grad_fn=<AddBackward0>)\n",
      "tensor(175551.4375, device='cuda:0', grad_fn=<AddBackward0>)\n",
      "tensor(294447.4375, device='cuda:0', grad_fn=<AddBackward0>)\n",
      "tensor(268304.6250, device='cuda:0', grad_fn=<AddBackward0>)\n",
      "tensor(271634.2500, device='cuda:0', grad_fn=<AddBackward0>)\n",
      "tensor(320105.8125, device='cuda:0', grad_fn=<AddBackward0>)\n",
      "tensor(270652.1562, device='cuda:0', grad_fn=<AddBackward0>)\n",
      "tensor(190026.0938, device='cuda:0', grad_fn=<AddBackward0>)\n",
      "tensor(422911.8438, device='cuda:0', grad_fn=<AddBackward0>)\n",
      "tensor(276481.2188, device='cuda:0', grad_fn=<AddBackward0>)\n",
      "tensor(159449.9844, device='cuda:0', grad_fn=<AddBackward0>)\n",
      "tensor(108365.8594, device='cuda:0', grad_fn=<AddBackward0>)\n",
      "tensor(183054.9375, device='cuda:0', grad_fn=<AddBackward0>)\n",
      "tensor(152970.8906, device='cuda:0', grad_fn=<AddBackward0>)\n",
      "tensor(165702.0781, device='cuda:0', grad_fn=<AddBackward0>)\n",
      "tensor(202434.5000, device='cuda:0', grad_fn=<AddBackward0>)\n",
      "tensor(173521.3906, device='cuda:0', grad_fn=<AddBackward0>)\n",
      "tensor(111977.3438, device='cuda:0', grad_fn=<AddBackward0>)\n",
      "tensor(240251.1250, device='cuda:0', grad_fn=<AddBackward0>)\n",
      "tensor(166006.9375, device='cuda:0', grad_fn=<AddBackward0>)\n",
      "tensor(154875.1562, device='cuda:0', grad_fn=<AddBackward0>)\n",
      "tensor(103989.8750, device='cuda:0', grad_fn=<AddBackward0>)\n",
      "tensor(173766.5000, device='cuda:0', grad_fn=<AddBackward0>)\n",
      "tensor(147329.6562, device='cuda:0', grad_fn=<AddBackward0>)\n",
      "tensor(160996.5000, device='cuda:0', grad_fn=<AddBackward0>)\n",
      "tensor(194526.3281, device='cuda:0', grad_fn=<AddBackward0>)\n",
      "tensor(169330.3438, device='cuda:0', grad_fn=<AddBackward0>)\n",
      "tensor(107788.9844, device='cuda:0', grad_fn=<AddBackward0>)\n",
      "tensor(230054.5469, device='cuda:0', grad_fn=<AddBackward0>)\n",
      "tensor(162141.0938, device='cuda:0', grad_fn=<AddBackward0>)\n",
      "tensor(152851.1562, device='cuda:0', grad_fn=<AddBackward0>)\n",
      "tensor(102451.8438, device='cuda:0', grad_fn=<AddBackward0>)\n",
      "tensor(170781.4375, device='cuda:0', grad_fn=<AddBackward0>)\n",
      "tensor(145399.7969, device='cuda:0', grad_fn=<AddBackward0>)\n",
      "tensor(157914.1719, device='cuda:0', grad_fn=<AddBackward0>)\n",
      "tensor(190472.3594, device='cuda:0', grad_fn=<AddBackward0>)\n",
      "tensor(168034.8281, device='cuda:0', grad_fn=<AddBackward0>)\n",
      "tensor(106624.1484, device='cuda:0', grad_fn=<AddBackward0>)\n",
      "tensor(226570.6250, device='cuda:0', grad_fn=<AddBackward0>)\n",
      "tensor(160802.8281, device='cuda:0', grad_fn=<AddBackward0>)\n",
      "tensor(151695.0469, device='cuda:0', grad_fn=<AddBackward0>)\n",
      "tensor(101276.2812, device='cuda:0', grad_fn=<AddBackward0>)\n",
      "tensor(169603.6094, device='cuda:0', grad_fn=<AddBackward0>)\n",
      "tensor(144182.4688, device='cuda:0', grad_fn=<AddBackward0>)\n",
      "tensor(155844.3281, device='cuda:0', grad_fn=<AddBackward0>)\n",
      "tensor(188761.4062, device='cuda:0', grad_fn=<AddBackward0>)\n",
      "tensor(167268.6719, device='cuda:0', grad_fn=<AddBackward0>)\n",
      "tensor(106150.6562, device='cuda:0', grad_fn=<AddBackward0>)\n",
      "tensor(225203.4219, device='cuda:0', grad_fn=<AddBackward0>)\n",
      "tensor(160042.6562, device='cuda:0', grad_fn=<AddBackward0>)\n",
      "tensor(150959.8281, device='cuda:0', grad_fn=<AddBackward0>)\n",
      "tensor(100496.5703, device='cuda:0', grad_fn=<AddBackward0>)\n",
      "tensor(168836.4844, device='cuda:0', grad_fn=<AddBackward0>)\n",
      "tensor(143267.3594, device='cuda:0', grad_fn=<AddBackward0>)\n",
      "tensor(154589.8438, device='cuda:0', grad_fn=<AddBackward0>)\n",
      "tensor(187676.4844, device='cuda:0', grad_fn=<AddBackward0>)\n",
      "tensor(166658.0156, device='cuda:0', grad_fn=<AddBackward0>)\n",
      "tensor(105861.1094, device='cuda:0', grad_fn=<AddBackward0>)\n",
      "tensor(224592.6875, device='cuda:0', grad_fn=<AddBackward0>)\n",
      "tensor(159443.9219, device='cuda:0', grad_fn=<AddBackward0>)\n",
      "tensor(150286.9531, device='cuda:0', grad_fn=<AddBackward0>)\n",
      "tensor(99964.6484, device='cuda:0', grad_fn=<AddBackward0>)\n",
      "tensor(168224.6094, device='cuda:0', grad_fn=<AddBackward0>)\n",
      "tensor(142308.4375, device='cuda:0', grad_fn=<AddBackward0>)\n",
      "tensor(153872., device='cuda:0', grad_fn=<AddBackward0>)\n",
      "tensor(186924.5938, device='cuda:0', grad_fn=<AddBackward0>)\n",
      "tensor(166060.8906, device='cuda:0', grad_fn=<AddBackward0>)\n",
      "tensor(105672.2422, device='cuda:0', grad_fn=<AddBackward0>)\n",
      "tensor(224144.7656, device='cuda:0', grad_fn=<AddBackward0>)\n",
      "tensor(158879.6562, device='cuda:0', grad_fn=<AddBackward0>)\n",
      "tensor(149320.2812, device='cuda:0', grad_fn=<AddBackward0>)\n",
      "tensor(99576.1016, device='cuda:0', grad_fn=<AddBackward0>)\n",
      "tensor(167665.7500, device='cuda:0', grad_fn=<AddBackward0>)\n",
      "tensor(141512.5938, device='cuda:0', grad_fn=<AddBackward0>)\n",
      "tensor(153413.1875, device='cuda:0', grad_fn=<AddBackward0>)\n",
      "tensor(186352.3125, device='cuda:0', grad_fn=<AddBackward0>)\n",
      "tensor(165425.2969, device='cuda:0', grad_fn=<AddBackward0>)\n",
      "tensor(105482.6641, device='cuda:0', grad_fn=<AddBackward0>)\n",
      "tensor(223733.0781, device='cuda:0', grad_fn=<AddBackward0>)\n",
      "tensor(158526.1719, device='cuda:0', grad_fn=<AddBackward0>)\n",
      "tensor(148418.6875, device='cuda:0', grad_fn=<AddBackward0>)\n",
      "tensor(99297.9844, device='cuda:0', grad_fn=<AddBackward0>)\n",
      "tensor(167071.4219, device='cuda:0', grad_fn=<AddBackward0>)\n",
      "tensor(140928.0938, device='cuda:0', grad_fn=<AddBackward0>)\n",
      "tensor(153029.4219, device='cuda:0', grad_fn=<AddBackward0>)\n",
      "tensor(185970.8438, device='cuda:0', grad_fn=<AddBackward0>)\n",
      "tensor(165017.2500, device='cuda:0', grad_fn=<AddBackward0>)\n",
      "tensor(105287.4219, device='cuda:0', grad_fn=<AddBackward0>)\n",
      "tensor(223429.8438, device='cuda:0', grad_fn=<AddBackward0>)\n",
      "tensor(158343.1250, device='cuda:0', grad_fn=<AddBackward0>)\n",
      "tensor(147894.3594, device='cuda:0', grad_fn=<AddBackward0>)\n",
      "tensor(99103.0391, device='cuda:0', grad_fn=<AddBackward0>)\n",
      "tensor(166431.3281, device='cuda:0', grad_fn=<AddBackward0>)\n",
      "tensor(140521.5625, device='cuda:0', grad_fn=<AddBackward0>)\n",
      "tensor(152710.0938, device='cuda:0', grad_fn=<AddBackward0>)\n",
      "tensor(185736.7188, device='cuda:0', grad_fn=<AddBackward0>)\n",
      "tensor(164785.1250, device='cuda:0', grad_fn=<AddBackward0>)\n",
      "tensor(105084.7109, device='cuda:0', grad_fn=<AddBackward0>)\n",
      "tensor(223269.5938, device='cuda:0', grad_fn=<AddBackward0>)\n",
      "tensor(158236.8438, device='cuda:0', grad_fn=<AddBackward0>)\n",
      "tensor(147585., device='cuda:0', grad_fn=<AddBackward0>)\n",
      "tensor(98954.0391, device='cuda:0', grad_fn=<AddBackward0>)\n",
      "tensor(165953.2812, device='cuda:0', grad_fn=<AddBackward0>)\n",
      "tensor(140229., device='cuda:0', grad_fn=<AddBackward0>)\n",
      "tensor(152420.5625, device='cuda:0', grad_fn=<AddBackward0>)\n",
      "tensor(185611.2344, device='cuda:0', grad_fn=<AddBackward0>)\n",
      "tensor(164626.2812, device='cuda:0', grad_fn=<AddBackward0>)\n",
      "tensor(104905.9531, device='cuda:0', grad_fn=<AddBackward0>)\n",
      "tensor(223188.7969, device='cuda:0', grad_fn=<AddBackward0>)\n",
      "tensor(158144.7031, device='cuda:0', grad_fn=<AddBackward0>)\n",
      "tensor(147352.3281, device='cuda:0', grad_fn=<AddBackward0>)\n",
      "tensor(98849.2656, device='cuda:0', grad_fn=<AddBackward0>)\n",
      "tensor(165589.3281, device='cuda:0', grad_fn=<AddBackward0>)\n",
      "tensor(140004.6562, device='cuda:0', grad_fn=<AddBackward0>)\n",
      "tensor(152170.8125, device='cuda:0', grad_fn=<AddBackward0>)\n",
      "tensor(185556.7969, device='cuda:0', grad_fn=<AddBackward0>)\n",
      "tensor(164553.7656, device='cuda:0', grad_fn=<AddBackward0>)\n",
      "tensor(104791.6562, device='cuda:0', grad_fn=<AddBackward0>)\n",
      "tensor(223125.0938, device='cuda:0', grad_fn=<AddBackward0>)\n",
      "tensor(158081.7812, device='cuda:0', grad_fn=<AddBackward0>)\n",
      "tensor(147132.4531, device='cuda:0', grad_fn=<AddBackward0>)\n",
      "tensor(98711.5078, device='cuda:0', grad_fn=<AddBackward0>)\n",
      "tensor(165356.8438, device='cuda:0', grad_fn=<AddBackward0>)\n",
      "tensor(139856., device='cuda:0', grad_fn=<AddBackward0>)\n",
      "tensor(151960.6094, device='cuda:0', grad_fn=<AddBackward0>)\n",
      "tensor(185539.4062, device='cuda:0', grad_fn=<AddBackward0>)\n",
      "tensor(164510.9375, device='cuda:0', grad_fn=<AddBackward0>)\n",
      "tensor(104708.6875, device='cuda:0', grad_fn=<AddBackward0>)\n",
      "tensor(223090.5469, device='cuda:0', grad_fn=<AddBackward0>)\n",
      "tensor(158022.9531, device='cuda:0', grad_fn=<AddBackward0>)\n",
      "tensor(146922.8281, device='cuda:0', grad_fn=<AddBackward0>)\n",
      "tensor(98574.2734, device='cuda:0', grad_fn=<AddBackward0>)\n",
      "tensor(165202.6094, device='cuda:0', grad_fn=<AddBackward0>)\n",
      "tensor(139766.8906, device='cuda:0', grad_fn=<AddBackward0>)\n"
     ]
    },
    {
     "name": "stdout",
     "output_type": "stream",
     "text": [
      "tensor(151820.7500, device='cuda:0', grad_fn=<AddBackward0>)\n",
      "tensor(185531.0156, device='cuda:0', grad_fn=<AddBackward0>)\n",
      "tensor(164483.4688, device='cuda:0', grad_fn=<AddBackward0>)\n",
      "tensor(104636.6719, device='cuda:0', grad_fn=<AddBackward0>)\n",
      "tensor(223072.9375, device='cuda:0', grad_fn=<AddBackward0>)\n",
      "tensor(157982.5312, device='cuda:0', grad_fn=<AddBackward0>)\n",
      "tensor(146769.3438, device='cuda:0', grad_fn=<AddBackward0>)\n",
      "tensor(98303.8203, device='cuda:0', grad_fn=<AddBackward0>)\n",
      "tensor(165121.6719, device='cuda:0', grad_fn=<AddBackward0>)\n",
      "tensor(139701.8438, device='cuda:0', grad_fn=<AddBackward0>)\n",
      "tensor(151733.0781, device='cuda:0', grad_fn=<AddBackward0>)\n",
      "tensor(185523.3281, device='cuda:0', grad_fn=<AddBackward0>)\n",
      "tensor(164470.8594, device='cuda:0', grad_fn=<AddBackward0>)\n",
      "tensor(104576.4219, device='cuda:0', grad_fn=<AddBackward0>)\n",
      "tensor(223059.8125, device='cuda:0', grad_fn=<AddBackward0>)\n",
      "tensor(157954.2656, device='cuda:0', grad_fn=<AddBackward0>)\n",
      "tensor(146680.4219, device='cuda:0', grad_fn=<AddBackward0>)\n",
      "tensor(97808.7656, device='cuda:0', grad_fn=<AddBackward0>)\n",
      "tensor(165064.0469, device='cuda:0', grad_fn=<AddBackward0>)\n",
      "tensor(139635.6719, device='cuda:0', grad_fn=<AddBackward0>)\n",
      "tensor(151692.6562, device='cuda:0', grad_fn=<AddBackward0>)\n",
      "tensor(185516.6562, device='cuda:0', grad_fn=<AddBackward0>)\n",
      "tensor(164459.3438, device='cuda:0', grad_fn=<AddBackward0>)\n",
      "tensor(104520.0781, device='cuda:0', grad_fn=<AddBackward0>)\n",
      "tensor(223045.5938, device='cuda:0', grad_fn=<AddBackward0>)\n",
      "tensor(157930.3594, device='cuda:0', grad_fn=<AddBackward0>)\n",
      "tensor(146619.0469, device='cuda:0', grad_fn=<AddBackward0>)\n",
      "tensor(97333.9062, device='cuda:0', grad_fn=<AddBackward0>)\n",
      "tensor(165009.9688, device='cuda:0', grad_fn=<AddBackward0>)\n",
      "tensor(139571.1719, device='cuda:0', grad_fn=<AddBackward0>)\n",
      "tensor(151665.2812, device='cuda:0', grad_fn=<AddBackward0>)\n",
      "tensor(185512.5312, device='cuda:0', grad_fn=<AddBackward0>)\n",
      "tensor(164451.0938, device='cuda:0', grad_fn=<AddBackward0>)\n",
      "tensor(104465.4688, device='cuda:0', grad_fn=<AddBackward0>)\n",
      "tensor(223036.2188, device='cuda:0', grad_fn=<AddBackward0>)\n",
      "tensor(157908.2969, device='cuda:0', grad_fn=<AddBackward0>)\n",
      "tensor(146584.4844, device='cuda:0', grad_fn=<AddBackward0>)\n",
      "tensor(96988.1641, device='cuda:0', grad_fn=<AddBackward0>)\n",
      "tensor(164962.2188, device='cuda:0', grad_fn=<AddBackward0>)\n",
      "tensor(139524.8438, device='cuda:0', grad_fn=<AddBackward0>)\n",
      "tensor(151651.3594, device='cuda:0', grad_fn=<AddBackward0>)\n",
      "tensor(185510.0938, device='cuda:0', grad_fn=<AddBackward0>)\n",
      "tensor(164446., device='cuda:0', grad_fn=<AddBackward0>)\n",
      "tensor(104427.4297, device='cuda:0', grad_fn=<AddBackward0>)\n",
      "tensor(223032.1875, device='cuda:0', grad_fn=<AddBackward0>)\n",
      "tensor(157890.4688, device='cuda:0', grad_fn=<AddBackward0>)\n",
      "tensor(146563.2812, device='cuda:0', grad_fn=<AddBackward0>)\n",
      "tensor(96867.0625, device='cuda:0', grad_fn=<AddBackward0>)\n",
      "tensor(164908.5000, device='cuda:0', grad_fn=<AddBackward0>)\n",
      "tensor(139495.6562, device='cuda:0', grad_fn=<AddBackward0>)\n",
      "tensor(151642.4688, device='cuda:0', grad_fn=<AddBackward0>)\n",
      "tensor(185508.7188, device='cuda:0', grad_fn=<AddBackward0>)\n",
      "tensor(164440.2969, device='cuda:0', grad_fn=<AddBackward0>)\n",
      "tensor(104402.7578, device='cuda:0', grad_fn=<AddBackward0>)\n",
      "tensor(223029.5000, device='cuda:0', grad_fn=<AddBackward0>)\n",
      "tensor(157878.6719, device='cuda:0', grad_fn=<AddBackward0>)\n",
      "tensor(146552.3281, device='cuda:0', grad_fn=<AddBackward0>)\n",
      "tensor(96815.3750, device='cuda:0', grad_fn=<AddBackward0>)\n",
      "tensor(164851., device='cuda:0', grad_fn=<AddBackward0>)\n",
      "tensor(139475.9375, device='cuda:0', grad_fn=<AddBackward0>)\n",
      "tensor(151637.3750, device='cuda:0', grad_fn=<AddBackward0>)\n",
      "tensor(185508.0156, device='cuda:0', grad_fn=<AddBackward0>)\n",
      "tensor(164436.2812, device='cuda:0', grad_fn=<AddBackward0>)\n",
      "tensor(104383.1172, device='cuda:0', grad_fn=<AddBackward0>)\n",
      "tensor(223026.8906, device='cuda:0', grad_fn=<AddBackward0>)\n",
      "tensor(157868.9375, device='cuda:0', grad_fn=<AddBackward0>)\n",
      "tensor(146543.3438, device='cuda:0', grad_fn=<AddBackward0>)\n",
      "tensor(96783.8984, device='cuda:0', grad_fn=<AddBackward0>)\n",
      "tensor(164816.8594, device='cuda:0', grad_fn=<AddBackward0>)\n",
      "tensor(139450.3750, device='cuda:0', grad_fn=<AddBackward0>)\n",
      "tensor(151631.5156, device='cuda:0', grad_fn=<AddBackward0>)\n",
      "tensor(185507.9062, device='cuda:0', grad_fn=<AddBackward0>)\n",
      "tensor(164431.8594, device='cuda:0', grad_fn=<AddBackward0>)\n",
      "tensor(104373.8828, device='cuda:0', grad_fn=<AddBackward0>)\n",
      "tensor(223024.4531, device='cuda:0', grad_fn=<AddBackward0>)\n",
      "tensor(157862.6719, device='cuda:0', grad_fn=<AddBackward0>)\n",
      "tensor(146538.5469, device='cuda:0', grad_fn=<AddBackward0>)\n",
      "tensor(96765.5078, device='cuda:0', grad_fn=<AddBackward0>)\n",
      "tensor(164793., device='cuda:0', grad_fn=<AddBackward0>)\n",
      "tensor(139424.0156, device='cuda:0', grad_fn=<AddBackward0>)\n",
      "tensor(151627., device='cuda:0', grad_fn=<AddBackward0>)\n",
      "tensor(185507.6562, device='cuda:0', grad_fn=<AddBackward0>)\n",
      "tensor(164425.7344, device='cuda:0', grad_fn=<AddBackward0>)\n",
      "tensor(104366.3438, device='cuda:0', grad_fn=<AddBackward0>)\n",
      "tensor(223020.4062, device='cuda:0', grad_fn=<AddBackward0>)\n",
      "tensor(157859., device='cuda:0', grad_fn=<AddBackward0>)\n",
      "tensor(146533.3594, device='cuda:0', grad_fn=<AddBackward0>)\n",
      "tensor(96751.2734, device='cuda:0', grad_fn=<AddBackward0>)\n",
      "tensor(164764.3125, device='cuda:0', grad_fn=<AddBackward0>)\n",
      "tensor(139407.5781, device='cuda:0', grad_fn=<AddBackward0>)\n",
      "tensor(151624.5469, device='cuda:0', grad_fn=<AddBackward0>)\n",
      "tensor(185507.6250, device='cuda:0', grad_fn=<AddBackward0>)\n",
      "tensor(164415.0469, device='cuda:0', grad_fn=<AddBackward0>)\n",
      "tensor(104360.1016, device='cuda:0', grad_fn=<AddBackward0>)\n",
      "tensor(223016.4688, device='cuda:0', grad_fn=<AddBackward0>)\n",
      "tensor(157855.5781, device='cuda:0', grad_fn=<AddBackward0>)\n",
      "tensor(146528.8281, device='cuda:0', grad_fn=<AddBackward0>)\n",
      "tensor(96742.1172, device='cuda:0', grad_fn=<AddBackward0>)\n",
      "tensor(164732.5156, device='cuda:0', grad_fn=<AddBackward0>)\n",
      "tensor(139381.5312, device='cuda:0', grad_fn=<AddBackward0>)\n",
      "tensor(151622.1094, device='cuda:0', grad_fn=<AddBackward0>)\n",
      "tensor(185507.6250, device='cuda:0', grad_fn=<AddBackward0>)\n",
      "tensor(164404.4062, device='cuda:0', grad_fn=<AddBackward0>)\n",
      "tensor(104356.2969, device='cuda:0', grad_fn=<AddBackward0>)\n",
      "tensor(223012.0781, device='cuda:0', grad_fn=<AddBackward0>)\n",
      "tensor(157852.8281, device='cuda:0', grad_fn=<AddBackward0>)\n",
      "tensor(146523.7031, device='cuda:0', grad_fn=<AddBackward0>)\n",
      "tensor(96734.9688, device='cuda:0', grad_fn=<AddBackward0>)\n",
      "tensor(164710.2812, device='cuda:0', grad_fn=<AddBackward0>)\n",
      "tensor(139349.2969, device='cuda:0', grad_fn=<AddBackward0>)\n",
      "tensor(151620.9062, device='cuda:0', grad_fn=<AddBackward0>)\n",
      "tensor(185507.6250, device='cuda:0', grad_fn=<AddBackward0>)\n",
      "tensor(164394.4688, device='cuda:0', grad_fn=<AddBackward0>)\n",
      "tensor(104352.2266, device='cuda:0', grad_fn=<AddBackward0>)\n",
      "tensor(223009.8594, device='cuda:0', grad_fn=<AddBackward0>)\n",
      "tensor(157850.5156, device='cuda:0', grad_fn=<AddBackward0>)\n",
      "tensor(146519.4688, device='cuda:0', grad_fn=<AddBackward0>)\n",
      "tensor(96728.0234, device='cuda:0', grad_fn=<AddBackward0>)\n",
      "tensor(164697.0781, device='cuda:0', grad_fn=<AddBackward0>)\n",
      "tensor(139332.6094, device='cuda:0', grad_fn=<AddBackward0>)\n",
      "tensor(151619.4844, device='cuda:0', grad_fn=<AddBackward0>)\n",
      "tensor(185507.6250, device='cuda:0', grad_fn=<AddBackward0>)\n",
      "tensor(164386.7812, device='cuda:0', grad_fn=<AddBackward0>)\n",
      "tensor(104345.6797, device='cuda:0', grad_fn=<AddBackward0>)\n",
      "tensor(223008.3750, device='cuda:0', grad_fn=<AddBackward0>)\n",
      "tensor(157847.3750, device='cuda:0', grad_fn=<AddBackward0>)\n",
      "tensor(146515.1406, device='cuda:0', grad_fn=<AddBackward0>)\n",
      "tensor(96725.0156, device='cuda:0', grad_fn=<AddBackward0>)\n",
      "tensor(164687.2969, device='cuda:0', grad_fn=<AddBackward0>)\n",
      "tensor(139314.9375, device='cuda:0', grad_fn=<AddBackward0>)\n",
      "tensor(151618.7656, device='cuda:0', grad_fn=<AddBackward0>)\n",
      "tensor(185507.6250, device='cuda:0', grad_fn=<AddBackward0>)\n",
      "tensor(164381.3594, device='cuda:0', grad_fn=<AddBackward0>)\n",
      "tensor(104340.9531, device='cuda:0', grad_fn=<AddBackward0>)\n"
     ]
    },
    {
     "name": "stdout",
     "output_type": "stream",
     "text": [
      "tensor(223007.5469, device='cuda:0', grad_fn=<AddBackward0>)\n",
      "tensor(157843.4688, device='cuda:0', grad_fn=<AddBackward0>)\n",
      "tensor(146509.2188, device='cuda:0', grad_fn=<AddBackward0>)\n",
      "tensor(96722.5781, device='cuda:0', grad_fn=<AddBackward0>)\n",
      "tensor(164678.4375, device='cuda:0', grad_fn=<AddBackward0>)\n",
      "tensor(139303.5312, device='cuda:0', grad_fn=<AddBackward0>)\n",
      "tensor(151617.5469, device='cuda:0', grad_fn=<AddBackward0>)\n",
      "tensor(185507.6250, device='cuda:0', grad_fn=<AddBackward0>)\n",
      "tensor(164375.1719, device='cuda:0', grad_fn=<AddBackward0>)\n",
      "tensor(104337.6172, device='cuda:0', grad_fn=<AddBackward0>)\n",
      "tensor(223007.3438, device='cuda:0', grad_fn=<AddBackward0>)\n",
      "tensor(157837.1094, device='cuda:0', grad_fn=<AddBackward0>)\n",
      "tensor(146501.2031, device='cuda:0', grad_fn=<AddBackward0>)\n",
      "tensor(96720.2500, device='cuda:0', grad_fn=<AddBackward0>)\n",
      "tensor(164674.3906, device='cuda:0', grad_fn=<AddBackward0>)\n",
      "tensor(139292.2656, device='cuda:0', grad_fn=<AddBackward0>)\n",
      "tensor(151616.1719, device='cuda:0', grad_fn=<AddBackward0>)\n",
      "tensor(185507.6250, device='cuda:0', grad_fn=<AddBackward0>)\n",
      "tensor(164368.7344, device='cuda:0', grad_fn=<AddBackward0>)\n",
      "tensor(104336.2344, device='cuda:0', grad_fn=<AddBackward0>)\n",
      "tensor(223007.1094, device='cuda:0', grad_fn=<AddBackward0>)\n",
      "tensor(157829.8594, device='cuda:0', grad_fn=<AddBackward0>)\n",
      "tensor(146496.3438, device='cuda:0', grad_fn=<AddBackward0>)\n",
      "tensor(96717.4688, device='cuda:0', grad_fn=<AddBackward0>)\n",
      "tensor(164673.2656, device='cuda:0', grad_fn=<AddBackward0>)\n",
      "tensor(139284.0156, device='cuda:0', grad_fn=<AddBackward0>)\n",
      "tensor(151615.4219, device='cuda:0', grad_fn=<AddBackward0>)\n",
      "tensor(185507.6250, device='cuda:0', grad_fn=<AddBackward0>)\n",
      "tensor(164365.2812, device='cuda:0', grad_fn=<AddBackward0>)\n",
      "tensor(104334.3359, device='cuda:0', grad_fn=<AddBackward0>)\n",
      "tensor(223006.9688, device='cuda:0', grad_fn=<AddBackward0>)\n",
      "tensor(157824.5000, device='cuda:0', grad_fn=<AddBackward0>)\n",
      "tensor(146489.9062, device='cuda:0', grad_fn=<AddBackward0>)\n",
      "tensor(96714.6953, device='cuda:0', grad_fn=<AddBackward0>)\n",
      "tensor(164672.9062, device='cuda:0', grad_fn=<AddBackward0>)\n",
      "tensor(139275.1562, device='cuda:0', grad_fn=<AddBackward0>)\n",
      "tensor(151614.9688, device='cuda:0', grad_fn=<AddBackward0>)\n",
      "tensor(185507.6250, device='cuda:0', grad_fn=<AddBackward0>)\n",
      "tensor(164358.7188, device='cuda:0', grad_fn=<AddBackward0>)\n",
      "tensor(104332.0703, device='cuda:0', grad_fn=<AddBackward0>)\n",
      "tensor(223006.8594, device='cuda:0', grad_fn=<AddBackward0>)\n",
      "tensor(157819.3906, device='cuda:0', grad_fn=<AddBackward0>)\n",
      "tensor(146483.7969, device='cuda:0', grad_fn=<AddBackward0>)\n",
      "tensor(96713.6094, device='cuda:0', grad_fn=<AddBackward0>)\n",
      "tensor(164672.4688, device='cuda:0', grad_fn=<AddBackward0>)\n",
      "tensor(139263.6719, device='cuda:0', grad_fn=<AddBackward0>)\n",
      "tensor(151614.4688, device='cuda:0', grad_fn=<AddBackward0>)\n",
      "tensor(185507.6250, device='cuda:0', grad_fn=<AddBackward0>)\n",
      "tensor(164350.5156, device='cuda:0', grad_fn=<AddBackward0>)\n",
      "tensor(104330.4375, device='cuda:0', grad_fn=<AddBackward0>)\n",
      "tensor(223006.8594, device='cuda:0', grad_fn=<AddBackward0>)\n",
      "tensor(157814.0312, device='cuda:0', grad_fn=<AddBackward0>)\n",
      "tensor(146481.7656, device='cuda:0', grad_fn=<AddBackward0>)\n",
      "tensor(96712.7578, device='cuda:0', grad_fn=<AddBackward0>)\n",
      "tensor(164672.2188, device='cuda:0', grad_fn=<AddBackward0>)\n",
      "tensor(139241.4062, device='cuda:0', grad_fn=<AddBackward0>)\n",
      "tensor(151613.3125, device='cuda:0', grad_fn=<AddBackward0>)\n",
      "tensor(185507.6250, device='cuda:0', grad_fn=<AddBackward0>)\n",
      "tensor(164343.4688, device='cuda:0', grad_fn=<AddBackward0>)\n",
      "tensor(104328.3906, device='cuda:0', grad_fn=<AddBackward0>)\n",
      "tensor(223006.8594, device='cuda:0', grad_fn=<AddBackward0>)\n",
      "tensor(157810.5156, device='cuda:0', grad_fn=<AddBackward0>)\n",
      "tensor(146480.1094, device='cuda:0', grad_fn=<AddBackward0>)\n",
      "tensor(96711.8203, device='cuda:0', grad_fn=<AddBackward0>)\n",
      "tensor(164671.9844, device='cuda:0', grad_fn=<AddBackward0>)\n",
      "tensor(139210.5938, device='cuda:0', grad_fn=<AddBackward0>)\n",
      "tensor(151611.6562, device='cuda:0', grad_fn=<AddBackward0>)\n",
      "tensor(185507.6250, device='cuda:0', grad_fn=<AddBackward0>)\n",
      "tensor(164331.1250, device='cuda:0', grad_fn=<AddBackward0>)\n",
      "tensor(104326.8828, device='cuda:0', grad_fn=<AddBackward0>)\n",
      "tensor(223006.8594, device='cuda:0', grad_fn=<AddBackward0>)\n",
      "tensor(157807.5781, device='cuda:0', grad_fn=<AddBackward0>)\n"
     ]
    },
    {
     "ename": "KeyboardInterrupt",
     "evalue": "",
     "output_type": "error",
     "traceback": [
      "\u001b[1;31m---------------------------------------------------------------------------\u001b[0m",
      "\u001b[1;31mKeyboardInterrupt\u001b[0m                         Traceback (most recent call last)",
      "\u001b[1;32m<ipython-input-33-f44d9cd25aa7>\u001b[0m in \u001b[0;36m<module>\u001b[1;34m\u001b[0m\n\u001b[0;32m      4\u001b[0m         \u001b[1;32mfor\u001b[0m \u001b[0mi\u001b[0m \u001b[1;32min\u001b[0m \u001b[0mrange\u001b[0m\u001b[1;33m(\u001b[0m\u001b[1;36m10\u001b[0m\u001b[1;33m)\u001b[0m\u001b[1;33m:\u001b[0m\u001b[1;33m\u001b[0m\u001b[1;33m\u001b[0m\u001b[0m\n\u001b[0;32m      5\u001b[0m             \u001b[0mX_i\u001b[0m \u001b[1;33m=\u001b[0m \u001b[0mX\u001b[0m\u001b[1;33m.\u001b[0m\u001b[0mview\u001b[0m\u001b[1;33m(\u001b[0m\u001b[0mX\u001b[0m\u001b[1;33m.\u001b[0m\u001b[0mshape\u001b[0m\u001b[1;33m[\u001b[0m\u001b[1;36m0\u001b[0m\u001b[1;33m]\u001b[0m\u001b[1;33m,\u001b[0m \u001b[1;36m28\u001b[0m\u001b[1;33m*\u001b[0m\u001b[1;36m28\u001b[0m\u001b[1;33m)\u001b[0m\u001b[1;33m[\u001b[0m\u001b[0my\u001b[0m\u001b[1;33m.\u001b[0m\u001b[0mlong\u001b[0m\u001b[1;33m(\u001b[0m\u001b[1;33m)\u001b[0m \u001b[1;33m==\u001b[0m \u001b[0mi\u001b[0m\u001b[1;33m,\u001b[0m \u001b[1;33m:\u001b[0m\u001b[1;33m]\u001b[0m\u001b[1;33m\u001b[0m\u001b[1;33m\u001b[0m\u001b[0m\n\u001b[1;32m----> 6\u001b[1;33m             \u001b[0mmodels\u001b[0m\u001b[1;33m[\u001b[0m\u001b[0mi\u001b[0m\u001b[1;33m]\u001b[0m\u001b[1;33m.\u001b[0m\u001b[0maccumulate\u001b[0m\u001b[1;33m(\u001b[0m\u001b[0mX_i\u001b[0m\u001b[1;33m)\u001b[0m\u001b[1;33m\u001b[0m\u001b[1;33m\u001b[0m\u001b[0m\n\u001b[0m\u001b[0;32m      7\u001b[0m     \u001b[1;32mfor\u001b[0m \u001b[0mi\u001b[0m \u001b[1;32min\u001b[0m \u001b[0mrange\u001b[0m\u001b[1;33m(\u001b[0m\u001b[1;36m10\u001b[0m\u001b[1;33m)\u001b[0m\u001b[1;33m:\u001b[0m \u001b[0mprint\u001b[0m\u001b[1;33m(\u001b[0m\u001b[0mmodels\u001b[0m\u001b[1;33m[\u001b[0m\u001b[0mi\u001b[0m\u001b[1;33m]\u001b[0m\u001b[1;33m.\u001b[0m\u001b[0mstep\u001b[0m\u001b[1;33m(\u001b[0m\u001b[1;33m)\u001b[0m\u001b[1;33m)\u001b[0m\u001b[1;33m\u001b[0m\u001b[1;33m\u001b[0m\u001b[0m\n",
      "\u001b[1;32m<ipython-input-31-adc372f52785>\u001b[0m in \u001b[0;36maccumulate\u001b[1;34m(self, X)\u001b[0m\n\u001b[0;32m     11\u001b[0m         \u001b[0mself\u001b[0m\u001b[1;33m.\u001b[0m\u001b[0miteration_cost\u001b[0m \u001b[1;33m+=\u001b[0m \u001b[0mD\u001b[0m\u001b[1;33m.\u001b[0m\u001b[0msum\u001b[0m\u001b[1;33m(\u001b[0m\u001b[1;33m)\u001b[0m\u001b[1;33m\u001b[0m\u001b[1;33m\u001b[0m\u001b[0m\n\u001b[0;32m     12\u001b[0m         \u001b[1;32mfor\u001b[0m \u001b[0mi\u001b[0m \u001b[1;32min\u001b[0m \u001b[0mrange\u001b[0m\u001b[1;33m(\u001b[0m\u001b[0mself\u001b[0m\u001b[1;33m.\u001b[0m\u001b[0mM\u001b[0m\u001b[1;33m.\u001b[0m\u001b[0mshape\u001b[0m\u001b[1;33m[\u001b[0m\u001b[1;36m0\u001b[0m\u001b[1;33m]\u001b[0m\u001b[1;33m)\u001b[0m\u001b[1;33m:\u001b[0m\u001b[1;33m\u001b[0m\u001b[1;33m\u001b[0m\u001b[0m\n\u001b[1;32m---> 13\u001b[1;33m             \u001b[0mself\u001b[0m\u001b[1;33m.\u001b[0m\u001b[0mnewM\u001b[0m\u001b[1;33m[\u001b[0m\u001b[0mi\u001b[0m\u001b[1;33m,\u001b[0m \u001b[1;33m:\u001b[0m\u001b[1;33m]\u001b[0m \u001b[1;33m+=\u001b[0m \u001b[0mX\u001b[0m\u001b[1;33m[\u001b[0m\u001b[0mInd\u001b[0m \u001b[1;33m==\u001b[0m \u001b[0mi\u001b[0m\u001b[1;33m,\u001b[0m \u001b[1;33m:\u001b[0m\u001b[1;33m]\u001b[0m\u001b[1;33m.\u001b[0m\u001b[0msum\u001b[0m\u001b[1;33m(\u001b[0m\u001b[1;36m0\u001b[0m\u001b[1;33m)\u001b[0m\u001b[1;33m\u001b[0m\u001b[1;33m\u001b[0m\u001b[0m\n\u001b[0m\u001b[0;32m     14\u001b[0m             \u001b[0mself\u001b[0m\u001b[1;33m.\u001b[0m\u001b[0mn\u001b[0m\u001b[1;33m[\u001b[0m\u001b[0mi\u001b[0m\u001b[1;33m]\u001b[0m \u001b[1;33m+=\u001b[0m \u001b[0mtorch\u001b[0m\u001b[1;33m.\u001b[0m\u001b[0msum\u001b[0m\u001b[1;33m(\u001b[0m\u001b[0mInd\u001b[0m \u001b[1;33m==\u001b[0m \u001b[0mi\u001b[0m\u001b[1;33m)\u001b[0m\u001b[1;33m\u001b[0m\u001b[1;33m\u001b[0m\u001b[0m\n\u001b[0;32m     15\u001b[0m \u001b[1;33m\u001b[0m\u001b[0m\n",
      "\u001b[1;31mKeyboardInterrupt\u001b[0m: "
     ]
    }
   ],
   "source": [
    "EPOCHS = 100\n",
    "for e in tnrange(EPOCHS):\n",
    "    for X, y in dataLoader:\n",
    "        for i in range(10):\n",
    "            X_i = X.view(X.shape[0], 28*28)[y.long() == i, :]\n",
    "            models[i].accumulate(X_i)\n",
    "    for i in range(10): print(models[i].step())"
   ]
  },
  {
   "cell_type": "code",
   "execution_count": 160,
   "metadata": {
    "scrolled": true
   },
   "outputs": [
    {
     "data": {
      "text/plain": [
       "<matplotlib.image.AxesImage at 0x1b07104c8d0>"
      ]
     },
     "execution_count": 160,
     "metadata": {},
     "output_type": "execute_result"
    },
    {
     "data": {
      "image/png": "[encoded data removed]",
      "text/plain": [
       "<Figure size 432x288 with 1 Axes>"
      ]
     },
     "metadata": {
      "needs_background": "light"
     },
     "output_type": "display_data"
    }
   ],
   "source": [
    "plt.imshow(Img[1][0].reshape(28,28).to(cpu))"
   ]
  },
  {
   "cell_type": "code",
   "execution_count": 228,
   "metadata": {},
   "outputs": [
    {
     "data": {
      "text/plain": [
       "tensor(9., device='cuda:0')"
      ]
     },
     "execution_count": 228,
     "metadata": {},
     "output_type": "execute_result"
    }
   ],
   "source": [
    "Img[0][1]"
   ]
  },
  {
   "cell_type": "code",
   "execution_count": 34,
   "metadata": {},
   "outputs": [
    {
     "ename": "NameError",
     "evalue": "name 'model' is not defined",
     "output_type": "error",
     "traceback": [
      "\u001b[1;31m---------------------------------------------------------------------------\u001b[0m",
      "\u001b[1;31mNameError\u001b[0m                                 Traceback (most recent call last)",
      "\u001b[1;32m<ipython-input-34-44475c430c95>\u001b[0m in \u001b[0;36m<module>\u001b[1;34m\u001b[0m\n\u001b[1;32m----> 1\u001b[1;33m \u001b[0mdist2\u001b[0m\u001b[1;33m(\u001b[0m\u001b[0mImg\u001b[0m\u001b[1;33m[\u001b[0m\u001b[1;36m0\u001b[0m\u001b[1;33m]\u001b[0m\u001b[1;33m[\u001b[0m\u001b[1;36m0\u001b[0m\u001b[1;33m]\u001b[0m\u001b[1;33m.\u001b[0m\u001b[0mreshape\u001b[0m\u001b[1;33m(\u001b[0m\u001b[1;36m1\u001b[0m\u001b[1;33m,\u001b[0m \u001b[1;36m784\u001b[0m\u001b[1;33m)\u001b[0m\u001b[1;33m,\u001b[0m \u001b[0mmodel\u001b[0m\u001b[1;33m.\u001b[0m\u001b[0mM\u001b[0m\u001b[1;33m)\u001b[0m\u001b[1;33m\u001b[0m\u001b[1;33m\u001b[0m\u001b[0m\n\u001b[0m",
      "\u001b[1;31mNameError\u001b[0m: name 'model' is not defined"
     ]
    }
   ],
   "source": [
    "dist2(Img[0][0].reshape(1, 784), model.M)"
   ]
  },
  {
   "cell_type": "code",
   "execution_count": 45,
   "metadata": {},
   "outputs": [
    {
     "data": {
      "text/plain": [
       "<matplotlib.image.AxesImage at 0x1aca428e358>"
      ]
     },
     "execution_count": 45,
     "metadata": {},
     "output_type": "execute_result"
    },
    {
     "data": {
      "image/png": "[encoded data removed]",
      "text/plain": [
       "<Figure size 432x288 with 1 Axes>"
      ]
     },
     "metadata": {
      "needs_background": "light"
     },
     "output_type": "display_data"
    }
   ],
   "source": [
    "plt.imshow(models[5].M.data[5].reshape(28,28).to(cpu))"
   ]
  },
  {
   "cell_type": "code",
   "execution_count": 135,
   "metadata": {},
   "outputs": [
    {
     "data": {
      "text/plain": [
       "tensor(0.9839, device='cuda:0', grad_fn=<MeanBackward0>)"
      ]
     },
     "execution_count": 135,
     "metadata": {},
     "output_type": "execute_result"
    }
   ],
   "source": [
    "model.forward(X.reshape(X.shape[0], 28*28)).max(1)[0].mean()"
   ]
  },
  {
   "cell_type": "code",
   "execution_count": null,
   "metadata": {},
   "outputs": [],
   "source": []
  }
 ],
 "metadata": {
  "kernelspec": {
   "display_name": "Python 3",
   "language": "python",
   "name": "python3"
  },
  "language_info": {
   "codemirror_mode": {
    "name": "ipython",
    "version": 3
   },
   "file_extension": ".py",
   "mimetype": "text/x-python",
   "name": "python",
   "nbconvert_exporter": "python",
   "pygments_lexer": "ipython3",
   "version": "3.7.3"
  }
 },
 "nbformat": 4,
 "nbformat_minor": 2
}
