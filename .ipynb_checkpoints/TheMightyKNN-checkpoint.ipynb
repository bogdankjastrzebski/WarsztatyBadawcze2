{
 "cells": [
  {
   "cell_type": "code",
   "execution_count": 1,
   "metadata": {},
   "outputs": [],
   "source": [
    "import pandas as pd\n",
    "import torch\n",
    "from torch import nn\n",
    "import torch.optim as optim\n",
    "import torch.nn.functional as F\n",
    "from torch.nn.modules.distance import PairwiseDistance\n",
    "import numpy as np\n",
    "import matplotlib.pyplot as plt\n",
    "import torch.utils.data\n",
    "from tqdm import tnrange\n",
    "from tqdm import tqdm_notebook"
   ]
  },
  {
   "cell_type": "code",
   "execution_count": null,
   "metadata": {},
   "outputs": [],
   "source": [
    "torch.randperm"
   ]
  },
  {
   "cell_type": "markdown",
   "metadata": {},
   "source": [
    "# The Mighty KNN"
   ]
  },
  {
   "cell_type": "code",
   "execution_count": 136,
   "metadata": {},
   "outputs": [],
   "source": [
    "def dist_mat(X, Y, d=None):\n",
    "    if d == torch.dot:\n",
    "        D = X @ Y.T\n",
    "        return torch.sum(X**2,1,keepdim=True) + torch.sum(Y**2,1,keepdim=True).T - 2*D\n",
    "    else:\n",
    "        return torch.Tensor([d(X[i], Y[i]) for i in range(X.shape[0]) for j in range(Y.shape[0])])               "
   ]
  },
  {
   "cell_type": "code",
   "execution_count": 280,
   "metadata": {},
   "outputs": [],
   "source": [
    "class KNN(nn.Module):\n",
    "    def __init__(self, X_train, y_train, k=5, morphism = lambda x: x, distance=torch.dot, batch_size=None):\n",
    "        \n",
    "        self.X = X_train\n",
    "        self.y = y_train\n",
    "        self.M = morphism\n",
    "        self.d = distance\n",
    "        self.b = batch_size if batch_size else X_train.shape[0]\n",
    "        self.k = k\n",
    "        \n",
    "    def forward(self, Y, fast=False):\n",
    "        ind = torch.randperm(self.X.shape[0])[:self.b]\n",
    "        if fast:\n",
    "            dm = dist_mat(Y, self.X[ind], self.d)\n",
    "            _, I = torch.sort(dm, 1)\n",
    "            ret, _ = torch.mode(y[ind][I[:,:self.k]],1)\n",
    "        else:\n",
    "            ret = torch.zeros(Y.shape[0])\n",
    "            for i in range(Y.shape[0]):\n",
    "                arg = torch.zeros(self.k, dtype=torch.long)\n",
    "                d = torch.ones(self.k) * float('inf')\n",
    "                for j in ind:\n",
    "                    nd = self.d(Y[i], self.X[j])\n",
    "                    if torch.max(d) > nd:\n",
    "                        arg[torch.argmax(d)] = j\n",
    "                        d[torch.argmax(d)] = nd\n",
    "\n",
    "                ret[i], _ = torch.mode(self.y[arg])\n",
    "        return ret"
   ]
  },
  {
   "cell_type": "code",
   "execution_count": 281,
   "metadata": {},
   "outputs": [
    {
     "data": {
      "text/plain": [
       "torch.int64"
      ]
     },
     "execution_count": 281,
     "metadata": {},
     "output_type": "execute_result"
    }
   ],
   "source": [
    "torch.long"
   ]
  },
  {
   "cell_type": "code",
   "execution_count": 282,
   "metadata": {},
   "outputs": [],
   "source": [
    "X = torch.rand(100,10)"
   ]
  },
  {
   "cell_type": "code",
   "execution_count": 283,
   "metadata": {},
   "outputs": [],
   "source": [
    "y = torch.ceil(torch.rand(100)*5)"
   ]
  },
  {
   "cell_type": "code",
   "execution_count": 284,
   "metadata": {},
   "outputs": [],
   "source": [
    "Y = torch.rand(20,10)"
   ]
  },
  {
   "cell_type": "code",
   "execution_count": 285,
   "metadata": {},
   "outputs": [],
   "source": [
    "knn = KNN(X, y)"
   ]
  },
  {
   "cell_type": "code",
   "execution_count": 294,
   "metadata": {},
   "outputs": [
    {
     "data": {
      "text/plain": [
       "tensor([4., 2., 2., 3., 1., 1., 4., 5., 4., 2., 4., 4., 4., 2., 1., 2., 1., 1.,\n",
       "        2., 1.])"
      ]
     },
     "execution_count": 294,
     "metadata": {},
     "output_type": "execute_result"
    }
   ],
   "source": [
    "knn.forward(Y)"
   ]
  },
  {
   "cell_type": "code",
   "execution_count": null,
   "metadata": {},
   "outputs": [],
   "source": []
  }
 ],
 "metadata": {
  "kernelspec": {
   "display_name": "Python 3",
   "language": "python",
   "name": "python3"
  },
  "language_info": {
   "codemirror_mode": {
    "name": "ipython",
    "version": 3
   },
   "file_extension": ".py",
   "mimetype": "text/x-python",
   "name": "python",
   "nbconvert_exporter": "python",
   "pygments_lexer": "ipython3",
   "version": "3.7.3"
  }
 },
 "nbformat": 4,
 "nbformat_minor": 2
}
