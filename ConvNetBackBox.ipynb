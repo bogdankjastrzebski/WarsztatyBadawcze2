{
 "cells": [
  {
   "cell_type": "code",
   "execution_count": 1,
   "metadata": {},
   "outputs": [],
   "source": [
    "import pandas as pd\n",
    "import torch\n",
    "from torch import nn\n",
    "import torch.optim as optim\n",
    "import torch.nn.functional as F\n",
    "from torch.nn.modules.distance import PairwiseDistance\n",
    "import numpy as np\n",
    "import matplotlib.pyplot as plt\n",
    "import torch.utils.data\n",
    "from tqdm import tnrange\n",
    "from tqdm import tqdm_notebook"
   ]
  },
  {
   "cell_type": "code",
   "execution_count": 6,
   "metadata": {},
   "outputs": [],
   "source": [
    "#device = torch.device('cuda')\n",
    "device = torch.device('cpu')"
   ]
  },
  {
   "cell_type": "code",
   "execution_count": 3,
   "metadata": {},
   "outputs": [],
   "source": [
    "def onehot(i,n):\n",
    "    print(len(i))\n",
    "    z = torch.zeros(i.shape[0], n)\n",
    "    z[torch.arange(i.shape[0]), i]=1\n",
    "    return z"
   ]
  },
  {
   "cell_type": "code",
   "execution_count": 4,
   "metadata": {},
   "outputs": [],
   "source": [
    "class Images(torch.utils.data.Dataset):\n",
    "    def __init__(self):\n",
    "        D = np.r_[pd.read_csv(\"./mnist1.csv\").to_numpy(), pd.read_csv(\"./mnist2.csv\").to_numpy()]\n",
    "        self.X = torch.Tensor(D[:, :-1].reshape(70000, 1, 28, 28))/255\n",
    "        self.y = torch.Tensor(D[:, -1:]).long()\n",
    "        \n",
    "    def __len__(self):\n",
    "        return self.X.shape[0]\n",
    "\n",
    "    def __getitem__(self, idx):\n",
    "        return self.X[idx, :, :, :], self.y[idx, 0]\n",
    "    \n",
    "    def to(self, device):\n",
    "        self.X = self.X.to(device)\n",
    "        self.y = self.y.to(device)"
   ]
  },
  {
   "cell_type": "code",
   "execution_count": 7,
   "metadata": {},
   "outputs": [],
   "source": [
    "Img = Images()\n",
    "Img.to(device)"
   ]
  },
  {
   "cell_type": "code",
   "execution_count": 8,
   "metadata": {},
   "outputs": [
    {
     "data": {
      "image/png": "[encoded data removed]",
      "text/plain": [
       "<Figure size 432x288 with 1 Axes>"
      ]
     },
     "metadata": {
      "needs_background": "light"
     },
     "output_type": "display_data"
    }
   ],
   "source": [
    "plt.imshow(Img[0][0].to(torch.device('cpu')).reshape(28,28));"
   ]
  },
  {
   "cell_type": "code",
   "execution_count": 8,
   "metadata": {},
   "outputs": [],
   "source": [
    "ratio = 0.001\n",
    "train, valid = torch.utils.data.random_split(Img, [int(len(Img)*(1 - ratio)), int(len(Img)*ratio)])"
   ]
  },
  {
   "cell_type": "code",
   "execution_count": 9,
   "metadata": {},
   "outputs": [],
   "source": [
    "dataLoader = torch.utils.data.DataLoader(train, batch_size=2000)"
   ]
  },
  {
   "cell_type": "code",
   "execution_count": 10,
   "metadata": {},
   "outputs": [],
   "source": [
    "class ConvNet(nn.Module):\n",
    "    def __init__(self):\n",
    "        super(ConvNet, self).__init__()\n",
    "        a = 50\n",
    "        b = 70\n",
    "        c = 100\n",
    "        d = 150\n",
    "        \n",
    "        self.conv10 = nn.Conv2d(1, a, 5)\n",
    "        self.conv15 = nn.Conv2d(a, a, 5)\n",
    "        self.conv20 = nn.Conv2d(a, b, 5)\n",
    "        self.conv25 = nn.Conv2d(b, b, 5)\n",
    "        self.conv30 = nn.Conv2d(b, c, 5)\n",
    "        self.conv35 = nn.Conv2d(c, c, 5)\n",
    "        self.conv40 = nn.Conv2d(c, d, 5)\n",
    "        self.lin1 = nn.Linear(1350, 1000)\n",
    "        self.lin2 = nn.Linear(1000, 500)\n",
    "        self.lin3 = nn.Linear(500, 200)\n",
    "        self.lin4 = nn.Linear(200, 10)\n",
    "        \n",
    "        self.pool = nn.MaxPool2d(2, return_indices=True)\n",
    "        \n",
    "    def forward(self, X):\n",
    "        X = torch.relu(self.conv10(F.pad(X,(2,2,2,2))))\n",
    "\n",
    "        X = torch.relu(self.conv15(F.pad(X,(2,2,2,2))))\n",
    "        X, inda = self.pool(X)\n",
    "        X = torch.relu(self.conv20(F.pad(X,(2,2,2,2))))\n",
    "        \n",
    "        X = torch.relu(self.conv25(F.pad(X,(2,2,2,2))))\n",
    "        X, indb = self.pool(X)\n",
    "        X = torch.relu(self.conv30(F.pad(X,(2,2,2,2))))\n",
    "        \n",
    "        X = torch.relu(self.conv35(F.pad(X,(2,2,2,2))))\n",
    "        X, indb = self.pool(X)\n",
    "        X = torch.relu(self.conv40(F.pad(X,(2,2,2,2))))\n",
    "        \n",
    "        X = X.view(X.shape[0], 1350)\n",
    "        \n",
    "        X = torch.relu(self.lin1(X))\n",
    "        X = torch.relu(self.lin2(X))\n",
    "        X = torch.relu(self.lin3(X))\n",
    "        X = torch.sigmoid(self.lin4(X))\n",
    "        \n",
    "        return X"
   ]
  },
  {
   "cell_type": "code",
   "execution_count": 21,
   "metadata": {},
   "outputs": [],
   "source": [
    "model = ConvNet().to(device)"
   ]
  },
  {
   "cell_type": "code",
   "execution_count": 22,
   "metadata": {},
   "outputs": [],
   "source": [
    "opt = optim.Adam(model.parameters(), lr=0.001)"
   ]
  },
  {
   "cell_type": "code",
   "execution_count": 23,
   "metadata": {},
   "outputs": [],
   "source": [
    "def CE(y, y_pred):\n",
    "    y = y == 1\n",
    "    return -torch.log(y_pred[y]).sum() - torch.log(1 - y_pred[~y]).sum() + 0"
   ]
  },
  {
   "cell_type": "code",
   "execution_count": 24,
   "metadata": {
    "scrolled": true
   },
   "outputs": [
    {
     "data": {
      "application/vnd.jupyter.widget-view+json": {
       "model_id": "9eb92d4b98f74602b63ba3b5a7709494",
       "version_major": 2,
       "version_minor": 0
      },
      "text/plain": [
       "HBox(children=(IntProgress(value=0, max=35), HTML(value='')))"
      ]
     },
     "metadata": {},
     "output_type": "display_data"
    },
    {
     "name": "stdout",
     "output_type": "stream",
     "text": [
      "70\n",
      "Iteration 3 \n",
      "        L: 12828.7939 \n",
      "        CE: 291\n",
      "70\n",
      "Iteration 6 \n",
      "        L: 8140.6299 \n",
      "        CE: 333\n",
      "70\n",
      "Iteration 9 \n",
      "        L: 7128.1763 \n",
      "        CE: 259\n",
      "70\n",
      "Iteration 12 \n",
      "        L: 6905.1416 \n",
      "        CE: 245\n",
      "70\n",
      "Iteration 15 \n",
      "        L: 6275.8926 \n",
      "        CE: 249\n",
      "70\n",
      "Iteration 18 \n",
      "        L: 5476.6851 \n",
      "        CE: 239\n",
      "70\n",
      "Iteration 21 \n",
      "        L: 5314.7710 \n",
      "        CE: 250\n",
      "70\n",
      "Iteration 24 \n",
      "        L: 3628.0190 \n",
      "        CE: 335\n",
      "70\n",
      "Iteration 27 \n",
      "        L: 3581.7266 \n",
      "        CE: 414\n",
      "70\n",
      "Iteration 30 \n",
      "        L: 2812.0195 \n",
      "        CE: 545\n",
      "70\n",
      "Iteration 33 \n",
      "        L: 2304.3074 \n",
      "        CE: 896\n"
     ]
    },
    {
     "data": {
      "application/vnd.jupyter.widget-view+json": {
       "model_id": "a496cbece49441748d3185a83ee48a3b",
       "version_major": 2,
       "version_minor": 0
      },
      "text/plain": [
       "HBox(children=(IntProgress(value=0, max=35), HTML(value='')))"
      ]
     },
     "metadata": {},
     "output_type": "display_data"
    },
    {
     "name": "stdout",
     "output_type": "stream",
     "text": [
      "70\n",
      "Iteration 3 \n",
      "        L: 3620.6602 \n",
      "        CE: 1310\n",
      "70\n",
      "Iteration 6 \n",
      "        L: 3105.7822 \n",
      "        CE: 763\n",
      "70\n",
      "Iteration 9 \n",
      "        L: 2218.0229 \n",
      "        CE: 858\n",
      "70\n",
      "Iteration 12 \n",
      "        L: 2265.8101 \n",
      "        CE: 469\n",
      "70\n",
      "Iteration 15 \n",
      "        L: 2271.5669 \n",
      "        CE: 726\n",
      "70\n",
      "Iteration 18 \n",
      "        L: 1541.2704 \n",
      "        CE: 675\n",
      "70\n",
      "Iteration 21 \n",
      "        L: 1204.7488 \n",
      "        CE: 744\n",
      "70\n",
      "Iteration 24 \n",
      "        L: 645.0559 \n",
      "        CE: 861\n",
      "70\n",
      "Iteration 27 \n",
      "        L: 888.6602 \n",
      "        CE: 726\n",
      "70\n",
      "Iteration 30 \n",
      "        L: 803.5840 \n",
      "        CE: 827\n",
      "70\n"
     ]
    },
    {
     "ename": "ValueError",
     "evalue": "cannot convert float NaN to integer",
     "output_type": "error",
     "traceback": [
      "\u001b[1;31m---------------------------------------------------------------------------\u001b[0m",
      "\u001b[1;31mValueError\u001b[0m                                Traceback (most recent call last)",
      "\u001b[1;32m<ipython-input-24-6f0dff0f1f71>\u001b[0m in \u001b[0;36m<module>\u001b[1;34m\u001b[0m\n\u001b[0;32m      9\u001b[0m \u001b[1;33m\u001b[0m\u001b[0m\n\u001b[0;32m     10\u001b[0m         \u001b[1;31m# Print\u001b[0m\u001b[1;33m\u001b[0m\u001b[1;33m\u001b[0m\u001b[1;33m\u001b[0m\u001b[0m\n\u001b[1;32m---> 11\u001b[1;33m         \u001b[1;32mif\u001b[0m \u001b[1;33m(\u001b[0m\u001b[0mi\u001b[0m \u001b[1;33m%\u001b[0m \u001b[1;33m(\u001b[0m\u001b[0mlen\u001b[0m\u001b[1;33m(\u001b[0m\u001b[0mdataLoader\u001b[0m\u001b[1;33m)\u001b[0m\u001b[1;33m//\u001b[0m\u001b[1;36m10\u001b[0m\u001b[1;33m)\u001b[0m\u001b[1;33m)\u001b[0m \u001b[1;33m==\u001b[0m \u001b[1;36m0\u001b[0m\u001b[1;33m:\u001b[0m \u001b[0mprint\u001b[0m\u001b[1;33m(\u001b[0m\u001b[1;34m\"Iteration %d \\n        L: %.4f \\n        CE: %d\"\u001b[0m \u001b[1;33m%\u001b[0m \u001b[1;33m(\u001b[0m\u001b[0mi\u001b[0m\u001b[1;33m,\u001b[0m \u001b[0mL\u001b[0m\u001b[1;33m,\u001b[0m \u001b[0mCE\u001b[0m\u001b[1;33m(\u001b[0m\u001b[0monehot\u001b[0m\u001b[1;33m(\u001b[0m\u001b[0mvalid\u001b[0m\u001b[1;33m[\u001b[0m\u001b[1;33m:\u001b[0m\u001b[1;33m]\u001b[0m\u001b[1;33m[\u001b[0m\u001b[1;36m1\u001b[0m\u001b[1;33m]\u001b[0m\u001b[1;33m,\u001b[0m\u001b[1;36m10\u001b[0m\u001b[1;33m)\u001b[0m\u001b[1;33m,\u001b[0m \u001b[0mmodel\u001b[0m\u001b[1;33m.\u001b[0m\u001b[0mforward\u001b[0m\u001b[1;33m(\u001b[0m\u001b[0mvalid\u001b[0m\u001b[1;33m[\u001b[0m\u001b[1;33m:\u001b[0m\u001b[1;33m]\u001b[0m\u001b[1;33m[\u001b[0m\u001b[1;36m0\u001b[0m\u001b[1;33m]\u001b[0m\u001b[1;33m)\u001b[0m\u001b[1;33m)\u001b[0m\u001b[1;33m)\u001b[0m\u001b[1;33m)\u001b[0m\u001b[1;33m\u001b[0m\u001b[1;33m\u001b[0m\u001b[0m\n\u001b[0m\u001b[0;32m     12\u001b[0m         \u001b[0mi\u001b[0m \u001b[1;33m+=\u001b[0m \u001b[1;36m1\u001b[0m\u001b[1;33m\u001b[0m\u001b[1;33m\u001b[0m\u001b[0m\n\u001b[0;32m     13\u001b[0m \u001b[1;33m\u001b[0m\u001b[0m\n",
      "\u001b[1;31mValueError\u001b[0m: cannot convert float NaN to integer"
     ]
    }
   ],
   "source": [
    "\n",
    "EPOCHS=10\n",
    "for epoch in range(EPOCHS):\n",
    "    i = 1\n",
    "    for X, y in tqdm_notebook(dataLoader):\n",
    "        model.zero_grad()\n",
    "        L = CE(y, model.forward(X)) # + C*sum([torch.sum(model.state_dict()[a]**2) if a[-1] == 't' else 0 for a in model.state_dict()])\n",
    "        L.backward()\n",
    "        opt.step()\n",
    "\n",
    "        # Print\n",
    "        if (i % (len(dataLoader)//10)) == 0: print(\"Iteration %d \\n        L: %.4f \\n        CE: %d\" % (i, L, CE(onehot(valid[:][1],10), model.forward(valid[:][0]))))\n",
    "        i += 1\n",
    "        \n",
    "        torch.cuda.empty_cache()"
   ]
  },
  {
   "cell_type": "code",
   "execution_count": 14,
   "metadata": {},
   "outputs": [
    {
     "data": {
      "text/plain": [
       "tensor([[0.0070, 0.0067, 0.0066,  ..., 0.0067, 0.0069, 0.0078],\n",
       "        [0.0002, 0.0002, 0.0002,  ..., 0.0002, 0.0002, 0.0002],\n",
       "        [0.0009, 0.0008, 0.0008,  ..., 0.0008, 0.0008, 0.0010],\n",
       "        ...,\n",
       "        [0.0003, 0.0002, 0.0003,  ..., 0.0003, 0.0003, 0.0003],\n",
       "        [0.0003, 0.0002, 0.0002,  ..., 0.0002, 0.0003, 0.0003],\n",
       "        [0.0009, 0.0008, 0.0008,  ..., 0.0008, 0.0009, 0.0010]],\n",
       "       device='cuda:0', grad_fn=<SigmoidBackward>)"
      ]
     },
     "execution_count": 14,
     "metadata": {},
     "output_type": "execute_result"
    }
   ],
   "source": [
    "model.forward(X)"
   ]
  },
  {
   "cell_type": "code",
   "execution_count": 17,
   "metadata": {},
   "outputs": [],
   "source": [
    "p = model.forward(valid[:][0])"
   ]
  },
  {
   "cell_type": "code",
   "execution_count": 15,
   "metadata": {},
   "outputs": [
    {
     "data": {
      "text/plain": [
       "tensor(nan, device='cuda:0', grad_fn=<SubBackward0>)"
      ]
     },
     "execution_count": 15,
     "metadata": {},
     "output_type": "execute_result"
    }
   ],
   "source": [
    "L"
   ]
  }
 ],
 "metadata": {
  "kernelspec": {
   "display_name": "Python 3",
   "language": "python",
   "name": "python3"
  },
  "language_info": {
   "codemirror_mode": {
    "name": "ipython",
    "version": 3
   },
   "file_extension": ".py",
   "mimetype": "text/x-python",
   "name": "python",
   "nbconvert_exporter": "python",
   "pygments_lexer": "ipython3",
   "version": "3.7.4"
  }
 },
 "nbformat": 4,
 "nbformat_minor": 2
}
