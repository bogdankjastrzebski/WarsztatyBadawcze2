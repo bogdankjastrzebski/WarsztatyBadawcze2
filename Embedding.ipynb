{
 "cells": [
  {
   "cell_type": "code",
   "execution_count": 54,
   "metadata": {},
   "outputs": [],
   "source": [
    "import pandas as pd\n",
    "import torch\n",
    "from torch import nn\n",
    "import torch.optim as optim\n",
    "import torch.nn.functional as F\n",
    "from torch.nn.modules.distance import PairwiseDistance\n",
    "import numpy as np\n",
    "import matplotlib.pyplot as plt\n",
    "import torch.utils.data\n",
    "from tqdm import tnrange\n",
    "from tqdm import tqdm_notebook"
   ]
  },
  {
   "cell_type": "markdown",
   "metadata": {},
   "source": [
    "# Device"
   ]
  },
  {
   "cell_type": "code",
   "execution_count": 160,
   "metadata": {},
   "outputs": [],
   "source": [
    "device = torch.device('cuda')\n",
    "cpu = torch.device('cpu')"
   ]
  },
  {
   "cell_type": "markdown",
   "metadata": {},
   "source": [
    "# Dataset"
   ]
  },
  {
   "cell_type": "code",
   "execution_count": 4,
   "metadata": {},
   "outputs": [],
   "source": [
    "class Images(torch.utils.data.Dataset):\n",
    "    def __init__(self):\n",
    "        D = np.r_[pd.read_csv(\"./mnist1.csv\").to_numpy(), pd.read_csv(\"./mnist2.csv\").to_numpy()]\n",
    "        self.X = torch.Tensor(D[:, :-1].reshape(70000, 1, 28, 28))/255\n",
    "        self.y = torch.Tensor(D[:, -1:])\n",
    "        \n",
    "    def __len__(self):\n",
    "        return self.X.shape[0]\n",
    "\n",
    "    def __getitem__(self, idx):\n",
    "        return self.X[idx, :, :, :], self.y[idx, 0]\n",
    "    \n",
    "    def to(self, device):\n",
    "        self.X = self.X.to(device)\n",
    "        self.y = self.y.to(device)"
   ]
  },
  {
   "cell_type": "code",
   "execution_count": 5,
   "metadata": {},
   "outputs": [],
   "source": [
    "Img = Images()\n",
    "Img.to(device)"
   ]
  },
  {
   "cell_type": "code",
   "execution_count": 6,
   "metadata": {
    "scrolled": true
   },
   "outputs": [
    {
     "data": {
      "image/png": "[encoded data removed]",
      "text/plain": [
       "<Figure size 432x288 with 1 Axes>"
      ]
     },
     "metadata": {
      "needs_background": "light"
     },
     "output_type": "display_data"
    }
   ],
   "source": [
    "plt.imshow(Img[0][0].to(torch.device('cpu')).reshape(28,28));"
   ]
  },
  {
   "cell_type": "code",
   "execution_count": 64,
   "metadata": {},
   "outputs": [],
   "source": [
    "sampler = torch.utils.data.RandomSampler(Img)"
   ]
  },
  {
   "cell_type": "code",
   "execution_count": 65,
   "metadata": {},
   "outputs": [],
   "source": [
    "dataLoader = torch.utils.data.DataLoader(Img, sampler=sampler, batch_size=2000)"
   ]
  },
  {
   "cell_type": "markdown",
   "metadata": {},
   "source": [
    "# Autoencoder"
   ]
  },
  {
   "cell_type": "code",
   "execution_count": 32,
   "metadata": {},
   "outputs": [],
   "source": [
    "class AUTOENC(nn.Module):\n",
    "    def __init__(self):\n",
    "        super(AUTOENC, self).__init__()\n",
    "#         a = 50\n",
    "#         b = 100\n",
    "#         c = 150\n",
    "        a = 50\n",
    "        b = 10\n",
    "        c = 1\n",
    "        \n",
    "        self.conv10 = nn.Conv2d(1, a, 5)\n",
    "        self.conv15 = nn.Conv2d(a, a, 5)\n",
    "        self.conv20 = nn.Conv2d(a, b, 5)\n",
    "        self.conv25 = nn.Conv2d(b, b, 5)\n",
    "        self.conv30 = nn.Conv2d(b, c, 5)\n",
    "        \n",
    "        self.conv40 = nn.Conv2d(c, b, 5)\n",
    "        self.conv45 = nn.Conv2d(b, b, 5)\n",
    "        self.conv50 = nn.Conv2d(b, a, 5)\n",
    "        self.conv55 = nn.Conv2d(a, a, 5)\n",
    "        self.conv60 = nn.Conv2d(a, 1, 5)\n",
    "        \n",
    "        self.pool = nn.MaxPool2d(2, return_indices=True)\n",
    "        self.unpool = nn.MaxUnpool2d(2)\n",
    "        \n",
    "    def forward(self, X):\n",
    "        X = torch.relu(self.conv10(F.pad(X,(2,2,2,2))))\n",
    "\n",
    "        X = torch.relu(self.conv15(F.pad(X,(2,2,2,2))))\n",
    "        X, inda = self.pool(X)\n",
    "        X = torch.relu(self.conv20(F.pad(X,(2,2,2,2))))\n",
    "        \n",
    "        X = torch.relu(self.conv25(F.pad(X,(2,2,2,2))))\n",
    "        X, indb = self.pool(X)\n",
    "        X = torch.relu(self.conv30(F.pad(X,(2,2,2,2))))\n",
    "        \n",
    "        X = torch.relu(self.conv40(F.pad(X,(2,2,2,2))))\n",
    "        X = self.unpool(X, indb)\n",
    "        X = torch.relu(self.conv45(F.pad(X,(2,2,2,2))))\n",
    "        \n",
    "        X = torch.relu(self.conv50(F.pad(X,(2,2,2,2))))\n",
    "        X = self.unpool(X, inda)\n",
    "        X = torch.relu(self.conv55(F.pad(X,(2,2,2,2))))\n",
    "        \n",
    "        X = torch.sigmoid(self.conv60(F.pad(X,(2,2,2,2))))\n",
    "        \n",
    "        return X"
   ]
  },
  {
   "cell_type": "markdown",
   "metadata": {},
   "source": [
    "# Training"
   ]
  },
  {
   "cell_type": "code",
   "execution_count": 33,
   "metadata": {},
   "outputs": [],
   "source": [
    "model = AUTOENC().to(device)"
   ]
  },
  {
   "cell_type": "code",
   "execution_count": 34,
   "metadata": {},
   "outputs": [],
   "source": [
    "opt = optim.Adam(model.parameters(), lr=0.001)"
   ]
  },
  {
   "cell_type": "code",
   "execution_count": 35,
   "metadata": {
    "scrolled": true
   },
   "outputs": [
    {
     "data": {
      "application/vnd.jupyter.widget-view+json": {
       "model_id": "",
       "version_major": 2,
       "version_minor": 0
      },
      "text/plain": [
       "HBox(children=(IntProgress(value=0, max=35), HTML(value='')))"
      ]
     },
     "metadata": {},
     "output_type": "display_data"
    },
    {
     "name": "stdout",
     "output_type": "stream",
     "text": [
      "Iteration 3 \n",
      "        L: 261879.0312\n",
      "Iteration 6 \n",
      "        L: 243626.3125\n",
      "Iteration 9 \n",
      "        L: 226470.1406\n",
      "Iteration 12 \n",
      "        L: 227216.1094\n",
      "Iteration 15 \n",
      "        L: 217862.7188\n",
      "Iteration 18 \n",
      "        L: 216677.1250\n",
      "Iteration 21 \n",
      "        L: 214350.4688\n",
      "Iteration 24 \n",
      "        L: 205679.2188\n",
      "Iteration 27 \n",
      "        L: 199486.2812\n",
      "Iteration 30 \n",
      "        L: 190547.7812\n",
      "Iteration 33 \n",
      "        L: 179151.9062\n",
      "\n"
     ]
    },
    {
     "data": {
      "application/vnd.jupyter.widget-view+json": {
       "model_id": "",
       "version_major": 2,
       "version_minor": 0
      },
      "text/plain": [
       "HBox(children=(IntProgress(value=0, max=35), HTML(value='')))"
      ]
     },
     "metadata": {},
     "output_type": "display_data"
    },
    {
     "name": "stdout",
     "output_type": "stream",
     "text": [
      "Iteration 3 \n",
      "        L: 144623.8750\n",
      "Iteration 6 \n",
      "        L: 125512.6875\n",
      "Iteration 9 \n",
      "        L: 111393.4375\n",
      "Iteration 12 \n",
      "        L: 96879.6172\n",
      "Iteration 15 \n",
      "        L: 86855.8750\n",
      "Iteration 18 \n",
      "        L: 75250.6016\n",
      "Iteration 21 \n",
      "        L: 64313.3125\n",
      "Iteration 24 \n",
      "        L: 56880.2812\n",
      "Iteration 27 \n",
      "        L: 51410.0859\n",
      "Iteration 30 \n",
      "        L: 47668.1484\n",
      "Iteration 33 \n",
      "        L: 45206.0000\n",
      "\n"
     ]
    },
    {
     "data": {
      "application/vnd.jupyter.widget-view+json": {
       "model_id": "",
       "version_major": 2,
       "version_minor": 0
      },
      "text/plain": [
       "HBox(children=(IntProgress(value=0, max=35), HTML(value='')))"
      ]
     },
     "metadata": {},
     "output_type": "display_data"
    },
    {
     "name": "stdout",
     "output_type": "stream",
     "text": [
      "Iteration 3 \n",
      "        L: 41513.6797\n",
      "Iteration 6 \n",
      "        L: 39560.9609\n",
      "Iteration 9 \n",
      "        L: 36347.6250\n",
      "Iteration 12 \n",
      "        L: 34235.1484\n",
      "Iteration 15 \n",
      "        L: 32109.8594\n",
      "Iteration 18 \n",
      "        L: 28280.9844\n",
      "Iteration 21 \n",
      "        L: 26342.0449\n",
      "Iteration 24 \n",
      "        L: 24583.8730\n",
      "Iteration 27 \n",
      "        L: 23118.5859\n",
      "Iteration 30 \n",
      "        L: 22159.4414\n",
      "Iteration 33 \n",
      "        L: 20653.3887\n",
      "\n"
     ]
    },
    {
     "data": {
      "application/vnd.jupyter.widget-view+json": {
       "model_id": "",
       "version_major": 2,
       "version_minor": 0
      },
      "text/plain": [
       "HBox(children=(IntProgress(value=0, max=35), HTML(value='')))"
      ]
     },
     "metadata": {},
     "output_type": "display_data"
    },
    {
     "name": "stdout",
     "output_type": "stream",
     "text": [
      "Iteration 3 \n",
      "        L: 18872.2109\n",
      "Iteration 6 \n",
      "        L: 18451.7461\n",
      "Iteration 9 \n",
      "        L: 17743.0781\n",
      "Iteration 12 \n",
      "        L: 16931.8359\n",
      "Iteration 15 \n",
      "        L: 16397.8926\n",
      "Iteration 18 \n",
      "        L: 16043.1260\n",
      "Iteration 21 \n",
      "        L: 14982.7246\n",
      "Iteration 24 \n",
      "        L: 14801.3086\n",
      "Iteration 27 \n",
      "        L: 14443.2344\n",
      "Iteration 30 \n",
      "        L: 14207.7734\n",
      "Iteration 33 \n",
      "        L: 13875.1250\n",
      "\n"
     ]
    },
    {
     "data": {
      "application/vnd.jupyter.widget-view+json": {
       "model_id": "",
       "version_major": 2,
       "version_minor": 0
      },
      "text/plain": [
       "HBox(children=(IntProgress(value=0, max=35), HTML(value='')))"
      ]
     },
     "metadata": {},
     "output_type": "display_data"
    },
    {
     "name": "stdout",
     "output_type": "stream",
     "text": [
      "Iteration 3 \n",
      "        L: 13132.3047\n",
      "Iteration 6 \n",
      "        L: 12788.0039\n",
      "Iteration 9 \n",
      "        L: 12561.9902\n",
      "Iteration 12 \n",
      "        L: 12532.9463\n",
      "Iteration 15 \n",
      "        L: 12457.4355\n",
      "Iteration 18 \n",
      "        L: 12351.6475\n",
      "Iteration 21 \n",
      "        L: 11797.5156\n",
      "Iteration 24 \n",
      "        L: 11959.7598\n",
      "Iteration 27 \n",
      "        L: 11595.0000\n",
      "Iteration 30 \n",
      "        L: 11405.9092\n",
      "Iteration 33 \n",
      "        L: 11390.5078\n",
      "\n"
     ]
    },
    {
     "data": {
      "application/vnd.jupyter.widget-view+json": {
       "model_id": "",
       "version_major": 2,
       "version_minor": 0
      },
      "text/plain": [
       "HBox(children=(IntProgress(value=0, max=35), HTML(value='')))"
      ]
     },
     "metadata": {},
     "output_type": "display_data"
    },
    {
     "name": "stdout",
     "output_type": "stream",
     "text": [
      "Iteration 3 \n",
      "        L: 10815.4316\n",
      "Iteration 6 \n",
      "        L: 10916.2070\n",
      "Iteration 9 \n",
      "        L: 10691.9941\n",
      "Iteration 12 \n",
      "        L: 10925.0664\n",
      "Iteration 15 \n",
      "        L: 10664.6270\n",
      "Iteration 18 \n",
      "        L: 10689.9238\n",
      "Iteration 21 \n",
      "        L: 10528.1377\n",
      "Iteration 24 \n",
      "        L: 10385.9697\n",
      "Iteration 27 \n",
      "        L: 10290.1865\n",
      "Iteration 30 \n",
      "        L: 10235.2861\n",
      "Iteration 33 \n",
      "        L: 10415.1289\n",
      "\n"
     ]
    },
    {
     "data": {
      "application/vnd.jupyter.widget-view+json": {
       "model_id": "",
       "version_major": 2,
       "version_minor": 0
      },
      "text/plain": [
       "HBox(children=(IntProgress(value=0, max=35), HTML(value='')))"
      ]
     },
     "metadata": {},
     "output_type": "display_data"
    },
    {
     "name": "stdout",
     "output_type": "stream",
     "text": [
      "Iteration 3 \n",
      "        L: 10807.5781\n",
      "Iteration 6 \n",
      "        L: 9793.7578\n",
      "Iteration 9 \n",
      "        L: 10284.6816\n",
      "Iteration 12 \n",
      "        L: 10063.9141\n",
      "Iteration 15 \n",
      "        L: 10017.8887\n",
      "Iteration 18 \n",
      "        L: 9724.6729\n",
      "Iteration 21 \n",
      "        L: 9652.9912\n",
      "Iteration 24 \n",
      "        L: 9655.8594\n",
      "Iteration 27 \n",
      "        L: 9589.7139\n",
      "Iteration 30 \n",
      "        L: 9335.7021\n",
      "Iteration 33 \n",
      "        L: 9326.9775\n",
      "\n"
     ]
    },
    {
     "data": {
      "application/vnd.jupyter.widget-view+json": {
       "model_id": "",
       "version_major": 2,
       "version_minor": 0
      },
      "text/plain": [
       "HBox(children=(IntProgress(value=0, max=35), HTML(value='')))"
      ]
     },
     "metadata": {},
     "output_type": "display_data"
    },
    {
     "name": "stdout",
     "output_type": "stream",
     "text": [
      "Iteration 3 \n",
      "        L: 9201.3223\n",
      "Iteration 6 \n",
      "        L: 9122.4746\n",
      "Iteration 9 \n",
      "        L: 9205.5098\n",
      "Iteration 12 \n",
      "        L: 9078.0430\n",
      "Iteration 15 \n",
      "        L: 9006.8457\n",
      "Iteration 18 \n",
      "        L: 9199.6445\n",
      "Iteration 21 \n",
      "        L: 9091.7891\n",
      "Iteration 24 \n",
      "        L: 8942.0898\n",
      "Iteration 27 \n",
      "        L: 8773.9727\n",
      "Iteration 30 \n",
      "        L: 8851.7539\n",
      "Iteration 33 \n",
      "        L: 8651.0850\n",
      "\n"
     ]
    },
    {
     "data": {
      "application/vnd.jupyter.widget-view+json": {
       "model_id": "",
       "version_major": 2,
       "version_minor": 0
      },
      "text/plain": [
       "HBox(children=(IntProgress(value=0, max=35), HTML(value='')))"
      ]
     },
     "metadata": {},
     "output_type": "display_data"
    },
    {
     "name": "stdout",
     "output_type": "stream",
     "text": [
      "Iteration 3 \n",
      "        L: 8977.5938\n",
      "Iteration 6 \n",
      "        L: 8622.8467\n",
      "Iteration 9 \n",
      "        L: 8609.5068\n",
      "Iteration 12 \n",
      "        L: 8759.7939\n",
      "Iteration 15 \n",
      "        L: 8500.4453\n",
      "Iteration 18 \n",
      "        L: 8591.8770\n",
      "Iteration 21 \n",
      "        L: 8423.0430\n",
      "Iteration 24 \n",
      "        L: 8488.7402\n",
      "Iteration 27 \n",
      "        L: 8256.3535\n",
      "Iteration 30 \n",
      "        L: 8264.5264\n",
      "Iteration 33 \n",
      "        L: 8573.6240\n",
      "\n"
     ]
    },
    {
     "data": {
      "application/vnd.jupyter.widget-view+json": {
       "model_id": "",
       "version_major": 2,
       "version_minor": 0
      },
      "text/plain": [
       "HBox(children=(IntProgress(value=0, max=35), HTML(value='')))"
      ]
     },
     "metadata": {},
     "output_type": "display_data"
    },
    {
     "name": "stdout",
     "output_type": "stream",
     "text": [
      "Iteration 3 \n",
      "        L: 8289.1016\n",
      "Iteration 6 \n",
      "        L: 8609.3164\n",
      "Iteration 9 \n",
      "        L: 8139.2773\n",
      "Iteration 12 \n",
      "        L: 8684.8770\n",
      "Iteration 15 \n",
      "        L: 8037.2266\n",
      "Iteration 18 \n",
      "        L: 8537.4492\n",
      "Iteration 21 \n",
      "        L: 8007.5625\n",
      "Iteration 24 \n",
      "        L: 8472.8818\n",
      "Iteration 27 \n",
      "        L: 8068.1611\n",
      "Iteration 30 \n",
      "        L: 8086.2852\n",
      "Iteration 33 \n",
      "        L: 8185.3784\n",
      "\n"
     ]
    },
    {
     "data": {
      "application/vnd.jupyter.widget-view+json": {
       "model_id": "",
       "version_major": 2,
       "version_minor": 0
      },
      "text/plain": [
       "HBox(children=(IntProgress(value=0, max=35), HTML(value='')))"
      ]
     },
     "metadata": {},
     "output_type": "display_data"
    },
    {
     "name": "stdout",
     "output_type": "stream",
     "text": [
      "Iteration 3 \n",
      "        L: 7933.5742\n",
      "Iteration 6 \n",
      "        L: 7866.3721\n",
      "Iteration 9 \n",
      "        L: 7851.2993\n",
      "Iteration 12 \n",
      "        L: 7847.9521\n",
      "Iteration 15 \n",
      "        L: 7696.5581\n",
      "Iteration 18 \n",
      "        L: 8022.9111\n",
      "Iteration 21 \n",
      "        L: 7712.7500\n",
      "Iteration 24 \n",
      "        L: 7650.9106\n",
      "Iteration 27 \n",
      "        L: 8282.8887\n",
      "Iteration 30 \n",
      "        L: 7572.4414\n",
      "Iteration 33 \n",
      "        L: 8016.0645\n",
      "\n"
     ]
    },
    {
     "data": {
      "application/vnd.jupyter.widget-view+json": {
       "model_id": "",
       "version_major": 2,
       "version_minor": 0
      },
      "text/plain": [
       "HBox(children=(IntProgress(value=0, max=35), HTML(value='')))"
      ]
     },
     "metadata": {},
     "output_type": "display_data"
    },
    {
     "name": "stdout",
     "output_type": "stream",
     "text": [
      "Iteration 3 \n",
      "        L: 8154.1230\n",
      "Iteration 6 \n",
      "        L: 7644.3242\n",
      "Iteration 9 \n",
      "        L: 7311.3779\n",
      "Iteration 12 \n",
      "        L: 7568.8789\n",
      "Iteration 15 \n",
      "        L: 7512.3613\n",
      "Iteration 18 \n",
      "        L: 7385.2627\n",
      "Iteration 21 \n",
      "        L: 7338.7480\n",
      "Iteration 24 \n",
      "        L: 7443.9941\n",
      "Iteration 27 \n",
      "        L: 7299.2100\n",
      "Iteration 30 \n",
      "        L: 7145.5918\n",
      "Iteration 33 \n",
      "        L: 7566.9248\n",
      "\n"
     ]
    },
    {
     "data": {
      "application/vnd.jupyter.widget-view+json": {
       "model_id": "",
       "version_major": 2,
       "version_minor": 0
      },
      "text/plain": [
       "HBox(children=(IntProgress(value=0, max=35), HTML(value='')))"
      ]
     },
     "metadata": {},
     "output_type": "display_data"
    },
    {
     "name": "stdout",
     "output_type": "stream",
     "text": [
      "Iteration 3 \n",
      "        L: 7402.2871\n",
      "Iteration 6 \n",
      "        L: 7142.6953\n",
      "Iteration 9 \n",
      "        L: 7193.6821\n",
      "Iteration 12 \n",
      "        L: 7070.8252\n",
      "Iteration 15 \n",
      "        L: 7058.1621\n",
      "Iteration 18 \n",
      "        L: 7162.0107\n",
      "Iteration 21 \n",
      "        L: 7049.4541\n",
      "Iteration 24 \n",
      "        L: 7027.5840\n",
      "Iteration 27 \n",
      "        L: 6970.9707\n",
      "Iteration 30 \n",
      "        L: 6856.8340\n",
      "Iteration 33 \n",
      "        L: 7014.1113\n",
      "\n"
     ]
    },
    {
     "data": {
      "application/vnd.jupyter.widget-view+json": {
       "model_id": "",
       "version_major": 2,
       "version_minor": 0
      },
      "text/plain": [
       "HBox(children=(IntProgress(value=0, max=35), HTML(value='')))"
      ]
     },
     "metadata": {},
     "output_type": "display_data"
    },
    {
     "name": "stdout",
     "output_type": "stream",
     "text": [
      "Iteration 3 \n",
      "        L: 6888.0566\n",
      "Iteration 6 \n",
      "        L: 7141.4707\n",
      "Iteration 9 \n",
      "        L: 6922.4429\n",
      "Iteration 12 \n",
      "        L: 6809.8535\n",
      "Iteration 15 \n",
      "        L: 6741.9663\n",
      "Iteration 18 \n",
      "        L: 6823.4482\n",
      "Iteration 21 \n",
      "        L: 6664.5303\n",
      "Iteration 24 \n",
      "        L: 6597.7266\n",
      "Iteration 27 \n",
      "        L: 6662.4927\n",
      "Iteration 30 \n",
      "        L: 6997.1758\n",
      "Iteration 33 \n",
      "        L: 7064.6475\n",
      "\n"
     ]
    },
    {
     "data": {
      "application/vnd.jupyter.widget-view+json": {
       "model_id": "",
       "version_major": 2,
       "version_minor": 0
      },
      "text/plain": [
       "HBox(children=(IntProgress(value=0, max=35), HTML(value='')))"
      ]
     },
     "metadata": {},
     "output_type": "display_data"
    },
    {
     "name": "stdout",
     "output_type": "stream",
     "text": [
      "Iteration 3 \n",
      "        L: 7067.3364\n",
      "Iteration 6 \n",
      "        L: 6669.9307\n",
      "Iteration 9 \n",
      "        L: 6910.0840\n",
      "Iteration 12 \n",
      "        L: 6674.1299\n",
      "Iteration 15 \n",
      "        L: 6665.2095\n",
      "Iteration 18 \n",
      "        L: 6466.0444\n",
      "Iteration 21 \n",
      "        L: 6608.7759\n",
      "Iteration 24 \n",
      "        L: 6697.9858\n",
      "Iteration 27 \n",
      "        L: 6447.8252\n",
      "Iteration 30 \n",
      "        L: 6613.1875\n",
      "Iteration 33 \n",
      "        L: 6408.6582\n",
      "\n"
     ]
    },
    {
     "data": {
      "application/vnd.jupyter.widget-view+json": {
       "model_id": "",
       "version_major": 2,
       "version_minor": 0
      },
      "text/plain": [
       "HBox(children=(IntProgress(value=0, max=35), HTML(value='')))"
      ]
     },
     "metadata": {},
     "output_type": "display_data"
    },
    {
     "name": "stdout",
     "output_type": "stream",
     "text": [
      "Iteration 3 \n",
      "        L: 6436.8477\n",
      "Iteration 6 \n",
      "        L: 6493.9551\n",
      "Iteration 9 \n",
      "        L: 6301.1060\n",
      "Iteration 12 \n",
      "        L: 6322.9424\n",
      "Iteration 15 \n",
      "        L: 6315.2275\n",
      "Iteration 18 \n",
      "        L: 6208.4961\n",
      "Iteration 21 \n",
      "        L: 6350.9785\n",
      "Iteration 24 \n",
      "        L: 6348.2627\n",
      "Iteration 27 \n",
      "        L: 6215.5142\n",
      "Iteration 30 \n",
      "        L: 6168.6592\n",
      "Iteration 33 \n",
      "        L: 6132.3086\n",
      "\n"
     ]
    },
    {
     "data": {
      "application/vnd.jupyter.widget-view+json": {
       "model_id": "",
       "version_major": 2,
       "version_minor": 0
      },
      "text/plain": [
       "HBox(children=(IntProgress(value=0, max=35), HTML(value='')))"
      ]
     },
     "metadata": {},
     "output_type": "display_data"
    },
    {
     "name": "stdout",
     "output_type": "stream",
     "text": [
      "Iteration 3 \n",
      "        L: 6708.2231\n",
      "Iteration 6 \n",
      "        L: 6889.4575\n",
      "Iteration 9 \n",
      "        L: 6096.0791\n",
      "Iteration 12 \n",
      "        L: 6447.6929\n",
      "Iteration 15 \n",
      "        L: 6132.0391\n",
      "Iteration 18 \n",
      "        L: 6239.4365\n",
      "Iteration 21 \n",
      "        L: 6130.4214\n",
      "Iteration 24 \n",
      "        L: 6137.8154\n",
      "Iteration 27 \n",
      "        L: 5984.4844\n",
      "Iteration 30 \n",
      "        L: 6128.8682\n",
      "Iteration 33 \n",
      "        L: 6125.1431\n",
      "\n"
     ]
    },
    {
     "data": {
      "application/vnd.jupyter.widget-view+json": {
       "model_id": "",
       "version_major": 2,
       "version_minor": 0
      },
      "text/plain": [
       "HBox(children=(IntProgress(value=0, max=35), HTML(value='')))"
      ]
     },
     "metadata": {},
     "output_type": "display_data"
    },
    {
     "name": "stdout",
     "output_type": "stream",
     "text": [
      "Iteration 3 \n",
      "        L: 5901.5532\n",
      "Iteration 6 \n",
      "        L: 6232.7090\n",
      "Iteration 9 \n",
      "        L: 6146.8154\n",
      "Iteration 12 \n",
      "        L: 6002.2510\n",
      "Iteration 15 \n",
      "        L: 5850.7432\n",
      "Iteration 18 \n",
      "        L: 6200.1064\n",
      "Iteration 21 \n",
      "        L: 6088.0205\n",
      "Iteration 24 \n",
      "        L: 5958.3174\n",
      "Iteration 27 \n",
      "        L: 6466.7583\n",
      "Iteration 30 \n",
      "        L: 5948.5830\n",
      "Iteration 33 \n",
      "        L: 6008.4727\n",
      "\n"
     ]
    },
    {
     "data": {
      "application/vnd.jupyter.widget-view+json": {
       "model_id": "",
       "version_major": 2,
       "version_minor": 0
      },
      "text/plain": [
       "HBox(children=(IntProgress(value=0, max=35), HTML(value='')))"
      ]
     },
     "metadata": {},
     "output_type": "display_data"
    },
    {
     "name": "stdout",
     "output_type": "stream",
     "text": [
      "Iteration 3 \n",
      "        L: 6060.3809\n",
      "Iteration 6 \n",
      "        L: 5932.6577\n",
      "Iteration 9 \n",
      "        L: 6103.7207\n",
      "Iteration 12 \n",
      "        L: 6040.2314\n",
      "Iteration 15 \n",
      "        L: 6015.9404\n",
      "Iteration 18 \n",
      "        L: 5758.0479\n",
      "Iteration 21 \n",
      "        L: 6052.4795\n",
      "Iteration 24 \n",
      "        L: 5767.2197\n",
      "Iteration 27 \n",
      "        L: 6078.3584\n",
      "Iteration 30 \n",
      "        L: 5897.4883\n",
      "Iteration 33 \n",
      "        L: 5816.8711\n",
      "\n"
     ]
    },
    {
     "data": {
      "application/vnd.jupyter.widget-view+json": {
       "model_id": "",
       "version_major": 2,
       "version_minor": 0
      },
      "text/plain": [
       "HBox(children=(IntProgress(value=0, max=35), HTML(value='')))"
      ]
     },
     "metadata": {},
     "output_type": "display_data"
    },
    {
     "name": "stdout",
     "output_type": "stream",
     "text": [
      "Iteration 3 \n",
      "        L: 5752.4961\n",
      "Iteration 6 \n",
      "        L: 5941.2827\n",
      "Iteration 9 \n",
      "        L: 5761.1084\n",
      "Iteration 12 \n",
      "        L: 5856.3760\n",
      "Iteration 15 \n",
      "        L: 5666.9155\n",
      "Iteration 18 \n",
      "        L: 5753.4106\n",
      "Iteration 21 \n",
      "        L: 5629.9399\n",
      "Iteration 24 \n",
      "        L: 5675.2114\n",
      "Iteration 27 \n",
      "        L: 5731.7925\n",
      "Iteration 30 \n",
      "        L: 5761.2451\n",
      "Iteration 33 \n",
      "        L: 5609.4805\n",
      "\n"
     ]
    },
    {
     "data": {
      "application/vnd.jupyter.widget-view+json": {
       "model_id": "",
       "version_major": 2,
       "version_minor": 0
      },
      "text/plain": [
       "HBox(children=(IntProgress(value=0, max=35), HTML(value='')))"
      ]
     },
     "metadata": {},
     "output_type": "display_data"
    },
    {
     "name": "stdout",
     "output_type": "stream",
     "text": [
      "Iteration 3 \n",
      "        L: 5628.7344\n",
      "Iteration 6 \n",
      "        L: 5652.0059\n",
      "Iteration 9 \n",
      "        L: 5723.9131\n",
      "Iteration 12 \n",
      "        L: 5585.0537\n",
      "Iteration 15 \n",
      "        L: 5648.0674\n",
      "Iteration 18 \n",
      "        L: 5809.6699\n",
      "Iteration 21 \n",
      "        L: 6020.1377\n",
      "Iteration 24 \n",
      "        L: 5651.8403\n",
      "Iteration 27 \n",
      "        L: 5601.8389\n",
      "Iteration 30 \n",
      "        L: 5970.4741\n",
      "Iteration 33 \n",
      "        L: 5614.9482\n",
      "\n"
     ]
    },
    {
     "data": {
      "application/vnd.jupyter.widget-view+json": {
       "model_id": "",
       "version_major": 2,
       "version_minor": 0
      },
      "text/plain": [
       "HBox(children=(IntProgress(value=0, max=35), HTML(value='')))"
      ]
     },
     "metadata": {},
     "output_type": "display_data"
    },
    {
     "name": "stdout",
     "output_type": "stream",
     "text": [
      "Iteration 3 \n",
      "        L: 5628.6064\n",
      "Iteration 6 \n",
      "        L: 5586.9102\n",
      "Iteration 9 \n",
      "        L: 5512.5278\n",
      "Iteration 12 \n",
      "        L: 5741.4814\n",
      "Iteration 15 \n",
      "        L: 5477.2852\n",
      "Iteration 18 \n",
      "        L: 5489.7666\n",
      "Iteration 21 \n",
      "        L: 5451.3149\n",
      "Iteration 24 \n",
      "        L: 5585.0073\n",
      "Iteration 27 \n",
      "        L: 5586.4414\n",
      "Iteration 30 \n",
      "        L: 5483.0762\n",
      "Iteration 33 \n",
      "        L: 5896.8848\n",
      "\n"
     ]
    },
    {
     "data": {
      "application/vnd.jupyter.widget-view+json": {
       "model_id": "",
       "version_major": 2,
       "version_minor": 0
      },
      "text/plain": [
       "HBox(children=(IntProgress(value=0, max=35), HTML(value='')))"
      ]
     },
     "metadata": {},
     "output_type": "display_data"
    },
    {
     "name": "stdout",
     "output_type": "stream",
     "text": [
      "Iteration 3 \n",
      "        L: 5500.6123\n",
      "Iteration 6 \n",
      "        L: 5607.6338\n",
      "Iteration 9 \n",
      "        L: 5379.9580\n",
      "Iteration 12 \n",
      "        L: 5371.0347\n",
      "Iteration 15 \n",
      "        L: 5400.5498\n",
      "Iteration 18 \n",
      "        L: 5579.0000\n",
      "Iteration 21 \n",
      "        L: 5288.8564\n",
      "Iteration 24 \n",
      "        L: 5685.2422\n",
      "Iteration 27 \n",
      "        L: 5332.5791\n",
      "Iteration 30 \n",
      "        L: 5895.3662\n",
      "Iteration 33 \n",
      "        L: 5501.1431\n",
      "\n"
     ]
    },
    {
     "data": {
      "application/vnd.jupyter.widget-view+json": {
       "model_id": "",
       "version_major": 2,
       "version_minor": 0
      },
      "text/plain": [
       "HBox(children=(IntProgress(value=0, max=35), HTML(value='')))"
      ]
     },
     "metadata": {},
     "output_type": "display_data"
    },
    {
     "name": "stdout",
     "output_type": "stream",
     "text": [
      "Iteration 3 \n",
      "        L: 5575.9912\n",
      "Iteration 6 \n",
      "        L: 5326.8638\n",
      "Iteration 9 \n",
      "        L: 5273.7788\n",
      "Iteration 12 \n",
      "        L: 5638.3262\n",
      "Iteration 15 \n",
      "        L: 5351.0063\n",
      "Iteration 18 \n",
      "        L: 5351.2983\n",
      "Iteration 21 \n",
      "        L: 5238.5806\n",
      "Iteration 24 \n",
      "        L: 5269.0703\n",
      "Iteration 27 \n",
      "        L: 5232.1167\n",
      "Iteration 30 \n",
      "        L: 5248.2056\n",
      "Iteration 33 \n",
      "        L: 5158.1494\n",
      "\n"
     ]
    },
    {
     "data": {
      "application/vnd.jupyter.widget-view+json": {
       "model_id": "",
       "version_major": 2,
       "version_minor": 0
      },
      "text/plain": [
       "HBox(children=(IntProgress(value=0, max=35), HTML(value='')))"
      ]
     },
     "metadata": {},
     "output_type": "display_data"
    },
    {
     "name": "stdout",
     "output_type": "stream",
     "text": [
      "Iteration 3 \n",
      "        L: 5280.3696\n",
      "Iteration 6 \n",
      "        L: 5240.9502\n",
      "Iteration 9 \n",
      "        L: 5304.3320\n",
      "Iteration 12 \n",
      "        L: 5431.7046\n",
      "Iteration 15 \n",
      "        L: 5175.3086\n",
      "Iteration 18 \n",
      "        L: 5585.5078\n",
      "Iteration 21 \n",
      "        L: 5273.0615\n",
      "Iteration 24 \n",
      "        L: 5245.2490\n",
      "Iteration 27 \n",
      "        L: 5257.2314\n",
      "Iteration 30 \n",
      "        L: 5214.1162\n",
      "Iteration 33 \n",
      "        L: 5179.0762\n",
      "\n"
     ]
    },
    {
     "data": {
      "application/vnd.jupyter.widget-view+json": {
       "model_id": "",
       "version_major": 2,
       "version_minor": 0
      },
      "text/plain": [
       "HBox(children=(IntProgress(value=0, max=35), HTML(value='')))"
      ]
     },
     "metadata": {},
     "output_type": "display_data"
    },
    {
     "name": "stdout",
     "output_type": "stream",
     "text": [
      "Iteration 3 \n",
      "        L: 5208.8379\n",
      "Iteration 6 \n",
      "        L: 5280.6836\n",
      "Iteration 9 \n",
      "        L: 5352.0762\n",
      "Iteration 12 \n",
      "        L: 5199.4834\n",
      "Iteration 15 \n",
      "        L: 5263.0859\n",
      "Iteration 18 \n",
      "        L: 5263.4414\n",
      "Iteration 21 \n",
      "        L: 5070.8291\n",
      "Iteration 24 \n",
      "        L: 5103.8838\n",
      "Iteration 27 \n",
      "        L: 5157.4707\n",
      "Iteration 30 \n",
      "        L: 5103.7100\n",
      "Iteration 33 \n",
      "        L: 5188.3569\n",
      "\n"
     ]
    },
    {
     "data": {
      "application/vnd.jupyter.widget-view+json": {
       "model_id": "",
       "version_major": 2,
       "version_minor": 0
      },
      "text/plain": [
       "HBox(children=(IntProgress(value=0, max=35), HTML(value='')))"
      ]
     },
     "metadata": {},
     "output_type": "display_data"
    },
    {
     "name": "stdout",
     "output_type": "stream",
     "text": [
      "Iteration 3 \n",
      "        L: 5401.6489\n",
      "Iteration 6 \n",
      "        L: 5059.5664\n",
      "Iteration 9 \n",
      "        L: 5185.9307\n",
      "Iteration 12 \n",
      "        L: 5152.5815\n",
      "Iteration 15 \n",
      "        L: 5090.6904\n",
      "Iteration 18 \n",
      "        L: 5300.7451\n",
      "Iteration 21 \n",
      "        L: 5121.2500\n",
      "Iteration 24 \n",
      "        L: 5234.0469\n",
      "Iteration 27 \n",
      "        L: 5044.3369\n",
      "Iteration 30 \n",
      "        L: 5245.4199\n",
      "Iteration 33 \n",
      "        L: 5166.8232\n",
      "\n"
     ]
    },
    {
     "data": {
      "application/vnd.jupyter.widget-view+json": {
       "model_id": "",
       "version_major": 2,
       "version_minor": 0
      },
      "text/plain": [
       "HBox(children=(IntProgress(value=0, max=35), HTML(value='')))"
      ]
     },
     "metadata": {},
     "output_type": "display_data"
    },
    {
     "name": "stdout",
     "output_type": "stream",
     "text": [
      "Iteration 3 \n",
      "        L: 5126.4463\n",
      "Iteration 6 \n",
      "        L: 5237.9111\n",
      "Iteration 9 \n",
      "        L: 5075.0513\n",
      "Iteration 12 \n",
      "        L: 4974.5098\n",
      "Iteration 15 \n",
      "        L: 5092.0674\n",
      "Iteration 18 \n",
      "        L: 5084.3901\n",
      "Iteration 21 \n",
      "        L: 5014.9551\n",
      "Iteration 24 \n",
      "        L: 4962.9385\n",
      "Iteration 27 \n",
      "        L: 5386.9126\n",
      "Iteration 30 \n",
      "        L: 5071.6792\n",
      "Iteration 33 \n",
      "        L: 5086.5967\n",
      "\n"
     ]
    },
    {
     "data": {
      "application/vnd.jupyter.widget-view+json": {
       "model_id": "",
       "version_major": 2,
       "version_minor": 0
      },
      "text/plain": [
       "HBox(children=(IntProgress(value=0, max=35), HTML(value='')))"
      ]
     },
     "metadata": {},
     "output_type": "display_data"
    },
    {
     "name": "stdout",
     "output_type": "stream",
     "text": [
      "Iteration 3 \n",
      "        L: 5017.8315\n",
      "Iteration 6 \n",
      "        L: 4970.1680\n",
      "Iteration 9 \n",
      "        L: 5033.2637\n",
      "Iteration 12 \n",
      "        L: 5667.6230\n",
      "Iteration 15 \n",
      "        L: 5230.4614\n",
      "Iteration 18 \n",
      "        L: 5264.5371\n",
      "Iteration 21 \n",
      "        L: 5189.5015\n",
      "Iteration 24 \n",
      "        L: 5315.8135\n",
      "Iteration 27 \n",
      "        L: 4865.7222\n",
      "Iteration 30 \n",
      "        L: 5009.1914\n",
      "Iteration 33 \n",
      "        L: 4916.2529\n",
      "\n"
     ]
    },
    {
     "data": {
      "application/vnd.jupyter.widget-view+json": {
       "model_id": "",
       "version_major": 2,
       "version_minor": 0
      },
      "text/plain": [
       "HBox(children=(IntProgress(value=0, max=35), HTML(value='')))"
      ]
     },
     "metadata": {},
     "output_type": "display_data"
    },
    {
     "name": "stdout",
     "output_type": "stream",
     "text": [
      "Iteration 3 \n",
      "        L: 4941.7139\n",
      "Iteration 6 \n",
      "        L: 4985.9316\n",
      "Iteration 9 \n",
      "        L: 4889.7603\n",
      "Iteration 12 \n",
      "        L: 5022.9688\n",
      "Iteration 15 \n",
      "        L: 4902.7354\n",
      "Iteration 18 \n",
      "        L: 4964.6211\n",
      "Iteration 21 \n",
      "        L: 4927.9224\n",
      "Iteration 24 \n",
      "        L: 4924.3462\n",
      "Iteration 27 \n",
      "        L: 5084.2100\n",
      "Iteration 30 \n",
      "        L: 4881.5693\n",
      "Iteration 33 \n",
      "        L: 4878.6343\n",
      "\n"
     ]
    },
    {
     "data": {
      "application/vnd.jupyter.widget-view+json": {
       "model_id": "",
       "version_major": 2,
       "version_minor": 0
      },
      "text/plain": [
       "HBox(children=(IntProgress(value=0, max=35), HTML(value='')))"
      ]
     },
     "metadata": {},
     "output_type": "display_data"
    },
    {
     "name": "stdout",
     "output_type": "stream",
     "text": [
      "Iteration 3 \n",
      "        L: 4888.4849\n",
      "Iteration 6 \n",
      "        L: 4842.2773\n",
      "Iteration 9 \n",
      "        L: 4900.9258\n",
      "Iteration 12 \n",
      "        L: 4828.1367\n",
      "Iteration 15 \n",
      "        L: 4812.3271\n",
      "Iteration 18 \n",
      "        L: 4857.8423\n",
      "Iteration 21 \n",
      "        L: 4798.1494\n",
      "Iteration 24 \n",
      "        L: 4795.6270\n",
      "Iteration 27 \n",
      "        L: 4849.5547\n",
      "Iteration 30 \n",
      "        L: 4892.3711\n",
      "Iteration 33 \n",
      "        L: 4949.3389\n",
      "\n"
     ]
    },
    {
     "data": {
      "application/vnd.jupyter.widget-view+json": {
       "model_id": "",
       "version_major": 2,
       "version_minor": 0
      },
      "text/plain": [
       "HBox(children=(IntProgress(value=0, max=35), HTML(value='')))"
      ]
     },
     "metadata": {},
     "output_type": "display_data"
    },
    {
     "name": "stdout",
     "output_type": "stream",
     "text": [
      "Iteration 3 \n",
      "        L: 5036.1279\n",
      "Iteration 6 \n",
      "        L: 4909.9756\n",
      "Iteration 9 \n",
      "        L: 4757.3755\n",
      "Iteration 12 \n",
      "        L: 4779.6221\n",
      "Iteration 15 \n",
      "        L: 4757.9067\n",
      "Iteration 18 \n",
      "        L: 4778.6714\n",
      "Iteration 21 \n",
      "        L: 4861.9639\n",
      "Iteration 24 \n",
      "        L: 4961.5850\n",
      "Iteration 27 \n",
      "        L: 5191.6431\n",
      "Iteration 30 \n",
      "        L: 5101.0063\n",
      "Iteration 33 \n",
      "        L: 4921.3560\n",
      "\n"
     ]
    },
    {
     "data": {
      "application/vnd.jupyter.widget-view+json": {
       "model_id": "",
       "version_major": 2,
       "version_minor": 0
      },
      "text/plain": [
       "HBox(children=(IntProgress(value=0, max=35), HTML(value='')))"
      ]
     },
     "metadata": {},
     "output_type": "display_data"
    },
    {
     "name": "stdout",
     "output_type": "stream",
     "text": [
      "Iteration 3 \n",
      "        L: 4944.8286\n",
      "Iteration 6 \n",
      "        L: 4788.5156\n",
      "Iteration 9 \n",
      "        L: 4963.1592\n",
      "Iteration 12 \n",
      "        L: 4730.5928\n",
      "Iteration 15 \n",
      "        L: 4899.1553\n",
      "Iteration 18 \n",
      "        L: 4721.4282\n",
      "Iteration 21 \n",
      "        L: 4777.4629\n",
      "Iteration 24 \n",
      "        L: 4765.9795\n",
      "Iteration 27 \n",
      "        L: 4722.0942\n",
      "Iteration 30 \n",
      "        L: 4770.3369\n",
      "Iteration 33 \n",
      "        L: 4877.8555\n",
      "\n"
     ]
    },
    {
     "data": {
      "application/vnd.jupyter.widget-view+json": {
       "model_id": "",
       "version_major": 2,
       "version_minor": 0
      },
      "text/plain": [
       "HBox(children=(IntProgress(value=0, max=35), HTML(value='')))"
      ]
     },
     "metadata": {},
     "output_type": "display_data"
    },
    {
     "name": "stdout",
     "output_type": "stream",
     "text": [
      "Iteration 3 \n",
      "        L: 4824.0029\n",
      "Iteration 6 \n",
      "        L: 5335.4497\n",
      "Iteration 9 \n",
      "        L: 4997.7749\n",
      "Iteration 12 \n",
      "        L: 4946.6357\n",
      "Iteration 15 \n",
      "        L: 5095.9609\n",
      "Iteration 18 \n",
      "        L: 4690.1152\n",
      "Iteration 21 \n",
      "        L: 4748.7456\n",
      "Iteration 24 \n",
      "        L: 4664.5264\n",
      "Iteration 27 \n",
      "        L: 4796.4214\n",
      "Iteration 30 \n",
      "        L: 4702.8208\n",
      "Iteration 33 \n",
      "        L: 4674.3276\n",
      "\n"
     ]
    },
    {
     "data": {
      "application/vnd.jupyter.widget-view+json": {
       "model_id": "",
       "version_major": 2,
       "version_minor": 0
      },
      "text/plain": [
       "HBox(children=(IntProgress(value=0, max=35), HTML(value='')))"
      ]
     },
     "metadata": {},
     "output_type": "display_data"
    },
    {
     "name": "stdout",
     "output_type": "stream",
     "text": [
      "Iteration 3 \n",
      "        L: 4809.9941\n",
      "Iteration 6 \n",
      "        L: 4682.1299\n",
      "Iteration 9 \n",
      "        L: 4685.5029\n",
      "Iteration 12 \n",
      "        L: 4797.1572\n",
      "Iteration 15 \n",
      "        L: 4720.0273\n",
      "Iteration 18 \n",
      "        L: 4748.4521\n",
      "Iteration 21 \n",
      "        L: 4864.8721\n",
      "Iteration 24 \n",
      "        L: 4598.4287\n",
      "Iteration 27 \n",
      "        L: 4682.9795\n",
      "Iteration 30 \n",
      "        L: 4849.5601\n",
      "Iteration 33 \n",
      "        L: 4645.0474\n",
      "\n"
     ]
    },
    {
     "data": {
      "application/vnd.jupyter.widget-view+json": {
       "model_id": "",
       "version_major": 2,
       "version_minor": 0
      },
      "text/plain": [
       "HBox(children=(IntProgress(value=0, max=35), HTML(value='')))"
      ]
     },
     "metadata": {},
     "output_type": "display_data"
    },
    {
     "name": "stdout",
     "output_type": "stream",
     "text": [
      "Iteration 3 \n",
      "        L: 4702.0972\n",
      "Iteration 6 \n",
      "        L: 4764.9346\n",
      "Iteration 9 \n",
      "        L: 4654.9561\n",
      "Iteration 12 \n",
      "        L: 4621.4331\n",
      "Iteration 15 \n",
      "        L: 4635.9990\n",
      "Iteration 18 \n",
      "        L: 4940.0298\n",
      "Iteration 21 \n",
      "        L: 4601.9839\n",
      "Iteration 24 \n",
      "        L: 4835.3154\n",
      "Iteration 27 \n",
      "        L: 4790.7021\n",
      "Iteration 30 \n",
      "        L: 4737.0527\n",
      "Iteration 33 \n",
      "        L: 5015.2612\n",
      "\n"
     ]
    },
    {
     "data": {
      "application/vnd.jupyter.widget-view+json": {
       "model_id": "",
       "version_major": 2,
       "version_minor": 0
      },
      "text/plain": [
       "HBox(children=(IntProgress(value=0, max=35), HTML(value='')))"
      ]
     },
     "metadata": {},
     "output_type": "display_data"
    },
    {
     "name": "stdout",
     "output_type": "stream",
     "text": [
      "Iteration 3 \n",
      "        L: 4706.6992\n",
      "Iteration 6 \n",
      "        L: 4593.2812\n",
      "Iteration 9 \n",
      "        L: 5248.7842\n",
      "Iteration 12 \n",
      "        L: 4533.4521\n",
      "Iteration 15 \n",
      "        L: 4676.4048\n",
      "Iteration 18 \n",
      "        L: 4586.2417\n",
      "Iteration 21 \n",
      "        L: 5013.4326\n",
      "Iteration 24 \n",
      "        L: 4537.6455\n",
      "Iteration 27 \n",
      "        L: 5079.6807\n",
      "Iteration 30 \n",
      "        L: 4845.4595\n",
      "Iteration 33 \n",
      "        L: 4735.7842\n",
      "\n"
     ]
    },
    {
     "data": {
      "application/vnd.jupyter.widget-view+json": {
       "model_id": "",
       "version_major": 2,
       "version_minor": 0
      },
      "text/plain": [
       "HBox(children=(IntProgress(value=0, max=35), HTML(value='')))"
      ]
     },
     "metadata": {},
     "output_type": "display_data"
    },
    {
     "name": "stdout",
     "output_type": "stream",
     "text": [
      "Iteration 3 \n",
      "        L: 4608.4258\n",
      "Iteration 6 \n",
      "        L: 4795.6782\n",
      "Iteration 9 \n",
      "        L: 4919.5518\n",
      "Iteration 12 \n",
      "        L: 4440.3535\n",
      "Iteration 15 \n",
      "        L: 4665.3311\n",
      "Iteration 18 \n",
      "        L: 4620.8770\n",
      "Iteration 21 \n",
      "        L: 4471.8354\n",
      "Iteration 24 \n",
      "        L: 4621.6519\n",
      "Iteration 27 \n",
      "        L: 4532.9028\n",
      "Iteration 30 \n",
      "        L: 4510.8159\n",
      "Iteration 33 \n",
      "        L: 4756.6411\n",
      "\n"
     ]
    },
    {
     "data": {
      "application/vnd.jupyter.widget-view+json": {
       "model_id": "",
       "version_major": 2,
       "version_minor": 0
      },
      "text/plain": [
       "HBox(children=(IntProgress(value=0, max=35), HTML(value='')))"
      ]
     },
     "metadata": {},
     "output_type": "display_data"
    },
    {
     "name": "stdout",
     "output_type": "stream",
     "text": [
      "Iteration 3 \n",
      "        L: 4515.6890\n",
      "Iteration 6 \n",
      "        L: 4562.6602\n",
      "Iteration 9 \n",
      "        L: 4539.3643\n",
      "Iteration 12 \n",
      "        L: 4540.3281\n",
      "Iteration 15 \n",
      "        L: 4555.7510\n",
      "Iteration 18 \n",
      "        L: 4502.7666\n",
      "Iteration 21 \n",
      "        L: 4604.3706\n",
      "Iteration 24 \n",
      "        L: 4572.0415\n",
      "Iteration 27 \n",
      "        L: 4450.3730\n",
      "Iteration 30 \n",
      "        L: 4584.8120\n",
      "Iteration 33 \n",
      "        L: 4646.5928\n",
      "\n"
     ]
    },
    {
     "data": {
      "application/vnd.jupyter.widget-view+json": {
       "model_id": "",
       "version_major": 2,
       "version_minor": 0
      },
      "text/plain": [
       "HBox(children=(IntProgress(value=0, max=35), HTML(value='')))"
      ]
     },
     "metadata": {},
     "output_type": "display_data"
    },
    {
     "name": "stdout",
     "output_type": "stream",
     "text": [
      "Iteration 3 \n",
      "        L: 4678.6201\n",
      "Iteration 6 \n",
      "        L: 4625.7700\n",
      "Iteration 9 \n",
      "        L: 4562.8730\n",
      "Iteration 12 \n",
      "        L: 4485.3530\n",
      "Iteration 15 \n",
      "        L: 4503.0718\n",
      "Iteration 18 \n",
      "        L: 4462.4868\n",
      "Iteration 21 \n",
      "        L: 4469.4521\n",
      "Iteration 24 \n",
      "        L: 4476.8096\n",
      "Iteration 27 \n",
      "        L: 4473.3506\n",
      "Iteration 30 \n",
      "        L: 4444.5352\n",
      "Iteration 33 \n",
      "        L: 4442.3613\n",
      "\n"
     ]
    },
    {
     "data": {
      "application/vnd.jupyter.widget-view+json": {
       "model_id": "",
       "version_major": 2,
       "version_minor": 0
      },
      "text/plain": [
       "HBox(children=(IntProgress(value=0, max=35), HTML(value='')))"
      ]
     },
     "metadata": {},
     "output_type": "display_data"
    },
    {
     "name": "stdout",
     "output_type": "stream",
     "text": [
      "Iteration 3 \n",
      "        L: 4561.2100\n",
      "Iteration 6 \n",
      "        L: 4754.6875\n",
      "Iteration 9 \n",
      "        L: 4390.5088\n",
      "Iteration 12 \n",
      "        L: 4609.5186\n",
      "Iteration 15 \n",
      "        L: 4549.3535\n",
      "Iteration 18 \n",
      "        L: 4470.1455\n",
      "Iteration 21 \n",
      "        L: 4571.3101\n",
      "Iteration 24 \n",
      "        L: 4416.8555\n",
      "Iteration 27 \n",
      "        L: 4472.9980\n",
      "Iteration 30 \n",
      "        L: 4706.0903\n",
      "Iteration 33 \n",
      "        L: 4775.5142\n",
      "\n"
     ]
    },
    {
     "data": {
      "application/vnd.jupyter.widget-view+json": {
       "model_id": "",
       "version_major": 2,
       "version_minor": 0
      },
      "text/plain": [
       "HBox(children=(IntProgress(value=0, max=35), HTML(value='')))"
      ]
     },
     "metadata": {},
     "output_type": "display_data"
    },
    {
     "name": "stdout",
     "output_type": "stream",
     "text": [
      "Iteration 3 \n",
      "        L: 4761.3564\n",
      "Iteration 6 \n",
      "        L: 4407.8340\n",
      "Iteration 9 \n",
      "        L: 4669.9463\n",
      "Iteration 12 \n",
      "        L: 4456.5391\n",
      "Iteration 15 \n",
      "        L: 4492.3354\n",
      "Iteration 18 \n",
      "        L: 4373.9199\n",
      "Iteration 21 \n",
      "        L: 4567.5693\n",
      "Iteration 24 \n",
      "        L: 4680.4893\n",
      "Iteration 27 \n",
      "        L: 4518.4014\n",
      "Iteration 30 \n",
      "        L: 4455.3467\n",
      "Iteration 33 \n",
      "        L: 4625.0449\n",
      "\n"
     ]
    },
    {
     "data": {
      "application/vnd.jupyter.widget-view+json": {
       "model_id": "",
       "version_major": 2,
       "version_minor": 0
      },
      "text/plain": [
       "HBox(children=(IntProgress(value=0, max=35), HTML(value='')))"
      ]
     },
     "metadata": {},
     "output_type": "display_data"
    },
    {
     "name": "stdout",
     "output_type": "stream",
     "text": [
      "Iteration 3 \n",
      "        L: 4472.3164\n",
      "Iteration 6 \n",
      "        L: 4322.7500\n",
      "Iteration 9 \n",
      "        L: 4541.7515\n",
      "Iteration 12 \n",
      "        L: 4348.6455\n",
      "Iteration 15 \n",
      "        L: 4479.2070\n",
      "Iteration 18 \n",
      "        L: 4422.2891\n",
      "Iteration 21 \n",
      "        L: 4653.0840\n",
      "Iteration 24 \n",
      "        L: 4385.5327\n",
      "Iteration 27 \n",
      "        L: 4527.8076\n",
      "Iteration 30 \n",
      "        L: 4438.8740\n",
      "Iteration 33 \n",
      "        L: 4570.0322\n",
      "\n"
     ]
    },
    {
     "data": {
      "application/vnd.jupyter.widget-view+json": {
       "model_id": "",
       "version_major": 2,
       "version_minor": 0
      },
      "text/plain": [
       "HBox(children=(IntProgress(value=0, max=35), HTML(value='')))"
      ]
     },
     "metadata": {},
     "output_type": "display_data"
    },
    {
     "name": "stdout",
     "output_type": "stream",
     "text": [
      "Iteration 3 \n",
      "        L: 4377.6753\n",
      "Iteration 6 \n",
      "        L: 4367.1729\n",
      "Iteration 9 \n",
      "        L: 4550.1689\n",
      "Iteration 12 \n",
      "        L: 4388.3242\n",
      "Iteration 15 \n",
      "        L: 4471.4766\n",
      "Iteration 18 \n",
      "        L: 4512.1831\n",
      "Iteration 21 \n",
      "        L: 4362.9478\n",
      "Iteration 24 \n",
      "        L: 4481.5020\n",
      "Iteration 27 \n",
      "        L: 4269.3208\n",
      "Iteration 30 \n",
      "        L: 4669.5649\n",
      "Iteration 33 \n",
      "        L: 4313.4268\n",
      "\n"
     ]
    },
    {
     "data": {
      "application/vnd.jupyter.widget-view+json": {
       "model_id": "",
       "version_major": 2,
       "version_minor": 0
      },
      "text/plain": [
       "HBox(children=(IntProgress(value=0, max=35), HTML(value='')))"
      ]
     },
     "metadata": {},
     "output_type": "display_data"
    },
    {
     "name": "stdout",
     "output_type": "stream",
     "text": [
      "Iteration 3 \n",
      "        L: 4496.5518\n",
      "Iteration 6 \n",
      "        L: 4427.3677\n",
      "Iteration 9 \n",
      "        L: 4658.4546\n",
      "Iteration 12 \n",
      "        L: 4287.2539\n",
      "Iteration 15 \n",
      "        L: 4424.6631\n",
      "Iteration 18 \n",
      "        L: 4325.3516\n",
      "Iteration 21 \n",
      "        L: 4337.7695\n",
      "Iteration 24 \n",
      "        L: 4415.1069\n",
      "Iteration 27 \n",
      "        L: 4229.4795\n",
      "Iteration 30 \n",
      "        L: 4434.3032\n",
      "Iteration 33 \n",
      "        L: 4266.1104\n",
      "\n"
     ]
    },
    {
     "data": {
      "application/vnd.jupyter.widget-view+json": {
       "model_id": "",
       "version_major": 2,
       "version_minor": 0
      },
      "text/plain": [
       "HBox(children=(IntProgress(value=0, max=35), HTML(value='')))"
      ]
     },
     "metadata": {},
     "output_type": "display_data"
    },
    {
     "name": "stdout",
     "output_type": "stream",
     "text": [
      "Iteration 3 \n",
      "        L: 4673.0068\n",
      "Iteration 6 \n",
      "        L: 4345.4395\n",
      "Iteration 9 \n",
      "        L: 4361.4590\n",
      "Iteration 12 \n",
      "        L: 4471.4385\n",
      "Iteration 15 \n",
      "        L: 4294.1890\n",
      "Iteration 18 \n",
      "        L: 4355.1611\n",
      "Iteration 21 \n",
      "        L: 4268.5029\n",
      "Iteration 24 \n",
      "        L: 4321.9414\n",
      "Iteration 27 \n",
      "        L: 4300.3721\n",
      "Iteration 30 \n",
      "        L: 4233.7539\n",
      "Iteration 33 \n",
      "        L: 4277.1860\n",
      "\n"
     ]
    },
    {
     "data": {
      "application/vnd.jupyter.widget-view+json": {
       "model_id": "",
       "version_major": 2,
       "version_minor": 0
      },
      "text/plain": [
       "HBox(children=(IntProgress(value=0, max=35), HTML(value='')))"
      ]
     },
     "metadata": {},
     "output_type": "display_data"
    },
    {
     "name": "stdout",
     "output_type": "stream",
     "text": [
      "Iteration 3 \n",
      "        L: 4253.5156\n",
      "Iteration 6 \n",
      "        L: 4244.5879\n",
      "Iteration 9 \n",
      "        L: 4204.6123\n",
      "Iteration 12 \n",
      "        L: 4128.4307\n",
      "Iteration 15 \n",
      "        L: 4245.4521\n",
      "Iteration 18 \n",
      "        L: 4254.4854\n",
      "Iteration 21 \n",
      "        L: 4302.8457\n",
      "Iteration 24 \n",
      "        L: 4262.8457\n",
      "Iteration 27 \n",
      "        L: 4247.9360\n",
      "Iteration 30 \n",
      "        L: 4302.6250\n",
      "Iteration 33 \n",
      "        L: 4406.7388\n",
      "\n"
     ]
    },
    {
     "data": {
      "application/vnd.jupyter.widget-view+json": {
       "model_id": "",
       "version_major": 2,
       "version_minor": 0
      },
      "text/plain": [
       "HBox(children=(IntProgress(value=0, max=35), HTML(value='')))"
      ]
     },
     "metadata": {},
     "output_type": "display_data"
    },
    {
     "name": "stdout",
     "output_type": "stream",
     "text": [
      "Iteration 3 \n",
      "        L: 4302.5596\n",
      "Iteration 6 \n",
      "        L: 4231.3867\n",
      "Iteration 9 \n",
      "        L: 4320.6816\n",
      "Iteration 12 \n",
      "        L: 4310.1982\n",
      "Iteration 15 \n",
      "        L: 4308.8091\n",
      "Iteration 18 \n",
      "        L: 4207.4717\n",
      "Iteration 21 \n",
      "        L: 4464.2695\n",
      "Iteration 24 \n",
      "        L: 4635.2124\n",
      "Iteration 27 \n",
      "        L: 4291.7891\n",
      "Iteration 30 \n",
      "        L: 4333.6177\n",
      "Iteration 33 \n",
      "        L: 4207.1294\n",
      "\n"
     ]
    },
    {
     "data": {
      "application/vnd.jupyter.widget-view+json": {
       "model_id": "",
       "version_major": 2,
       "version_minor": 0
      },
      "text/plain": [
       "HBox(children=(IntProgress(value=0, max=35), HTML(value='')))"
      ]
     },
     "metadata": {},
     "output_type": "display_data"
    },
    {
     "name": "stdout",
     "output_type": "stream",
     "text": [
      "Iteration 3 \n",
      "        L: 4224.8789\n",
      "Iteration 6 \n",
      "        L: 4225.7466\n",
      "Iteration 9 \n",
      "        L: 4299.7461\n",
      "Iteration 12 \n",
      "        L: 4555.3545\n",
      "Iteration 15 \n",
      "        L: 4180.8311\n",
      "Iteration 18 \n",
      "        L: 4698.0830\n",
      "Iteration 21 \n",
      "        L: 4913.0635\n",
      "Iteration 24 \n",
      "        L: 4321.7598\n",
      "Iteration 27 \n",
      "        L: 4408.3076\n",
      "Iteration 30 \n",
      "        L: 4596.2383\n",
      "Iteration 33 \n",
      "        L: 4243.8721\n",
      "\n"
     ]
    },
    {
     "data": {
      "application/vnd.jupyter.widget-view+json": {
       "model_id": "",
       "version_major": 2,
       "version_minor": 0
      },
      "text/plain": [
       "HBox(children=(IntProgress(value=0, max=35), HTML(value='')))"
      ]
     },
     "metadata": {},
     "output_type": "display_data"
    },
    {
     "name": "stdout",
     "output_type": "stream",
     "text": [
      "Iteration 3 \n",
      "        L: 4319.0410\n",
      "Iteration 6 \n",
      "        L: 4128.8716\n",
      "Iteration 9 \n",
      "        L: 4342.8154\n",
      "Iteration 12 \n",
      "        L: 4303.8296\n",
      "Iteration 15 \n",
      "        L: 4168.6025\n",
      "Iteration 18 \n",
      "        L: 4177.0571\n",
      "Iteration 21 \n",
      "        L: 4180.4170\n",
      "Iteration 24 \n",
      "        L: 4104.9731\n",
      "Iteration 27 \n",
      "        L: 4157.8525\n",
      "Iteration 30 \n",
      "        L: 4141.9912\n",
      "Iteration 33 \n",
      "        L: 4175.7246\n",
      "\n"
     ]
    },
    {
     "data": {
      "application/vnd.jupyter.widget-view+json": {
       "model_id": "",
       "version_major": 2,
       "version_minor": 0
      },
      "text/plain": [
       "HBox(children=(IntProgress(value=0, max=35), HTML(value='')))"
      ]
     },
     "metadata": {},
     "output_type": "display_data"
    },
    {
     "name": "stdout",
     "output_type": "stream",
     "text": [
      "Iteration 3 \n",
      "        L: 4174.2183\n",
      "Iteration 6 \n",
      "        L: 4156.2373\n",
      "Iteration 9 \n",
      "        L: 4282.9429\n",
      "Iteration 12 \n",
      "        L: 4108.8994\n",
      "Iteration 15 \n",
      "        L: 4152.5869\n",
      "Iteration 18 \n",
      "        L: 4076.1753\n",
      "Iteration 21 \n",
      "        L: 4183.9912\n",
      "Iteration 24 \n",
      "        L: 4466.9668\n",
      "Iteration 27 \n",
      "        L: 4148.4551\n",
      "Iteration 30 \n",
      "        L: 4322.2319\n",
      "Iteration 33 \n",
      "        L: 4112.1875\n",
      "\n"
     ]
    },
    {
     "data": {
      "application/vnd.jupyter.widget-view+json": {
       "model_id": "",
       "version_major": 2,
       "version_minor": 0
      },
      "text/plain": [
       "HBox(children=(IntProgress(value=0, max=35), HTML(value='')))"
      ]
     },
     "metadata": {},
     "output_type": "display_data"
    },
    {
     "name": "stdout",
     "output_type": "stream",
     "text": [
      "Iteration 3 \n",
      "        L: 4126.6230\n",
      "Iteration 6 \n",
      "        L: 4229.3779\n",
      "Iteration 9 \n",
      "        L: 4173.0630\n",
      "Iteration 12 \n",
      "        L: 4189.8564\n",
      "Iteration 15 \n",
      "        L: 4095.2573\n",
      "Iteration 18 \n",
      "        L: 4149.9419\n",
      "Iteration 21 \n",
      "        L: 4179.8086\n",
      "Iteration 24 \n",
      "        L: 4126.4858\n",
      "Iteration 27 \n",
      "        L: 4126.9077\n",
      "Iteration 30 \n",
      "        L: 4204.2393\n",
      "Iteration 33 \n",
      "        L: 4127.5371\n",
      "\n"
     ]
    },
    {
     "data": {
      "application/vnd.jupyter.widget-view+json": {
       "model_id": "",
       "version_major": 2,
       "version_minor": 0
      },
      "text/plain": [
       "HBox(children=(IntProgress(value=0, max=35), HTML(value='')))"
      ]
     },
     "metadata": {},
     "output_type": "display_data"
    },
    {
     "name": "stdout",
     "output_type": "stream",
     "text": [
      "Iteration 3 \n",
      "        L: 4063.9771\n",
      "Iteration 6 \n",
      "        L: 4219.4766\n",
      "Iteration 9 \n",
      "        L: 4202.5972\n",
      "Iteration 12 \n",
      "        L: 4068.2661\n",
      "Iteration 15 \n",
      "        L: 4173.9941\n",
      "Iteration 18 \n",
      "        L: 4095.1194\n",
      "Iteration 21 \n",
      "        L: 4063.3564\n",
      "Iteration 24 \n",
      "        L: 4087.0520\n",
      "Iteration 27 \n",
      "        L: 4010.6638\n",
      "Iteration 30 \n",
      "        L: 4168.0586\n",
      "Iteration 33 \n",
      "        L: 4760.6685\n",
      "\n"
     ]
    },
    {
     "data": {
      "application/vnd.jupyter.widget-view+json": {
       "model_id": "",
       "version_major": 2,
       "version_minor": 0
      },
      "text/plain": [
       "HBox(children=(IntProgress(value=0, max=35), HTML(value='')))"
      ]
     },
     "metadata": {},
     "output_type": "display_data"
    },
    {
     "name": "stdout",
     "output_type": "stream",
     "text": [
      "Iteration 3 \n",
      "        L: 4131.9092\n",
      "Iteration 6 \n",
      "        L: 4244.3940\n",
      "Iteration 9 \n",
      "        L: 4093.4495\n",
      "Iteration 12 \n",
      "        L: 4090.1201\n",
      "Iteration 15 \n",
      "        L: 4132.4141\n",
      "Iteration 18 \n",
      "        L: 4130.3535\n",
      "Iteration 21 \n",
      "        L: 4369.9658\n",
      "Iteration 24 \n",
      "        L: 4182.9873\n",
      "Iteration 27 \n",
      "        L: 4074.7539\n",
      "Iteration 30 \n",
      "        L: 4068.5972\n",
      "Iteration 33 \n",
      "        L: 4139.0591\n",
      "\n"
     ]
    },
    {
     "data": {
      "application/vnd.jupyter.widget-view+json": {
       "model_id": "",
       "version_major": 2,
       "version_minor": 0
      },
      "text/plain": [
       "HBox(children=(IntProgress(value=0, max=35), HTML(value='')))"
      ]
     },
     "metadata": {},
     "output_type": "display_data"
    },
    {
     "name": "stdout",
     "output_type": "stream",
     "text": [
      "Iteration 3 \n",
      "        L: 4055.8960\n",
      "Iteration 6 \n",
      "        L: 3997.3154\n",
      "Iteration 9 \n",
      "        L: 4058.8496\n",
      "Iteration 12 \n",
      "        L: 4038.2778\n",
      "Iteration 15 \n",
      "        L: 4054.9707\n",
      "Iteration 18 \n",
      "        L: 4189.2510\n",
      "Iteration 21 \n",
      "        L: 4878.6689\n",
      "Iteration 24 \n",
      "        L: 4116.0283\n",
      "Iteration 27 \n",
      "        L: 4171.8394\n",
      "Iteration 30 \n",
      "        L: 4096.3984\n",
      "Iteration 33 \n",
      "        L: 4049.2554\n",
      "\n"
     ]
    },
    {
     "data": {
      "application/vnd.jupyter.widget-view+json": {
       "model_id": "",
       "version_major": 2,
       "version_minor": 0
      },
      "text/plain": [
       "HBox(children=(IntProgress(value=0, max=35), HTML(value='')))"
      ]
     },
     "metadata": {},
     "output_type": "display_data"
    },
    {
     "name": "stdout",
     "output_type": "stream",
     "text": [
      "Iteration 3 \n",
      "        L: 4077.8296\n",
      "Iteration 6 \n",
      "        L: 3987.7612\n",
      "Iteration 9 \n",
      "        L: 4083.6682\n",
      "Iteration 12 \n",
      "        L: 4050.2168\n",
      "Iteration 15 \n",
      "        L: 4125.4141\n",
      "Iteration 18 \n",
      "        L: 4289.3867\n",
      "Iteration 21 \n",
      "        L: 4062.0156\n",
      "Iteration 24 \n",
      "        L: 4045.7832\n",
      "Iteration 27 \n",
      "        L: 4105.6758\n",
      "Iteration 30 \n",
      "        L: 4349.3633\n",
      "Iteration 33 \n",
      "        L: 4245.4185\n",
      "\n"
     ]
    },
    {
     "data": {
      "application/vnd.jupyter.widget-view+json": {
       "model_id": "",
       "version_major": 2,
       "version_minor": 0
      },
      "text/plain": [
       "HBox(children=(IntProgress(value=0, max=35), HTML(value='')))"
      ]
     },
     "metadata": {},
     "output_type": "display_data"
    },
    {
     "name": "stdout",
     "output_type": "stream",
     "text": [
      "Iteration 3 \n",
      "        L: 4221.3857\n",
      "Iteration 6 \n",
      "        L: 3965.2734\n",
      "Iteration 9 \n",
      "        L: 4089.1836\n",
      "Iteration 12 \n",
      "        L: 4112.3115\n",
      "Iteration 15 \n",
      "        L: 3989.1904\n",
      "Iteration 18 \n",
      "        L: 3955.0903\n",
      "Iteration 21 \n",
      "        L: 3927.7620\n",
      "Iteration 24 \n",
      "        L: 4102.7803\n",
      "Iteration 27 \n",
      "        L: 4016.3655\n",
      "Iteration 30 \n",
      "        L: 4059.0388\n",
      "Iteration 33 \n",
      "        L: 4126.7397\n",
      "\n"
     ]
    },
    {
     "data": {
      "application/vnd.jupyter.widget-view+json": {
       "model_id": "",
       "version_major": 2,
       "version_minor": 0
      },
      "text/plain": [
       "HBox(children=(IntProgress(value=0, max=35), HTML(value='')))"
      ]
     },
     "metadata": {},
     "output_type": "display_data"
    },
    {
     "name": "stdout",
     "output_type": "stream",
     "text": [
      "Iteration 3 \n",
      "        L: 4060.9988\n",
      "Iteration 6 \n",
      "        L: 4002.1895\n",
      "Iteration 9 \n",
      "        L: 4029.0916\n",
      "Iteration 12 \n",
      "        L: 3968.7529\n",
      "Iteration 15 \n",
      "        L: 3967.4199\n",
      "Iteration 18 \n",
      "        L: 4101.3398\n",
      "Iteration 21 \n",
      "        L: 4275.8135\n",
      "Iteration 24 \n",
      "        L: 4037.3328\n",
      "Iteration 27 \n",
      "        L: 4080.9385\n",
      "Iteration 30 \n",
      "        L: 4173.3672\n",
      "Iteration 33 \n",
      "        L: 4007.0518\n",
      "\n"
     ]
    },
    {
     "data": {
      "application/vnd.jupyter.widget-view+json": {
       "model_id": "",
       "version_major": 2,
       "version_minor": 0
      },
      "text/plain": [
       "HBox(children=(IntProgress(value=0, max=35), HTML(value='')))"
      ]
     },
     "metadata": {},
     "output_type": "display_data"
    },
    {
     "name": "stdout",
     "output_type": "stream",
     "text": [
      "Iteration 3 \n",
      "        L: 4079.3530\n",
      "Iteration 6 \n",
      "        L: 3944.3975\n",
      "Iteration 9 \n",
      "        L: 4451.0439\n",
      "Iteration 12 \n",
      "        L: 4177.5264\n",
      "Iteration 15 \n",
      "        L: 4186.4277\n",
      "Iteration 18 \n",
      "        L: 4005.0596\n",
      "Iteration 21 \n",
      "        L: 4107.7256\n",
      "Iteration 24 \n",
      "        L: 4035.7622\n",
      "Iteration 27 \n",
      "        L: 3955.7134\n",
      "Iteration 30 \n",
      "        L: 3994.9771\n",
      "Iteration 33 \n",
      "        L: 3894.4822\n",
      "\n"
     ]
    },
    {
     "data": {
      "application/vnd.jupyter.widget-view+json": {
       "model_id": "",
       "version_major": 2,
       "version_minor": 0
      },
      "text/plain": [
       "HBox(children=(IntProgress(value=0, max=35), HTML(value='')))"
      ]
     },
     "metadata": {},
     "output_type": "display_data"
    },
    {
     "name": "stdout",
     "output_type": "stream",
     "text": [
      "Iteration 3 \n",
      "        L: 3936.8457\n",
      "Iteration 6 \n",
      "        L: 3993.3091\n",
      "Iteration 9 \n",
      "        L: 3922.7869\n",
      "Iteration 12 \n",
      "        L: 4027.8188\n",
      "Iteration 15 \n",
      "        L: 3950.7930\n",
      "Iteration 18 \n",
      "        L: 4099.8984\n",
      "Iteration 21 \n",
      "        L: 4299.5913\n",
      "Iteration 24 \n",
      "        L: 3961.0730\n",
      "Iteration 27 \n",
      "        L: 4145.9316\n",
      "Iteration 30 \n",
      "        L: 3918.6091\n",
      "Iteration 33 \n",
      "        L: 4037.9619\n",
      "\n"
     ]
    },
    {
     "data": {
      "application/vnd.jupyter.widget-view+json": {
       "model_id": "",
       "version_major": 2,
       "version_minor": 0
      },
      "text/plain": [
       "HBox(children=(IntProgress(value=0, max=35), HTML(value='')))"
      ]
     },
     "metadata": {},
     "output_type": "display_data"
    },
    {
     "name": "stdout",
     "output_type": "stream",
     "text": [
      "Iteration 3 \n",
      "        L: 3948.0303\n",
      "Iteration 6 \n",
      "        L: 3946.2693\n",
      "Iteration 9 \n",
      "        L: 4038.1709\n",
      "Iteration 12 \n",
      "        L: 4091.8711\n",
      "Iteration 15 \n",
      "        L: 3877.0327\n",
      "Iteration 18 \n",
      "        L: 3974.6458\n",
      "Iteration 21 \n",
      "        L: 3910.5088\n",
      "Iteration 24 \n",
      "        L: 3933.0830\n",
      "Iteration 27 \n",
      "        L: 3845.8738\n",
      "Iteration 30 \n",
      "        L: 3961.4104\n",
      "Iteration 33 \n",
      "        L: 3960.3774\n",
      "\n"
     ]
    },
    {
     "data": {
      "application/vnd.jupyter.widget-view+json": {
       "model_id": "",
       "version_major": 2,
       "version_minor": 0
      },
      "text/plain": [
       "HBox(children=(IntProgress(value=0, max=35), HTML(value='')))"
      ]
     },
     "metadata": {},
     "output_type": "display_data"
    },
    {
     "name": "stdout",
     "output_type": "stream",
     "text": [
      "Iteration 3 \n",
      "        L: 3938.9097\n",
      "Iteration 6 \n",
      "        L: 4002.0879\n",
      "Iteration 9 \n",
      "        L: 4078.7109\n",
      "Iteration 12 \n",
      "        L: 3831.3079\n",
      "Iteration 15 \n",
      "        L: 3938.2229\n",
      "Iteration 18 \n",
      "        L: 3956.6987\n",
      "Iteration 21 \n",
      "        L: 4091.5454\n",
      "Iteration 24 \n",
      "        L: 4102.4287\n",
      "Iteration 27 \n",
      "        L: 4115.9277\n",
      "Iteration 30 \n",
      "        L: 3874.9492\n",
      "Iteration 33 \n",
      "        L: 3923.1375\n",
      "\n"
     ]
    },
    {
     "data": {
      "application/vnd.jupyter.widget-view+json": {
       "model_id": "",
       "version_major": 2,
       "version_minor": 0
      },
      "text/plain": [
       "HBox(children=(IntProgress(value=0, max=35), HTML(value='')))"
      ]
     },
     "metadata": {},
     "output_type": "display_data"
    },
    {
     "name": "stdout",
     "output_type": "stream",
     "text": [
      "Iteration 3 \n",
      "        L: 3969.4355\n",
      "Iteration 6 \n",
      "        L: 3860.6211\n",
      "Iteration 9 \n",
      "        L: 3857.9878\n",
      "Iteration 12 \n",
      "        L: 3879.4392\n",
      "Iteration 15 \n",
      "        L: 4003.6648\n",
      "Iteration 18 \n",
      "        L: 3949.0649\n",
      "Iteration 21 \n",
      "        L: 4287.2627\n",
      "Iteration 24 \n",
      "        L: 4346.2959\n",
      "Iteration 27 \n",
      "        L: 3842.8564\n",
      "Iteration 30 \n",
      "        L: 4103.7168\n",
      "Iteration 33 \n",
      "        L: 3976.5728\n",
      "\n"
     ]
    },
    {
     "data": {
      "application/vnd.jupyter.widget-view+json": {
       "model_id": "",
       "version_major": 2,
       "version_minor": 0
      },
      "text/plain": [
       "HBox(children=(IntProgress(value=0, max=35), HTML(value='')))"
      ]
     },
     "metadata": {},
     "output_type": "display_data"
    },
    {
     "name": "stdout",
     "output_type": "stream",
     "text": [
      "Iteration 3 \n",
      "        L: 3875.9905\n",
      "Iteration 6 \n",
      "        L: 3934.8564\n",
      "Iteration 9 \n",
      "        L: 3861.6226\n",
      "Iteration 12 \n",
      "        L: 3942.2222\n",
      "Iteration 15 \n",
      "        L: 3946.1067\n",
      "Iteration 18 \n",
      "        L: 3916.3442\n",
      "Iteration 21 \n",
      "        L: 3907.2246\n",
      "Iteration 24 \n",
      "        L: 3917.4014\n",
      "Iteration 27 \n",
      "        L: 4140.5806\n",
      "Iteration 30 \n",
      "        L: 3827.8562\n",
      "Iteration 33 \n",
      "        L: 4009.0684\n",
      "\n"
     ]
    },
    {
     "data": {
      "application/vnd.jupyter.widget-view+json": {
       "model_id": "",
       "version_major": 2,
       "version_minor": 0
      },
      "text/plain": [
       "HBox(children=(IntProgress(value=0, max=35), HTML(value='')))"
      ]
     },
     "metadata": {},
     "output_type": "display_data"
    },
    {
     "name": "stdout",
     "output_type": "stream",
     "text": [
      "Iteration 3 \n",
      "        L: 3818.4312\n",
      "Iteration 6 \n",
      "        L: 3942.7480\n",
      "Iteration 9 \n",
      "        L: 3913.4585\n",
      "Iteration 12 \n",
      "        L: 3880.2656\n",
      "Iteration 15 \n",
      "        L: 3976.0154\n",
      "Iteration 18 \n",
      "        L: 3852.5203\n",
      "Iteration 21 \n",
      "        L: 3820.0400\n",
      "Iteration 24 \n",
      "        L: 3945.5898\n",
      "Iteration 27 \n",
      "        L: 4094.3645\n",
      "Iteration 30 \n",
      "        L: 4072.0908\n",
      "Iteration 33 \n",
      "        L: 3876.7632\n",
      "\n"
     ]
    },
    {
     "data": {
      "application/vnd.jupyter.widget-view+json": {
       "model_id": "",
       "version_major": 2,
       "version_minor": 0
      },
      "text/plain": [
       "HBox(children=(IntProgress(value=0, max=35), HTML(value='')))"
      ]
     },
     "metadata": {},
     "output_type": "display_data"
    },
    {
     "name": "stdout",
     "output_type": "stream",
     "text": [
      "Iteration 3 \n",
      "        L: 4023.2275\n",
      "Iteration 6 \n",
      "        L: 3892.6514\n",
      "Iteration 9 \n",
      "        L: 3862.9353\n",
      "Iteration 12 \n",
      "        L: 3944.4160\n",
      "Iteration 15 \n",
      "        L: 3952.0930\n",
      "Iteration 18 \n",
      "        L: 3815.2676\n",
      "Iteration 21 \n",
      "        L: 3865.0896\n",
      "Iteration 24 \n",
      "        L: 3901.4211\n",
      "Iteration 27 \n",
      "        L: 3875.0903\n",
      "Iteration 30 \n",
      "        L: 4244.4150\n",
      "Iteration 33 \n",
      "        L: 3874.8735\n",
      "\n"
     ]
    },
    {
     "data": {
      "application/vnd.jupyter.widget-view+json": {
       "model_id": "",
       "version_major": 2,
       "version_minor": 0
      },
      "text/plain": [
       "HBox(children=(IntProgress(value=0, max=35), HTML(value='')))"
      ]
     },
     "metadata": {},
     "output_type": "display_data"
    },
    {
     "name": "stdout",
     "output_type": "stream",
     "text": [
      "Iteration 3 \n",
      "        L: 4046.0400\n",
      "Iteration 6 \n",
      "        L: 3857.7271\n",
      "Iteration 9 \n",
      "        L: 4073.9697\n",
      "Iteration 12 \n",
      "        L: 3836.4417\n",
      "Iteration 15 \n",
      "        L: 3924.3252\n",
      "Iteration 18 \n",
      "        L: 3803.6235\n",
      "Iteration 21 \n",
      "        L: 3924.5293\n",
      "Iteration 24 \n",
      "        L: 3864.4834\n",
      "Iteration 27 \n",
      "        L: 3779.3975\n",
      "Iteration 30 \n",
      "        L: 3846.1245\n",
      "Iteration 33 \n",
      "        L: 3862.1753\n",
      "\n"
     ]
    },
    {
     "data": {
      "application/vnd.jupyter.widget-view+json": {
       "model_id": "",
       "version_major": 2,
       "version_minor": 0
      },
      "text/plain": [
       "HBox(children=(IntProgress(value=0, max=35), HTML(value='')))"
      ]
     },
     "metadata": {},
     "output_type": "display_data"
    },
    {
     "name": "stdout",
     "output_type": "stream",
     "text": [
      "Iteration 3 \n",
      "        L: 3803.6123\n",
      "Iteration 6 \n",
      "        L: 4160.7368\n",
      "Iteration 9 \n",
      "        L: 4122.7158\n",
      "Iteration 12 \n",
      "        L: 3819.1006\n",
      "Iteration 15 \n",
      "        L: 3984.0767\n",
      "Iteration 18 \n",
      "        L: 3739.6396\n",
      "Iteration 21 \n",
      "        L: 3804.8105\n",
      "Iteration 24 \n",
      "        L: 3827.3313\n",
      "Iteration 27 \n",
      "        L: 3857.8877\n",
      "Iteration 30 \n",
      "        L: 3745.9446\n",
      "Iteration 33 \n",
      "        L: 3886.9077\n",
      "\n"
     ]
    },
    {
     "data": {
      "application/vnd.jupyter.widget-view+json": {
       "model_id": "",
       "version_major": 2,
       "version_minor": 0
      },
      "text/plain": [
       "HBox(children=(IntProgress(value=0, max=35), HTML(value='')))"
      ]
     },
     "metadata": {},
     "output_type": "display_data"
    },
    {
     "name": "stdout",
     "output_type": "stream",
     "text": [
      "Iteration 3 \n",
      "        L: 3768.2617\n",
      "Iteration 6 \n",
      "        L: 3830.3110\n",
      "Iteration 9 \n",
      "        L: 3887.3411\n",
      "Iteration 12 \n",
      "        L: 3771.1096\n",
      "Iteration 15 \n",
      "        L: 3815.2783\n",
      "Iteration 18 \n",
      "        L: 3981.4236\n",
      "Iteration 21 \n",
      "        L: 3890.4651\n",
      "Iteration 24 \n",
      "        L: 3795.6301\n",
      "Iteration 27 \n",
      "        L: 3826.9053\n",
      "Iteration 30 \n",
      "        L: 3762.9246\n",
      "Iteration 33 \n",
      "        L: 4335.3545\n",
      "\n"
     ]
    },
    {
     "data": {
      "application/vnd.jupyter.widget-view+json": {
       "model_id": "",
       "version_major": 2,
       "version_minor": 0
      },
      "text/plain": [
       "HBox(children=(IntProgress(value=0, max=35), HTML(value='')))"
      ]
     },
     "metadata": {},
     "output_type": "display_data"
    },
    {
     "name": "stdout",
     "output_type": "stream",
     "text": [
      "Iteration 3 \n",
      "        L: 3800.9692\n",
      "Iteration 6 \n",
      "        L: 3816.4834\n",
      "Iteration 9 \n",
      "        L: 3802.1392\n",
      "Iteration 12 \n",
      "        L: 3809.0667\n",
      "Iteration 15 \n",
      "        L: 4337.8721\n",
      "Iteration 18 \n",
      "        L: 3741.1050\n",
      "Iteration 21 \n",
      "        L: 4218.6025\n",
      "Iteration 24 \n",
      "        L: 3760.9045\n",
      "Iteration 27 \n",
      "        L: 4061.4448\n",
      "Iteration 30 \n",
      "        L: 3860.5291\n",
      "Iteration 33 \n",
      "        L: 3791.7153\n",
      "\n"
     ]
    },
    {
     "data": {
      "application/vnd.jupyter.widget-view+json": {
       "model_id": "",
       "version_major": 2,
       "version_minor": 0
      },
      "text/plain": [
       "HBox(children=(IntProgress(value=0, max=35), HTML(value='')))"
      ]
     },
     "metadata": {},
     "output_type": "display_data"
    },
    {
     "name": "stdout",
     "output_type": "stream",
     "text": [
      "Iteration 3 \n",
      "        L: 3781.0654\n",
      "Iteration 6 \n",
      "        L: 3752.5469\n",
      "Iteration 9 \n",
      "        L: 3816.7180\n",
      "Iteration 12 \n",
      "        L: 3773.6724\n",
      "Iteration 15 \n",
      "        L: 3755.9414\n",
      "Iteration 18 \n",
      "        L: 3813.9146\n",
      "Iteration 21 \n",
      "        L: 3739.8022\n",
      "Iteration 24 \n",
      "        L: 3814.0759\n",
      "Iteration 27 \n",
      "        L: 3796.6821\n",
      "Iteration 30 \n",
      "        L: 3808.3677\n",
      "Iteration 33 \n",
      "        L: 3712.4243\n",
      "\n"
     ]
    },
    {
     "data": {
      "application/vnd.jupyter.widget-view+json": {
       "model_id": "",
       "version_major": 2,
       "version_minor": 0
      },
      "text/plain": [
       "HBox(children=(IntProgress(value=0, max=35), HTML(value='')))"
      ]
     },
     "metadata": {},
     "output_type": "display_data"
    },
    {
     "name": "stdout",
     "output_type": "stream",
     "text": [
      "Iteration 3 \n",
      "        L: 4211.0488\n",
      "Iteration 6 \n",
      "        L: 3910.6938\n",
      "Iteration 9 \n",
      "        L: 3718.1177\n",
      "Iteration 12 \n",
      "        L: 3749.6919\n",
      "Iteration 15 \n",
      "        L: 3795.6294\n",
      "Iteration 18 \n",
      "        L: 3715.7810\n",
      "Iteration 21 \n",
      "        L: 3819.3582\n",
      "Iteration 24 \n",
      "        L: 3765.3350\n",
      "Iteration 27 \n",
      "        L: 3704.2336\n",
      "Iteration 30 \n",
      "        L: 3691.8225\n",
      "Iteration 33 \n",
      "        L: 3846.6514\n",
      "\n"
     ]
    },
    {
     "data": {
      "application/vnd.jupyter.widget-view+json": {
       "model_id": "",
       "version_major": 2,
       "version_minor": 0
      },
      "text/plain": [
       "HBox(children=(IntProgress(value=0, max=35), HTML(value='')))"
      ]
     },
     "metadata": {},
     "output_type": "display_data"
    },
    {
     "name": "stdout",
     "output_type": "stream",
     "text": [
      "Iteration 3 \n",
      "        L: 3784.8215\n",
      "Iteration 6 \n",
      "        L: 3863.2144\n",
      "Iteration 9 \n",
      "        L: 3805.7493\n",
      "Iteration 12 \n",
      "        L: 3812.5439\n",
      "Iteration 15 \n",
      "        L: 3708.5032\n",
      "Iteration 18 \n",
      "        L: 3721.1265\n",
      "Iteration 21 \n",
      "        L: 3714.4736\n",
      "Iteration 24 \n",
      "        L: 3790.9634\n",
      "Iteration 27 \n",
      "        L: 3969.9346\n",
      "Iteration 30 \n",
      "        L: 3989.7405\n",
      "Iteration 33 \n",
      "        L: 3883.5430\n",
      "\n"
     ]
    },
    {
     "data": {
      "application/vnd.jupyter.widget-view+json": {
       "model_id": "",
       "version_major": 2,
       "version_minor": 0
      },
      "text/plain": [
       "HBox(children=(IntProgress(value=0, max=35), HTML(value='')))"
      ]
     },
     "metadata": {},
     "output_type": "display_data"
    },
    {
     "name": "stdout",
     "output_type": "stream",
     "text": [
      "Iteration 3 \n",
      "        L: 3741.0117\n",
      "Iteration 6 \n",
      "        L: 3741.4856\n",
      "Iteration 9 \n",
      "        L: 3701.9717\n",
      "Iteration 12 \n",
      "        L: 3723.1914\n",
      "Iteration 15 \n",
      "        L: 3938.9209\n",
      "Iteration 18 \n",
      "        L: 3881.0640\n",
      "Iteration 21 \n",
      "        L: 3813.2646\n",
      "Iteration 24 \n",
      "        L: 3686.8794\n",
      "Iteration 27 \n",
      "        L: 4000.0757\n",
      "Iteration 30 \n",
      "        L: 3829.1265\n",
      "Iteration 33 \n",
      "        L: 3697.8760\n",
      "\n"
     ]
    },
    {
     "data": {
      "application/vnd.jupyter.widget-view+json": {
       "model_id": "",
       "version_major": 2,
       "version_minor": 0
      },
      "text/plain": [
       "HBox(children=(IntProgress(value=0, max=35), HTML(value='')))"
      ]
     },
     "metadata": {},
     "output_type": "display_data"
    },
    {
     "name": "stdout",
     "output_type": "stream",
     "text": [
      "Iteration 3 \n",
      "        L: 3739.9722\n",
      "Iteration 6 \n",
      "        L: 3732.5500\n",
      "Iteration 9 \n",
      "        L: 3709.2095\n",
      "Iteration 12 \n",
      "        L: 3822.5879\n",
      "Iteration 15 \n",
      "        L: 3782.4468\n",
      "Iteration 18 \n",
      "        L: 3695.9570\n",
      "Iteration 21 \n",
      "        L: 3769.8301\n",
      "Iteration 24 \n",
      "        L: 3808.9062\n",
      "Iteration 27 \n",
      "        L: 3636.6870\n",
      "Iteration 30 \n",
      "        L: 3766.0022\n",
      "Iteration 33 \n",
      "        L: 3735.6445\n",
      "\n"
     ]
    },
    {
     "data": {
      "application/vnd.jupyter.widget-view+json": {
       "model_id": "",
       "version_major": 2,
       "version_minor": 0
      },
      "text/plain": [
       "HBox(children=(IntProgress(value=0, max=35), HTML(value='')))"
      ]
     },
     "metadata": {},
     "output_type": "display_data"
    },
    {
     "name": "stdout",
     "output_type": "stream",
     "text": [
      "Iteration 3 \n",
      "        L: 3934.3013\n",
      "Iteration 6 \n",
      "        L: 3906.8887\n",
      "Iteration 9 \n",
      "        L: 3698.1504\n",
      "Iteration 12 \n",
      "        L: 3856.1909\n",
      "Iteration 15 \n",
      "        L: 3617.9688\n",
      "Iteration 18 \n",
      "        L: 3645.9492\n",
      "Iteration 21 \n",
      "        L: 3683.5854\n",
      "Iteration 24 \n",
      "        L: 3692.6616\n",
      "Iteration 27 \n",
      "        L: 3702.3103\n",
      "Iteration 30 \n",
      "        L: 3803.4810\n",
      "Iteration 33 \n",
      "        L: 3689.4399\n",
      "\n"
     ]
    },
    {
     "data": {
      "application/vnd.jupyter.widget-view+json": {
       "model_id": "",
       "version_major": 2,
       "version_minor": 0
      },
      "text/plain": [
       "HBox(children=(IntProgress(value=0, max=35), HTML(value='')))"
      ]
     },
     "metadata": {},
     "output_type": "display_data"
    },
    {
     "name": "stdout",
     "output_type": "stream",
     "text": [
      "Iteration 3 \n",
      "        L: 3661.9282\n",
      "Iteration 6 \n",
      "        L: 3657.6294\n",
      "Iteration 9 \n",
      "        L: 3622.7266\n",
      "Iteration 12 \n",
      "        L: 3679.0273\n",
      "Iteration 15 \n",
      "        L: 3688.8232\n",
      "Iteration 18 \n",
      "        L: 3741.8132\n",
      "Iteration 21 \n",
      "        L: 3832.0740\n",
      "Iteration 24 \n",
      "        L: 4051.8857\n",
      "Iteration 27 \n",
      "        L: 4042.2056\n",
      "Iteration 30 \n",
      "        L: 3671.9810\n",
      "Iteration 33 \n",
      "        L: 3892.5701\n",
      "\n"
     ]
    },
    {
     "data": {
      "application/vnd.jupyter.widget-view+json": {
       "model_id": "",
       "version_major": 2,
       "version_minor": 0
      },
      "text/plain": [
       "HBox(children=(IntProgress(value=0, max=35), HTML(value='')))"
      ]
     },
     "metadata": {},
     "output_type": "display_data"
    },
    {
     "name": "stdout",
     "output_type": "stream",
     "text": [
      "Iteration 3 \n",
      "        L: 3685.9946\n",
      "Iteration 6 \n",
      "        L: 3673.1709\n",
      "Iteration 9 \n",
      "        L: 3666.6133\n",
      "Iteration 12 \n",
      "        L: 3761.9285\n",
      "Iteration 15 \n",
      "        L: 3637.2820\n",
      "Iteration 18 \n",
      "        L: 3660.5098\n",
      "Iteration 21 \n",
      "        L: 3775.7878\n",
      "Iteration 24 \n",
      "        L: 3712.9727\n",
      "Iteration 27 \n",
      "        L: 3745.6538\n",
      "Iteration 30 \n",
      "        L: 3673.1123\n",
      "Iteration 33 \n",
      "        L: 3778.5479\n",
      "\n"
     ]
    },
    {
     "data": {
      "application/vnd.jupyter.widget-view+json": {
       "model_id": "",
       "version_major": 2,
       "version_minor": 0
      },
      "text/plain": [
       "HBox(children=(IntProgress(value=0, max=35), HTML(value='')))"
      ]
     },
     "metadata": {},
     "output_type": "display_data"
    },
    {
     "name": "stdout",
     "output_type": "stream",
     "text": [
      "Iteration 3 \n",
      "        L: 3855.3872\n",
      "Iteration 6 \n",
      "        L: 3659.6675\n",
      "Iteration 9 \n",
      "        L: 3972.6892\n",
      "Iteration 12 \n",
      "        L: 3815.3979\n",
      "Iteration 15 \n",
      "        L: 4025.2793\n",
      "Iteration 18 \n",
      "        L: 3703.9824\n",
      "Iteration 21 \n",
      "        L: 3767.3179\n",
      "Iteration 24 \n",
      "        L: 3635.6934\n",
      "Iteration 27 \n",
      "        L: 3688.7661\n",
      "Iteration 30 \n",
      "        L: 3614.5530\n",
      "Iteration 33 \n",
      "        L: 3682.1855\n",
      "\n"
     ]
    },
    {
     "data": {
      "application/vnd.jupyter.widget-view+json": {
       "model_id": "",
       "version_major": 2,
       "version_minor": 0
      },
      "text/plain": [
       "HBox(children=(IntProgress(value=0, max=35), HTML(value='')))"
      ]
     },
     "metadata": {},
     "output_type": "display_data"
    },
    {
     "name": "stdout",
     "output_type": "stream",
     "text": [
      "Iteration 3 \n",
      "        L: 3673.7534\n",
      "Iteration 6 \n",
      "        L: 3746.7751\n",
      "Iteration 9 \n",
      "        L: 3699.3130\n",
      "Iteration 12 \n",
      "        L: 3616.3215\n",
      "Iteration 15 \n",
      "        L: 3663.9470\n",
      "Iteration 18 \n",
      "        L: 3643.6602\n",
      "Iteration 21 \n",
      "        L: 3667.7656\n",
      "Iteration 24 \n",
      "        L: 3702.3472\n",
      "Iteration 27 \n",
      "        L: 3868.0374\n",
      "Iteration 30 \n",
      "        L: 3807.2993\n",
      "Iteration 33 \n",
      "        L: 3656.7454\n",
      "\n"
     ]
    },
    {
     "data": {
      "application/vnd.jupyter.widget-view+json": {
       "model_id": "",
       "version_major": 2,
       "version_minor": 0
      },
      "text/plain": [
       "HBox(children=(IntProgress(value=0, max=35), HTML(value='')))"
      ]
     },
     "metadata": {},
     "output_type": "display_data"
    },
    {
     "name": "stdout",
     "output_type": "stream",
     "text": [
      "Iteration 3 \n",
      "        L: 3675.8655\n",
      "Iteration 6 \n",
      "        L: 3693.7864\n",
      "Iteration 9 \n",
      "        L: 3751.2295\n",
      "Iteration 12 \n",
      "        L: 3664.4136\n",
      "Iteration 15 \n",
      "        L: 3747.0510\n",
      "Iteration 18 \n",
      "        L: 3690.5938\n",
      "Iteration 21 \n",
      "        L: 3606.8748\n",
      "Iteration 24 \n",
      "        L: 3744.2927\n",
      "Iteration 27 \n",
      "        L: 3672.4314\n",
      "Iteration 30 \n",
      "        L: 3814.0757\n",
      "Iteration 33 \n",
      "        L: 3891.5054\n",
      "\n"
     ]
    },
    {
     "data": {
      "application/vnd.jupyter.widget-view+json": {
       "model_id": "",
       "version_major": 2,
       "version_minor": 0
      },
      "text/plain": [
       "HBox(children=(IntProgress(value=0, max=35), HTML(value='')))"
      ]
     },
     "metadata": {},
     "output_type": "display_data"
    },
    {
     "name": "stdout",
     "output_type": "stream",
     "text": [
      "Iteration 3 \n",
      "        L: 3725.3237\n",
      "Iteration 6 \n",
      "        L: 3654.4644\n",
      "Iteration 9 \n",
      "        L: 3756.7002\n",
      "Iteration 12 \n",
      "        L: 3651.4514\n",
      "Iteration 15 \n",
      "        L: 3559.6670\n",
      "Iteration 18 \n",
      "        L: 3598.8682\n",
      "Iteration 21 \n",
      "        L: 3713.8945\n",
      "Iteration 24 \n",
      "        L: 3586.4673\n",
      "Iteration 27 \n",
      "        L: 3737.2466\n",
      "Iteration 30 \n",
      "        L: 3758.6589\n",
      "Iteration 33 \n",
      "        L: 3646.7666\n",
      "\n"
     ]
    },
    {
     "data": {
      "application/vnd.jupyter.widget-view+json": {
       "model_id": "",
       "version_major": 2,
       "version_minor": 0
      },
      "text/plain": [
       "HBox(children=(IntProgress(value=0, max=35), HTML(value='')))"
      ]
     },
     "metadata": {},
     "output_type": "display_data"
    },
    {
     "name": "stdout",
     "output_type": "stream",
     "text": [
      "Iteration 3 \n",
      "        L: 3555.3110\n",
      "Iteration 6 \n",
      "        L: 3678.3909\n",
      "Iteration 9 \n",
      "        L: 3621.5835\n",
      "Iteration 12 \n",
      "        L: 3579.4941\n",
      "Iteration 15 \n",
      "        L: 3655.2949\n",
      "Iteration 18 \n",
      "        L: 3713.2129\n",
      "Iteration 21 \n",
      "        L: 3799.5452\n",
      "Iteration 24 \n",
      "        L: 3719.7354\n",
      "Iteration 27 \n",
      "        L: 3590.3638\n",
      "Iteration 30 \n",
      "        L: 3639.4824\n",
      "Iteration 33 \n",
      "        L: 3730.3867\n",
      "\n"
     ]
    },
    {
     "data": {
      "application/vnd.jupyter.widget-view+json": {
       "model_id": "",
       "version_major": 2,
       "version_minor": 0
      },
      "text/plain": [
       "HBox(children=(IntProgress(value=0, max=35), HTML(value='')))"
      ]
     },
     "metadata": {},
     "output_type": "display_data"
    },
    {
     "name": "stdout",
     "output_type": "stream",
     "text": [
      "Iteration 3 \n",
      "        L: 3627.6768\n",
      "Iteration 6 \n",
      "        L: 3690.3047\n",
      "Iteration 9 \n",
      "        L: 3743.0522\n",
      "Iteration 12 \n",
      "        L: 4060.4268\n",
      "Iteration 15 \n",
      "        L: 3672.8767\n",
      "Iteration 18 \n",
      "        L: 3711.9961\n",
      "Iteration 21 \n",
      "        L: 3569.9131\n",
      "Iteration 24 \n",
      "        L: 3666.7095\n",
      "Iteration 27 \n",
      "        L: 3630.1958\n",
      "Iteration 30 \n",
      "        L: 3637.5596\n",
      "Iteration 33 \n",
      "        L: 3658.5432\n",
      "\n"
     ]
    },
    {
     "data": {
      "application/vnd.jupyter.widget-view+json": {
       "model_id": "",
       "version_major": 2,
       "version_minor": 0
      },
      "text/plain": [
       "HBox(children=(IntProgress(value=0, max=35), HTML(value='')))"
      ]
     },
     "metadata": {},
     "output_type": "display_data"
    },
    {
     "name": "stdout",
     "output_type": "stream",
     "text": [
      "Iteration 3 \n",
      "        L: 3783.3931\n",
      "Iteration 6 \n",
      "        L: 3582.9612\n",
      "Iteration 9 \n",
      "        L: 3731.1956\n",
      "Iteration 12 \n",
      "        L: 3784.7385\n",
      "Iteration 15 \n",
      "        L: 3563.5898\n",
      "Iteration 18 \n",
      "        L: 3763.9285\n",
      "Iteration 21 \n",
      "        L: 3586.9128\n",
      "Iteration 24 \n",
      "        L: 3767.2017\n",
      "Iteration 27 \n",
      "        L: 3588.6665\n",
      "Iteration 30 \n",
      "        L: 3932.8174\n",
      "Iteration 33 \n",
      "        L: 3619.6245\n",
      "\n"
     ]
    },
    {
     "data": {
      "application/vnd.jupyter.widget-view+json": {
       "model_id": "",
       "version_major": 2,
       "version_minor": 0
      },
      "text/plain": [
       "HBox(children=(IntProgress(value=0, max=35), HTML(value='')))"
      ]
     },
     "metadata": {},
     "output_type": "display_data"
    },
    {
     "name": "stdout",
     "output_type": "stream",
     "text": [
      "Iteration 3 \n",
      "        L: 3593.2764\n",
      "Iteration 6 \n",
      "        L: 3571.1543\n",
      "Iteration 9 \n",
      "        L: 3563.5750\n",
      "Iteration 12 \n",
      "        L: 3561.1865\n",
      "Iteration 15 \n",
      "        L: 3582.7139\n",
      "Iteration 18 \n",
      "        L: 3636.5093\n",
      "Iteration 21 \n",
      "        L: 3774.4084\n",
      "Iteration 24 \n",
      "        L: 3540.7466\n",
      "Iteration 27 \n",
      "        L: 3548.8901\n",
      "Iteration 30 \n",
      "        L: 3628.3159\n",
      "Iteration 33 \n",
      "        L: 3672.2654\n",
      "\n"
     ]
    },
    {
     "data": {
      "application/vnd.jupyter.widget-view+json": {
       "model_id": "",
       "version_major": 2,
       "version_minor": 0
      },
      "text/plain": [
       "HBox(children=(IntProgress(value=0, max=35), HTML(value='')))"
      ]
     },
     "metadata": {},
     "output_type": "display_data"
    },
    {
     "name": "stdout",
     "output_type": "stream",
     "text": [
      "Iteration 3 \n",
      "        L: 3658.7249\n",
      "Iteration 6 \n",
      "        L: 3694.0784\n",
      "Iteration 9 \n",
      "        L: 3609.1143\n",
      "Iteration 12 \n",
      "        L: 3570.2874\n",
      "Iteration 15 \n",
      "        L: 3556.4355\n",
      "Iteration 18 \n",
      "        L: 3687.7126\n",
      "Iteration 21 \n",
      "        L: 3618.2727\n",
      "Iteration 24 \n",
      "        L: 3631.4990\n",
      "Iteration 27 \n",
      "        L: 3887.1155\n",
      "Iteration 30 \n",
      "        L: 3739.2891\n",
      "Iteration 33 \n",
      "        L: 3557.9221\n",
      "\n"
     ]
    },
    {
     "data": {
      "application/vnd.jupyter.widget-view+json": {
       "model_id": "",
       "version_major": 2,
       "version_minor": 0
      },
      "text/plain": [
       "HBox(children=(IntProgress(value=0, max=35), HTML(value='')))"
      ]
     },
     "metadata": {},
     "output_type": "display_data"
    },
    {
     "name": "stdout",
     "output_type": "stream",
     "text": [
      "Iteration 3 \n",
      "        L: 3619.0542\n",
      "Iteration 6 \n",
      "        L: 3572.5024\n",
      "Iteration 9 \n",
      "        L: 3576.2825\n",
      "Iteration 12 \n",
      "        L: 3555.0542\n",
      "Iteration 15 \n",
      "        L: 3590.5566\n",
      "Iteration 18 \n",
      "        L: 3931.9448\n",
      "Iteration 21 \n",
      "        L: 3496.2144\n",
      "Iteration 24 \n",
      "        L: 3630.0918\n",
      "Iteration 27 \n",
      "        L: 3474.9951\n",
      "Iteration 30 \n",
      "        L: 3552.2852\n",
      "Iteration 33 \n",
      "        L: 3521.7080\n",
      "\n"
     ]
    },
    {
     "data": {
      "application/vnd.jupyter.widget-view+json": {
       "model_id": "",
       "version_major": 2,
       "version_minor": 0
      },
      "text/plain": [
       "HBox(children=(IntProgress(value=0, max=35), HTML(value='')))"
      ]
     },
     "metadata": {},
     "output_type": "display_data"
    },
    {
     "name": "stdout",
     "output_type": "stream",
     "text": [
      "Iteration 3 \n",
      "        L: 3528.2676\n",
      "Iteration 6 \n",
      "        L: 3622.4526\n",
      "Iteration 9 \n",
      "        L: 3571.6375\n",
      "Iteration 12 \n",
      "        L: 3594.1565\n",
      "Iteration 15 \n",
      "        L: 3560.2166\n",
      "Iteration 18 \n",
      "        L: 3553.9155\n",
      "Iteration 21 \n",
      "        L: 3560.7981\n",
      "Iteration 24 \n",
      "        L: 3502.9548\n",
      "Iteration 27 \n",
      "        L: 3516.5681\n",
      "Iteration 30 \n",
      "        L: 3583.1941\n",
      "Iteration 33 \n",
      "        L: 3644.6721\n",
      "\n"
     ]
    },
    {
     "data": {
      "application/vnd.jupyter.widget-view+json": {
       "model_id": "",
       "version_major": 2,
       "version_minor": 0
      },
      "text/plain": [
       "HBox(children=(IntProgress(value=0, max=35), HTML(value='')))"
      ]
     },
     "metadata": {},
     "output_type": "display_data"
    },
    {
     "name": "stdout",
     "output_type": "stream",
     "text": [
      "Iteration 3 \n",
      "        L: 3537.9927\n",
      "Iteration 6 \n",
      "        L: 3700.6123\n",
      "Iteration 9 \n",
      "        L: 3835.1675\n",
      "Iteration 12 \n",
      "        L: 3535.1660\n",
      "Iteration 15 \n",
      "        L: 3474.0154\n",
      "Iteration 18 \n",
      "        L: 3575.2344\n",
      "Iteration 21 \n",
      "        L: 4008.3066\n",
      "Iteration 24 \n",
      "        L: 4068.1812\n",
      "Iteration 27 \n",
      "        L: 3520.6189\n",
      "Iteration 30 \n",
      "        L: 3704.4429\n",
      "Iteration 33 \n",
      "        L: 3616.1677\n",
      "\n"
     ]
    },
    {
     "data": {
      "application/vnd.jupyter.widget-view+json": {
       "model_id": "",
       "version_major": 2,
       "version_minor": 0
      },
      "text/plain": [
       "HBox(children=(IntProgress(value=0, max=35), HTML(value='')))"
      ]
     },
     "metadata": {},
     "output_type": "display_data"
    },
    {
     "name": "stdout",
     "output_type": "stream",
     "text": [
      "Iteration 3 \n",
      "        L: 3569.1638\n",
      "Iteration 6 \n",
      "        L: 3751.2271\n",
      "Iteration 9 \n",
      "        L: 3677.1069\n",
      "Iteration 12 \n",
      "        L: 3551.0649\n",
      "Iteration 15 \n",
      "        L: 3851.6841\n",
      "Iteration 18 \n",
      "        L: 3523.9172\n",
      "Iteration 21 \n",
      "        L: 3582.7368\n",
      "Iteration 24 \n",
      "        L: 3619.6826\n",
      "Iteration 27 \n",
      "        L: 3533.1387\n",
      "Iteration 30 \n",
      "        L: 3575.2009\n",
      "Iteration 33 \n",
      "        L: 3566.9075\n",
      "\n"
     ]
    },
    {
     "data": {
      "application/vnd.jupyter.widget-view+json": {
       "model_id": "",
       "version_major": 2,
       "version_minor": 0
      },
      "text/plain": [
       "HBox(children=(IntProgress(value=0, max=35), HTML(value='')))"
      ]
     },
     "metadata": {},
     "output_type": "display_data"
    },
    {
     "name": "stdout",
     "output_type": "stream",
     "text": [
      "Iteration 3 \n",
      "        L: 3476.7725\n",
      "Iteration 6 \n",
      "        L: 3510.9028\n",
      "Iteration 9 \n",
      "        L: 3622.9536\n",
      "Iteration 12 \n",
      "        L: 3612.5391\n",
      "Iteration 15 \n",
      "        L: 3523.8374\n",
      "Iteration 18 \n",
      "        L: 3620.5081\n",
      "Iteration 21 \n",
      "        L: 3678.3633\n",
      "Iteration 24 \n",
      "        L: 3604.3955\n",
      "Iteration 27 \n",
      "        L: 3584.6787\n",
      "Iteration 30 \n",
      "        L: 3512.5320\n",
      "Iteration 33 \n",
      "        L: 3572.2854\n",
      "\n"
     ]
    },
    {
     "data": {
      "application/vnd.jupyter.widget-view+json": {
       "model_id": "",
       "version_major": 2,
       "version_minor": 0
      },
      "text/plain": [
       "HBox(children=(IntProgress(value=0, max=35), HTML(value='')))"
      ]
     },
     "metadata": {},
     "output_type": "display_data"
    },
    {
     "name": "stdout",
     "output_type": "stream",
     "text": [
      "Iteration 3 \n",
      "        L: 3549.0154\n",
      "Iteration 6 \n",
      "        L: 3516.6484\n",
      "Iteration 9 \n",
      "        L: 3514.7683\n",
      "Iteration 12 \n",
      "        L: 3569.9912\n",
      "Iteration 15 \n",
      "        L: 3766.8926\n",
      "Iteration 18 \n",
      "        L: 3475.3462\n",
      "Iteration 21 \n",
      "        L: 3655.4373\n",
      "Iteration 24 \n",
      "        L: 3529.7053\n",
      "Iteration 27 \n",
      "        L: 3643.2598\n",
      "Iteration 30 \n",
      "        L: 3451.1858\n",
      "Iteration 33 \n",
      "        L: 3653.6367\n",
      "\n"
     ]
    },
    {
     "data": {
      "application/vnd.jupyter.widget-view+json": {
       "model_id": "",
       "version_major": 2,
       "version_minor": 0
      },
      "text/plain": [
       "HBox(children=(IntProgress(value=0, max=35), HTML(value='')))"
      ]
     },
     "metadata": {},
     "output_type": "display_data"
    },
    {
     "name": "stdout",
     "output_type": "stream",
     "text": [
      "Iteration 3 \n",
      "        L: 3617.7397\n",
      "Iteration 6 \n",
      "        L: 3717.0864\n",
      "Iteration 9 \n",
      "        L: 3449.3462\n",
      "Iteration 12 \n",
      "        L: 3576.3013\n",
      "Iteration 15 \n",
      "        L: 3598.5967\n",
      "Iteration 18 \n",
      "        L: 3581.2271\n",
      "Iteration 21 \n",
      "        L: 3630.3655\n",
      "Iteration 24 \n",
      "        L: 3469.2817\n",
      "Iteration 27 \n",
      "        L: 3721.4785\n",
      "Iteration 30 \n",
      "        L: 3533.2119\n",
      "Iteration 33 \n",
      "        L: 3578.7861\n",
      "\n"
     ]
    },
    {
     "data": {
      "application/vnd.jupyter.widget-view+json": {
       "model_id": "",
       "version_major": 2,
       "version_minor": 0
      },
      "text/plain": [
       "HBox(children=(IntProgress(value=0, max=35), HTML(value='')))"
      ]
     },
     "metadata": {},
     "output_type": "display_data"
    },
    {
     "name": "stdout",
     "output_type": "stream",
     "text": [
      "Iteration 3 \n",
      "        L: 3566.5996\n",
      "Iteration 6 \n",
      "        L: 3593.1997\n",
      "Iteration 9 \n",
      "        L: 3470.6814\n",
      "Iteration 12 \n",
      "        L: 3517.5771\n",
      "Iteration 15 \n",
      "        L: 3416.7441\n",
      "Iteration 18 \n",
      "        L: 3580.6333\n",
      "Iteration 21 \n",
      "        L: 3531.0732\n",
      "Iteration 24 \n",
      "        L: 3512.7114\n",
      "Iteration 27 \n",
      "        L: 3550.3506\n",
      "Iteration 30 \n",
      "        L: 3481.7998\n",
      "Iteration 33 \n",
      "        L: 3519.0732\n",
      "\n"
     ]
    },
    {
     "data": {
      "application/vnd.jupyter.widget-view+json": {
       "model_id": "",
       "version_major": 2,
       "version_minor": 0
      },
      "text/plain": [
       "HBox(children=(IntProgress(value=0, max=35), HTML(value='')))"
      ]
     },
     "metadata": {},
     "output_type": "display_data"
    },
    {
     "name": "stdout",
     "output_type": "stream",
     "text": [
      "Iteration 3 \n",
      "        L: 3542.6270\n",
      "Iteration 6 \n",
      "        L: 3464.5193\n",
      "Iteration 9 \n",
      "        L: 3494.6016\n",
      "Iteration 12 \n",
      "        L: 3458.1516\n",
      "Iteration 15 \n",
      "        L: 3613.2190\n",
      "Iteration 18 \n",
      "        L: 3513.1377\n",
      "Iteration 21 \n",
      "        L: 3474.6609\n",
      "Iteration 24 \n",
      "        L: 3422.8047\n",
      "Iteration 27 \n",
      "        L: 3464.2205\n",
      "Iteration 30 \n",
      "        L: 3693.8926\n",
      "Iteration 33 \n",
      "        L: 3601.8430\n",
      "\n"
     ]
    },
    {
     "data": {
      "application/vnd.jupyter.widget-view+json": {
       "model_id": "",
       "version_major": 2,
       "version_minor": 0
      },
      "text/plain": [
       "HBox(children=(IntProgress(value=0, max=35), HTML(value='')))"
      ]
     },
     "metadata": {},
     "output_type": "display_data"
    },
    {
     "name": "stdout",
     "output_type": "stream",
     "text": [
      "Iteration 3 \n",
      "        L: 3470.7659\n",
      "Iteration 6 \n",
      "        L: 3593.7961\n",
      "Iteration 9 \n",
      "        L: 3445.9851\n",
      "Iteration 12 \n",
      "        L: 3537.6836\n",
      "Iteration 15 \n",
      "        L: 3519.8223\n",
      "Iteration 18 \n",
      "        L: 3482.2515\n",
      "Iteration 21 \n",
      "        L: 3718.5542\n",
      "Iteration 24 \n",
      "        L: 3603.6646\n",
      "Iteration 27 \n",
      "        L: 3486.4546\n",
      "Iteration 30 \n",
      "        L: 3906.5945\n",
      "Iteration 33 \n",
      "        L: 3440.8088\n",
      "\n"
     ]
    },
    {
     "data": {
      "application/vnd.jupyter.widget-view+json": {
       "model_id": "",
       "version_major": 2,
       "version_minor": 0
      },
      "text/plain": [
       "HBox(children=(IntProgress(value=0, max=35), HTML(value='')))"
      ]
     },
     "metadata": {},
     "output_type": "display_data"
    },
    {
     "name": "stdout",
     "output_type": "stream",
     "text": [
      "Iteration 3 \n",
      "        L: 3468.3740\n",
      "Iteration 6 \n",
      "        L: 3617.3257\n",
      "Iteration 9 \n",
      "        L: 3476.3645\n",
      "Iteration 12 \n",
      "        L: 3719.8787\n",
      "Iteration 15 \n",
      "        L: 3410.9824\n",
      "Iteration 18 \n",
      "        L: 3678.2432\n",
      "Iteration 21 \n",
      "        L: 3464.1379\n",
      "Iteration 24 \n",
      "        L: 3488.9177\n",
      "Iteration 27 \n",
      "        L: 3659.8491\n",
      "Iteration 30 \n",
      "        L: 3488.7268\n",
      "Iteration 33 \n",
      "        L: 3843.1438\n",
      "\n"
     ]
    },
    {
     "data": {
      "application/vnd.jupyter.widget-view+json": {
       "model_id": "",
       "version_major": 2,
       "version_minor": 0
      },
      "text/plain": [
       "HBox(children=(IntProgress(value=0, max=35), HTML(value='')))"
      ]
     },
     "metadata": {},
     "output_type": "display_data"
    },
    {
     "name": "stdout",
     "output_type": "stream",
     "text": [
      "Iteration 3 \n",
      "        L: 3482.4800\n",
      "Iteration 6 \n",
      "        L: 3469.7649\n",
      "Iteration 9 \n",
      "        L: 3499.3794\n",
      "Iteration 12 \n",
      "        L: 3624.9319\n",
      "Iteration 15 \n",
      "        L: 3491.1733\n",
      "Iteration 18 \n",
      "        L: 3489.8291\n",
      "Iteration 21 \n",
      "        L: 3452.6646\n",
      "Iteration 24 \n",
      "        L: 3556.8003\n",
      "Iteration 27 \n",
      "        L: 3439.4053\n",
      "Iteration 30 \n",
      "        L: 3475.1709\n",
      "Iteration 33 \n",
      "        L: 3555.1824\n",
      "\n"
     ]
    },
    {
     "data": {
      "application/vnd.jupyter.widget-view+json": {
       "model_id": "",
       "version_major": 2,
       "version_minor": 0
      },
      "text/plain": [
       "HBox(children=(IntProgress(value=0, max=35), HTML(value='')))"
      ]
     },
     "metadata": {},
     "output_type": "display_data"
    },
    {
     "name": "stdout",
     "output_type": "stream",
     "text": [
      "Iteration 3 \n",
      "        L: 3446.6123\n",
      "Iteration 6 \n",
      "        L: 3686.6909\n",
      "Iteration 9 \n",
      "        L: 3416.6011\n",
      "Iteration 12 \n",
      "        L: 3594.1362\n",
      "Iteration 15 \n",
      "        L: 3508.8621\n",
      "Iteration 18 \n",
      "        L: 3528.0322\n",
      "Iteration 21 \n",
      "        L: 3388.0522\n",
      "Iteration 24 \n",
      "        L: 3493.1421\n",
      "Iteration 27 \n",
      "        L: 3522.7424\n",
      "Iteration 30 \n",
      "        L: 3473.6387\n",
      "Iteration 33 \n",
      "        L: 3502.3745\n",
      "\n"
     ]
    }
   ],
   "source": [
    "EPOCHS=100\n",
    "for epoch in range(EPOCHS):\n",
    "    i = 1\n",
    "    for X, y in tqdm_notebook(dataLoader):\n",
    "        model.zero_grad()\n",
    "        X_pred = model.forward(X)\n",
    "        L = torch.sum((X - X_pred)**2)\n",
    "        L.backward()\n",
    "        opt.step()\n",
    "\n",
    "        # Print\n",
    "        if (i % (len(dataLoader)//10)) == 0: print(\"Iteration %d \\n        L: %.4f\" % (i, L))\n",
    "        i += 1\n",
    "        \n",
    "        torch.cuda.empty_cache()"
   ]
  },
  {
   "cell_type": "code",
   "execution_count": 40,
   "metadata": {},
   "outputs": [
    {
     "data": {
      "text/plain": [
       "<matplotlib.image.AxesImage at 0x1da5c959fd0>"
      ]
     },
     "execution_count": 40,
     "metadata": {},
     "output_type": "execute_result"
    },
    {
     "data": {
      "image/png": "[encoded data removed]",
      "text/plain": [
       "<Figure size 432x288 with 1 Axes>"
      ]
     },
     "metadata": {
      "needs_background": "light"
     },
     "output_type": "display_data"
    }
   ],
   "source": [
    "plt.imshow(model.forward(X[2:3]).reshape(28,28).to(torch.device('cpu')).detach().numpy())"
   ]
  },
  {
   "cell_type": "code",
   "execution_count": 38,
   "metadata": {
    "scrolled": true
   },
   "outputs": [
    {
     "data": {
      "text/plain": [
       "<matplotlib.image.AxesImage at 0x1da5ca12d68>"
      ]
     },
     "execution_count": 38,
     "metadata": {},
     "output_type": "execute_result"
    },
    {
     "data": {
      "image/png": "[encoded data removed]",
      "text/plain": [
       "<Figure size 432x288 with 1 Axes>"
      ]
     },
     "metadata": {
      "needs_background": "light"
     },
     "output_type": "display_data"
    }
   ],
   "source": [
    "plt.imshow(X[2].reshape(28,28).to(torch.device('cpu')))"
   ]
  },
  {
   "cell_type": "markdown",
   "metadata": {},
   "source": [
    "# Interpretable embedding"
   ]
  },
  {
   "cell_type": "code",
   "execution_count": 60,
   "metadata": {},
   "outputs": [],
   "source": [
    "class AUTOENC_LogisticRegression(nn.Module):\n",
    "    def __init__(self, size):\n",
    "        super(AUTOENC_LogisticRegression, self).__init__()\n",
    "\n",
    "        self.lin1 = nn.Linear(784, size)\n",
    "        self.lin2 = nn.Linear(size, 784)\n",
    "        \n",
    "    def forward(self, X):\n",
    "        X = torch.tanh(self.lin1(X))\n",
    "        X = torch.sigmoid(self.lin2(X))\n",
    "        return X\n",
    "    \n",
    "    def embed(self, X):\n",
    "        X = torch.tanh(self.lin1(X))\n",
    "        return X       "
   ]
  },
  {
   "cell_type": "code",
   "execution_count": 61,
   "metadata": {},
   "outputs": [],
   "source": [
    "logRegEmb = AUTOENC_LogisticRegression(10).to(device)"
   ]
  },
  {
   "cell_type": "code",
   "execution_count": 62,
   "metadata": {},
   "outputs": [],
   "source": [
    "opt = optim.Adam(logRegEmb.parameters(), lr=0.001)"
   ]
  },
  {
   "cell_type": "code",
   "execution_count": 100,
   "metadata": {
    "scrolled": true
   },
   "outputs": [
    {
     "data": {
      "application/vnd.jupyter.widget-view+json": {
       "model_id": "2c2ef2a3a07e4af3ac68fdd9f6cda69b",
       "version_major": 2,
       "version_minor": 0
      },
      "text/plain": [
       "HBox(children=(IntProgress(value=0, max=35), HTML(value='')))"
      ]
     },
     "metadata": {},
     "output_type": "display_data"
    },
    {
     "name": "stdout",
     "output_type": "stream",
     "text": [
      "Iteration 3 \n",
      "        L: 69178.2344\n",
      "Iteration 6 \n",
      "        L: 66917.0000\n",
      "Iteration 9 \n",
      "        L: 68507.2734\n",
      "Iteration 12 \n",
      "        L: 67932.8359\n",
      "Iteration 15 \n",
      "        L: 68606.4609\n",
      "Iteration 18 \n",
      "        L: 68139.0156\n",
      "Iteration 21 \n",
      "        L: 69860.0312\n",
      "Iteration 24 \n",
      "        L: 70343.0547\n",
      "Iteration 27 \n",
      "        L: 67961.9844\n",
      "Iteration 30 \n",
      "        L: 68025.8281\n",
      "Iteration 33 \n",
      "        L: 68068.6406\n"
     ]
    },
    {
     "data": {
      "application/vnd.jupyter.widget-view+json": {
       "model_id": "380c67e3c76a4f0d8dfac010c1219a3e",
       "version_major": 2,
       "version_minor": 0
      },
      "text/plain": [
       "HBox(children=(IntProgress(value=0, max=35), HTML(value='')))"
      ]
     },
     "metadata": {},
     "output_type": "display_data"
    },
    {
     "name": "stdout",
     "output_type": "stream",
     "text": [
      "Iteration 3 \n",
      "        L: 68380.4531\n",
      "Iteration 6 \n",
      "        L: 69466.1328\n",
      "Iteration 9 \n",
      "        L: 69507.9219\n",
      "Iteration 12 \n",
      "        L: 68870.2656\n",
      "Iteration 15 \n",
      "        L: 68345.6875\n",
      "Iteration 18 \n",
      "        L: 68216.3750\n",
      "Iteration 21 \n",
      "        L: 67557.0625\n",
      "Iteration 24 \n",
      "        L: 68702.7422\n",
      "Iteration 27 \n",
      "        L: 68557.5781\n",
      "Iteration 30 \n",
      "        L: 68222.4062\n",
      "Iteration 33 \n",
      "        L: 67599.0625\n"
     ]
    },
    {
     "data": {
      "application/vnd.jupyter.widget-view+json": {
       "model_id": "d1589d408f334f5e9288348d1c31d972",
       "version_major": 2,
       "version_minor": 0
      },
      "text/plain": [
       "HBox(children=(IntProgress(value=0, max=35), HTML(value='')))"
      ]
     },
     "metadata": {},
     "output_type": "display_data"
    },
    {
     "name": "stdout",
     "output_type": "stream",
     "text": [
      "Iteration 3 \n",
      "        L: 68422.0312\n",
      "Iteration 6 \n",
      "        L: 67131.5625\n",
      "Iteration 9 \n",
      "        L: 68267.6719\n",
      "Iteration 12 \n",
      "        L: 68924.7031\n",
      "Iteration 15 \n",
      "        L: 69476.4141\n",
      "Iteration 18 \n",
      "        L: 68358.4609\n",
      "Iteration 21 \n",
      "        L: 68279.6484\n",
      "Iteration 24 \n",
      "        L: 66984.5234\n",
      "Iteration 27 \n",
      "        L: 67789.2188\n",
      "Iteration 30 \n",
      "        L: 68890.5781\n",
      "Iteration 33 \n",
      "        L: 68940.4453\n"
     ]
    },
    {
     "data": {
      "application/vnd.jupyter.widget-view+json": {
       "model_id": "1eed7970f0c8463898c2941f4f1d9a9d",
       "version_major": 2,
       "version_minor": 0
      },
      "text/plain": [
       "HBox(children=(IntProgress(value=0, max=35), HTML(value='')))"
      ]
     },
     "metadata": {},
     "output_type": "display_data"
    },
    {
     "name": "stdout",
     "output_type": "stream",
     "text": [
      "Iteration 3 \n",
      "        L: 66580.5156\n",
      "Iteration 6 \n",
      "        L: 68535.1250\n",
      "Iteration 9 \n",
      "        L: 67597.7656\n",
      "Iteration 12 \n",
      "        L: 67551.5625\n",
      "Iteration 15 \n",
      "        L: 68138.5469\n",
      "Iteration 18 \n",
      "        L: 70163.5469\n",
      "Iteration 21 \n",
      "        L: 67787.3594\n",
      "Iteration 24 \n",
      "        L: 67776.8438\n",
      "Iteration 27 \n",
      "        L: 68797.8281\n",
      "Iteration 30 \n",
      "        L: 67683.3750\n",
      "Iteration 33 \n",
      "        L: 65760.2031\n"
     ]
    },
    {
     "data": {
      "application/vnd.jupyter.widget-view+json": {
       "model_id": "e94bff29acbb49b0943fa23537485e2b",
       "version_major": 2,
       "version_minor": 0
      },
      "text/plain": [
       "HBox(children=(IntProgress(value=0, max=35), HTML(value='')))"
      ]
     },
     "metadata": {},
     "output_type": "display_data"
    },
    {
     "name": "stdout",
     "output_type": "stream",
     "text": [
      "Iteration 3 \n",
      "        L: 68305.9844\n",
      "Iteration 6 \n",
      "        L: 68328.6797\n",
      "Iteration 9 \n",
      "        L: 68582.8984\n",
      "Iteration 12 \n",
      "        L: 68268.3203\n",
      "Iteration 15 \n",
      "        L: 68102.7656\n",
      "Iteration 18 \n",
      "        L: 67011.2969\n",
      "Iteration 21 \n",
      "        L: 67571.0781\n",
      "Iteration 24 \n",
      "        L: 67500.9609\n",
      "Iteration 27 \n",
      "        L: 68964.3281\n",
      "Iteration 30 \n",
      "        L: 69030.4219\n",
      "Iteration 33 \n",
      "        L: 68068.1172\n"
     ]
    },
    {
     "data": {
      "application/vnd.jupyter.widget-view+json": {
       "model_id": "680976d190e54a89b1d8231860defc52",
       "version_major": 2,
       "version_minor": 0
      },
      "text/plain": [
       "HBox(children=(IntProgress(value=0, max=35), HTML(value='')))"
      ]
     },
     "metadata": {},
     "output_type": "display_data"
    },
    {
     "name": "stdout",
     "output_type": "stream",
     "text": [
      "Iteration 3 \n",
      "        L: 66991.6250\n",
      "Iteration 6 \n",
      "        L: 67666.3594\n",
      "Iteration 9 \n",
      "        L: 68555.2188\n",
      "Iteration 12 \n",
      "        L: 66574.5469\n",
      "Iteration 15 \n",
      "        L: 68645.7109\n",
      "Iteration 18 \n",
      "        L: 68554.4844\n",
      "Iteration 21 \n",
      "        L: 66590.0938\n",
      "Iteration 24 \n",
      "        L: 68153.1953\n",
      "Iteration 27 \n",
      "        L: 67458.1094\n",
      "Iteration 30 \n",
      "        L: 66534.9844\n",
      "Iteration 33 \n",
      "        L: 66657.1562\n"
     ]
    },
    {
     "data": {
      "application/vnd.jupyter.widget-view+json": {
       "model_id": "74c758c2d3b042d0b1dcc07967210063",
       "version_major": 2,
       "version_minor": 0
      },
      "text/plain": [
       "HBox(children=(IntProgress(value=0, max=35), HTML(value='')))"
      ]
     },
     "metadata": {},
     "output_type": "display_data"
    },
    {
     "name": "stdout",
     "output_type": "stream",
     "text": [
      "Iteration 3 \n",
      "        L: 67815.1328\n",
      "Iteration 6 \n",
      "        L: 67320.9531\n",
      "Iteration 9 \n",
      "        L: 67164.4062\n",
      "Iteration 12 \n",
      "        L: 66522.3594\n",
      "Iteration 15 \n",
      "        L: 67557.0625\n",
      "Iteration 18 \n",
      "        L: 66261.5234\n",
      "Iteration 21 \n",
      "        L: 69129.0156\n",
      "Iteration 24 \n",
      "        L: 68537.1953\n",
      "Iteration 27 \n",
      "        L: 67240.8750\n",
      "Iteration 30 \n",
      "        L: 67868.0469\n",
      "Iteration 33 \n",
      "        L: 67445.3281\n"
     ]
    },
    {
     "data": {
      "application/vnd.jupyter.widget-view+json": {
       "model_id": "51d3369f4b884d4192af875cfee0716f",
       "version_major": 2,
       "version_minor": 0
      },
      "text/plain": [
       "HBox(children=(IntProgress(value=0, max=35), HTML(value='')))"
      ]
     },
     "metadata": {},
     "output_type": "display_data"
    },
    {
     "name": "stdout",
     "output_type": "stream",
     "text": [
      "Iteration 3 \n",
      "        L: 66851.7969\n",
      "Iteration 6 \n",
      "        L: 66730.1719\n",
      "Iteration 9 \n",
      "        L: 67913.8438\n",
      "Iteration 12 \n",
      "        L: 66965.8359\n",
      "Iteration 15 \n",
      "        L: 66936.5312\n",
      "Iteration 18 \n",
      "        L: 67819.1562\n",
      "Iteration 21 \n",
      "        L: 67856.7344\n",
      "Iteration 24 \n",
      "        L: 66318.3594\n",
      "Iteration 27 \n",
      "        L: 68185.9688\n",
      "Iteration 30 \n",
      "        L: 68127.7188\n",
      "Iteration 33 \n",
      "        L: 65859.2969\n"
     ]
    },
    {
     "data": {
      "application/vnd.jupyter.widget-view+json": {
       "model_id": "5dadee40a2634474852113dead015eb5",
       "version_major": 2,
       "version_minor": 0
      },
      "text/plain": [
       "HBox(children=(IntProgress(value=0, max=35), HTML(value='')))"
      ]
     },
     "metadata": {},
     "output_type": "display_data"
    },
    {
     "name": "stdout",
     "output_type": "stream",
     "text": [
      "Iteration 3 \n",
      "        L: 67023.9453\n",
      "Iteration 6 \n",
      "        L: 67492.7031\n",
      "Iteration 9 \n",
      "        L: 66064.1406\n",
      "Iteration 12 \n",
      "        L: 66355.2266\n",
      "Iteration 15 \n",
      "        L: 66628.9688\n",
      "Iteration 18 \n",
      "        L: 66333.4375\n",
      "Iteration 21 \n",
      "        L: 67742.1484\n",
      "Iteration 24 \n",
      "        L: 67104.3203\n",
      "Iteration 27 \n",
      "        L: 68215.3906\n",
      "Iteration 30 \n",
      "        L: 66688.1641\n",
      "Iteration 33 \n",
      "        L: 67544.7656\n"
     ]
    },
    {
     "data": {
      "application/vnd.jupyter.widget-view+json": {
       "model_id": "0ed05b6d72c1480a8e0b9bf77c111be0",
       "version_major": 2,
       "version_minor": 0
      },
      "text/plain": [
       "HBox(children=(IntProgress(value=0, max=35), HTML(value='')))"
      ]
     },
     "metadata": {},
     "output_type": "display_data"
    },
    {
     "name": "stdout",
     "output_type": "stream",
     "text": [
      "Iteration 3 \n",
      "        L: 66611.1172\n",
      "Iteration 6 \n",
      "        L: 66414.1094\n",
      "Iteration 9 \n",
      "        L: 67310.0781\n",
      "Iteration 12 \n",
      "        L: 67532.0625\n",
      "Iteration 15 \n",
      "        L: 67011.3125\n",
      "Iteration 18 \n",
      "        L: 67984.5156\n",
      "Iteration 21 \n",
      "        L: 65476.3359\n",
      "Iteration 24 \n",
      "        L: 67233.4453\n",
      "Iteration 27 \n",
      "        L: 66596.7734\n",
      "Iteration 30 \n",
      "        L: 67362.0703\n",
      "Iteration 33 \n",
      "        L: 66665.7266\n"
     ]
    },
    {
     "data": {
      "application/vnd.jupyter.widget-view+json": {
       "model_id": "78f57f3e14ee4bd2bf281d49a26d282c",
       "version_major": 2,
       "version_minor": 0
      },
      "text/plain": [
       "HBox(children=(IntProgress(value=0, max=35), HTML(value='')))"
      ]
     },
     "metadata": {},
     "output_type": "display_data"
    },
    {
     "name": "stdout",
     "output_type": "stream",
     "text": [
      "Iteration 3 \n",
      "        L: 66989.2656\n",
      "Iteration 6 \n",
      "        L: 65031.9922\n",
      "Iteration 9 \n",
      "        L: 64830.7266\n",
      "Iteration 12 \n",
      "        L: 67049.8906\n",
      "Iteration 15 \n",
      "        L: 66673.8906\n",
      "Iteration 18 \n",
      "        L: 67576.2656\n",
      "Iteration 21 \n",
      "        L: 67814.7656\n",
      "Iteration 24 \n",
      "        L: 67705.1250\n",
      "Iteration 27 \n",
      "        L: 66070.3281\n",
      "Iteration 30 \n",
      "        L: 66594.0781\n",
      "Iteration 33 \n",
      "        L: 66723.2812\n"
     ]
    },
    {
     "data": {
      "application/vnd.jupyter.widget-view+json": {
       "model_id": "63bb5069700e4fb7a6d8dded9b69a5de",
       "version_major": 2,
       "version_minor": 0
      },
      "text/plain": [
       "HBox(children=(IntProgress(value=0, max=35), HTML(value='')))"
      ]
     },
     "metadata": {},
     "output_type": "display_data"
    },
    {
     "name": "stdout",
     "output_type": "stream",
     "text": [
      "Iteration 3 \n",
      "        L: 66722.3906\n",
      "Iteration 6 \n",
      "        L: 67838.0234\n",
      "Iteration 9 \n",
      "        L: 66867.4062\n",
      "Iteration 12 \n",
      "        L: 65889.1406\n",
      "Iteration 15 \n",
      "        L: 66364.5000\n",
      "Iteration 18 \n",
      "        L: 66257.6562\n",
      "Iteration 21 \n",
      "        L: 67157.8984\n",
      "Iteration 24 \n",
      "        L: 66581.8984\n",
      "Iteration 27 \n",
      "        L: 67726.0703\n",
      "Iteration 30 \n",
      "        L: 67082.9844\n",
      "Iteration 33 \n",
      "        L: 66880.5156\n"
     ]
    },
    {
     "data": {
      "application/vnd.jupyter.widget-view+json": {
       "model_id": "1f9594343f4b450d90ae5d2f7bae9d47",
       "version_major": 2,
       "version_minor": 0
      },
      "text/plain": [
       "HBox(children=(IntProgress(value=0, max=35), HTML(value='')))"
      ]
     },
     "metadata": {},
     "output_type": "display_data"
    },
    {
     "name": "stdout",
     "output_type": "stream",
     "text": [
      "Iteration 3 \n",
      "        L: 67644.9609\n",
      "Iteration 6 \n",
      "        L: 67425.1641\n",
      "Iteration 9 \n",
      "        L: 65304.4062\n",
      "Iteration 12 \n",
      "        L: 66217.0938\n",
      "Iteration 15 \n",
      "        L: 67151.4375\n",
      "Iteration 18 \n",
      "        L: 67560.1719\n",
      "Iteration 21 \n",
      "        L: 66071.8828\n",
      "Iteration 24 \n",
      "        L: 65302.9766\n",
      "Iteration 27 \n",
      "        L: 66186.6562\n",
      "Iteration 30 \n",
      "        L: 66997.7656\n",
      "Iteration 33 \n",
      "        L: 67402.0000\n"
     ]
    },
    {
     "data": {
      "application/vnd.jupyter.widget-view+json": {
       "model_id": "27744dc115a94b98b361dd8d1a67e1ca",
       "version_major": 2,
       "version_minor": 0
      },
      "text/plain": [
       "HBox(children=(IntProgress(value=0, max=35), HTML(value='')))"
      ]
     },
     "metadata": {},
     "output_type": "display_data"
    },
    {
     "name": "stdout",
     "output_type": "stream",
     "text": [
      "Iteration 3 \n",
      "        L: 65976.5625\n",
      "Iteration 6 \n",
      "        L: 66764.4531\n",
      "Iteration 9 \n",
      "        L: 66390.6875\n",
      "Iteration 12 \n",
      "        L: 65817.3359\n",
      "Iteration 15 \n",
      "        L: 67148.5625\n",
      "Iteration 18 \n",
      "        L: 65917.2812\n",
      "Iteration 21 \n",
      "        L: 65443.2891\n",
      "Iteration 24 \n",
      "        L: 66694.8281\n",
      "Iteration 27 \n",
      "        L: 67363.6016\n",
      "Iteration 30 \n",
      "        L: 65913.5547\n",
      "Iteration 33 \n",
      "        L: 66803.1406\n"
     ]
    },
    {
     "data": {
      "application/vnd.jupyter.widget-view+json": {
       "model_id": "68fee4dcc161449e9bfd5419beb5aabd",
       "version_major": 2,
       "version_minor": 0
      },
      "text/plain": [
       "HBox(children=(IntProgress(value=0, max=35), HTML(value='')))"
      ]
     },
     "metadata": {},
     "output_type": "display_data"
    },
    {
     "name": "stdout",
     "output_type": "stream",
     "text": [
      "Iteration 3 \n",
      "        L: 66625.0469\n",
      "Iteration 6 \n",
      "        L: 67323.7109\n",
      "Iteration 9 \n",
      "        L: 65741.9062\n",
      "Iteration 12 \n",
      "        L: 65119.4023\n",
      "Iteration 15 \n",
      "        L: 65585.1719\n",
      "Iteration 18 \n",
      "        L: 65084.8086\n",
      "Iteration 21 \n",
      "        L: 66060.6719\n",
      "Iteration 24 \n",
      "        L: 66580.1094\n",
      "Iteration 27 \n",
      "        L: 64968.2227\n",
      "Iteration 30 \n",
      "        L: 66376.2031\n",
      "Iteration 33 \n",
      "        L: 66539.7891\n"
     ]
    },
    {
     "data": {
      "application/vnd.jupyter.widget-view+json": {
       "model_id": "35013b809e4141359aaca0f2826ea61b",
       "version_major": 2,
       "version_minor": 0
      },
      "text/plain": [
       "HBox(children=(IntProgress(value=0, max=35), HTML(value='')))"
      ]
     },
     "metadata": {},
     "output_type": "display_data"
    },
    {
     "name": "stdout",
     "output_type": "stream",
     "text": [
      "Iteration 3 \n",
      "        L: 66205.5000\n",
      "Iteration 6 \n",
      "        L: 67428.1562\n",
      "Iteration 9 \n",
      "        L: 65100.4453\n",
      "Iteration 12 \n",
      "        L: 65426.5742\n",
      "Iteration 15 \n",
      "        L: 65150.1953\n",
      "Iteration 18 \n",
      "        L: 65075.0117\n",
      "Iteration 21 \n",
      "        L: 65269.4531\n",
      "Iteration 24 \n",
      "        L: 67344.5781\n",
      "Iteration 27 \n",
      "        L: 65792.0234\n",
      "Iteration 30 \n",
      "        L: 66043.4062\n",
      "Iteration 33 \n",
      "        L: 67046.2266\n"
     ]
    },
    {
     "data": {
      "application/vnd.jupyter.widget-view+json": {
       "model_id": "31bd43aaa1b94fd39e41762352a76e72",
       "version_major": 2,
       "version_minor": 0
      },
      "text/plain": [
       "HBox(children=(IntProgress(value=0, max=35), HTML(value='')))"
      ]
     },
     "metadata": {},
     "output_type": "display_data"
    },
    {
     "name": "stdout",
     "output_type": "stream",
     "text": [
      "Iteration 3 \n",
      "        L: 66543.9844\n",
      "Iteration 6 \n",
      "        L: 66450.7422\n",
      "Iteration 9 \n",
      "        L: 67097.6484\n",
      "Iteration 12 \n",
      "        L: 66457.2422\n",
      "Iteration 15 \n",
      "        L: 66389.2344\n",
      "Iteration 18 \n",
      "        L: 66153.3906\n",
      "Iteration 21 \n",
      "        L: 66702.3125\n",
      "Iteration 24 \n",
      "        L: 66273.5391\n",
      "Iteration 27 \n",
      "        L: 67878.5391\n",
      "Iteration 30 \n",
      "        L: 64393.1133\n",
      "Iteration 33 \n",
      "        L: 65527.4688\n"
     ]
    },
    {
     "data": {
      "application/vnd.jupyter.widget-view+json": {
       "model_id": "33f242f682e84868a457fb9aef5153e1",
       "version_major": 2,
       "version_minor": 0
      },
      "text/plain": [
       "HBox(children=(IntProgress(value=0, max=35), HTML(value='')))"
      ]
     },
     "metadata": {},
     "output_type": "display_data"
    },
    {
     "name": "stdout",
     "output_type": "stream",
     "text": [
      "Iteration 3 \n",
      "        L: 65967.3828\n",
      "Iteration 6 \n",
      "        L: 66543.8906\n",
      "Iteration 9 \n",
      "        L: 66938.2500\n",
      "Iteration 12 \n",
      "        L: 68005.7031\n",
      "Iteration 15 \n",
      "        L: 65033.6445\n",
      "Iteration 18 \n",
      "        L: 64296.4805\n",
      "Iteration 21 \n",
      "        L: 65270.9453\n",
      "Iteration 24 \n",
      "        L: 64391.9141\n",
      "Iteration 27 \n",
      "        L: 66070.2812\n",
      "Iteration 30 \n",
      "        L: 65937.9375\n",
      "Iteration 33 \n",
      "        L: 65313.1953\n"
     ]
    },
    {
     "data": {
      "application/vnd.jupyter.widget-view+json": {
       "model_id": "3fce829fe0814d66a4a5dc3e57a2c2a7",
       "version_major": 2,
       "version_minor": 0
      },
      "text/plain": [
       "HBox(children=(IntProgress(value=0, max=35), HTML(value='')))"
      ]
     },
     "metadata": {},
     "output_type": "display_data"
    },
    {
     "name": "stdout",
     "output_type": "stream",
     "text": [
      "Iteration 3 \n",
      "        L: 65813.7891\n",
      "Iteration 6 \n",
      "        L: 66295.3438\n",
      "Iteration 9 \n",
      "        L: 65602.8125\n",
      "Iteration 12 \n",
      "        L: 65475.4297\n",
      "Iteration 15 \n",
      "        L: 65496.0469\n",
      "Iteration 18 \n",
      "        L: 67036.8594\n",
      "Iteration 21 \n",
      "        L: 64554.3516\n",
      "Iteration 24 \n",
      "        L: 65932.1406\n",
      "Iteration 27 \n",
      "        L: 65903.6406\n",
      "Iteration 30 \n",
      "        L: 65402.4531\n",
      "Iteration 33 \n",
      "        L: 65655.4375\n"
     ]
    },
    {
     "data": {
      "application/vnd.jupyter.widget-view+json": {
       "model_id": "de153b95950841399805899b6c47ea1b",
       "version_major": 2,
       "version_minor": 0
      },
      "text/plain": [
       "HBox(children=(IntProgress(value=0, max=35), HTML(value='')))"
      ]
     },
     "metadata": {},
     "output_type": "display_data"
    },
    {
     "name": "stdout",
     "output_type": "stream",
     "text": [
      "Iteration 3 \n",
      "        L: 65468.6641\n",
      "Iteration 6 \n",
      "        L: 65831.0781\n",
      "Iteration 9 \n",
      "        L: 65120.6016\n",
      "Iteration 12 \n",
      "        L: 65361.4844\n",
      "Iteration 15 \n",
      "        L: 67150.3516\n",
      "Iteration 18 \n",
      "        L: 65366.2031\n",
      "Iteration 21 \n",
      "        L: 63783.5273\n",
      "Iteration 24 \n",
      "        L: 64811.4844\n",
      "Iteration 27 \n",
      "        L: 65582.9062\n",
      "Iteration 30 \n",
      "        L: 65473.2891\n",
      "Iteration 33 \n",
      "        L: 65684.7656\n"
     ]
    },
    {
     "data": {
      "application/vnd.jupyter.widget-view+json": {
       "model_id": "29c700dec9ed473985a9a20acb068a29",
       "version_major": 2,
       "version_minor": 0
      },
      "text/plain": [
       "HBox(children=(IntProgress(value=0, max=35), HTML(value='')))"
      ]
     },
     "metadata": {},
     "output_type": "display_data"
    },
    {
     "name": "stdout",
     "output_type": "stream",
     "text": [
      "Iteration 3 \n",
      "        L: 65977.7109\n",
      "Iteration 6 \n",
      "        L: 65011.6328\n",
      "Iteration 9 \n",
      "        L: 66126.5703\n",
      "Iteration 12 \n",
      "        L: 64039.4453\n",
      "Iteration 15 \n",
      "        L: 65871.8438\n",
      "Iteration 18 \n",
      "        L: 66394.1875\n",
      "Iteration 21 \n",
      "        L: 66500.8125\n",
      "Iteration 24 \n",
      "        L: 63779.9492\n",
      "Iteration 27 \n",
      "        L: 65121.8672\n",
      "Iteration 30 \n",
      "        L: 64949.4297\n",
      "Iteration 33 \n",
      "        L: 65193.0156\n"
     ]
    },
    {
     "data": {
      "application/vnd.jupyter.widget-view+json": {
       "model_id": "26f225be95934597826d5287e9735a78",
       "version_major": 2,
       "version_minor": 0
      },
      "text/plain": [
       "HBox(children=(IntProgress(value=0, max=35), HTML(value='')))"
      ]
     },
     "metadata": {},
     "output_type": "display_data"
    },
    {
     "name": "stdout",
     "output_type": "stream",
     "text": [
      "Iteration 3 \n",
      "        L: 64641.3555\n",
      "Iteration 6 \n",
      "        L: 65156.4062\n",
      "Iteration 9 \n",
      "        L: 65698.1016\n",
      "Iteration 12 \n",
      "        L: 65650.5781\n",
      "Iteration 15 \n",
      "        L: 64411.6484\n",
      "Iteration 18 \n",
      "        L: 65644.2969\n",
      "Iteration 21 \n",
      "        L: 64755.0820\n",
      "Iteration 24 \n",
      "        L: 66613.2188\n",
      "Iteration 27 \n",
      "        L: 65014.5703\n",
      "Iteration 30 \n",
      "        L: 65330.8047\n",
      "Iteration 33 \n",
      "        L: 65292.5703\n"
     ]
    },
    {
     "data": {
      "application/vnd.jupyter.widget-view+json": {
       "model_id": "c5e3e5dde5774e03b6d6e73ebf43acc1",
       "version_major": 2,
       "version_minor": 0
      },
      "text/plain": [
       "HBox(children=(IntProgress(value=0, max=35), HTML(value='')))"
      ]
     },
     "metadata": {},
     "output_type": "display_data"
    },
    {
     "name": "stdout",
     "output_type": "stream",
     "text": [
      "Iteration 3 \n",
      "        L: 65088.6484\n",
      "Iteration 6 \n",
      "        L: 65026.4609\n",
      "Iteration 9 \n",
      "        L: 64017.8281\n",
      "Iteration 12 \n",
      "        L: 65633.1406\n",
      "Iteration 15 \n",
      "        L: 64477.3828\n",
      "Iteration 18 \n",
      "        L: 64449.1016\n",
      "Iteration 21 \n",
      "        L: 64499.1719\n",
      "Iteration 24 \n",
      "        L: 66797.1016\n",
      "Iteration 27 \n",
      "        L: 64842.7422\n",
      "Iteration 30 \n",
      "        L: 66310.3281\n",
      "Iteration 33 \n",
      "        L: 66259.4688\n"
     ]
    },
    {
     "data": {
      "application/vnd.jupyter.widget-view+json": {
       "model_id": "d2fffbd8bfc747c796ad3e798fb6e88b",
       "version_major": 2,
       "version_minor": 0
      },
      "text/plain": [
       "HBox(children=(IntProgress(value=0, max=35), HTML(value='')))"
      ]
     },
     "metadata": {},
     "output_type": "display_data"
    },
    {
     "name": "stdout",
     "output_type": "stream",
     "text": [
      "Iteration 3 \n",
      "        L: 66387.3594\n",
      "Iteration 6 \n",
      "        L: 64646.9648\n",
      "Iteration 9 \n",
      "        L: 66287.0000\n",
      "Iteration 12 \n",
      "        L: 65893.3125\n",
      "Iteration 15 \n",
      "        L: 65973.0469\n",
      "Iteration 18 \n",
      "        L: 66341.8984\n",
      "Iteration 21 \n",
      "        L: 64728.4531\n",
      "Iteration 24 \n",
      "        L: 63772.5820\n",
      "Iteration 27 \n",
      "        L: 66170.2812\n",
      "Iteration 30 \n",
      "        L: 65384.1680\n",
      "Iteration 33 \n",
      "        L: 66036.8438\n"
     ]
    },
    {
     "data": {
      "application/vnd.jupyter.widget-view+json": {
       "model_id": "b22b48b4ac8c4be89a7cc232d7b9bb46",
       "version_major": 2,
       "version_minor": 0
      },
      "text/plain": [
       "HBox(children=(IntProgress(value=0, max=35), HTML(value='')))"
      ]
     },
     "metadata": {},
     "output_type": "display_data"
    },
    {
     "name": "stdout",
     "output_type": "stream",
     "text": [
      "Iteration 3 \n",
      "        L: 65299.3594\n",
      "Iteration 6 \n",
      "        L: 64760.2422\n",
      "Iteration 9 \n",
      "        L: 65788.3750\n",
      "Iteration 12 \n",
      "        L: 64931.4883\n",
      "Iteration 15 \n",
      "        L: 65840.0703\n",
      "Iteration 18 \n",
      "        L: 64141.9531\n",
      "Iteration 21 \n",
      "        L: 65991.5781\n",
      "Iteration 24 \n",
      "        L: 65703.0000\n",
      "Iteration 27 \n",
      "        L: 65561.2656\n",
      "Iteration 30 \n",
      "        L: 64878.3125\n",
      "Iteration 33 \n",
      "        L: 65180.5156\n"
     ]
    },
    {
     "data": {
      "application/vnd.jupyter.widget-view+json": {
       "model_id": "afc5faea6a534a8fbd6614e0a242a658",
       "version_major": 2,
       "version_minor": 0
      },
      "text/plain": [
       "HBox(children=(IntProgress(value=0, max=35), HTML(value='')))"
      ]
     },
     "metadata": {},
     "output_type": "display_data"
    },
    {
     "name": "stdout",
     "output_type": "stream",
     "text": [
      "Iteration 3 \n",
      "        L: 65489.0039\n",
      "Iteration 6 \n",
      "        L: 65446.7891\n",
      "Iteration 9 \n",
      "        L: 66551.9141\n",
      "Iteration 12 \n",
      "        L: 64469.4414\n",
      "Iteration 15 \n",
      "        L: 64469.3711\n",
      "Iteration 18 \n",
      "        L: 64950.3125\n",
      "Iteration 21 \n",
      "        L: 65666.6562\n",
      "Iteration 24 \n",
      "        L: 65772.7344\n",
      "Iteration 27 \n",
      "        L: 65464.9609\n",
      "Iteration 30 \n",
      "        L: 64833.9492\n",
      "Iteration 33 \n",
      "        L: 64278.2500\n"
     ]
    },
    {
     "data": {
      "application/vnd.jupyter.widget-view+json": {
       "model_id": "31b5ae69ef774a579846ee1950e4d57f",
       "version_major": 2,
       "version_minor": 0
      },
      "text/plain": [
       "HBox(children=(IntProgress(value=0, max=35), HTML(value='')))"
      ]
     },
     "metadata": {},
     "output_type": "display_data"
    },
    {
     "name": "stdout",
     "output_type": "stream",
     "text": [
      "Iteration 3 \n",
      "        L: 65647.8281\n",
      "Iteration 6 \n",
      "        L: 63571.5234\n",
      "Iteration 9 \n",
      "        L: 64836.2188\n",
      "Iteration 12 \n",
      "        L: 65972.9531\n",
      "Iteration 15 \n",
      "        L: 64595.8164\n",
      "Iteration 18 \n",
      "        L: 64185.4805\n",
      "Iteration 21 \n",
      "        L: 65293.4570\n",
      "Iteration 24 \n",
      "        L: 64133.0547\n",
      "Iteration 27 \n",
      "        L: 64224.0898\n",
      "Iteration 30 \n",
      "        L: 65142.2617\n",
      "Iteration 33 \n",
      "        L: 64679.0391\n"
     ]
    },
    {
     "data": {
      "application/vnd.jupyter.widget-view+json": {
       "model_id": "8c7801c5138748d090f7e8cb62dae898",
       "version_major": 2,
       "version_minor": 0
      },
      "text/plain": [
       "HBox(children=(IntProgress(value=0, max=35), HTML(value='')))"
      ]
     },
     "metadata": {},
     "output_type": "display_data"
    },
    {
     "name": "stdout",
     "output_type": "stream",
     "text": [
      "Iteration 3 \n",
      "        L: 64189.9023\n",
      "Iteration 6 \n",
      "        L: 66208.7500\n",
      "Iteration 9 \n",
      "        L: 65831.1641\n",
      "Iteration 12 \n",
      "        L: 65232.6602\n",
      "Iteration 15 \n",
      "        L: 65535.2383\n",
      "Iteration 18 \n",
      "        L: 65076.9297\n",
      "Iteration 21 \n",
      "        L: 65562.6797\n",
      "Iteration 24 \n",
      "        L: 64135.2969\n",
      "Iteration 27 \n",
      "        L: 64427.2656\n",
      "Iteration 30 \n",
      "        L: 64972.2305\n",
      "Iteration 33 \n",
      "        L: 64410.4609\n"
     ]
    },
    {
     "data": {
      "application/vnd.jupyter.widget-view+json": {
       "model_id": "d90964d046d54477a46900f77c35f479",
       "version_major": 2,
       "version_minor": 0
      },
      "text/plain": [
       "HBox(children=(IntProgress(value=0, max=35), HTML(value='')))"
      ]
     },
     "metadata": {},
     "output_type": "display_data"
    },
    {
     "name": "stdout",
     "output_type": "stream",
     "text": [
      "Iteration 3 \n",
      "        L: 65319.4219\n",
      "Iteration 6 \n",
      "        L: 65039.8438\n",
      "Iteration 9 \n",
      "        L: 63827.7266\n",
      "Iteration 12 \n",
      "        L: 66079.1406\n",
      "Iteration 15 \n",
      "        L: 64496.4062\n",
      "Iteration 18 \n",
      "        L: 65514.9141\n",
      "Iteration 21 \n",
      "        L: 65666.0078\n",
      "Iteration 24 \n",
      "        L: 64177.8906\n",
      "Iteration 27 \n",
      "        L: 65331.4219\n",
      "Iteration 30 \n",
      "        L: 63986.1445\n",
      "Iteration 33 \n",
      "        L: 64120.7930\n"
     ]
    },
    {
     "data": {
      "application/vnd.jupyter.widget-view+json": {
       "model_id": "09f0e9c0a7bb48fb864db49898e24bd8",
       "version_major": 2,
       "version_minor": 0
      },
      "text/plain": [
       "HBox(children=(IntProgress(value=0, max=35), HTML(value='')))"
      ]
     },
     "metadata": {},
     "output_type": "display_data"
    },
    {
     "name": "stdout",
     "output_type": "stream",
     "text": [
      "Iteration 3 \n",
      "        L: 64627.3984\n",
      "Iteration 6 \n",
      "        L: 64654.7891\n",
      "Iteration 9 \n",
      "        L: 64894.1719\n",
      "Iteration 12 \n",
      "        L: 64224.7109\n",
      "Iteration 15 \n",
      "        L: 64943.9609\n",
      "Iteration 18 \n",
      "        L: 65252.2930\n",
      "Iteration 21 \n",
      "        L: 64851.1211\n",
      "Iteration 24 \n",
      "        L: 64158.7773\n",
      "Iteration 27 \n",
      "        L: 64283.6875\n",
      "Iteration 30 \n",
      "        L: 64404.4141\n",
      "Iteration 33 \n",
      "        L: 64335.2344\n"
     ]
    },
    {
     "data": {
      "application/vnd.jupyter.widget-view+json": {
       "model_id": "cc9f6908ecef431cb7380adf1ff85ef8",
       "version_major": 2,
       "version_minor": 0
      },
      "text/plain": [
       "HBox(children=(IntProgress(value=0, max=35), HTML(value='')))"
      ]
     },
     "metadata": {},
     "output_type": "display_data"
    },
    {
     "name": "stdout",
     "output_type": "stream",
     "text": [
      "Iteration 3 \n",
      "        L: 66042.1172\n",
      "Iteration 6 \n",
      "        L: 65360.3008\n",
      "Iteration 9 \n",
      "        L: 63384.8281\n",
      "Iteration 12 \n",
      "        L: 66117.9062\n",
      "Iteration 15 \n",
      "        L: 65349.8398\n",
      "Iteration 18 \n",
      "        L: 64063.4922\n",
      "Iteration 21 \n",
      "        L: 63906.5000\n",
      "Iteration 24 \n",
      "        L: 65035.5820\n",
      "Iteration 27 \n",
      "        L: 66223.9766\n",
      "Iteration 30 \n",
      "        L: 63773.7773\n",
      "Iteration 33 \n",
      "        L: 64626.9258\n"
     ]
    },
    {
     "data": {
      "application/vnd.jupyter.widget-view+json": {
       "model_id": "a135b5e9b5c14ab4969a496b75143614",
       "version_major": 2,
       "version_minor": 0
      },
      "text/plain": [
       "HBox(children=(IntProgress(value=0, max=35), HTML(value='')))"
      ]
     },
     "metadata": {},
     "output_type": "display_data"
    },
    {
     "name": "stdout",
     "output_type": "stream",
     "text": [
      "Iteration 3 \n",
      "        L: 62865.2891\n",
      "Iteration 6 \n",
      "        L: 63006.1641\n",
      "Iteration 9 \n",
      "        L: 63895.6328\n",
      "Iteration 12 \n",
      "        L: 63913.3984\n",
      "Iteration 15 \n",
      "        L: 63934.5938\n",
      "Iteration 18 \n",
      "        L: 64007.1250\n",
      "Iteration 21 \n",
      "        L: 64422.5938\n",
      "Iteration 24 \n",
      "        L: 64863.1836\n",
      "Iteration 27 \n",
      "        L: 65849.0703\n",
      "Iteration 30 \n",
      "        L: 65156.8633\n",
      "Iteration 33 \n",
      "        L: 65135.2695\n"
     ]
    },
    {
     "data": {
      "application/vnd.jupyter.widget-view+json": {
       "model_id": "7733ab155e71497792e83d0ea779c3a3",
       "version_major": 2,
       "version_minor": 0
      },
      "text/plain": [
       "HBox(children=(IntProgress(value=0, max=35), HTML(value='')))"
      ]
     },
     "metadata": {},
     "output_type": "display_data"
    },
    {
     "name": "stdout",
     "output_type": "stream",
     "text": [
      "Iteration 3 \n",
      "        L: 64363.0781\n",
      "Iteration 6 \n",
      "        L: 64082.4805\n",
      "Iteration 9 \n",
      "        L: 64524.0273\n",
      "Iteration 12 \n",
      "        L: 63726.7656\n",
      "Iteration 15 \n",
      "        L: 63660.7500\n",
      "Iteration 18 \n",
      "        L: 65320.3242\n",
      "Iteration 21 \n",
      "        L: 65560.8125\n",
      "Iteration 24 \n",
      "        L: 64781.2578\n",
      "Iteration 27 \n",
      "        L: 65940.0312\n",
      "Iteration 30 \n",
      "        L: 63598.7695\n",
      "Iteration 33 \n",
      "        L: 65584.9219\n"
     ]
    },
    {
     "data": {
      "application/vnd.jupyter.widget-view+json": {
       "model_id": "009cca46bf994ba491a0020e84ae939e",
       "version_major": 2,
       "version_minor": 0
      },
      "text/plain": [
       "HBox(children=(IntProgress(value=0, max=35), HTML(value='')))"
      ]
     },
     "metadata": {},
     "output_type": "display_data"
    },
    {
     "name": "stdout",
     "output_type": "stream",
     "text": [
      "Iteration 3 \n",
      "        L: 63579.5117\n",
      "Iteration 6 \n",
      "        L: 65605.0312\n",
      "Iteration 9 \n",
      "        L: 65376.0000\n",
      "Iteration 12 \n",
      "        L: 64249.6133\n",
      "Iteration 15 \n",
      "        L: 63804.3906\n",
      "Iteration 18 \n",
      "        L: 65490.4961\n",
      "Iteration 21 \n",
      "        L: 64000.9531\n",
      "Iteration 24 \n",
      "        L: 63729.5391\n",
      "Iteration 27 \n",
      "        L: 66198.3047\n",
      "Iteration 30 \n",
      "        L: 63845.4062\n",
      "Iteration 33 \n",
      "        L: 65098.6289\n"
     ]
    },
    {
     "data": {
      "application/vnd.jupyter.widget-view+json": {
       "model_id": "6359d049d9554b53a4035486500abd6f",
       "version_major": 2,
       "version_minor": 0
      },
      "text/plain": [
       "HBox(children=(IntProgress(value=0, max=35), HTML(value='')))"
      ]
     },
     "metadata": {},
     "output_type": "display_data"
    },
    {
     "name": "stdout",
     "output_type": "stream",
     "text": [
      "Iteration 3 \n",
      "        L: 64278.4688\n",
      "Iteration 6 \n",
      "        L: 63952.9844\n",
      "Iteration 9 \n",
      "        L: 65317.8945\n",
      "Iteration 12 \n",
      "        L: 64139.3750\n",
      "Iteration 15 \n",
      "        L: 64182.1133\n",
      "Iteration 18 \n",
      "        L: 64606.9922\n",
      "Iteration 21 \n",
      "        L: 63588.8203\n",
      "Iteration 24 \n",
      "        L: 63693.4141\n",
      "Iteration 27 \n",
      "        L: 65119.1094\n",
      "Iteration 30 \n",
      "        L: 65976.9922\n",
      "Iteration 33 \n",
      "        L: 64547.9961\n"
     ]
    },
    {
     "data": {
      "application/vnd.jupyter.widget-view+json": {
       "model_id": "2523d06b79d24a668edf3f93544ec2f3",
       "version_major": 2,
       "version_minor": 0
      },
      "text/plain": [
       "HBox(children=(IntProgress(value=0, max=35), HTML(value='')))"
      ]
     },
     "metadata": {},
     "output_type": "display_data"
    },
    {
     "name": "stdout",
     "output_type": "stream",
     "text": [
      "Iteration 3 \n",
      "        L: 64542.4648\n",
      "Iteration 6 \n",
      "        L: 64650.9219\n",
      "Iteration 9 \n",
      "        L: 64537.8984\n",
      "Iteration 12 \n",
      "        L: 64218.8672\n",
      "Iteration 15 \n",
      "        L: 63912.0820\n",
      "Iteration 18 \n",
      "        L: 64249.6250\n",
      "Iteration 21 \n",
      "        L: 64447.5938\n",
      "Iteration 24 \n",
      "        L: 63531.3047\n",
      "Iteration 27 \n",
      "        L: 65288.6172\n",
      "Iteration 30 \n",
      "        L: 64715.7422\n",
      "Iteration 33 \n",
      "        L: 64452.1172\n"
     ]
    },
    {
     "data": {
      "application/vnd.jupyter.widget-view+json": {
       "model_id": "318ea2f3b48b41dda978a9cab443ed8e",
       "version_major": 2,
       "version_minor": 0
      },
      "text/plain": [
       "HBox(children=(IntProgress(value=0, max=35), HTML(value='')))"
      ]
     },
     "metadata": {},
     "output_type": "display_data"
    },
    {
     "name": "stdout",
     "output_type": "stream",
     "text": [
      "Iteration 3 \n",
      "        L: 64580.0234\n",
      "Iteration 6 \n",
      "        L: 64809.8516\n",
      "Iteration 9 \n",
      "        L: 64663.4375\n",
      "Iteration 12 \n",
      "        L: 64985.1797\n",
      "Iteration 15 \n",
      "        L: 64562.1758\n",
      "Iteration 18 \n",
      "        L: 66295.5781\n",
      "Iteration 21 \n",
      "        L: 63666.4219\n",
      "Iteration 24 \n",
      "        L: 63509.6094\n",
      "Iteration 27 \n",
      "        L: 62421.2969\n",
      "Iteration 30 \n",
      "        L: 64185.7695\n",
      "Iteration 33 \n",
      "        L: 65665.7578\n"
     ]
    },
    {
     "data": {
      "application/vnd.jupyter.widget-view+json": {
       "model_id": "648c2e7f3ddf40f7a97ba8378b29a3db",
       "version_major": 2,
       "version_minor": 0
      },
      "text/plain": [
       "HBox(children=(IntProgress(value=0, max=35), HTML(value='')))"
      ]
     },
     "metadata": {},
     "output_type": "display_data"
    },
    {
     "name": "stdout",
     "output_type": "stream",
     "text": [
      "Iteration 3 \n",
      "        L: 64848.9922\n",
      "Iteration 6 \n",
      "        L: 64285.2109\n",
      "Iteration 9 \n",
      "        L: 64740.3125\n",
      "Iteration 12 \n",
      "        L: 63830.6484\n",
      "Iteration 15 \n",
      "        L: 64825.7109\n",
      "Iteration 18 \n",
      "        L: 63461.0703\n",
      "Iteration 21 \n",
      "        L: 63847.7852\n",
      "Iteration 24 \n",
      "        L: 64137.3281\n",
      "Iteration 27 \n",
      "        L: 64447.2500\n",
      "Iteration 30 \n",
      "        L: 63366.2383\n"
     ]
    },
    {
     "ename": "KeyboardInterrupt",
     "evalue": "",
     "output_type": "error",
     "traceback": [
      "\u001b[1;31m---------------------------------------------------------------------------\u001b[0m",
      "\u001b[1;31mKeyboardInterrupt\u001b[0m                         Traceback (most recent call last)",
      "\u001b[1;32m<ipython-input-100-f8d2c0398e51>\u001b[0m in \u001b[0;36m<module>\u001b[1;34m\u001b[0m\n\u001b[0;32m      2\u001b[0m \u001b[1;32mfor\u001b[0m \u001b[0mepoch\u001b[0m \u001b[1;32min\u001b[0m \u001b[0mrange\u001b[0m\u001b[1;33m(\u001b[0m\u001b[0mEPOCHS\u001b[0m\u001b[1;33m)\u001b[0m\u001b[1;33m:\u001b[0m\u001b[1;33m\u001b[0m\u001b[1;33m\u001b[0m\u001b[0m\n\u001b[0;32m      3\u001b[0m     \u001b[0mi\u001b[0m \u001b[1;33m=\u001b[0m \u001b[1;36m1\u001b[0m\u001b[1;33m\u001b[0m\u001b[1;33m\u001b[0m\u001b[0m\n\u001b[1;32m----> 4\u001b[1;33m     \u001b[1;32mfor\u001b[0m \u001b[0mX\u001b[0m\u001b[1;33m,\u001b[0m \u001b[0my\u001b[0m \u001b[1;32min\u001b[0m \u001b[0mtqdm_notebook\u001b[0m\u001b[1;33m(\u001b[0m\u001b[0mdataLoader\u001b[0m\u001b[1;33m)\u001b[0m\u001b[1;33m:\u001b[0m\u001b[1;33m\u001b[0m\u001b[1;33m\u001b[0m\u001b[0m\n\u001b[0m\u001b[0;32m      5\u001b[0m \u001b[1;33m\u001b[0m\u001b[0m\n\u001b[0;32m      6\u001b[0m         \u001b[1;31m# Reshape\u001b[0m\u001b[1;33m\u001b[0m\u001b[1;33m\u001b[0m\u001b[1;33m\u001b[0m\u001b[0m\n",
      "\u001b[1;32m~\\Anaconda3\\lib\\site-packages\\tqdm\\_tqdm_notebook.py\u001b[0m in \u001b[0;36m__iter__\u001b[1;34m(self, *args, **kwargs)\u001b[0m\n\u001b[0;32m    221\u001b[0m     \u001b[1;32mdef\u001b[0m \u001b[0m__iter__\u001b[0m\u001b[1;33m(\u001b[0m\u001b[0mself\u001b[0m\u001b[1;33m,\u001b[0m \u001b[1;33m*\u001b[0m\u001b[0margs\u001b[0m\u001b[1;33m,\u001b[0m \u001b[1;33m**\u001b[0m\u001b[0mkwargs\u001b[0m\u001b[1;33m)\u001b[0m\u001b[1;33m:\u001b[0m\u001b[1;33m\u001b[0m\u001b[1;33m\u001b[0m\u001b[0m\n\u001b[0;32m    222\u001b[0m         \u001b[1;32mtry\u001b[0m\u001b[1;33m:\u001b[0m\u001b[1;33m\u001b[0m\u001b[1;33m\u001b[0m\u001b[0m\n\u001b[1;32m--> 223\u001b[1;33m             \u001b[1;32mfor\u001b[0m \u001b[0mobj\u001b[0m \u001b[1;32min\u001b[0m \u001b[0msuper\u001b[0m\u001b[1;33m(\u001b[0m\u001b[0mtqdm_notebook\u001b[0m\u001b[1;33m,\u001b[0m \u001b[0mself\u001b[0m\u001b[1;33m)\u001b[0m\u001b[1;33m.\u001b[0m\u001b[0m__iter__\u001b[0m\u001b[1;33m(\u001b[0m\u001b[1;33m*\u001b[0m\u001b[0margs\u001b[0m\u001b[1;33m,\u001b[0m \u001b[1;33m**\u001b[0m\u001b[0mkwargs\u001b[0m\u001b[1;33m)\u001b[0m\u001b[1;33m:\u001b[0m\u001b[1;33m\u001b[0m\u001b[1;33m\u001b[0m\u001b[0m\n\u001b[0m\u001b[0;32m    224\u001b[0m                 \u001b[1;31m# return super(tqdm...) will not catch exception\u001b[0m\u001b[1;33m\u001b[0m\u001b[1;33m\u001b[0m\u001b[1;33m\u001b[0m\u001b[0m\n\u001b[0;32m    225\u001b[0m                 \u001b[1;32myield\u001b[0m \u001b[0mobj\u001b[0m\u001b[1;33m\u001b[0m\u001b[1;33m\u001b[0m\u001b[0m\n",
      "\u001b[1;32m~\\Anaconda3\\lib\\site-packages\\tqdm\\_tqdm.py\u001b[0m in \u001b[0;36m__iter__\u001b[1;34m(self)\u001b[0m\n\u001b[0;32m   1003\u001b[0m                 \"\"\"), fp_write=getattr(self.fp, 'write', sys.stderr.write))\n\u001b[0;32m   1004\u001b[0m \u001b[1;33m\u001b[0m\u001b[0m\n\u001b[1;32m-> 1005\u001b[1;33m             \u001b[1;32mfor\u001b[0m \u001b[0mobj\u001b[0m \u001b[1;32min\u001b[0m \u001b[0miterable\u001b[0m\u001b[1;33m:\u001b[0m\u001b[1;33m\u001b[0m\u001b[1;33m\u001b[0m\u001b[0m\n\u001b[0m\u001b[0;32m   1006\u001b[0m                 \u001b[1;32myield\u001b[0m \u001b[0mobj\u001b[0m\u001b[1;33m\u001b[0m\u001b[1;33m\u001b[0m\u001b[0m\n\u001b[0;32m   1007\u001b[0m                 \u001b[1;31m# Update and possibly print the progressbar.\u001b[0m\u001b[1;33m\u001b[0m\u001b[1;33m\u001b[0m\u001b[1;33m\u001b[0m\u001b[0m\n",
      "\u001b[1;32m~\\Anaconda3\\lib\\site-packages\\torch\\utils\\data\\dataloader.py\u001b[0m in \u001b[0;36m__next__\u001b[1;34m(self)\u001b[0m\n\u001b[0;32m    344\u001b[0m     \u001b[1;32mdef\u001b[0m \u001b[0m__next__\u001b[0m\u001b[1;33m(\u001b[0m\u001b[0mself\u001b[0m\u001b[1;33m)\u001b[0m\u001b[1;33m:\u001b[0m\u001b[1;33m\u001b[0m\u001b[1;33m\u001b[0m\u001b[0m\n\u001b[0;32m    345\u001b[0m         \u001b[0mindex\u001b[0m \u001b[1;33m=\u001b[0m \u001b[0mself\u001b[0m\u001b[1;33m.\u001b[0m\u001b[0m_next_index\u001b[0m\u001b[1;33m(\u001b[0m\u001b[1;33m)\u001b[0m  \u001b[1;31m# may raise StopIteration\u001b[0m\u001b[1;33m\u001b[0m\u001b[1;33m\u001b[0m\u001b[0m\n\u001b[1;32m--> 346\u001b[1;33m         \u001b[0mdata\u001b[0m \u001b[1;33m=\u001b[0m \u001b[0mself\u001b[0m\u001b[1;33m.\u001b[0m\u001b[0m_dataset_fetcher\u001b[0m\u001b[1;33m.\u001b[0m\u001b[0mfetch\u001b[0m\u001b[1;33m(\u001b[0m\u001b[0mindex\u001b[0m\u001b[1;33m)\u001b[0m  \u001b[1;31m# may raise StopIteration\u001b[0m\u001b[1;33m\u001b[0m\u001b[1;33m\u001b[0m\u001b[0m\n\u001b[0m\u001b[0;32m    347\u001b[0m         \u001b[1;32mif\u001b[0m \u001b[0mself\u001b[0m\u001b[1;33m.\u001b[0m\u001b[0m_pin_memory\u001b[0m\u001b[1;33m:\u001b[0m\u001b[1;33m\u001b[0m\u001b[1;33m\u001b[0m\u001b[0m\n\u001b[0;32m    348\u001b[0m             \u001b[0mdata\u001b[0m \u001b[1;33m=\u001b[0m \u001b[0m_utils\u001b[0m\u001b[1;33m.\u001b[0m\u001b[0mpin_memory\u001b[0m\u001b[1;33m.\u001b[0m\u001b[0mpin_memory\u001b[0m\u001b[1;33m(\u001b[0m\u001b[0mdata\u001b[0m\u001b[1;33m)\u001b[0m\u001b[1;33m\u001b[0m\u001b[1;33m\u001b[0m\u001b[0m\n",
      "\u001b[1;32m~\\Anaconda3\\lib\\site-packages\\torch\\utils\\data\\_utils\\fetch.py\u001b[0m in \u001b[0;36mfetch\u001b[1;34m(self, possibly_batched_index)\u001b[0m\n\u001b[0;32m     42\u001b[0m     \u001b[1;32mdef\u001b[0m \u001b[0mfetch\u001b[0m\u001b[1;33m(\u001b[0m\u001b[0mself\u001b[0m\u001b[1;33m,\u001b[0m \u001b[0mpossibly_batched_index\u001b[0m\u001b[1;33m)\u001b[0m\u001b[1;33m:\u001b[0m\u001b[1;33m\u001b[0m\u001b[1;33m\u001b[0m\u001b[0m\n\u001b[0;32m     43\u001b[0m         \u001b[1;32mif\u001b[0m \u001b[0mself\u001b[0m\u001b[1;33m.\u001b[0m\u001b[0mauto_collation\u001b[0m\u001b[1;33m:\u001b[0m\u001b[1;33m\u001b[0m\u001b[1;33m\u001b[0m\u001b[0m\n\u001b[1;32m---> 44\u001b[1;33m             \u001b[0mdata\u001b[0m \u001b[1;33m=\u001b[0m \u001b[1;33m[\u001b[0m\u001b[0mself\u001b[0m\u001b[1;33m.\u001b[0m\u001b[0mdataset\u001b[0m\u001b[1;33m[\u001b[0m\u001b[0midx\u001b[0m\u001b[1;33m]\u001b[0m \u001b[1;32mfor\u001b[0m \u001b[0midx\u001b[0m \u001b[1;32min\u001b[0m \u001b[0mpossibly_batched_index\u001b[0m\u001b[1;33m]\u001b[0m\u001b[1;33m\u001b[0m\u001b[1;33m\u001b[0m\u001b[0m\n\u001b[0m\u001b[0;32m     45\u001b[0m         \u001b[1;32melse\u001b[0m\u001b[1;33m:\u001b[0m\u001b[1;33m\u001b[0m\u001b[1;33m\u001b[0m\u001b[0m\n\u001b[0;32m     46\u001b[0m             \u001b[0mdata\u001b[0m \u001b[1;33m=\u001b[0m \u001b[0mself\u001b[0m\u001b[1;33m.\u001b[0m\u001b[0mdataset\u001b[0m\u001b[1;33m[\u001b[0m\u001b[0mpossibly_batched_index\u001b[0m\u001b[1;33m]\u001b[0m\u001b[1;33m\u001b[0m\u001b[1;33m\u001b[0m\u001b[0m\n",
      "\u001b[1;32m~\\Anaconda3\\lib\\site-packages\\torch\\utils\\data\\_utils\\fetch.py\u001b[0m in \u001b[0;36m<listcomp>\u001b[1;34m(.0)\u001b[0m\n\u001b[0;32m     42\u001b[0m     \u001b[1;32mdef\u001b[0m \u001b[0mfetch\u001b[0m\u001b[1;33m(\u001b[0m\u001b[0mself\u001b[0m\u001b[1;33m,\u001b[0m \u001b[0mpossibly_batched_index\u001b[0m\u001b[1;33m)\u001b[0m\u001b[1;33m:\u001b[0m\u001b[1;33m\u001b[0m\u001b[1;33m\u001b[0m\u001b[0m\n\u001b[0;32m     43\u001b[0m         \u001b[1;32mif\u001b[0m \u001b[0mself\u001b[0m\u001b[1;33m.\u001b[0m\u001b[0mauto_collation\u001b[0m\u001b[1;33m:\u001b[0m\u001b[1;33m\u001b[0m\u001b[1;33m\u001b[0m\u001b[0m\n\u001b[1;32m---> 44\u001b[1;33m             \u001b[0mdata\u001b[0m \u001b[1;33m=\u001b[0m \u001b[1;33m[\u001b[0m\u001b[0mself\u001b[0m\u001b[1;33m.\u001b[0m\u001b[0mdataset\u001b[0m\u001b[1;33m[\u001b[0m\u001b[0midx\u001b[0m\u001b[1;33m]\u001b[0m \u001b[1;32mfor\u001b[0m \u001b[0midx\u001b[0m \u001b[1;32min\u001b[0m \u001b[0mpossibly_batched_index\u001b[0m\u001b[1;33m]\u001b[0m\u001b[1;33m\u001b[0m\u001b[1;33m\u001b[0m\u001b[0m\n\u001b[0m\u001b[0;32m     45\u001b[0m         \u001b[1;32melse\u001b[0m\u001b[1;33m:\u001b[0m\u001b[1;33m\u001b[0m\u001b[1;33m\u001b[0m\u001b[0m\n\u001b[0;32m     46\u001b[0m             \u001b[0mdata\u001b[0m \u001b[1;33m=\u001b[0m \u001b[0mself\u001b[0m\u001b[1;33m.\u001b[0m\u001b[0mdataset\u001b[0m\u001b[1;33m[\u001b[0m\u001b[0mpossibly_batched_index\u001b[0m\u001b[1;33m]\u001b[0m\u001b[1;33m\u001b[0m\u001b[1;33m\u001b[0m\u001b[0m\n",
      "\u001b[1;32m<ipython-input-4-f88fbc554390>\u001b[0m in \u001b[0;36m__getitem__\u001b[1;34m(self, idx)\u001b[0m\n\u001b[0;32m      9\u001b[0m \u001b[1;33m\u001b[0m\u001b[0m\n\u001b[0;32m     10\u001b[0m     \u001b[1;32mdef\u001b[0m \u001b[0m__getitem__\u001b[0m\u001b[1;33m(\u001b[0m\u001b[0mself\u001b[0m\u001b[1;33m,\u001b[0m \u001b[0midx\u001b[0m\u001b[1;33m)\u001b[0m\u001b[1;33m:\u001b[0m\u001b[1;33m\u001b[0m\u001b[1;33m\u001b[0m\u001b[0m\n\u001b[1;32m---> 11\u001b[1;33m         \u001b[1;32mreturn\u001b[0m \u001b[0mself\u001b[0m\u001b[1;33m.\u001b[0m\u001b[0mX\u001b[0m\u001b[1;33m[\u001b[0m\u001b[0midx\u001b[0m\u001b[1;33m,\u001b[0m \u001b[1;33m:\u001b[0m\u001b[1;33m,\u001b[0m \u001b[1;33m:\u001b[0m\u001b[1;33m,\u001b[0m \u001b[1;33m:\u001b[0m\u001b[1;33m]\u001b[0m\u001b[1;33m,\u001b[0m \u001b[0mself\u001b[0m\u001b[1;33m.\u001b[0m\u001b[0my\u001b[0m\u001b[1;33m[\u001b[0m\u001b[0midx\u001b[0m\u001b[1;33m,\u001b[0m \u001b[1;36m0\u001b[0m\u001b[1;33m]\u001b[0m\u001b[1;33m\u001b[0m\u001b[1;33m\u001b[0m\u001b[0m\n\u001b[0m\u001b[0;32m     12\u001b[0m \u001b[1;33m\u001b[0m\u001b[0m\n\u001b[0;32m     13\u001b[0m     \u001b[1;32mdef\u001b[0m \u001b[0mto\u001b[0m\u001b[1;33m(\u001b[0m\u001b[0mself\u001b[0m\u001b[1;33m,\u001b[0m \u001b[0mdevice\u001b[0m\u001b[1;33m)\u001b[0m\u001b[1;33m:\u001b[0m\u001b[1;33m\u001b[0m\u001b[1;33m\u001b[0m\u001b[0m\n",
      "\u001b[1;31mKeyboardInterrupt\u001b[0m: "
     ]
    }
   ],
   "source": [
    "EPOCHS=100\n",
    "for epoch in range(EPOCHS):\n",
    "    i = 1\n",
    "    for X, y in tqdm_notebook(dataLoader):\n",
    "        \n",
    "        # Reshape\n",
    "        X = X.reshape(X.shape[0], 784)\n",
    "        \n",
    "        # Zero grad\n",
    "        logRegEmb.zero_grad()\n",
    "        \n",
    "        # Restored image\n",
    "        X_pred = logRegEmb.forward(X)\n",
    "        \n",
    "        # Loss\n",
    "        L = torch.sum((X - X_pred)**2)\n",
    "        \n",
    "        # Backpropagation\n",
    "        L.backward()\n",
    "        \n",
    "        # Adam step\n",
    "        opt.step()\n",
    "\n",
    "        # Print\n",
    "        if (i % (len(dataLoader)//10)) == 0: print(\"Iteration %d \\n        L: %.4f\" % (i, L))\n",
    "        i += 1\n",
    "        \n",
    "        torch.cuda.empty_cache()"
   ]
  },
  {
   "cell_type": "code",
   "execution_count": null,
   "metadata": {},
   "outputs": [],
   "source": []
  },
  {
   "cell_type": "code",
   "execution_count": 101,
   "metadata": {},
   "outputs": [
    {
     "data": {
      "text/plain": [
       "<matplotlib.image.AxesImage at 0x1da8fe164a8>"
      ]
     },
     "execution_count": 101,
     "metadata": {},
     "output_type": "execute_result"
    },
    {
     "data": {
      "image/png": "[encoded data removed]",
      "text/plain": [
       "<Figure size 432x288 with 1 Axes>"
      ]
     },
     "metadata": {
      "needs_background": "light"
     },
     "output_type": "display_data"
    }
   ],
   "source": [
    "plt.imshow(logRegEmb.forward(X[2:3]).reshape(28,28).to(torch.device('cpu')).detach().numpy())"
   ]
  },
  {
   "cell_type": "code",
   "execution_count": 102,
   "metadata": {
    "scrolled": true
   },
   "outputs": [
    {
     "data": {
      "text/plain": [
       "<matplotlib.image.AxesImage at 0x1dab8e439b0>"
      ]
     },
     "execution_count": 102,
     "metadata": {},
     "output_type": "execute_result"
    },
    {
     "data": {
      "image/png": "[encoded data removed]",
      "text/plain": [
       "<Figure size 432x288 with 1 Axes>"
      ]
     },
     "metadata": {
      "needs_background": "light"
     },
     "output_type": "display_data"
    }
   ],
   "source": [
    "plt.imshow(X[2].reshape(28,28).to(torch.device('cpu')))"
   ]
  },
  {
   "cell_type": "code",
   "execution_count": 103,
   "metadata": {},
   "outputs": [
    {
     "name": "stdout",
     "output_type": "stream",
     "text": [
      "torch.Size([2000, 784])\n",
      "torch.Size([2000])\n"
     ]
    }
   ],
   "source": [
    "for X, y in dataLoader:\n",
    "    print(X.reshape(X.shape[0], 784).shape)\n",
    "    print(y.shape)\n",
    "    break"
   ]
  },
  {
   "cell_type": "code",
   "execution_count": 104,
   "metadata": {},
   "outputs": [
    {
     "data": {
      "text/plain": [
       "array([[-3.05975527e-02, -3.45478766e-02, -2.37458460e-02,\n",
       "        -1.38977971e-02, -1.68014914e-02,  2.64312271e-02,\n",
       "         1.95793100e-02,  5.97951524e-02,  2.83828657e-02,\n",
       "         4.54375297e-02,  9.23008099e-02,  4.42997850e-02,\n",
       "         1.01675019e-01,  8.67561027e-02,  8.61105770e-02,\n",
       "         4.36138846e-02,  4.35404256e-02,  6.61387742e-02,\n",
       "         3.00417710e-02,  4.93134819e-02,  6.14792183e-02,\n",
       "         7.75699690e-02,  7.35269189e-02,  9.33022797e-02,\n",
       "         4.61616628e-02, -9.61939618e-03,  2.31071468e-02,\n",
       "        -2.01751981e-02],\n",
       "       [ 1.31771006e-02, -2.62331050e-02, -2.37701852e-02,\n",
       "        -4.26320396e-02, -2.11734343e-02,  4.56598848e-02,\n",
       "         5.26814424e-02,  3.77968810e-02,  3.41493972e-02,\n",
       "         1.32425511e-02,  1.20708663e-02,  6.34139776e-02,\n",
       "         4.79151644e-02,  9.90187526e-02,  7.92367384e-02,\n",
       "         1.06560089e-01,  8.67056996e-02,  5.57802543e-02,\n",
       "         1.29322931e-02,  5.36087528e-02,  6.62334934e-02,\n",
       "         7.34605268e-02,  1.19120285e-01,  5.41811921e-02,\n",
       "         5.85374758e-02, -3.37521881e-02, -9.85454116e-03,\n",
       "         1.23155247e-02],\n",
       "       [-5.61930891e-03, -6.73519522e-02, -3.06181796e-02,\n",
       "        -3.30433995e-02,  1.99290924e-02,  7.68784247e-03,\n",
       "         9.14220605e-03,  7.75480131e-03,  3.41108888e-02,\n",
       "        -1.63139198e-02,  7.53557682e-03,  6.72492534e-02,\n",
       "         2.96802595e-02,  8.13868418e-02,  7.12580010e-02,\n",
       "         7.10824952e-02,  5.73694222e-02,  5.72062060e-02,\n",
       "         4.43219282e-02, -1.96900498e-03,  1.97303090e-02,\n",
       "         2.19185054e-02,  3.66817825e-02,  1.21045806e-01,\n",
       "         3.53051238e-02, -9.45890136e-03, -1.81956720e-02,\n",
       "        -4.42999788e-03],\n",
       "       [-4.55267243e-02, -9.67669766e-03, -1.98633857e-02,\n",
       "        -7.46041955e-03,  3.02880518e-02,  2.06090845e-02,\n",
       "         1.01515949e-02, -1.28889559e-02, -7.06635602e-03,\n",
       "         1.07405623e-02,  5.15776798e-02,  1.88735966e-02,\n",
       "         4.91533987e-02,  4.24395278e-02,  8.53879973e-02,\n",
       "         5.25573380e-02,  3.92885059e-02,  3.69074717e-02,\n",
       "         7.06771249e-03,  2.26496160e-03,  2.78632659e-02,\n",
       "         3.51883620e-02,  7.02410489e-02,  9.63836536e-02,\n",
       "         8.68960470e-02,  2.08251528e-03,  1.38830319e-02,\n",
       "        -1.60926618e-02],\n",
       "       [ 1.47048919e-03, -2.26604510e-02, -4.86551039e-03,\n",
       "        -9.64331627e-03, -1.82296056e-02, -1.90282036e-02,\n",
       "         2.98244655e-02, -3.55969332e-02,  1.56655684e-02,\n",
       "        -4.56990534e-03,  3.92110869e-02,  2.57744137e-02,\n",
       "        -2.11714953e-03,  2.30738334e-02,  5.41366488e-02,\n",
       "         4.09065597e-02,  4.10869941e-02,  9.50942561e-03,\n",
       "         2.92814262e-02,  3.21278237e-02,  6.10194961e-03,\n",
       "         2.43880004e-02,  3.99613418e-02,  9.92867425e-02,\n",
       "         9.70513299e-02,  2.61164289e-02,  1.84405164e-03,\n",
       "        -7.75169348e-03],\n",
       "       [ 4.13446827e-03, -2.30069477e-02,  2.90953685e-02,\n",
       "         1.37285544e-02,  3.89730334e-02, -1.29135011e-03,\n",
       "        -4.20235656e-02, -1.92023758e-02,  2.97180563e-03,\n",
       "        -3.04305721e-02, -1.13025475e-02,  4.84234514e-03,\n",
       "         1.58526711e-02,  6.38657883e-02,  7.45177567e-02,\n",
       "         1.91761348e-02,  2.44185012e-02,  6.51011467e-02,\n",
       "         1.93082634e-02,  2.11893171e-02,  5.55719770e-02,\n",
       "         1.06951864e-02,  7.25872144e-02,  7.80704543e-02,\n",
       "         1.03524074e-01,  5.98381907e-02,  6.51543736e-02,\n",
       "        -1.27323787e-03],\n",
       "       [-3.40475179e-02, -3.16983201e-02, -2.46429313e-02,\n",
       "         9.53582115e-04,  1.30789932e-02, -3.42638455e-02,\n",
       "        -2.63489373e-02, -1.75678581e-02, -3.40671465e-02,\n",
       "        -2.06369441e-02, -4.54129279e-03,  8.33569001e-03,\n",
       "         1.47501044e-02,  2.72290222e-02,  7.94148371e-02,\n",
       "         5.62130325e-02,  9.05599371e-02,  5.82051501e-02,\n",
       "         6.01359196e-02,  1.95581689e-02,  2.58926433e-02,\n",
       "         3.80984508e-02,  5.54519519e-02,  6.99753165e-02,\n",
       "         1.08240813e-01,  8.55458677e-02,  3.92423794e-02,\n",
       "         5.95839247e-02],\n",
       "       [-3.59228365e-02,  2.31158827e-02, -1.65627263e-02,\n",
       "        -2.07701791e-02, -1.19025940e-02, -2.40610763e-02,\n",
       "         3.44845210e-03, -2.33386140e-02,  2.37204358e-02,\n",
       "        -2.74809860e-02,  4.89517674e-02,  2.45972853e-02,\n",
       "        -3.78335570e-03,  3.89892682e-02,  7.92609230e-02,\n",
       "         6.86969832e-02,  8.71271342e-02,  4.49041873e-02,\n",
       "         9.41318125e-02,  5.30578792e-02,  6.57201707e-02,\n",
       "         4.01635021e-02,  6.98389560e-02,  1.03006110e-01,\n",
       "         9.10221636e-02,  7.11949170e-02,  7.71619231e-02,\n",
       "         1.73561126e-02],\n",
       "       [-8.35160539e-03,  1.38723608e-02, -1.12957079e-02,\n",
       "         3.50705162e-02, -2.31643338e-02, -1.29418520e-04,\n",
       "         9.26704891e-03,  1.59779715e-03,  9.12137888e-03,\n",
       "         8.43061134e-03,  3.11521199e-02,  4.17014696e-02,\n",
       "         3.84375714e-02,  6.63584843e-02,  7.77806416e-02,\n",
       "         7.89472610e-02,  9.66132358e-02,  9.76185128e-02,\n",
       "         1.14490084e-01,  4.73771654e-02,  8.48172009e-02,\n",
       "         9.46718454e-02,  8.86135623e-02,  9.04662088e-02,\n",
       "         6.83630854e-02,  6.92642555e-02,  5.99863902e-02,\n",
       "         5.77985607e-02],\n",
       "       [-1.61295272e-02,  3.13880444e-02,  1.07205901e-02,\n",
       "        -3.47675346e-02, -1.70851150e-03, -1.90803036e-02,\n",
       "        -4.13457938e-02,  1.73256751e-02,  1.78124066e-02,\n",
       "        -2.96885911e-02,  4.50888015e-02, -6.34865323e-03,\n",
       "        -5.21690352e-03,  3.27727534e-02,  8.00429955e-02,\n",
       "         1.19550958e-01,  8.69127139e-02,  1.14366584e-01,\n",
       "         8.05556029e-02,  1.02174729e-01,  8.66038203e-02,\n",
       "         4.43800725e-02,  7.10569024e-02,  5.67316413e-02,\n",
       "         6.26250803e-02,  3.91599312e-02,  3.30914110e-02,\n",
       "         1.01887189e-01],\n",
       "       [ 2.46247975e-03, -7.01242752e-05, -2.74039786e-02,\n",
       "         1.01009291e-02, -1.87030341e-03, -5.73447123e-02,\n",
       "        -3.35057341e-02,  4.49054763e-02, -8.26961175e-03,\n",
       "         2.15335693e-02, -2.74621835e-03,  4.24982235e-02,\n",
       "         4.23833951e-02,  7.80508965e-02,  8.27347338e-02,\n",
       "         8.52717683e-02,  6.50110915e-02,  1.06553979e-01,\n",
       "         5.48029616e-02,  1.15282193e-01,  1.17581487e-01,\n",
       "         9.99800861e-02,  7.13763088e-02,  7.44723380e-02,\n",
       "         7.39450902e-02,  6.78928494e-02,  4.01373245e-02,\n",
       "         1.16744936e-01],\n",
       "       [ 1.81120774e-03,  1.27245449e-02, -3.59819680e-02,\n",
       "        -3.67620699e-02, -1.40126273e-02, -3.17547321e-02,\n",
       "         1.08415904e-02,  3.47516611e-02,  7.47287795e-02,\n",
       "         5.37743717e-02,  8.31837878e-02,  9.53601152e-02,\n",
       "         8.98750573e-02,  1.11176044e-01,  7.20128864e-02,\n",
       "         6.75127506e-02,  1.11865044e-01,  1.16380453e-01,\n",
       "         8.72588828e-02,  1.13867313e-01,  7.52440244e-02,\n",
       "         6.31052554e-02,  1.11617483e-01,  4.61765639e-02,\n",
       "         8.60925168e-02,  3.07801422e-02,  6.07315600e-02,\n",
       "         6.69725463e-02],\n",
       "       [ 2.90069170e-03, -2.69883759e-02,  5.64542878e-03,\n",
       "        -2.60824077e-02, -1.74827464e-02,  2.27890890e-02,\n",
       "         4.02526371e-02,  9.59594622e-02,  8.52832273e-02,\n",
       "         7.41787925e-02,  7.78043345e-02,  1.36056855e-01,\n",
       "         1.07193835e-01,  1.37392476e-01,  1.05035715e-01,\n",
       "         1.20544322e-01,  8.39275196e-02,  9.78126675e-02,\n",
       "         5.71649931e-02,  1.00684889e-01,  7.02867582e-02,\n",
       "         6.77134693e-02,  3.93911898e-02,  8.40022787e-02,\n",
       "         4.88379970e-02,  5.63072562e-02,  3.55380327e-02,\n",
       "         4.53024581e-02],\n",
       "       [ 3.61726098e-02,  3.45170535e-02,  3.76438759e-02,\n",
       "        -1.27619021e-02, -4.75483853e-03,  6.25444874e-02,\n",
       "         5.71442135e-02,  1.40024781e-01,  1.13290615e-01,\n",
       "         1.12150028e-01,  1.20769709e-01,  7.11525306e-02,\n",
       "         7.73131624e-02,  1.08850151e-01,  9.61509421e-02,\n",
       "         9.15901139e-02,  1.01825275e-01,  1.14685118e-01,\n",
       "         6.47556856e-02,  1.07444100e-01,  6.17483296e-02,\n",
       "         3.76002900e-02,  3.61462198e-02,  6.20242804e-02,\n",
       "         3.85634154e-02,  7.55849481e-02,  4.62707765e-02,\n",
       "         9.62586999e-02],\n",
       "       [ 8.40940624e-02,  7.15208426e-02,  6.30364865e-02,\n",
       "         1.16910040e-02,  5.87519743e-02,  1.29354492e-01,\n",
       "         1.05752423e-01,  1.06753059e-01,  9.01086181e-02,\n",
       "         1.07059263e-01,  7.72417858e-02,  1.18305854e-01,\n",
       "         1.00762010e-01,  8.18267986e-02,  9.58076194e-02,\n",
       "         1.01504050e-01,  8.51134732e-02,  1.04184538e-01,\n",
       "         1.29744336e-01,  9.42591727e-02,  9.81265083e-02,\n",
       "         4.80936170e-02,  4.69163842e-02,  8.04647133e-02,\n",
       "         6.18648082e-02,  6.20605797e-02,  1.95543692e-02,\n",
       "         5.64215891e-02],\n",
       "       [ 7.26242289e-02,  8.04850161e-02,  8.29090849e-02,\n",
       "         4.67119664e-02,  1.14129446e-01,  8.81800056e-02,\n",
       "         8.39003474e-02,  9.15323272e-02,  1.03713199e-01,\n",
       "         8.72582570e-02,  1.11564256e-01,  1.29253164e-01,\n",
       "         7.13437274e-02,  7.24554732e-02,  1.21218108e-01,\n",
       "         8.18653181e-02,  1.01245038e-01,  9.21734869e-02,\n",
       "         1.01413608e-01,  1.22728460e-01,  8.00205916e-02,\n",
       "         5.78153655e-02,  7.76492804e-02,  7.88598061e-02,\n",
       "         5.06656244e-02,  6.13291711e-02,  6.28169999e-02,\n",
       "         1.02235906e-01],\n",
       "       [ 6.69424385e-02,  4.42372151e-02,  9.04022902e-02,\n",
       "         1.04536705e-01,  8.75626951e-02,  9.42078456e-02,\n",
       "         1.19739518e-01,  6.33914843e-02,  1.08106241e-01,\n",
       "         1.43553093e-01,  1.48261800e-01,  1.07340015e-01,\n",
       "         8.88063535e-02,  9.28565636e-02,  1.30670339e-01,\n",
       "         8.54324847e-02,  1.16464779e-01,  1.16814993e-01,\n",
       "         1.40973091e-01,  1.18246518e-01,  5.82926385e-02,\n",
       "         5.75533509e-02,  8.38307962e-02,  5.83210364e-02,\n",
       "         5.33986874e-02,  1.00508101e-01,  9.18454677e-02,\n",
       "         9.27771926e-02],\n",
       "       [ 6.86348379e-02,  6.57747909e-02,  5.34889400e-02,\n",
       "         4.76757437e-02,  8.01193863e-02,  9.69989970e-02,\n",
       "         1.12476818e-01,  7.64864907e-02,  8.47373456e-02,\n",
       "         1.18412919e-01,  1.45161763e-01,  7.70962611e-02,\n",
       "         9.18423384e-02,  7.72319436e-02,  1.02416165e-01,\n",
       "         1.19471714e-01,  7.27636963e-02,  1.41361371e-01,\n",
       "         7.84415379e-02,  7.94048384e-02,  1.22622870e-01,\n",
       "         5.95583990e-02,  6.45317286e-02,  9.25084800e-02,\n",
       "         5.90776876e-02,  7.85971209e-02,  7.36925304e-02,\n",
       "         1.21493816e-01],\n",
       "       [ 1.06200881e-01,  8.39235336e-02,  7.59381652e-02,\n",
       "         6.29078001e-02,  1.97823346e-02,  4.44025621e-02,\n",
       "         7.33897313e-02,  6.28576502e-02,  9.69762206e-02,\n",
       "         9.37198848e-02,  1.00364871e-01,  1.28953874e-01,\n",
       "         1.27620563e-01,  8.56500193e-02,  1.23227112e-01,\n",
       "         1.10752396e-01,  7.81050622e-02,  1.42417923e-01,\n",
       "         9.88025367e-02,  9.40614790e-02,  8.30081999e-02,\n",
       "         4.35909666e-02,  3.46743837e-02,  9.56203192e-02,\n",
       "         9.74317417e-02,  7.83988684e-02,  6.24684952e-02,\n",
       "         6.89587966e-02],\n",
       "       [ 5.79733551e-02,  4.74538766e-02,  1.02093350e-02,\n",
       "         4.01423201e-02,  2.55980510e-02,  6.78197965e-02,\n",
       "         7.15242326e-02,  7.44988322e-02,  1.13481626e-01,\n",
       "         8.74169022e-02,  1.05829157e-01,  1.19059950e-01,\n",
       "         6.10604994e-02,  9.62633267e-02,  9.41594541e-02,\n",
       "         1.04344152e-01,  1.08255111e-01,  1.04173921e-01,\n",
       "         9.48794335e-02,  7.89540112e-02,  7.35634491e-02,\n",
       "         4.03898954e-02,  3.00108716e-02,  2.13108175e-02,\n",
       "         1.60911214e-02,  3.27103510e-02,  2.37190966e-02,\n",
       "         3.24729681e-02],\n",
       "       [ 5.37096970e-02,  3.80740166e-02,  3.35439038e-03,\n",
       "         5.89340851e-02,  3.17981727e-02,  4.90593240e-02,\n",
       "         9.06804428e-02,  4.42790985e-02,  5.98988049e-02,\n",
       "         5.37458584e-02,  1.00607239e-01,  5.95757850e-02,\n",
       "         5.86857535e-02,  9.75486115e-02,  1.26242235e-01,\n",
       "         9.52818692e-02,  5.86438887e-02,  7.57260770e-02,\n",
       "         8.45738724e-02,  4.57164906e-02,  1.88122708e-02,\n",
       "         6.39205053e-02,  5.39460257e-02,  1.52341994e-02,\n",
       "         5.46529964e-02,  6.76631406e-02,  6.47701323e-02,\n",
       "         8.64953641e-03],\n",
       "       [ 6.06761090e-02,  4.31343615e-02,  2.21633874e-02,\n",
       "         1.28890350e-02,  1.60522200e-02,  5.43772578e-02,\n",
       "         8.01587999e-02,  9.54299569e-02,  9.42839906e-02,\n",
       "         7.29179159e-02,  4.82612140e-02,  5.30826710e-02,\n",
       "         5.37824333e-02,  8.56005177e-02,  1.15451567e-01,\n",
       "         8.31371322e-02,  6.93596154e-02,  6.71970621e-02,\n",
       "         3.96001264e-02,  2.42461124e-03,  4.03883085e-02,\n",
       "         3.97112742e-02,  2.09942739e-02,  1.93068832e-02,\n",
       "         6.95972666e-02,  1.30450455e-02,  3.99063416e-02,\n",
       "         1.26755722e-02],\n",
       "       [ 8.61030221e-02,  2.29128487e-02, -3.48351174e-03,\n",
       "         9.39001329e-03, -2.91688996e-03,  5.02682477e-02,\n",
       "         4.38055620e-02,  1.02565654e-01,  8.54339376e-02,\n",
       "         8.05749297e-02,  6.87770844e-02,  5.96614033e-02,\n",
       "         8.92318189e-02,  4.82712090e-02,  4.43295240e-02,\n",
       "         5.17754629e-02,  4.61937375e-02,  5.83460592e-02,\n",
       "         4.71740328e-02, -2.11917935e-03,  2.58205142e-02,\n",
       "         4.96729948e-02,  6.80465624e-03,  2.18874235e-02,\n",
       "         5.77776693e-02,  4.10682783e-02,  1.67609137e-02,\n",
       "         4.01517376e-03],\n",
       "       [ 1.01605244e-01,  4.26969342e-02,  4.11813259e-02,\n",
       "        -1.75700076e-02,  2.75192223e-03, -2.33348571e-02,\n",
       "         7.47369379e-02,  1.15853705e-01,  5.20315170e-02,\n",
       "         4.19387296e-02,  5.55006973e-02,  5.62087074e-02,\n",
       "         8.51908177e-02,  6.92472011e-02,  5.64131439e-02,\n",
       "         5.83544560e-02,  2.32489556e-02,  5.19255102e-02,\n",
       "         2.97678225e-02,  2.09296420e-02,  2.03738995e-02,\n",
       "         7.82181993e-02,  2.34816093e-02, -2.52589900e-02,\n",
       "         9.67902783e-03,  6.30671084e-02,  5.04384562e-02,\n",
       "        -1.20073222e-02],\n",
       "       [ 8.68750662e-02,  4.04885821e-02,  4.12962623e-02,\n",
       "        -3.29609811e-02,  1.79040339e-02, -7.05158617e-03,\n",
       "         4.17177007e-02,  6.52115047e-02,  3.59423049e-02,\n",
       "         9.74994712e-03,  3.22421379e-02,  4.36070301e-02,\n",
       "         2.41037179e-02,  2.84909420e-02,  1.10713728e-02,\n",
       "         4.57539298e-02,  4.56706882e-02, -2.22063041e-03,\n",
       "         1.73871312e-02, -3.23598757e-02, -2.92751361e-02,\n",
       "         6.51792735e-02,  4.70810831e-02, -3.31517868e-03,\n",
       "        -2.67590745e-03,  5.30791469e-02,  6.09556735e-02,\n",
       "         3.34561616e-02],\n",
       "       [ 9.80160981e-02,  5.52044474e-02,  5.06301261e-02,\n",
       "        -2.77175177e-02, -1.46389827e-02, -5.80085907e-04,\n",
       "         5.64594008e-02,  5.75512126e-02,  1.09280543e-02,\n",
       "         6.83861449e-02,  6.48950860e-02,  2.41427403e-02,\n",
       "         7.61338472e-02,  4.55539674e-02,  2.95669511e-02,\n",
       "         5.20153046e-02,  3.83224413e-02,  5.20039238e-02,\n",
       "         3.87973115e-02, -1.04011400e-02, -5.68976020e-03,\n",
       "         6.33141696e-02, -7.99193606e-03, -4.79566269e-02,\n",
       "        -2.92472150e-02,  3.94836999e-02,  1.96073633e-02,\n",
       "        -2.51584370e-02],\n",
       "       [ 5.78605458e-02,  6.01296313e-02, -2.28029047e-03,\n",
       "         4.16060910e-03, -5.33154327e-03, -2.14614552e-02,\n",
       "         8.94733295e-02,  5.25258519e-02,  1.80241801e-02,\n",
       "         4.31397445e-02,  3.85348983e-02,  5.98196797e-02,\n",
       "         6.39838204e-02,  8.36696327e-02,  3.79971191e-02,\n",
       "         2.84537189e-02,  1.32635115e-02,  4.92890924e-02,\n",
       "         2.88327765e-02,  3.37859802e-02,  2.57833116e-03,\n",
       "         7.75102228e-02,  7.74711594e-02, -1.92546602e-02,\n",
       "         2.24606972e-02,  2.58298181e-02,  6.03731461e-02,\n",
       "         1.13158692e-02],\n",
       "       [-1.36321532e-02,  1.91713739e-02, -2.79898057e-04,\n",
       "        -2.40040813e-02,  2.73642745e-02,  2.26095691e-02,\n",
       "         1.18188731e-01,  1.05584629e-01,  6.98892027e-02,\n",
       "         7.13232160e-02,  7.04689622e-02,  8.22518617e-02,\n",
       "         9.29347500e-02,  4.54518721e-02,  8.30261335e-02,\n",
       "         7.76582360e-02,  6.35180101e-02,  1.91381816e-02,\n",
       "         2.53224503e-02,  6.91396594e-02,  6.73884079e-02,\n",
       "         9.27279592e-02,  6.24439195e-02,  4.25649732e-02,\n",
       "         3.04441135e-02,  3.73896956e-02,  7.07877204e-02,\n",
       "         1.03042796e-02]], dtype=float32)"
      ]
     },
     "execution_count": 104,
     "metadata": {},
     "output_type": "execute_result"
    }
   ],
   "source": [
    "logRegEmb.lin1.weight[0].reshape(28,28).to(torch.device('cpu')).detach().numpy()"
   ]
  },
  {
   "cell_type": "code",
   "execution_count": null,
   "metadata": {},
   "outputs": [],
   "source": []
  },
  {
   "cell_type": "code",
   "execution_count": 105,
   "metadata": {},
   "outputs": [],
   "source": [
    "def plot_logregemb(emb, size):\n",
    "    fig, ax = plt.subplots(10, figsize=(20,20))\n",
    "    for i in range(size):\n",
    "        ax[i].imshow(logRegEmb.lin1.weight[i].reshape(28,28).to(torch.device('cpu')).detach().numpy())"
   ]
  },
  {
   "cell_type": "code",
   "execution_count": 106,
   "metadata": {},
   "outputs": [
    {
     "data": {
      "image/png": "[encoded data removed]",
      "text/plain": [
       "<Figure size 1440x1440 with 10 Axes>"
      ]
     },
     "metadata": {
      "needs_background": "light"
     },
     "output_type": "display_data"
    }
   ],
   "source": [
    "plot_logregemb(logRegEmb, 10)"
   ]
  },
  {
   "cell_type": "markdown",
   "metadata": {},
   "source": [
    "# SVD"
   ]
  },
  {
   "cell_type": "markdown",
   "metadata": {},
   "source": [
    "$ SVD: X = U S V^T $"
   ]
  },
  {
   "cell_type": "code",
   "execution_count": 110,
   "metadata": {},
   "outputs": [],
   "source": [
    "X = X.reshape(2000, 784)"
   ]
  },
  {
   "cell_type": "code",
   "execution_count": 112,
   "metadata": {},
   "outputs": [],
   "source": [
    "U, S, V = torch.svd(X)"
   ]
  },
  {
   "cell_type": "code",
   "execution_count": 127,
   "metadata": {},
   "outputs": [
    {
     "data": {
      "text/plain": [
       "torch.Size([784])"
      ]
     },
     "execution_count": 127,
     "metadata": {},
     "output_type": "execute_result"
    }
   ],
   "source": [
    "S.shape"
   ]
  },
  {
   "cell_type": "code",
   "execution_count": 118,
   "metadata": {},
   "outputs": [
    {
     "data": {
      "text/plain": [
       "tensor(-0.0857, device='cuda:0')"
      ]
     },
     "execution_count": 118,
     "metadata": {},
     "output_type": "execute_result"
    }
   ],
   "source": [
    "((U * S) @ V.T - X).sum()"
   ]
  },
  {
   "cell_type": "code",
   "execution_count": 128,
   "metadata": {},
   "outputs": [
    {
     "data": {
      "image/png": "[encoded data removed]",
      "text/plain": [
       "<Figure size 1440x1440 with 20 Axes>"
      ]
     },
     "metadata": {
      "needs_background": "light"
     },
     "output_type": "display_data"
    }
   ],
   "source": [
    "fig, ax = plt.subplots(20, figsize=(20,20))\n",
    "for i in range(20):\n",
    "    ax[i].imshow(V[:,i].reshape(28,28).to(torch.device('cpu')))"
   ]
  },
  {
   "cell_type": "code",
   "execution_count": 133,
   "metadata": {},
   "outputs": [
    {
     "data": {
      "text/plain": [
       "(tensor([0., 1., 2., 3., 4., 5., 6., 7., 8., 9.], device='cuda:0'),\n",
       " tensor([202, 171, 203, 198, 221, 225, 219, 193, 167, 201], device='cuda:0'))"
      ]
     },
     "execution_count": 133,
     "metadata": {},
     "output_type": "execute_result"
    }
   ],
   "source": [
    "torch.unique(y, return_counts=True)"
   ]
  },
  {
   "cell_type": "code",
   "execution_count": 135,
   "metadata": {},
   "outputs": [
    {
     "data": {
      "text/plain": [
       "torch.Size([2000, 784])"
      ]
     },
     "execution_count": 135,
     "metadata": {},
     "output_type": "execute_result"
    }
   ],
   "source": [
    "X.shape"
   ]
  },
  {
   "cell_type": "code",
   "execution_count": 172,
   "metadata": {},
   "outputs": [
    {
     "data": {
      "text/plain": [
       "<matplotlib.image.AxesImage at 0x1da5fd2fdd8>"
      ]
     },
     "execution_count": 172,
     "metadata": {},
     "output_type": "execute_result"
    },
    {
     "data": {
      "image/png": "[encoded data removed]",
      "text/plain": [
       "<Figure size 432x288 with 1 Axes>"
      ]
     },
     "metadata": {
      "needs_background": "light"
     },
     "output_type": "display_data"
    }
   ],
   "source": [
    "plt.imshow(((X @ torch.inverse(V.T))[:,:30] @ V[:, :30].T)[0].reshape(28,28).to(torch.device('cpu')))"
   ]
  },
  {
   "cell_type": "code",
   "execution_count": 173,
   "metadata": {},
   "outputs": [
    {
     "data": {
      "text/plain": [
       "<matplotlib.image.AxesImage at 0x1da5effd940>"
      ]
     },
     "execution_count": 173,
     "metadata": {},
     "output_type": "execute_result"
    },
    {
     "data": {
      "image/png": "[encoded data removed]",
      "text/plain": [
       "<Figure size 432x288 with 1 Axes>"
      ]
     },
     "metadata": {
      "needs_background": "light"
     },
     "output_type": "display_data"
    }
   ],
   "source": [
    "plt.imshow(X[0].reshape(28,28).to(cpu))"
   ]
  },
  {
   "cell_type": "code",
   "execution_count": null,
   "metadata": {},
   "outputs": [],
   "source": []
  }
 ],
 "metadata": {
  "kernelspec": {
   "display_name": "Python 3",
   "language": "python",
   "name": "python3"
  },
  "language_info": {
   "codemirror_mode": {
    "name": "ipython",
    "version": 3
   },
   "file_extension": ".py",
   "mimetype": "text/x-python",
   "name": "python",
   "nbconvert_exporter": "python",
   "pygments_lexer": "ipython3",
   "version": "3.7.4"
  }
 },
 "nbformat": 4,
 "nbformat_minor": 2
}
