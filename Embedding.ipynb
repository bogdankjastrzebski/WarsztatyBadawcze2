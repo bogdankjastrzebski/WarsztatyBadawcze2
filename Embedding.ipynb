{
 "cells": [
  {
   "cell_type": "code",
   "execution_count": 84,
   "metadata": {},
   "outputs": [],
   "source": [
    "import pandas as pd\n",
    "import torch\n",
    "from torch import nn\n",
    "import torch.optim as optim\n",
    "import torch.nn.functional as F\n",
    "from torch.nn.modules.distance import PairwiseDistance\n",
    "import numpy as np\n",
    "import matplotlib.pyplot as plt\n",
    "import torch.utils.data\n",
    "from tqdm import tnrange\n",
    "from tqdm import tqdm_notebook"
   ]
  },
  {
   "cell_type": "markdown",
   "metadata": {},
   "source": [
    "# Device"
   ]
  },
  {
   "cell_type": "code",
   "execution_count": 135,
   "metadata": {},
   "outputs": [],
   "source": [
    "device = torch.device('cuda')\n",
    "# device = torch.device('cpu')"
   ]
  },
  {
   "cell_type": "markdown",
   "metadata": {},
   "source": [
    "# Dataset"
   ]
  },
  {
   "cell_type": "code",
   "execution_count": 148,
   "metadata": {},
   "outputs": [],
   "source": [
    "class Images(torch.utils.data.Dataset):\n",
    "    def __init__(self):\n",
    "        D = np.r_[pd.read_csv(\"./mnist1.csv\").to_numpy(), pd.read_csv(\"./mnist2.csv\").to_numpy()]\n",
    "        self.X = torch.Tensor(D[:, :-1].reshape(70000, 1, 28, 28))\n",
    "        self.y = torch.Tensor(D[:, -1:])\n",
    "        \n",
    "    def __len__(self):\n",
    "        return self.X.shape[0]\n",
    "\n",
    "    def __getitem__(self, idx):\n",
    "        return self.X[idx, :, :, :], self.y[idx, 0]\n",
    "    \n",
    "    def to(self, device):\n",
    "        self.X = self.X.to(device)\n",
    "        self.y = self.y.to(device)"
   ]
  },
  {
   "cell_type": "code",
   "execution_count": 149,
   "metadata": {},
   "outputs": [],
   "source": [
    "Img = Images()\n",
    "Img.to(device)"
   ]
  },
  {
   "cell_type": "code",
   "execution_count": 150,
   "metadata": {
    "scrolled": true
   },
   "outputs": [
    {
     "data": {
      "image/png": "[encoded data removed]",
      "text/plain": [
       "<Figure size 432x288 with 1 Axes>"
      ]
     },
     "metadata": {
      "needs_background": "light"
     },
     "output_type": "display_data"
    }
   ],
   "source": [
    "plt.imshow(Img[0][0].to(torch.device('cpu')).reshape(28,28));"
   ]
  },
  {
   "cell_type": "code",
   "execution_count": 151,
   "metadata": {},
   "outputs": [],
   "source": [
    "sampler = torch.utils.data.RandomSampler(Img)"
   ]
  },
  {
   "cell_type": "code",
   "execution_count": 159,
   "metadata": {},
   "outputs": [],
   "source": [
    "dataLoader = torch.utils.data.DataLoader(Img, sampler=sampler, batch_size=500)"
   ]
  },
  {
   "cell_type": "markdown",
   "metadata": {},
   "source": [
    "# Autoencoder"
   ]
  },
  {
   "cell_type": "code",
   "execution_count": 153,
   "metadata": {},
   "outputs": [],
   "source": [
    "class AUTOENC(nn.Module):\n",
    "    def __init__(self):\n",
    "        super(AUTOENC, self).__init__()\n",
    "        \n",
    "        a = 50\n",
    "        b = 100\n",
    "        c = 150\n",
    "        \n",
    "        self.conv1 = nn.Conv2d(1, a, 5)\n",
    "        self.conv2 = nn.Conv2d(a, b, 5)\n",
    "        self.conv3 = nn.Conv2d(b, c, 5)\n",
    "        self.conv4 = nn.Conv2d(c, b, 5)\n",
    "        self.conv5 = nn.Conv2d(b, a, 5)\n",
    "        self.conv6 = nn.Conv2d(a, 1, 5)\n",
    "        \n",
    "    def forward(self, X):\n",
    "        X = self.conv1(F.pad(X,(2,2,2,2)))\n",
    "        X = self.conv2(F.pad(X,(2,2,2,2)))\n",
    "        X = self.conv3(F.pad(X,(2,2,2,2)))\n",
    "        X = self.conv4(F.pad(X,(2,2,2,2)))\n",
    "        X = self.conv5(F.pad(X,(2,2,2,2)))\n",
    "        X = self.conv6(F.pad(X,(2,2,2,2)))\n",
    "        return X"
   ]
  },
  {
   "cell_type": "markdown",
   "metadata": {},
   "source": [
    "# Training"
   ]
  },
  {
   "cell_type": "code",
   "execution_count": 154,
   "metadata": {},
   "outputs": [],
   "source": [
    "model = AUTOENC().to(device)"
   ]
  },
  {
   "cell_type": "code",
   "execution_count": 155,
   "metadata": {},
   "outputs": [],
   "source": [
    "opt = optim.Adam(model.parameters(), lr=0.001)"
   ]
  },
  {
   "cell_type": "code",
   "execution_count": 162,
   "metadata": {
    "scrolled": true
   },
   "outputs": [
    {
     "data": {
      "application/vnd.jupyter.widget-view+json": {
       "model_id": "f4f227930917415faa2a9dfff20e6654",
       "version_major": 2,
       "version_minor": 0
      },
      "text/plain": [
       "HBox(children=(IntProgress(value=0, max=140), HTML(value='')))"
      ]
     },
     "metadata": {},
     "output_type": "display_data"
    },
    {
     "name": "stdout",
     "output_type": "stream",
     "text": [
      "Iteration 14 \n",
      "        L: 16983874.0000\n",
      "Iteration 28 \n",
      "        L: 17580170.0000\n",
      "Iteration 42 \n",
      "        L: 17060336.0000\n",
      "Iteration 56 \n",
      "        L: 17101158.0000\n",
      "Iteration 70 \n",
      "        L: 16434372.0000\n",
      "Iteration 84 \n",
      "        L: 16194686.0000\n",
      "Iteration 98 \n",
      "        L: 17376748.0000\n",
      "Iteration 112 \n",
      "        L: 16175040.0000\n",
      "Iteration 126 \n",
      "        L: 16787246.0000\n",
      "Iteration 140 \n",
      "        L: 16737868.0000\n"
     ]
    },
    {
     "data": {
      "application/vnd.jupyter.widget-view+json": {
       "model_id": "984e6f593f0e42859b608ebf25a23900",
       "version_major": 2,
       "version_minor": 0
      },
      "text/plain": [
       "HBox(children=(IntProgress(value=0, max=140), HTML(value='')))"
      ]
     },
     "metadata": {},
     "output_type": "display_data"
    },
    {
     "name": "stdout",
     "output_type": "stream",
     "text": [
      "Iteration 14 \n",
      "        L: 17118650.0000\n",
      "Iteration 28 \n",
      "        L: 16901354.0000\n",
      "Iteration 42 \n",
      "        L: 15820727.0000\n",
      "Iteration 56 \n",
      "        L: 16053395.0000\n",
      "Iteration 70 \n",
      "        L: 16865020.0000\n",
      "Iteration 84 \n",
      "        L: 15888139.0000\n",
      "Iteration 98 \n",
      "        L: 16091542.0000\n",
      "Iteration 112 \n",
      "        L: 15871144.0000\n",
      "Iteration 126 \n",
      "        L: 16344349.0000\n",
      "Iteration 140 \n",
      "        L: 16544577.0000\n"
     ]
    },
    {
     "data": {
      "application/vnd.jupyter.widget-view+json": {
       "model_id": "1d8799b7867747e192a0f18d969eac97",
       "version_major": 2,
       "version_minor": 0
      },
      "text/plain": [
       "HBox(children=(IntProgress(value=0, max=140), HTML(value='')))"
      ]
     },
     "metadata": {},
     "output_type": "display_data"
    },
    {
     "name": "stdout",
     "output_type": "stream",
     "text": [
      "Iteration 14 \n",
      "        L: 15177517.0000\n",
      "Iteration 28 \n",
      "        L: 15594786.0000\n",
      "Iteration 42 \n",
      "        L: 16089191.0000\n",
      "Iteration 56 \n",
      "        L: 15471973.0000\n",
      "Iteration 70 \n",
      "        L: 15498055.0000\n",
      "Iteration 84 \n",
      "        L: 14734862.0000\n",
      "Iteration 98 \n",
      "        L: 15581860.0000\n",
      "Iteration 112 \n",
      "        L: 15245041.0000\n",
      "Iteration 126 \n",
      "        L: 14752916.0000\n",
      "Iteration 140 \n",
      "        L: 15110198.0000\n"
     ]
    },
    {
     "data": {
      "application/vnd.jupyter.widget-view+json": {
       "model_id": "5d883417c3314e49ae3f33e495d18756",
       "version_major": 2,
       "version_minor": 0
      },
      "text/plain": [
       "HBox(children=(IntProgress(value=0, max=140), HTML(value='')))"
      ]
     },
     "metadata": {},
     "output_type": "display_data"
    },
    {
     "name": "stdout",
     "output_type": "stream",
     "text": [
      "Iteration 14 \n",
      "        L: 14742619.0000\n",
      "Iteration 28 \n",
      "        L: 15268560.0000\n",
      "Iteration 42 \n",
      "        L: 14804883.0000\n",
      "Iteration 56 \n",
      "        L: 14475916.0000\n",
      "Iteration 70 \n",
      "        L: 14541431.0000\n",
      "Iteration 84 \n",
      "        L: 14606321.0000\n",
      "Iteration 98 \n",
      "        L: 14493756.0000\n",
      "Iteration 112 \n",
      "        L: 14829248.0000\n",
      "Iteration 126 \n",
      "        L: 14008611.0000\n",
      "Iteration 140 \n",
      "        L: 14202750.0000\n"
     ]
    },
    {
     "data": {
      "application/vnd.jupyter.widget-view+json": {
       "model_id": "b9ab0f19a8084852bc4f975d46ce9b37",
       "version_major": 2,
       "version_minor": 0
      },
      "text/plain": [
       "HBox(children=(IntProgress(value=0, max=140), HTML(value='')))"
      ]
     },
     "metadata": {},
     "output_type": "display_data"
    },
    {
     "name": "stdout",
     "output_type": "stream",
     "text": [
      "Iteration 14 \n",
      "        L: 14419715.0000\n",
      "Iteration 28 \n",
      "        L: 14233765.0000\n",
      "Iteration 42 \n",
      "        L: 13872940.0000\n",
      "Iteration 56 \n",
      "        L: 13329316.0000\n",
      "Iteration 70 \n",
      "        L: 14148402.0000\n",
      "Iteration 84 \n",
      "        L: 13460923.0000\n",
      "Iteration 98 \n",
      "        L: 13263546.0000\n",
      "Iteration 112 \n",
      "        L: 13929807.0000\n",
      "Iteration 126 \n",
      "        L: 13529267.0000\n",
      "Iteration 140 \n",
      "        L: 13382727.0000\n"
     ]
    },
    {
     "data": {
      "application/vnd.jupyter.widget-view+json": {
       "model_id": "aba48e7a61074a23910d98063622b4f4",
       "version_major": 2,
       "version_minor": 0
      },
      "text/plain": [
       "HBox(children=(IntProgress(value=0, max=140), HTML(value='')))"
      ]
     },
     "metadata": {},
     "output_type": "display_data"
    },
    {
     "name": "stdout",
     "output_type": "stream",
     "text": [
      "Iteration 14 \n",
      "        L: 13652826.0000\n",
      "Iteration 28 \n",
      "        L: 13291578.0000\n",
      "Iteration 42 \n",
      "        L: 13336498.0000\n",
      "Iteration 56 \n",
      "        L: 12684129.0000\n",
      "Iteration 70 \n",
      "        L: 13770138.0000\n",
      "Iteration 84 \n",
      "        L: 12474074.0000\n",
      "Iteration 98 \n",
      "        L: 12644795.0000\n",
      "Iteration 112 \n",
      "        L: 13040064.0000\n",
      "Iteration 126 \n",
      "        L: 12937196.0000\n",
      "Iteration 140 \n",
      "        L: 12614979.0000\n"
     ]
    },
    {
     "data": {
      "application/vnd.jupyter.widget-view+json": {
       "model_id": "7c12a55b57fc49f3ac64b3060e4a4cbf",
       "version_major": 2,
       "version_minor": 0
      },
      "text/plain": [
       "HBox(children=(IntProgress(value=0, max=140), HTML(value='')))"
      ]
     },
     "metadata": {},
     "output_type": "display_data"
    },
    {
     "name": "stdout",
     "output_type": "stream",
     "text": [
      "Iteration 14 \n",
      "        L: 12901476.0000\n",
      "Iteration 28 \n",
      "        L: 12371876.0000\n",
      "Iteration 42 \n",
      "        L: 13250806.0000\n",
      "Iteration 56 \n",
      "        L: 12610151.0000\n",
      "Iteration 70 \n",
      "        L: 12294532.0000\n",
      "Iteration 84 \n",
      "        L: 12596618.0000\n",
      "Iteration 98 \n",
      "        L: 12468188.0000\n",
      "Iteration 112 \n",
      "        L: 12498303.0000\n",
      "Iteration 126 \n",
      "        L: 11748946.0000\n",
      "Iteration 140 \n",
      "        L: 13000181.0000\n"
     ]
    },
    {
     "data": {
      "application/vnd.jupyter.widget-view+json": {
       "model_id": "e07b02ea0c6d494191c188b663d90582",
       "version_major": 2,
       "version_minor": 0
      },
      "text/plain": [
       "HBox(children=(IntProgress(value=0, max=140), HTML(value='')))"
      ]
     },
     "metadata": {},
     "output_type": "display_data"
    },
    {
     "name": "stdout",
     "output_type": "stream",
     "text": [
      "Iteration 14 \n",
      "        L: 12529201.0000\n",
      "Iteration 28 \n",
      "        L: 12300197.0000\n",
      "Iteration 42 \n",
      "        L: 11799853.0000\n",
      "Iteration 56 \n",
      "        L: 12110212.0000\n",
      "Iteration 70 \n",
      "        L: 12612548.0000\n",
      "Iteration 84 \n",
      "        L: 11835157.0000\n",
      "Iteration 98 \n",
      "        L: 11766552.0000\n",
      "Iteration 112 \n",
      "        L: 11606964.0000\n",
      "Iteration 126 \n",
      "        L: 12464079.0000\n",
      "Iteration 140 \n",
      "        L: 11730022.0000\n"
     ]
    },
    {
     "data": {
      "application/vnd.jupyter.widget-view+json": {
       "model_id": "e054746148ac4ce5a7a8a94687650ff0",
       "version_major": 2,
       "version_minor": 0
      },
      "text/plain": [
       "HBox(children=(IntProgress(value=0, max=140), HTML(value='')))"
      ]
     },
     "metadata": {},
     "output_type": "display_data"
    },
    {
     "name": "stdout",
     "output_type": "stream",
     "text": [
      "Iteration 14 \n",
      "        L: 11851400.0000\n",
      "Iteration 28 \n",
      "        L: 11944682.0000\n",
      "Iteration 42 \n",
      "        L: 10661096.0000\n",
      "Iteration 56 \n",
      "        L: 11781009.0000\n",
      "Iteration 70 \n",
      "        L: 10821526.0000\n",
      "Iteration 84 \n",
      "        L: 11043106.0000\n",
      "Iteration 98 \n",
      "        L: 10543228.0000\n",
      "Iteration 112 \n",
      "        L: 11190042.0000\n",
      "Iteration 126 \n",
      "        L: 11640369.0000\n",
      "Iteration 140 \n",
      "        L: 11251836.0000\n"
     ]
    },
    {
     "data": {
      "application/vnd.jupyter.widget-view+json": {
       "model_id": "009323d111654ca0b966012791523844",
       "version_major": 2,
       "version_minor": 0
      },
      "text/plain": [
       "HBox(children=(IntProgress(value=0, max=140), HTML(value='')))"
      ]
     },
     "metadata": {},
     "output_type": "display_data"
    },
    {
     "name": "stdout",
     "output_type": "stream",
     "text": [
      "Iteration 14 \n",
      "        L: 11558963.0000\n",
      "Iteration 28 \n",
      "        L: 10939485.0000\n",
      "Iteration 42 \n",
      "        L: 10918586.0000\n",
      "Iteration 56 \n",
      "        L: 11592221.0000\n",
      "Iteration 70 \n",
      "        L: 10806870.0000\n",
      "Iteration 84 \n",
      "        L: 11192400.0000\n",
      "Iteration 98 \n",
      "        L: 10551102.0000\n",
      "Iteration 112 \n",
      "        L: 10465114.0000\n",
      "Iteration 126 \n",
      "        L: 10643528.0000\n",
      "Iteration 140 \n",
      "        L: 11277239.0000\n"
     ]
    },
    {
     "data": {
      "application/vnd.jupyter.widget-view+json": {
       "model_id": "f83fb33c6a8e4c699efb9345d8c0dec6",
       "version_major": 2,
       "version_minor": 0
      },
      "text/plain": [
       "HBox(children=(IntProgress(value=0, max=140), HTML(value='')))"
      ]
     },
     "metadata": {},
     "output_type": "display_data"
    },
    {
     "name": "stdout",
     "output_type": "stream",
     "text": [
      "Iteration 14 \n",
      "        L: 11060507.0000\n",
      "Iteration 28 \n",
      "        L: 10889174.0000\n",
      "Iteration 42 \n",
      "        L: 10457065.0000\n",
      "Iteration 56 \n",
      "        L: 10906536.0000\n",
      "Iteration 70 \n",
      "        L: 10503804.0000\n",
      "Iteration 84 \n",
      "        L: 10562622.0000\n",
      "Iteration 98 \n",
      "        L: 10778959.0000\n",
      "Iteration 112 \n",
      "        L: 10668288.0000\n",
      "Iteration 126 \n",
      "        L: 10370740.0000\n",
      "Iteration 140 \n",
      "        L: 9792398.0000\n"
     ]
    },
    {
     "data": {
      "application/vnd.jupyter.widget-view+json": {
       "model_id": "d825effd410043c68f20d876c87b2afa",
       "version_major": 2,
       "version_minor": 0
      },
      "text/plain": [
       "HBox(children=(IntProgress(value=0, max=140), HTML(value='')))"
      ]
     },
     "metadata": {},
     "output_type": "display_data"
    },
    {
     "name": "stdout",
     "output_type": "stream",
     "text": [
      "Iteration 14 \n",
      "        L: 9822178.0000\n",
      "Iteration 28 \n",
      "        L: 9544834.0000\n",
      "Iteration 42 \n",
      "        L: 9716272.0000\n",
      "Iteration 56 \n",
      "        L: 10644092.0000\n",
      "Iteration 70 \n",
      "        L: 10023734.0000\n",
      "Iteration 84 \n",
      "        L: 10329432.0000\n",
      "Iteration 98 \n",
      "        L: 10242211.0000\n",
      "Iteration 112 \n",
      "        L: 9390226.0000\n",
      "Iteration 126 \n",
      "        L: 9870187.0000\n",
      "Iteration 140 \n",
      "        L: 9726389.0000\n"
     ]
    },
    {
     "data": {
      "application/vnd.jupyter.widget-view+json": {
       "model_id": "d59d3da2825241fc87e831d060db4d0c",
       "version_major": 2,
       "version_minor": 0
      },
      "text/plain": [
       "HBox(children=(IntProgress(value=0, max=140), HTML(value='')))"
      ]
     },
     "metadata": {},
     "output_type": "display_data"
    },
    {
     "name": "stdout",
     "output_type": "stream",
     "text": [
      "Iteration 14 \n",
      "        L: 9613513.0000\n",
      "Iteration 28 \n",
      "        L: 9183283.0000\n",
      "Iteration 42 \n",
      "        L: 9400774.0000\n",
      "Iteration 56 \n",
      "        L: 9413181.0000\n",
      "Iteration 70 \n",
      "        L: 10179359.0000\n",
      "Iteration 84 \n",
      "        L: 9964331.0000\n",
      "Iteration 98 \n",
      "        L: 9255942.0000\n",
      "Iteration 112 \n",
      "        L: 9339510.0000\n",
      "Iteration 126 \n",
      "        L: 9247928.0000\n",
      "Iteration 140 \n",
      "        L: 9575358.0000\n"
     ]
    },
    {
     "data": {
      "application/vnd.jupyter.widget-view+json": {
       "model_id": "576077a9b8074af99773f549ab8f8a03",
       "version_major": 2,
       "version_minor": 0
      },
      "text/plain": [
       "HBox(children=(IntProgress(value=0, max=140), HTML(value='')))"
      ]
     },
     "metadata": {},
     "output_type": "display_data"
    },
    {
     "name": "stdout",
     "output_type": "stream",
     "text": [
      "Iteration 14 \n",
      "        L: 10459368.0000\n",
      "Iteration 28 \n",
      "        L: 9112069.0000\n",
      "Iteration 42 \n",
      "        L: 9484782.0000\n",
      "Iteration 56 \n",
      "        L: 9538425.0000\n",
      "Iteration 70 \n",
      "        L: 9014051.0000\n",
      "Iteration 84 \n",
      "        L: 8869418.0000\n",
      "Iteration 98 \n",
      "        L: 87040240.0000\n",
      "Iteration 112 \n",
      "        L: 14581301.0000\n",
      "Iteration 126 \n",
      "        L: 13608562.0000\n",
      "Iteration 140 \n",
      "        L: 9269725.0000\n"
     ]
    },
    {
     "data": {
      "application/vnd.jupyter.widget-view+json": {
       "model_id": "26cc93ba567944cda4dae48e318aeeb2",
       "version_major": 2,
       "version_minor": 0
      },
      "text/plain": [
       "HBox(children=(IntProgress(value=0, max=140), HTML(value='')))"
      ]
     },
     "metadata": {},
     "output_type": "display_data"
    },
    {
     "name": "stdout",
     "output_type": "stream",
     "text": [
      "Iteration 14 \n",
      "        L: 9047004.0000\n",
      "Iteration 28 \n",
      "        L: 9082132.0000\n",
      "Iteration 42 \n",
      "        L: 9126497.0000\n",
      "Iteration 56 \n",
      "        L: 8646360.0000\n",
      "Iteration 70 \n",
      "        L: 9016615.0000\n",
      "Iteration 84 \n",
      "        L: 8841286.0000\n",
      "Iteration 98 \n",
      "        L: 8409677.0000\n",
      "Iteration 112 \n",
      "        L: 8663664.0000\n",
      "Iteration 126 \n",
      "        L: 8511225.0000\n",
      "Iteration 140 \n",
      "        L: 8650115.0000\n"
     ]
    },
    {
     "data": {
      "application/vnd.jupyter.widget-view+json": {
       "model_id": "a578ff1d45684b2fbd92e48eb613a8b7",
       "version_major": 2,
       "version_minor": 0
      },
      "text/plain": [
       "HBox(children=(IntProgress(value=0, max=140), HTML(value='')))"
      ]
     },
     "metadata": {},
     "output_type": "display_data"
    },
    {
     "name": "stdout",
     "output_type": "stream",
     "text": [
      "Iteration 14 \n",
      "        L: 8221018.0000\n",
      "Iteration 28 \n",
      "        L: 8339546.5000\n",
      "Iteration 42 \n",
      "        L: 8234949.5000\n",
      "Iteration 56 \n",
      "        L: 7925943.0000\n",
      "Iteration 70 \n",
      "        L: 8015815.5000\n",
      "Iteration 84 \n",
      "        L: 8009719.0000\n",
      "Iteration 98 \n",
      "        L: 8229097.0000\n",
      "Iteration 112 \n",
      "        L: 8163731.5000\n",
      "Iteration 126 \n",
      "        L: 7818361.0000\n",
      "Iteration 140 \n",
      "        L: 8143364.5000\n"
     ]
    },
    {
     "data": {
      "application/vnd.jupyter.widget-view+json": {
       "model_id": "666c1b12653b4f99b97fb12508a0f8e8",
       "version_major": 2,
       "version_minor": 0
      },
      "text/plain": [
       "HBox(children=(IntProgress(value=0, max=140), HTML(value='')))"
      ]
     },
     "metadata": {},
     "output_type": "display_data"
    },
    {
     "name": "stdout",
     "output_type": "stream",
     "text": [
      "Iteration 14 \n",
      "        L: 7396184.0000\n",
      "Iteration 28 \n",
      "        L: 8052648.0000\n",
      "Iteration 42 \n",
      "        L: 7613255.0000\n",
      "Iteration 56 \n",
      "        L: 7813151.5000\n",
      "Iteration 70 \n",
      "        L: 8013957.0000\n",
      "Iteration 84 \n",
      "        L: 7921332.0000\n",
      "Iteration 98 \n",
      "        L: 7942709.5000\n",
      "Iteration 112 \n",
      "        L: 7386647.0000\n",
      "Iteration 126 \n",
      "        L: 7433232.5000\n",
      "Iteration 140 \n",
      "        L: 7628102.0000\n"
     ]
    },
    {
     "data": {
      "application/vnd.jupyter.widget-view+json": {
       "model_id": "debbb73b2ac8461fbeac20d1c8810fd0",
       "version_major": 2,
       "version_minor": 0
      },
      "text/plain": [
       "HBox(children=(IntProgress(value=0, max=140), HTML(value='')))"
      ]
     },
     "metadata": {},
     "output_type": "display_data"
    },
    {
     "name": "stdout",
     "output_type": "stream",
     "text": [
      "Iteration 14 \n",
      "        L: 7836087.0000\n",
      "Iteration 28 \n",
      "        L: 7580832.0000\n",
      "Iteration 42 \n",
      "        L: 7615570.0000\n",
      "Iteration 56 \n",
      "        L: 7126027.0000\n",
      "Iteration 70 \n",
      "        L: 7339238.0000\n",
      "Iteration 84 \n",
      "        L: 7804316.0000\n",
      "Iteration 98 \n",
      "        L: 7428593.0000\n",
      "Iteration 112 \n",
      "        L: 7635955.5000\n",
      "Iteration 126 \n",
      "        L: 7533521.5000\n",
      "Iteration 140 \n",
      "        L: 7184308.5000\n"
     ]
    },
    {
     "data": {
      "application/vnd.jupyter.widget-view+json": {
       "model_id": "9db93bd8587e40289ff275f369603fcf",
       "version_major": 2,
       "version_minor": 0
      },
      "text/plain": [
       "HBox(children=(IntProgress(value=0, max=140), HTML(value='')))"
      ]
     },
     "metadata": {},
     "output_type": "display_data"
    },
    {
     "name": "stdout",
     "output_type": "stream",
     "text": [
      "Iteration 14 \n",
      "        L: 8221932.0000\n",
      "Iteration 28 \n",
      "        L: 136256960.0000\n",
      "Iteration 42 \n",
      "        L: 20117290.0000\n",
      "Iteration 56 \n",
      "        L: 7457615.0000\n",
      "Iteration 70 \n",
      "        L: 8023838.5000\n",
      "Iteration 84 \n",
      "        L: 6651585.5000\n",
      "Iteration 98 \n",
      "        L: 6777945.0000\n",
      "Iteration 112 \n",
      "        L: 6569100.0000\n",
      "Iteration 126 \n",
      "        L: 6994146.5000\n",
      "Iteration 140 \n",
      "        L: 6725737.0000\n"
     ]
    },
    {
     "data": {
      "application/vnd.jupyter.widget-view+json": {
       "model_id": "d931a10b174e47898c38b6b936aaddd8",
       "version_major": 2,
       "version_minor": 0
      },
      "text/plain": [
       "HBox(children=(IntProgress(value=0, max=140), HTML(value='')))"
      ]
     },
     "metadata": {},
     "output_type": "display_data"
    },
    {
     "name": "stdout",
     "output_type": "stream",
     "text": [
      "Iteration 14 \n",
      "        L: 6667033.5000\n",
      "Iteration 28 \n",
      "        L: 6924468.5000\n",
      "Iteration 42 \n",
      "        L: 6887796.5000\n",
      "Iteration 56 \n",
      "        L: 6510672.5000\n",
      "Iteration 70 \n",
      "        L: 6285710.0000\n",
      "Iteration 84 \n",
      "        L: 6392288.0000\n",
      "Iteration 98 \n",
      "        L: 6564946.5000\n",
      "Iteration 112 \n",
      "        L: 6775800.5000\n",
      "Iteration 126 \n",
      "        L: 6496318.0000\n",
      "Iteration 140 \n",
      "        L: 6299590.5000\n"
     ]
    },
    {
     "data": {
      "application/vnd.jupyter.widget-view+json": {
       "model_id": "dea273f90fe741669b9c2a455c7fc44d",
       "version_major": 2,
       "version_minor": 0
      },
      "text/plain": [
       "HBox(children=(IntProgress(value=0, max=140), HTML(value='')))"
      ]
     },
     "metadata": {},
     "output_type": "display_data"
    },
    {
     "name": "stdout",
     "output_type": "stream",
     "text": [
      "Iteration 14 \n",
      "        L: 6414586.0000\n",
      "Iteration 28 \n",
      "        L: 6700227.0000\n",
      "Iteration 42 \n",
      "        L: 6458048.5000\n",
      "Iteration 56 \n",
      "        L: 6538981.0000\n",
      "Iteration 70 \n",
      "        L: 5889569.0000\n",
      "Iteration 84 \n",
      "        L: 5998096.0000\n",
      "Iteration 98 \n",
      "        L: 6311407.5000\n",
      "Iteration 112 \n",
      "        L: 6083295.0000\n",
      "Iteration 126 \n",
      "        L: 14707835.0000\n",
      "Iteration 140 \n",
      "        L: 12108416.0000\n"
     ]
    },
    {
     "data": {
      "application/vnd.jupyter.widget-view+json": {
       "model_id": "bc1ab585595446b1b2226e415315645a",
       "version_major": 2,
       "version_minor": 0
      },
      "text/plain": [
       "HBox(children=(IntProgress(value=0, max=140), HTML(value='')))"
      ]
     },
     "metadata": {},
     "output_type": "display_data"
    },
    {
     "name": "stdout",
     "output_type": "stream",
     "text": [
      "Iteration 14 \n",
      "        L: 6758485.0000\n",
      "Iteration 28 \n",
      "        L: 5878282.5000\n",
      "Iteration 42 \n",
      "        L: 5647047.0000\n",
      "Iteration 56 \n",
      "        L: 6125314.5000\n",
      "Iteration 70 \n",
      "        L: 5860782.0000\n",
      "Iteration 84 \n",
      "        L: 5979093.5000\n",
      "Iteration 98 \n",
      "        L: 5923281.5000\n",
      "Iteration 112 \n",
      "        L: 5825490.5000\n",
      "Iteration 126 \n",
      "        L: 5910140.0000\n",
      "Iteration 140 \n",
      "        L: 6198375.0000\n"
     ]
    },
    {
     "data": {
      "application/vnd.jupyter.widget-view+json": {
       "model_id": "776d1255bf184b0cafa52b437eeea838",
       "version_major": 2,
       "version_minor": 0
      },
      "text/plain": [
       "HBox(children=(IntProgress(value=0, max=140), HTML(value='')))"
      ]
     },
     "metadata": {},
     "output_type": "display_data"
    },
    {
     "name": "stdout",
     "output_type": "stream",
     "text": [
      "Iteration 14 \n",
      "        L: 16881454.0000\n",
      "Iteration 28 \n",
      "        L: 12274095.0000\n",
      "Iteration 42 \n",
      "        L: 10160204.0000\n",
      "Iteration 56 \n",
      "        L: 8141550.5000\n",
      "Iteration 70 \n",
      "        L: 6034170.5000\n",
      "Iteration 84 \n",
      "        L: 5816135.0000\n",
      "Iteration 98 \n",
      "        L: 5229341.5000\n",
      "Iteration 112 \n",
      "        L: 5335832.0000\n",
      "Iteration 126 \n",
      "        L: 5359190.5000\n",
      "Iteration 140 \n",
      "        L: 5363132.5000\n"
     ]
    },
    {
     "data": {
      "application/vnd.jupyter.widget-view+json": {
       "model_id": "93780c3d05674446af81ec917cd0e4ca",
       "version_major": 2,
       "version_minor": 0
      },
      "text/plain": [
       "HBox(children=(IntProgress(value=0, max=140), HTML(value='')))"
      ]
     },
     "metadata": {},
     "output_type": "display_data"
    },
    {
     "name": "stdout",
     "output_type": "stream",
     "text": [
      "Iteration 14 \n",
      "        L: 5600116.0000\n",
      "Iteration 28 \n",
      "        L: 5386486.5000\n",
      "Iteration 42 \n",
      "        L: 5279403.0000\n",
      "Iteration 56 \n",
      "        L: 5455155.0000\n",
      "Iteration 70 \n",
      "        L: 5314996.0000\n",
      "Iteration 84 \n",
      "        L: 4802362.0000\n",
      "Iteration 98 \n",
      "        L: 5043347.0000\n",
      "Iteration 112 \n",
      "        L: 4661105.5000\n",
      "Iteration 126 \n",
      "        L: 8146641.0000\n",
      "Iteration 140 \n",
      "        L: 6036066.0000\n"
     ]
    },
    {
     "data": {
      "application/vnd.jupyter.widget-view+json": {
       "model_id": "75f007a7de0140419fc1fb2ee893bbd5",
       "version_major": 2,
       "version_minor": 0
      },
      "text/plain": [
       "HBox(children=(IntProgress(value=0, max=140), HTML(value='')))"
      ]
     },
     "metadata": {},
     "output_type": "display_data"
    },
    {
     "name": "stdout",
     "output_type": "stream",
     "text": [
      "Iteration 14 \n",
      "        L: 5225585.0000\n",
      "Iteration 28 \n",
      "        L: 5327606.5000\n",
      "Iteration 42 \n",
      "        L: 5469567.5000\n",
      "Iteration 56 \n",
      "        L: 10741026.0000\n",
      "Iteration 70 \n",
      "        L: 6555596.5000\n",
      "Iteration 84 \n",
      "        L: 4765893.0000\n",
      "Iteration 98 \n",
      "        L: 4741731.0000\n",
      "Iteration 112 \n",
      "        L: 4964993.5000\n",
      "Iteration 126 \n",
      "        L: 6607839.0000\n",
      "Iteration 140 \n",
      "        L: 8843716.0000\n"
     ]
    },
    {
     "data": {
      "application/vnd.jupyter.widget-view+json": {
       "model_id": "11854f911d5e4272955e126223e5435d",
       "version_major": 2,
       "version_minor": 0
      },
      "text/plain": [
       "HBox(children=(IntProgress(value=0, max=140), HTML(value='')))"
      ]
     },
     "metadata": {},
     "output_type": "display_data"
    },
    {
     "name": "stdout",
     "output_type": "stream",
     "text": [
      "Iteration 14 \n",
      "        L: 4926353.0000\n",
      "Iteration 28 \n",
      "        L: 4707381.0000\n",
      "Iteration 42 \n",
      "        L: 4483325.0000\n",
      "Iteration 56 \n",
      "        L: 11804824.0000\n",
      "Iteration 70 \n",
      "        L: 4928440.0000\n",
      "Iteration 84 \n",
      "        L: 12457640.0000\n",
      "Iteration 98 \n",
      "        L: 12829624.0000\n",
      "Iteration 112 \n",
      "        L: 10126448.0000\n",
      "Iteration 126 \n",
      "        L: 4986128.0000\n",
      "Iteration 140 \n",
      "        L: 6476339.5000\n"
     ]
    },
    {
     "data": {
      "application/vnd.jupyter.widget-view+json": {
       "model_id": "a176ec60ce184410803015fabdc84791",
       "version_major": 2,
       "version_minor": 0
      },
      "text/plain": [
       "HBox(children=(IntProgress(value=0, max=140), HTML(value='')))"
      ]
     },
     "metadata": {},
     "output_type": "display_data"
    },
    {
     "name": "stdout",
     "output_type": "stream",
     "text": [
      "Iteration 14 \n",
      "        L: 4837471.0000\n",
      "Iteration 28 \n",
      "        L: 4326251.5000\n",
      "Iteration 42 \n",
      "        L: 4718311.0000\n",
      "Iteration 56 \n",
      "        L: 4400147.0000\n",
      "Iteration 70 \n",
      "        L: 4923349.5000\n",
      "Iteration 84 \n",
      "        L: 5151263.0000\n",
      "Iteration 98 \n",
      "        L: 18962040.0000\n",
      "Iteration 112 \n",
      "        L: 4937683.0000\n",
      "Iteration 126 \n",
      "        L: 4329583.5000\n",
      "Iteration 140 \n",
      "        L: 7857445.0000\n"
     ]
    },
    {
     "data": {
      "application/vnd.jupyter.widget-view+json": {
       "model_id": "94f87723983f44c5b24ea052332947e6",
       "version_major": 2,
       "version_minor": 0
      },
      "text/plain": [
       "HBox(children=(IntProgress(value=0, max=140), HTML(value='')))"
      ]
     },
     "metadata": {},
     "output_type": "display_data"
    },
    {
     "name": "stdout",
     "output_type": "stream",
     "text": [
      "Iteration 14 \n",
      "        L: 4666604.5000\n",
      "Iteration 28 \n",
      "        L: 3988831.0000\n",
      "Iteration 42 \n",
      "        L: 4826482.5000\n",
      "Iteration 56 \n",
      "        L: 5682470.0000\n",
      "Iteration 70 \n",
      "        L: 11428717.0000\n",
      "Iteration 84 \n",
      "        L: 4774575.5000\n",
      "Iteration 98 \n",
      "        L: 3889871.0000\n",
      "Iteration 112 \n",
      "        L: 4225175.0000\n",
      "Iteration 126 \n",
      "        L: 3901300.5000\n",
      "Iteration 140 \n",
      "        L: 3687485.7500\n"
     ]
    },
    {
     "data": {
      "application/vnd.jupyter.widget-view+json": {
       "model_id": "af731e20da9749e6b769dc169a4780c8",
       "version_major": 2,
       "version_minor": 0
      },
      "text/plain": [
       "HBox(children=(IntProgress(value=0, max=140), HTML(value='')))"
      ]
     },
     "metadata": {},
     "output_type": "display_data"
    },
    {
     "name": "stdout",
     "output_type": "stream",
     "text": [
      "Iteration 14 \n",
      "        L: 3633598.7500\n",
      "Iteration 28 \n",
      "        L: 3817341.2500\n",
      "Iteration 42 \n",
      "        L: 8408304.0000\n",
      "Iteration 56 \n",
      "        L: 27916096.0000\n",
      "Iteration 70 \n",
      "        L: 3970889.2500\n",
      "Iteration 84 \n",
      "        L: 3961746.7500\n",
      "Iteration 98 \n",
      "        L: 4126437.2500\n",
      "Iteration 112 \n",
      "        L: 3648786.0000\n",
      "Iteration 126 \n",
      "        L: 3745191.5000\n",
      "Iteration 140 \n",
      "        L: 3724140.5000\n"
     ]
    },
    {
     "data": {
      "application/vnd.jupyter.widget-view+json": {
       "model_id": "301d27b03cd84ca09d9c484dc257e33e",
       "version_major": 2,
       "version_minor": 0
      },
      "text/plain": [
       "HBox(children=(IntProgress(value=0, max=140), HTML(value='')))"
      ]
     },
     "metadata": {},
     "output_type": "display_data"
    },
    {
     "name": "stdout",
     "output_type": "stream",
     "text": [
      "Iteration 14 \n",
      "        L: 3530515.5000\n",
      "Iteration 28 \n",
      "        L: 3520708.5000\n",
      "Iteration 42 \n",
      "        L: 3592735.5000\n",
      "Iteration 56 \n",
      "        L: 3485038.5000\n",
      "Iteration 70 \n",
      "        L: 3207312.5000\n",
      "Iteration 84 \n",
      "        L: 3525046.0000\n",
      "Iteration 98 \n",
      "        L: 3466145.5000\n",
      "Iteration 112 \n",
      "        L: 3289997.0000\n",
      "Iteration 126 \n",
      "        L: 3403878.5000\n",
      "Iteration 140 \n",
      "        L: 4431062.0000\n"
     ]
    },
    {
     "data": {
      "application/vnd.jupyter.widget-view+json": {
       "model_id": "530aecea12eb4405b662d7180e7baa15",
       "version_major": 2,
       "version_minor": 0
      },
      "text/plain": [
       "HBox(children=(IntProgress(value=0, max=140), HTML(value='')))"
      ]
     },
     "metadata": {},
     "output_type": "display_data"
    },
    {
     "name": "stdout",
     "output_type": "stream",
     "text": [
      "Iteration 14 \n",
      "        L: 8606880.0000\n",
      "Iteration 28 \n",
      "        L: 3513708.0000\n",
      "Iteration 42 \n",
      "        L: 3480543.5000\n",
      "Iteration 56 \n",
      "        L: 3860565.5000\n",
      "Iteration 70 \n",
      "        L: 4842217.0000\n",
      "Iteration 84 \n",
      "        L: 3163661.0000\n",
      "Iteration 98 \n",
      "        L: 3537413.0000\n",
      "Iteration 112 \n",
      "        L: 2959595.0000\n",
      "Iteration 126 \n",
      "        L: 5925681.0000\n",
      "Iteration 140 \n",
      "        L: 5903649.5000\n"
     ]
    },
    {
     "data": {
      "application/vnd.jupyter.widget-view+json": {
       "model_id": "f645840dfde2450d8ae536d9e53fe8de",
       "version_major": 2,
       "version_minor": 0
      },
      "text/plain": [
       "HBox(children=(IntProgress(value=0, max=140), HTML(value='')))"
      ]
     },
     "metadata": {},
     "output_type": "display_data"
    },
    {
     "name": "stdout",
     "output_type": "stream",
     "text": [
      "Iteration 14 \n",
      "        L: 3530689.5000\n",
      "Iteration 28 \n",
      "        L: 10768435.0000\n",
      "Iteration 42 \n",
      "        L: 4110951.0000\n",
      "Iteration 56 \n",
      "        L: 2843659.5000\n",
      "Iteration 70 \n",
      "        L: 3121526.0000\n",
      "Iteration 84 \n",
      "        L: 3838943.5000\n",
      "Iteration 98 \n",
      "        L: 3324399.2500\n",
      "Iteration 112 \n",
      "        L: 5613457.0000\n",
      "Iteration 126 \n",
      "        L: 24279768.0000\n",
      "Iteration 140 \n",
      "        L: 3248091.5000\n"
     ]
    },
    {
     "data": {
      "application/vnd.jupyter.widget-view+json": {
       "model_id": "89273878ff0f4a1fb077e66479aaa328",
       "version_major": 2,
       "version_minor": 0
      },
      "text/plain": [
       "HBox(children=(IntProgress(value=0, max=140), HTML(value='')))"
      ]
     },
     "metadata": {},
     "output_type": "display_data"
    },
    {
     "name": "stdout",
     "output_type": "stream",
     "text": [
      "Iteration 14 \n",
      "        L: 3235050.7500\n",
      "Iteration 28 \n",
      "        L: 2833583.5000\n",
      "Iteration 42 \n",
      "        L: 2790495.0000\n",
      "Iteration 56 \n",
      "        L: 2655282.0000\n",
      "Iteration 70 \n",
      "        L: 2988930.2500\n",
      "Iteration 84 \n",
      "        L: 2754935.0000\n",
      "Iteration 98 \n",
      "        L: 2446514.0000\n",
      "Iteration 112 \n",
      "        L: 3442693.7500\n",
      "Iteration 126 \n",
      "        L: 4478289.5000\n",
      "Iteration 140 \n",
      "        L: 2926468.0000\n"
     ]
    },
    {
     "data": {
      "application/vnd.jupyter.widget-view+json": {
       "model_id": "42c42aa95abf42efbef937fe5be9ef45",
       "version_major": 2,
       "version_minor": 0
      },
      "text/plain": [
       "HBox(children=(IntProgress(value=0, max=140), HTML(value='')))"
      ]
     },
     "metadata": {},
     "output_type": "display_data"
    },
    {
     "name": "stdout",
     "output_type": "stream",
     "text": [
      "Iteration 14 \n",
      "        L: 3117901.2500\n",
      "Iteration 28 \n",
      "        L: 63642448.0000\n",
      "Iteration 42 \n",
      "        L: 14205888.0000\n",
      "Iteration 56 \n",
      "        L: 3812297.0000\n",
      "Iteration 70 \n",
      "        L: 3424056.7500\n",
      "Iteration 84 \n",
      "        L: 2744724.2500\n",
      "Iteration 98 \n",
      "        L: 2458797.0000\n",
      "Iteration 112 \n",
      "        L: 2416291.0000\n",
      "Iteration 126 \n",
      "        L: 2606092.5000\n",
      "Iteration 140 \n",
      "        L: 2414369.7500\n"
     ]
    },
    {
     "data": {
      "application/vnd.jupyter.widget-view+json": {
       "model_id": "bacabe5586034fbbb24d8664962aa660",
       "version_major": 2,
       "version_minor": 0
      },
      "text/plain": [
       "HBox(children=(IntProgress(value=0, max=140), HTML(value='')))"
      ]
     },
     "metadata": {},
     "output_type": "display_data"
    },
    {
     "name": "stdout",
     "output_type": "stream",
     "text": [
      "Iteration 14 \n",
      "        L: 4342808.5000\n",
      "Iteration 28 \n",
      "        L: 12285254.0000\n",
      "Iteration 42 \n",
      "        L: 8781424.0000\n",
      "Iteration 56 \n",
      "        L: 3803024.7500\n",
      "Iteration 70 \n",
      "        L: 2456628.7500\n",
      "Iteration 84 \n",
      "        L: 2447593.0000\n",
      "Iteration 98 \n",
      "        L: 2270373.7500\n",
      "Iteration 112 \n",
      "        L: 2348844.2500\n",
      "Iteration 126 \n",
      "        L: 2261547.5000\n",
      "Iteration 140 \n",
      "        L: 2174836.5000\n"
     ]
    },
    {
     "data": {
      "application/vnd.jupyter.widget-view+json": {
       "model_id": "a60d04cc76f041baa2a11b0cd11e5d2e",
       "version_major": 2,
       "version_minor": 0
      },
      "text/plain": [
       "HBox(children=(IntProgress(value=0, max=140), HTML(value='')))"
      ]
     },
     "metadata": {},
     "output_type": "display_data"
    },
    {
     "name": "stdout",
     "output_type": "stream",
     "text": [
      "Iteration 14 \n",
      "        L: 3488699.2500\n",
      "Iteration 28 \n",
      "        L: 2515361.5000\n",
      "Iteration 42 \n",
      "        L: 3794573.7500\n",
      "Iteration 56 \n",
      "        L: 3807564.7500\n",
      "Iteration 70 \n",
      "        L: 2348041.0000\n",
      "Iteration 84 \n",
      "        L: 2755506.0000\n",
      "Iteration 98 \n",
      "        L: 2248530.5000\n",
      "Iteration 112 \n",
      "        L: 2224996.7500\n",
      "Iteration 126 \n",
      "        L: 2005169.5000\n",
      "Iteration 140 \n",
      "        L: 1906715.7500\n"
     ]
    },
    {
     "data": {
      "application/vnd.jupyter.widget-view+json": {
       "model_id": "10c8e72f3b12479590d9be2ffd7c7174",
       "version_major": 2,
       "version_minor": 0
      },
      "text/plain": [
       "HBox(children=(IntProgress(value=0, max=140), HTML(value='')))"
      ]
     },
     "metadata": {},
     "output_type": "display_data"
    },
    {
     "name": "stdout",
     "output_type": "stream",
     "text": [
      "Iteration 14 \n",
      "        L: 3402102.2500\n",
      "Iteration 28 \n",
      "        L: 53068004.0000\n",
      "Iteration 42 \n",
      "        L: 3168848.0000\n",
      "Iteration 56 \n",
      "        L: 2777577.0000\n",
      "Iteration 70 \n",
      "        L: 2883366.0000\n",
      "Iteration 84 \n",
      "        L: 1890031.8750\n",
      "Iteration 98 \n",
      "        L: 3300579.7500\n",
      "Iteration 112 \n",
      "        L: 2045599.7500\n",
      "Iteration 126 \n",
      "        L: 1848896.2500\n",
      "Iteration 140 \n",
      "        L: 1915838.2500\n"
     ]
    },
    {
     "data": {
      "application/vnd.jupyter.widget-view+json": {
       "model_id": "096fb8c498f84e08b2deb16456fc4e63",
       "version_major": 2,
       "version_minor": 0
      },
      "text/plain": [
       "HBox(children=(IntProgress(value=0, max=140), HTML(value='')))"
      ]
     },
     "metadata": {},
     "output_type": "display_data"
    },
    {
     "name": "stdout",
     "output_type": "stream",
     "text": [
      "Iteration 14 \n",
      "        L: 13774711.0000\n",
      "Iteration 28 \n",
      "        L: 3131312.7500\n",
      "Iteration 42 \n",
      "        L: 10801556.0000\n",
      "Iteration 56 \n",
      "        L: 3072371.7500\n",
      "Iteration 70 \n",
      "        L: 2218559.2500\n",
      "Iteration 84 \n",
      "        L: 1849337.3750\n",
      "Iteration 98 \n",
      "        L: 1746961.8750\n",
      "Iteration 112 \n",
      "        L: 1656754.1250\n",
      "Iteration 126 \n",
      "        L: 1737860.2500\n",
      "Iteration 140 \n",
      "        L: 1625904.6250\n"
     ]
    },
    {
     "data": {
      "application/vnd.jupyter.widget-view+json": {
       "model_id": "5bc6708c3a6c4b568f4d53b2ab43cba6",
       "version_major": 2,
       "version_minor": 0
      },
      "text/plain": [
       "HBox(children=(IntProgress(value=0, max=140), HTML(value='')))"
      ]
     },
     "metadata": {},
     "output_type": "display_data"
    },
    {
     "name": "stdout",
     "output_type": "stream",
     "text": [
      "Iteration 14 \n",
      "        L: 2007466.8750\n",
      "Iteration 28 \n",
      "        L: 7434512.0000\n",
      "Iteration 42 \n",
      "        L: 7165305.0000\n",
      "Iteration 56 \n",
      "        L: 4909912.0000\n",
      "Iteration 70 \n",
      "        L: 4384309.5000\n",
      "Iteration 84 \n",
      "        L: 1773421.5000\n",
      "Iteration 98 \n",
      "        L: 1605866.1250\n",
      "Iteration 112 \n",
      "        L: 1800819.8750\n",
      "Iteration 126 \n",
      "        L: 2339789.0000\n",
      "Iteration 140 \n",
      "        L: 51434052.0000\n"
     ]
    },
    {
     "data": {
      "application/vnd.jupyter.widget-view+json": {
       "model_id": "25a87a87e32b4012be31439b800a8ff0",
       "version_major": 2,
       "version_minor": 0
      },
      "text/plain": [
       "HBox(children=(IntProgress(value=0, max=140), HTML(value='')))"
      ]
     },
     "metadata": {},
     "output_type": "display_data"
    },
    {
     "name": "stdout",
     "output_type": "stream",
     "text": [
      "Iteration 14 \n",
      "        L: 12339954.0000\n",
      "Iteration 28 \n",
      "        L: 3462377.7500\n",
      "Iteration 42 \n",
      "        L: 1557981.2500\n",
      "Iteration 56 \n",
      "        L: 2739095.7500\n",
      "Iteration 70 \n",
      "        L: 1616307.7500\n",
      "Iteration 84 \n",
      "        L: 1499226.2500\n",
      "Iteration 98 \n",
      "        L: 1457960.5000\n",
      "Iteration 112 \n",
      "        L: 1559398.1250\n",
      "Iteration 126 \n",
      "        L: 8227097.0000\n",
      "Iteration 140 \n",
      "        L: 13618417.0000\n"
     ]
    },
    {
     "data": {
      "application/vnd.jupyter.widget-view+json": {
       "model_id": "f0b140b8a1fa47d6b7e386104206065b",
       "version_major": 2,
       "version_minor": 0
      },
      "text/plain": [
       "HBox(children=(IntProgress(value=0, max=140), HTML(value='')))"
      ]
     },
     "metadata": {},
     "output_type": "display_data"
    },
    {
     "name": "stdout",
     "output_type": "stream",
     "text": [
      "Iteration 14 \n",
      "        L: 2667974.5000\n",
      "Iteration 28 \n",
      "        L: 5550618.0000\n",
      "Iteration 42 \n",
      "        L: 2280118.0000\n",
      "Iteration 56 \n",
      "        L: 6621515.0000\n",
      "Iteration 70 \n",
      "        L: 1914388.7500\n",
      "Iteration 84 \n",
      "        L: 5651262.0000\n",
      "Iteration 98 \n",
      "        L: 9369668.0000\n",
      "Iteration 112 \n",
      "        L: 3421257.5000\n",
      "Iteration 126 \n",
      "        L: 1592444.2500\n",
      "Iteration 140 \n",
      "        L: 1291267.5000\n"
     ]
    },
    {
     "data": {
      "application/vnd.jupyter.widget-view+json": {
       "model_id": "5aabfc8278b24137b2caedd3b967807e",
       "version_major": 2,
       "version_minor": 0
      },
      "text/plain": [
       "HBox(children=(IntProgress(value=0, max=140), HTML(value='')))"
      ]
     },
     "metadata": {},
     "output_type": "display_data"
    },
    {
     "name": "stdout",
     "output_type": "stream",
     "text": [
      "Iteration 14 \n",
      "        L: 6066104.0000\n",
      "Iteration 28 \n",
      "        L: 1243024.1250\n",
      "Iteration 42 \n",
      "        L: 1573981.5000\n",
      "Iteration 56 \n",
      "        L: 5664875.5000\n",
      "Iteration 70 \n",
      "        L: 2194786.5000\n",
      "Iteration 84 \n",
      "        L: 2094116.2500\n",
      "Iteration 98 \n",
      "        L: 19797940.0000\n",
      "Iteration 112 \n",
      "        L: 38788872.0000\n",
      "Iteration 126 \n",
      "        L: 2734133.0000\n",
      "Iteration 140 \n",
      "        L: 11477634.0000\n"
     ]
    },
    {
     "data": {
      "application/vnd.jupyter.widget-view+json": {
       "model_id": "00e9faa149674fe0880dcd0ab9fa1356",
       "version_major": 2,
       "version_minor": 0
      },
      "text/plain": [
       "HBox(children=(IntProgress(value=0, max=140), HTML(value='')))"
      ]
     },
     "metadata": {},
     "output_type": "display_data"
    },
    {
     "name": "stdout",
     "output_type": "stream",
     "text": [
      "Iteration 14 \n",
      "        L: 9469802.0000\n",
      "Iteration 28 \n",
      "        L: 4832645.5000\n",
      "Iteration 42 \n",
      "        L: 2162794.2500\n",
      "Iteration 56 \n",
      "        L: 1052022.2500\n",
      "Iteration 70 \n",
      "        L: 1179943.5000\n",
      "Iteration 84 \n",
      "        L: 1248390.5000\n",
      "Iteration 98 \n",
      "        L: 3692475.2500\n",
      "Iteration 112 \n",
      "        L: 8115067.0000\n",
      "Iteration 126 \n",
      "        L: 14570852.0000\n",
      "Iteration 140 \n",
      "        L: 4948509.0000\n"
     ]
    },
    {
     "data": {
      "application/vnd.jupyter.widget-view+json": {
       "model_id": "304455bf39e04f1492de81dfc94a1009",
       "version_major": 2,
       "version_minor": 0
      },
      "text/plain": [
       "HBox(children=(IntProgress(value=0, max=140), HTML(value='')))"
      ]
     },
     "metadata": {},
     "output_type": "display_data"
    },
    {
     "name": "stdout",
     "output_type": "stream",
     "text": [
      "Iteration 14 \n",
      "        L: 4429151.0000\n",
      "Iteration 28 \n",
      "        L: 3595388.0000\n",
      "Iteration 42 \n",
      "        L: 5838907.0000\n",
      "Iteration 56 \n",
      "        L: 1479053.2500\n",
      "Iteration 70 \n",
      "        L: 950811.3750\n",
      "Iteration 84 \n",
      "        L: 29300288.0000\n",
      "Iteration 98 \n",
      "        L: 24593888.0000\n",
      "Iteration 112 \n",
      "        L: 8021129.0000\n",
      "Iteration 126 \n",
      "        L: 2550461.2500\n",
      "Iteration 140 \n",
      "        L: 1056004.7500\n"
     ]
    },
    {
     "data": {
      "application/vnd.jupyter.widget-view+json": {
       "model_id": "16ed1cb0a84e43e29153ef812f267010",
       "version_major": 2,
       "version_minor": 0
      },
      "text/plain": [
       "HBox(children=(IntProgress(value=0, max=140), HTML(value='')))"
      ]
     },
     "metadata": {},
     "output_type": "display_data"
    },
    {
     "name": "stdout",
     "output_type": "stream",
     "text": [
      "Iteration 14 \n",
      "        L: 1051258.7500\n",
      "Iteration 28 \n",
      "        L: 931126.7500\n",
      "Iteration 42 \n",
      "        L: 989121.7500\n",
      "Iteration 56 \n",
      "        L: 964169.2500\n",
      "Iteration 70 \n",
      "        L: 896498.0000\n",
      "Iteration 84 \n",
      "        L: 27375032.0000\n",
      "Iteration 98 \n",
      "        L: 8866239.0000\n",
      "Iteration 112 \n",
      "        L: 871357.6875\n",
      "Iteration 126 \n",
      "        L: 968422.6250\n",
      "Iteration 140 \n",
      "        L: 2736754.0000\n"
     ]
    },
    {
     "data": {
      "application/vnd.jupyter.widget-view+json": {
       "model_id": "63e1d03f82124bb290889e7de30e1576",
       "version_major": 2,
       "version_minor": 0
      },
      "text/plain": [
       "HBox(children=(IntProgress(value=0, max=140), HTML(value='')))"
      ]
     },
     "metadata": {},
     "output_type": "display_data"
    },
    {
     "name": "stdout",
     "output_type": "stream",
     "text": [
      "Iteration 14 \n",
      "        L: 1518062.5000\n",
      "Iteration 28 \n",
      "        L: 1471058.8750\n",
      "Iteration 42 \n",
      "        L: 5007472.0000\n",
      "Iteration 56 \n",
      "        L: 3300376.7500\n",
      "Iteration 70 \n",
      "        L: 1147797.0000\n",
      "Iteration 84 \n",
      "        L: 974410.5000\n",
      "Iteration 98 \n",
      "        L: 1741935.2500\n",
      "Iteration 112 \n",
      "        L: 3401781.0000\n",
      "Iteration 126 \n",
      "        L: 7929902.5000\n",
      "Iteration 140 \n",
      "        L: 6527727.5000\n"
     ]
    },
    {
     "data": {
      "application/vnd.jupyter.widget-view+json": {
       "model_id": "8110f3bb7c8142a4a40091a9b71215d3",
       "version_major": 2,
       "version_minor": 0
      },
      "text/plain": [
       "HBox(children=(IntProgress(value=0, max=140), HTML(value='')))"
      ]
     },
     "metadata": {},
     "output_type": "display_data"
    },
    {
     "name": "stdout",
     "output_type": "stream",
     "text": [
      "Iteration 14 \n",
      "        L: 3127036.7500\n",
      "Iteration 28 \n",
      "        L: 52444188.0000\n",
      "Iteration 42 \n",
      "        L: 1143117.5000\n",
      "Iteration 56 \n",
      "        L: 812789.8750\n",
      "Iteration 70 \n",
      "        L: 2090720.1250\n",
      "Iteration 84 \n",
      "        L: 1823725.3750\n",
      "Iteration 98 \n",
      "        L: 14343358.0000\n",
      "Iteration 112 \n",
      "        L: 884445.0000\n",
      "Iteration 126 \n",
      "        L: 1089043.8750\n",
      "Iteration 140 \n",
      "        L: 3300340.2500\n"
     ]
    },
    {
     "data": {
      "application/vnd.jupyter.widget-view+json": {
       "model_id": "ca05460272ba48daaa15a607f907eb00",
       "version_major": 2,
       "version_minor": 0
      },
      "text/plain": [
       "HBox(children=(IntProgress(value=0, max=140), HTML(value='')))"
      ]
     },
     "metadata": {},
     "output_type": "display_data"
    },
    {
     "name": "stdout",
     "output_type": "stream",
     "text": [
      "Iteration 14 \n",
      "        L: 698444.5000\n",
      "Iteration 28 \n",
      "        L: 852563.6875\n",
      "Iteration 42 \n",
      "        L: 845652.6875\n",
      "Iteration 56 \n",
      "        L: 5467170.0000\n",
      "Iteration 70 \n",
      "        L: 15111316.0000\n",
      "Iteration 84 \n",
      "        L: 2478233.0000\n",
      "Iteration 98 \n",
      "        L: 9042612.0000\n",
      "Iteration 112 \n",
      "        L: 841910.4375\n",
      "Iteration 126 \n",
      "        L: 616814.5625\n",
      "Iteration 140 \n",
      "        L: 640480.8750\n"
     ]
    },
    {
     "data": {
      "application/vnd.jupyter.widget-view+json": {
       "model_id": "b34623e0f4d444e49564f0a40ef82c6a",
       "version_major": 2,
       "version_minor": 0
      },
      "text/plain": [
       "HBox(children=(IntProgress(value=0, max=140), HTML(value='')))"
      ]
     },
     "metadata": {},
     "output_type": "display_data"
    },
    {
     "name": "stdout",
     "output_type": "stream",
     "text": [
      "Iteration 14 \n",
      "        L: 1876465.7500\n",
      "Iteration 28 \n",
      "        L: 28417084.0000\n",
      "Iteration 42 \n",
      "        L: 1738006.0000\n",
      "Iteration 56 \n",
      "        L: 6089466.0000\n",
      "Iteration 70 \n",
      "        L: 4742884.5000\n",
      "Iteration 84 \n",
      "        L: 1577381.3750\n",
      "Iteration 98 \n",
      "        L: 5671802.0000\n",
      "Iteration 112 \n",
      "        L: 1212936.1250\n",
      "Iteration 126 \n",
      "        L: 1055023.0000\n",
      "Iteration 140 \n",
      "        L: 1854228.1250\n"
     ]
    },
    {
     "data": {
      "application/vnd.jupyter.widget-view+json": {
       "model_id": "2b622a9f321f4875be7c3308b77aa73c",
       "version_major": 2,
       "version_minor": 0
      },
      "text/plain": [
       "HBox(children=(IntProgress(value=0, max=140), HTML(value='')))"
      ]
     },
     "metadata": {},
     "output_type": "display_data"
    },
    {
     "name": "stdout",
     "output_type": "stream",
     "text": [
      "Iteration 14 \n",
      "        L: 3721804.5000\n",
      "Iteration 28 \n",
      "        L: 585102.5000\n",
      "Iteration 42 \n",
      "        L: 900321.0000\n",
      "Iteration 56 \n",
      "        L: 804833.6250\n",
      "Iteration 70 \n",
      "        L: 1762776.2500\n",
      "Iteration 84 \n",
      "        L: 4521575.5000\n"
     ]
    },
    {
     "ename": "KeyboardInterrupt",
     "evalue": "",
     "output_type": "error",
     "traceback": [
      "\u001b[1;31m---------------------------------------------------------------------------\u001b[0m",
      "\u001b[1;31mKeyboardInterrupt\u001b[0m                         Traceback (most recent call last)",
      "\u001b[1;32m<ipython-input-162-f86ba87f96d7>\u001b[0m in \u001b[0;36m<module>\u001b[1;34m\u001b[0m\n\u001b[0;32m      6\u001b[0m         \u001b[0mX_pred\u001b[0m \u001b[1;33m=\u001b[0m \u001b[0mmodel\u001b[0m\u001b[1;33m.\u001b[0m\u001b[0mforward\u001b[0m\u001b[1;33m(\u001b[0m\u001b[0mX\u001b[0m\u001b[1;33m)\u001b[0m\u001b[1;33m\u001b[0m\u001b[1;33m\u001b[0m\u001b[0m\n\u001b[0;32m      7\u001b[0m         \u001b[0mL\u001b[0m \u001b[1;33m=\u001b[0m \u001b[0mtorch\u001b[0m\u001b[1;33m.\u001b[0m\u001b[0msum\u001b[0m\u001b[1;33m(\u001b[0m\u001b[1;33m(\u001b[0m\u001b[0mX\u001b[0m \u001b[1;33m-\u001b[0m \u001b[0mX_pred\u001b[0m\u001b[1;33m)\u001b[0m\u001b[1;33m**\u001b[0m\u001b[1;36m2\u001b[0m\u001b[1;33m)\u001b[0m\u001b[1;33m\u001b[0m\u001b[1;33m\u001b[0m\u001b[0m\n\u001b[1;32m----> 8\u001b[1;33m         \u001b[0mL\u001b[0m\u001b[1;33m.\u001b[0m\u001b[0mbackward\u001b[0m\u001b[1;33m(\u001b[0m\u001b[1;33m)\u001b[0m\u001b[1;33m\u001b[0m\u001b[1;33m\u001b[0m\u001b[0m\n\u001b[0m\u001b[0;32m      9\u001b[0m         \u001b[0mopt\u001b[0m\u001b[1;33m.\u001b[0m\u001b[0mstep\u001b[0m\u001b[1;33m(\u001b[0m\u001b[1;33m)\u001b[0m\u001b[1;33m\u001b[0m\u001b[1;33m\u001b[0m\u001b[0m\n\u001b[0;32m     10\u001b[0m \u001b[1;33m\u001b[0m\u001b[0m\n",
      "\u001b[1;32m~\\Anaconda3\\lib\\site-packages\\torch\\tensor.py\u001b[0m in \u001b[0;36mbackward\u001b[1;34m(self, gradient, retain_graph, create_graph)\u001b[0m\n\u001b[0;32m    148\u001b[0m                 \u001b[0mproducts\u001b[0m\u001b[1;33m.\u001b[0m \u001b[0mDefaults\u001b[0m \u001b[0mto\u001b[0m\u001b[0;31m \u001b[0m\u001b[0;31m`\u001b[0m\u001b[0;31m`\u001b[0m\u001b[1;32mFalse\u001b[0m\u001b[0;31m`\u001b[0m\u001b[0;31m`\u001b[0m\u001b[1;33m.\u001b[0m\u001b[1;33m\u001b[0m\u001b[1;33m\u001b[0m\u001b[0m\n\u001b[0;32m    149\u001b[0m         \"\"\"\n\u001b[1;32m--> 150\u001b[1;33m         \u001b[0mtorch\u001b[0m\u001b[1;33m.\u001b[0m\u001b[0mautograd\u001b[0m\u001b[1;33m.\u001b[0m\u001b[0mbackward\u001b[0m\u001b[1;33m(\u001b[0m\u001b[0mself\u001b[0m\u001b[1;33m,\u001b[0m \u001b[0mgradient\u001b[0m\u001b[1;33m,\u001b[0m \u001b[0mretain_graph\u001b[0m\u001b[1;33m,\u001b[0m \u001b[0mcreate_graph\u001b[0m\u001b[1;33m)\u001b[0m\u001b[1;33m\u001b[0m\u001b[1;33m\u001b[0m\u001b[0m\n\u001b[0m\u001b[0;32m    151\u001b[0m \u001b[1;33m\u001b[0m\u001b[0m\n\u001b[0;32m    152\u001b[0m     \u001b[1;32mdef\u001b[0m \u001b[0mregister_hook\u001b[0m\u001b[1;33m(\u001b[0m\u001b[0mself\u001b[0m\u001b[1;33m,\u001b[0m \u001b[0mhook\u001b[0m\u001b[1;33m)\u001b[0m\u001b[1;33m:\u001b[0m\u001b[1;33m\u001b[0m\u001b[1;33m\u001b[0m\u001b[0m\n",
      "\u001b[1;32m~\\Anaconda3\\lib\\site-packages\\torch\\autograd\\__init__.py\u001b[0m in \u001b[0;36mbackward\u001b[1;34m(tensors, grad_tensors, retain_graph, create_graph, grad_variables)\u001b[0m\n\u001b[0;32m     97\u001b[0m     Variable._execution_engine.run_backward(\n\u001b[0;32m     98\u001b[0m         \u001b[0mtensors\u001b[0m\u001b[1;33m,\u001b[0m \u001b[0mgrad_tensors\u001b[0m\u001b[1;33m,\u001b[0m \u001b[0mretain_graph\u001b[0m\u001b[1;33m,\u001b[0m \u001b[0mcreate_graph\u001b[0m\u001b[1;33m,\u001b[0m\u001b[1;33m\u001b[0m\u001b[1;33m\u001b[0m\u001b[0m\n\u001b[1;32m---> 99\u001b[1;33m         allow_unreachable=True)  # allow_unreachable flag\n\u001b[0m\u001b[0;32m    100\u001b[0m \u001b[1;33m\u001b[0m\u001b[0m\n\u001b[0;32m    101\u001b[0m \u001b[1;33m\u001b[0m\u001b[0m\n",
      "\u001b[1;31mKeyboardInterrupt\u001b[0m: "
     ]
    }
   ],
   "source": [
    "EPOCHS=100\n",
    "for epoch in range(EPOCHS):\n",
    "    i = 1\n",
    "    for X, y in tqdm_notebook(dataLoader):\n",
    "        model.zero_grad()\n",
    "        X_pred = model.forward(X)\n",
    "        L = torch.sum((X - X_pred)**2)\n",
    "        L.backward()\n",
    "        opt.step()\n",
    "\n",
    "        # Print\n",
    "        if (i % (len(dataLoader)//10)) == 0: print(\"Iteration %d \\n        L: %.4f\" % (i, L))\n",
    "        i += 1"
   ]
  },
  {
   "cell_type": "code",
   "execution_count": null,
   "metadata": {},
   "outputs": [],
   "source": []
  }
 ],
 "metadata": {
  "kernelspec": {
   "display_name": "Python 3",
   "language": "python",
   "name": "python3"
  },
  "language_info": {
   "codemirror_mode": {
    "name": "ipython",
    "version": 3
   },
   "file_extension": ".py",
   "mimetype": "text/x-python",
   "name": "python",
   "nbconvert_exporter": "python",
   "pygments_lexer": "ipython3",
   "version": "3.7.3"
  }
 },
 "nbformat": 4,
 "nbformat_minor": 2
}
