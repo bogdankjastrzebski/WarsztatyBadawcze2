{
 "cells": [
  {
   "cell_type": "code",
   "execution_count": 1,
   "metadata": {},
   "outputs": [],
   "source": [
    "import pandas as pd\n",
    "import torch\n",
    "from torch import nn\n",
    "import torch.optim as optim\n",
    "import torch.nn.functional as F\n",
    "from torch.nn.modules.distance import PairwiseDistance\n",
    "import numpy as np\n",
    "import matplotlib.pyplot as plt\n",
    "import torch.utils.data\n",
    "from tqdm import tnrange\n",
    "from tqdm import tqdm_notebook"
   ]
  },
  {
   "cell_type": "code",
   "execution_count": 11,
   "metadata": {},
   "outputs": [],
   "source": [
    "cuda = torch.device('cuda')\n",
    "cpu = torch.device('cpu')"
   ]
  },
  {
   "cell_type": "code",
   "execution_count": 3,
   "metadata": {},
   "outputs": [],
   "source": [
    "class Images(torch.utils.data.Dataset):\n",
    "    def __init__(self):\n",
    "        D = np.r_[pd.read_csv(\"./mnist1.csv\").to_numpy(), pd.read_csv(\"./mnist2.csv\").to_numpy()]\n",
    "        self.X = torch.Tensor(D[:, :-1].reshape(70000, 1, 28, 28))/255\n",
    "        self.y = torch.Tensor(D[:, -1:])\n",
    "        \n",
    "    def __len__(self):\n",
    "        return self.X.shape[0]\n",
    "\n",
    "    def __getitem__(self, idx):\n",
    "        return self.X[idx, :, :, :], self.y[idx, 0]\n",
    "    \n",
    "    def to(self, device):\n",
    "        self.X = self.X.to(device)\n",
    "        self.y = self.y.to(device)"
   ]
  },
  {
   "cell_type": "code",
   "execution_count": 4,
   "metadata": {},
   "outputs": [],
   "source": [
    "Img = Images()\n",
    "Img.to(device)"
   ]
  },
  {
   "cell_type": "code",
   "execution_count": 5,
   "metadata": {},
   "outputs": [
    {
     "data": {
      "image/png": "[encoded data removed]",
      "text/plain": [
       "<Figure size 432x288 with 1 Axes>"
      ]
     },
     "metadata": {
      "needs_background": "light"
     },
     "output_type": "display_data"
    }
   ],
   "source": [
    "plt.imshow(Img[0][0].to(torch.device('cpu')).reshape(28,28));"
   ]
  },
  {
   "cell_type": "code",
   "execution_count": 7,
   "metadata": {},
   "outputs": [],
   "source": [
    "ratio = 0.001\n",
    "train, valid = torch.utils.data.random_split(Img, [int(len(Img)*(1 - ratio)), int(len(Img)*ratio)])"
   ]
  },
  {
   "cell_type": "code",
   "execution_count": 29,
   "metadata": {},
   "outputs": [],
   "source": [
    "dataLoader = torch.utils.data.DataLoader(train, batch_size=500)"
   ]
  },
  {
   "cell_type": "markdown",
   "metadata": {},
   "source": [
    "# MSE"
   ]
  },
  {
   "cell_type": "code",
   "execution_count": 194,
   "metadata": {},
   "outputs": [],
   "source": [
    "def onehot(y):\n",
    "    ret = torch.zeros(y.shape[0], 10)\n",
    "    ret[torch.arange(y.shape[0]), y.long()] = 1\n",
    "    return ret"
   ]
  },
  {
   "cell_type": "code",
   "execution_count": 195,
   "metadata": {},
   "outputs": [],
   "source": [
    "def CE(y, y_pred):\n",
    "    y = onehot(y) == 1\n",
    "    return -torch.log(y_pred[y]).sum() - torch.log(1 - y_pred[~y]).sum() + 0"
   ]
  },
  {
   "cell_type": "markdown",
   "metadata": {},
   "source": [
    "# Logistic Regression"
   ]
  },
  {
   "cell_type": "code",
   "execution_count": 196,
   "metadata": {},
   "outputs": [],
   "source": [
    "class LogReg(nn.Module):\n",
    "    def __init__(self, input_size, output_size):\n",
    "        super(LogReg, self).__init__()\n",
    "        \n",
    "        self.L = nn.Linear(input_size, output_size)\n",
    "    def forward(self, X):\n",
    "        return torch.softmax(self.L(X), 1)"
   ]
  },
  {
   "cell_type": "code",
   "execution_count": 197,
   "metadata": {},
   "outputs": [],
   "source": [
    "model = LogReg(28*28, 10).to(cuda)"
   ]
  },
  {
   "cell_type": "code",
   "execution_count": 198,
   "metadata": {},
   "outputs": [],
   "source": [
    "opt = optim.Adam(model.parameters())"
   ]
  },
  {
   "cell_type": "code",
   "execution_count": 200,
   "metadata": {},
   "outputs": [
    {
     "data": {
      "application/vnd.jupyter.widget-view+json": {
       "model_id": "9a91a958883846eb9b91826d6a22ed74",
       "version_major": 2,
       "version_minor": 0
      },
      "text/plain": [
       "HBox(children=(IntProgress(value=0), HTML(value='')))"
      ]
     },
     "metadata": {},
     "output_type": "display_data"
    },
    {
     "name": "stdout",
     "output_type": "stream",
     "text": [
      "Iteration 0 \n",
      "        L: 90014.7578\n",
      "Iteration 10 \n",
      "        L: 78530.9453\n",
      "Iteration 20 \n",
      "        L: 67690.5625\n",
      "Iteration 30 \n",
      "        L: 60427.4414\n",
      "Iteration 40 \n",
      "        L: 55608.6562\n",
      "Iteration 50 \n",
      "        L: 52321.5859\n",
      "Iteration 60 \n",
      "        L: 50044.2305\n",
      "Iteration 70 \n",
      "        L: 48455.5625\n",
      "Iteration 80 \n",
      "        L: 47339.2852\n",
      "Iteration 90 \n",
      "        L: 46545.6953\n"
     ]
    }
   ],
   "source": [
    "EPOCHS = 100\n",
    "for i in tnrange(EPOCHS):\n",
    "    \n",
    "    L_cum = 0\n",
    "    \n",
    "    for X, y in dataLoader:\n",
    "        model.zero_grad()\n",
    "        L = CE(y, model.forward(X.view(X.shape[0], 28*28))) # + C*sum([torch.sum(model.state_dict()[a]**2) if a[-1] == 't' else 0 for a in model.state_dict()])\n",
    "        L.backward()\n",
    "        L_cum += L\n",
    "        opt.step()\n",
    "    \n",
    "    # Print\n",
    "    if (i % (EPOCHS//10)) == 0: print(\"Iteration %d \\n        L: %.4f\" % (i, L_cum))\n",
    "    i += 1"
   ]
  },
  {
   "cell_type": "code",
   "execution_count": 217,
   "metadata": {},
   "outputs": [
    {
     "data": {
      "application/vnd.jupyter.widget-view+json": {
       "model_id": "478ce3f0b199467a8a02f6135699e4be",
       "version_major": 2,
       "version_minor": 0
      },
      "text/plain": [
       "HBox(children=(IntProgress(value=0), HTML(value='')))"
      ]
     },
     "metadata": {},
     "output_type": "display_data"
    },
    {
     "name": "stdout",
     "output_type": "stream",
     "text": [
      "Iteration 0 \n",
      "        L: 45742.7695\n",
      "Iteration 10 \n",
      "        L: 46148.9922\n",
      "Iteration 20 \n",
      "        L: 45527.6914\n",
      "Iteration 30 \n",
      "        L: 45368.4688\n",
      "Iteration 40 \n",
      "        L: 45219.4375\n",
      "Iteration 50 \n",
      "        L: 45115.3867\n",
      "Iteration 60 \n",
      "        L: 45039.5820\n"
     ]
    },
    {
     "ename": "KeyboardInterrupt",
     "evalue": "",
     "output_type": "error",
     "traceback": [
      "\u001b[1;31m---------------------------------------------------------------------------\u001b[0m",
      "\u001b[1;31mKeyboardInterrupt\u001b[0m                         Traceback (most recent call last)",
      "\u001b[1;32m<ipython-input-217-410158852c54>\u001b[0m in \u001b[0;36m<module>\u001b[1;34m\u001b[0m\n\u001b[0;32m      6\u001b[0m     \u001b[0mL_cum\u001b[0m \u001b[1;33m=\u001b[0m \u001b[1;36m0\u001b[0m\u001b[1;33m\u001b[0m\u001b[1;33m\u001b[0m\u001b[0m\n\u001b[0;32m      7\u001b[0m \u001b[1;33m\u001b[0m\u001b[0m\n\u001b[1;32m----> 8\u001b[1;33m     \u001b[1;32mfor\u001b[0m \u001b[0mX\u001b[0m\u001b[1;33m,\u001b[0m \u001b[0my\u001b[0m \u001b[1;32min\u001b[0m \u001b[0mdataLoader\u001b[0m\u001b[1;33m:\u001b[0m\u001b[1;33m\u001b[0m\u001b[1;33m\u001b[0m\u001b[0m\n\u001b[0m\u001b[0;32m      9\u001b[0m         \u001b[0mL\u001b[0m \u001b[1;33m=\u001b[0m \u001b[0mCE\u001b[0m\u001b[1;33m(\u001b[0m\u001b[0my\u001b[0m\u001b[1;33m,\u001b[0m \u001b[0mmodel\u001b[0m\u001b[1;33m.\u001b[0m\u001b[0mforward\u001b[0m\u001b[1;33m(\u001b[0m\u001b[0mX\u001b[0m\u001b[1;33m.\u001b[0m\u001b[0mview\u001b[0m\u001b[1;33m(\u001b[0m\u001b[0mX\u001b[0m\u001b[1;33m.\u001b[0m\u001b[0mshape\u001b[0m\u001b[1;33m[\u001b[0m\u001b[1;36m0\u001b[0m\u001b[1;33m]\u001b[0m\u001b[1;33m,\u001b[0m \u001b[1;36m28\u001b[0m\u001b[1;33m*\u001b[0m\u001b[1;36m28\u001b[0m\u001b[1;33m)\u001b[0m\u001b[1;33m)\u001b[0m\u001b[1;33m)\u001b[0m \u001b[1;31m# + C*sum([torch.sum(model.state_dict()[a]**2) if a[-1] == 't' else 0 for a in model.state_dict()])\u001b[0m\u001b[1;33m\u001b[0m\u001b[1;33m\u001b[0m\u001b[0m\n\u001b[0;32m     10\u001b[0m         \u001b[0mL\u001b[0m\u001b[1;33m.\u001b[0m\u001b[0mbackward\u001b[0m\u001b[1;33m(\u001b[0m\u001b[1;33m)\u001b[0m\u001b[1;33m\u001b[0m\u001b[1;33m\u001b[0m\u001b[0m\n",
      "\u001b[1;32m~\\Anaconda3\\lib\\site-packages\\torch\\utils\\data\\dataloader.py\u001b[0m in \u001b[0;36m__next__\u001b[1;34m(self)\u001b[0m\n\u001b[0;32m    344\u001b[0m     \u001b[1;32mdef\u001b[0m \u001b[0m__next__\u001b[0m\u001b[1;33m(\u001b[0m\u001b[0mself\u001b[0m\u001b[1;33m)\u001b[0m\u001b[1;33m:\u001b[0m\u001b[1;33m\u001b[0m\u001b[1;33m\u001b[0m\u001b[0m\n\u001b[0;32m    345\u001b[0m         \u001b[0mindex\u001b[0m \u001b[1;33m=\u001b[0m \u001b[0mself\u001b[0m\u001b[1;33m.\u001b[0m\u001b[0m_next_index\u001b[0m\u001b[1;33m(\u001b[0m\u001b[1;33m)\u001b[0m  \u001b[1;31m# may raise StopIteration\u001b[0m\u001b[1;33m\u001b[0m\u001b[1;33m\u001b[0m\u001b[0m\n\u001b[1;32m--> 346\u001b[1;33m         \u001b[0mdata\u001b[0m \u001b[1;33m=\u001b[0m \u001b[0mself\u001b[0m\u001b[1;33m.\u001b[0m\u001b[0m_dataset_fetcher\u001b[0m\u001b[1;33m.\u001b[0m\u001b[0mfetch\u001b[0m\u001b[1;33m(\u001b[0m\u001b[0mindex\u001b[0m\u001b[1;33m)\u001b[0m  \u001b[1;31m# may raise StopIteration\u001b[0m\u001b[1;33m\u001b[0m\u001b[1;33m\u001b[0m\u001b[0m\n\u001b[0m\u001b[0;32m    347\u001b[0m         \u001b[1;32mif\u001b[0m \u001b[0mself\u001b[0m\u001b[1;33m.\u001b[0m\u001b[0m_pin_memory\u001b[0m\u001b[1;33m:\u001b[0m\u001b[1;33m\u001b[0m\u001b[1;33m\u001b[0m\u001b[0m\n\u001b[0;32m    348\u001b[0m             \u001b[0mdata\u001b[0m \u001b[1;33m=\u001b[0m \u001b[0m_utils\u001b[0m\u001b[1;33m.\u001b[0m\u001b[0mpin_memory\u001b[0m\u001b[1;33m.\u001b[0m\u001b[0mpin_memory\u001b[0m\u001b[1;33m(\u001b[0m\u001b[0mdata\u001b[0m\u001b[1;33m)\u001b[0m\u001b[1;33m\u001b[0m\u001b[1;33m\u001b[0m\u001b[0m\n",
      "\u001b[1;32m~\\Anaconda3\\lib\\site-packages\\torch\\utils\\data\\_utils\\fetch.py\u001b[0m in \u001b[0;36mfetch\u001b[1;34m(self, possibly_batched_index)\u001b[0m\n\u001b[0;32m     42\u001b[0m     \u001b[1;32mdef\u001b[0m \u001b[0mfetch\u001b[0m\u001b[1;33m(\u001b[0m\u001b[0mself\u001b[0m\u001b[1;33m,\u001b[0m \u001b[0mpossibly_batched_index\u001b[0m\u001b[1;33m)\u001b[0m\u001b[1;33m:\u001b[0m\u001b[1;33m\u001b[0m\u001b[1;33m\u001b[0m\u001b[0m\n\u001b[0;32m     43\u001b[0m         \u001b[1;32mif\u001b[0m \u001b[0mself\u001b[0m\u001b[1;33m.\u001b[0m\u001b[0mauto_collation\u001b[0m\u001b[1;33m:\u001b[0m\u001b[1;33m\u001b[0m\u001b[1;33m\u001b[0m\u001b[0m\n\u001b[1;32m---> 44\u001b[1;33m             \u001b[0mdata\u001b[0m \u001b[1;33m=\u001b[0m \u001b[1;33m[\u001b[0m\u001b[0mself\u001b[0m\u001b[1;33m.\u001b[0m\u001b[0mdataset\u001b[0m\u001b[1;33m[\u001b[0m\u001b[0midx\u001b[0m\u001b[1;33m]\u001b[0m \u001b[1;32mfor\u001b[0m \u001b[0midx\u001b[0m \u001b[1;32min\u001b[0m \u001b[0mpossibly_batched_index\u001b[0m\u001b[1;33m]\u001b[0m\u001b[1;33m\u001b[0m\u001b[1;33m\u001b[0m\u001b[0m\n\u001b[0m\u001b[0;32m     45\u001b[0m         \u001b[1;32melse\u001b[0m\u001b[1;33m:\u001b[0m\u001b[1;33m\u001b[0m\u001b[1;33m\u001b[0m\u001b[0m\n\u001b[0;32m     46\u001b[0m             \u001b[0mdata\u001b[0m \u001b[1;33m=\u001b[0m \u001b[0mself\u001b[0m\u001b[1;33m.\u001b[0m\u001b[0mdataset\u001b[0m\u001b[1;33m[\u001b[0m\u001b[0mpossibly_batched_index\u001b[0m\u001b[1;33m]\u001b[0m\u001b[1;33m\u001b[0m\u001b[1;33m\u001b[0m\u001b[0m\n",
      "\u001b[1;32m~\\Anaconda3\\lib\\site-packages\\torch\\utils\\data\\_utils\\fetch.py\u001b[0m in \u001b[0;36m<listcomp>\u001b[1;34m(.0)\u001b[0m\n\u001b[0;32m     42\u001b[0m     \u001b[1;32mdef\u001b[0m \u001b[0mfetch\u001b[0m\u001b[1;33m(\u001b[0m\u001b[0mself\u001b[0m\u001b[1;33m,\u001b[0m \u001b[0mpossibly_batched_index\u001b[0m\u001b[1;33m)\u001b[0m\u001b[1;33m:\u001b[0m\u001b[1;33m\u001b[0m\u001b[1;33m\u001b[0m\u001b[0m\n\u001b[0;32m     43\u001b[0m         \u001b[1;32mif\u001b[0m \u001b[0mself\u001b[0m\u001b[1;33m.\u001b[0m\u001b[0mauto_collation\u001b[0m\u001b[1;33m:\u001b[0m\u001b[1;33m\u001b[0m\u001b[1;33m\u001b[0m\u001b[0m\n\u001b[1;32m---> 44\u001b[1;33m             \u001b[0mdata\u001b[0m \u001b[1;33m=\u001b[0m \u001b[1;33m[\u001b[0m\u001b[0mself\u001b[0m\u001b[1;33m.\u001b[0m\u001b[0mdataset\u001b[0m\u001b[1;33m[\u001b[0m\u001b[0midx\u001b[0m\u001b[1;33m]\u001b[0m \u001b[1;32mfor\u001b[0m \u001b[0midx\u001b[0m \u001b[1;32min\u001b[0m \u001b[0mpossibly_batched_index\u001b[0m\u001b[1;33m]\u001b[0m\u001b[1;33m\u001b[0m\u001b[1;33m\u001b[0m\u001b[0m\n\u001b[0m\u001b[0;32m     45\u001b[0m         \u001b[1;32melse\u001b[0m\u001b[1;33m:\u001b[0m\u001b[1;33m\u001b[0m\u001b[1;33m\u001b[0m\u001b[0m\n\u001b[0;32m     46\u001b[0m             \u001b[0mdata\u001b[0m \u001b[1;33m=\u001b[0m \u001b[0mself\u001b[0m\u001b[1;33m.\u001b[0m\u001b[0mdataset\u001b[0m\u001b[1;33m[\u001b[0m\u001b[0mpossibly_batched_index\u001b[0m\u001b[1;33m]\u001b[0m\u001b[1;33m\u001b[0m\u001b[1;33m\u001b[0m\u001b[0m\n",
      "\u001b[1;32m~\\Anaconda3\\lib\\site-packages\\torch\\utils\\data\\dataset.py\u001b[0m in \u001b[0;36m__getitem__\u001b[1;34m(self, idx)\u001b[0m\n\u001b[0;32m    255\u001b[0m \u001b[1;33m\u001b[0m\u001b[0m\n\u001b[0;32m    256\u001b[0m     \u001b[1;32mdef\u001b[0m \u001b[0m__getitem__\u001b[0m\u001b[1;33m(\u001b[0m\u001b[0mself\u001b[0m\u001b[1;33m,\u001b[0m \u001b[0midx\u001b[0m\u001b[1;33m)\u001b[0m\u001b[1;33m:\u001b[0m\u001b[1;33m\u001b[0m\u001b[1;33m\u001b[0m\u001b[0m\n\u001b[1;32m--> 257\u001b[1;33m         \u001b[1;32mreturn\u001b[0m \u001b[0mself\u001b[0m\u001b[1;33m.\u001b[0m\u001b[0mdataset\u001b[0m\u001b[1;33m[\u001b[0m\u001b[0mself\u001b[0m\u001b[1;33m.\u001b[0m\u001b[0mindices\u001b[0m\u001b[1;33m[\u001b[0m\u001b[0midx\u001b[0m\u001b[1;33m]\u001b[0m\u001b[1;33m]\u001b[0m\u001b[1;33m\u001b[0m\u001b[1;33m\u001b[0m\u001b[0m\n\u001b[0m\u001b[0;32m    258\u001b[0m \u001b[1;33m\u001b[0m\u001b[0m\n\u001b[0;32m    259\u001b[0m     \u001b[1;32mdef\u001b[0m \u001b[0m__len__\u001b[0m\u001b[1;33m(\u001b[0m\u001b[0mself\u001b[0m\u001b[1;33m)\u001b[0m\u001b[1;33m:\u001b[0m\u001b[1;33m\u001b[0m\u001b[1;33m\u001b[0m\u001b[0m\n",
      "\u001b[1;32m<ipython-input-3-f88fbc554390>\u001b[0m in \u001b[0;36m__getitem__\u001b[1;34m(self, idx)\u001b[0m\n\u001b[0;32m      9\u001b[0m \u001b[1;33m\u001b[0m\u001b[0m\n\u001b[0;32m     10\u001b[0m     \u001b[1;32mdef\u001b[0m \u001b[0m__getitem__\u001b[0m\u001b[1;33m(\u001b[0m\u001b[0mself\u001b[0m\u001b[1;33m,\u001b[0m \u001b[0midx\u001b[0m\u001b[1;33m)\u001b[0m\u001b[1;33m:\u001b[0m\u001b[1;33m\u001b[0m\u001b[1;33m\u001b[0m\u001b[0m\n\u001b[1;32m---> 11\u001b[1;33m         \u001b[1;32mreturn\u001b[0m \u001b[0mself\u001b[0m\u001b[1;33m.\u001b[0m\u001b[0mX\u001b[0m\u001b[1;33m[\u001b[0m\u001b[0midx\u001b[0m\u001b[1;33m,\u001b[0m \u001b[1;33m:\u001b[0m\u001b[1;33m,\u001b[0m \u001b[1;33m:\u001b[0m\u001b[1;33m,\u001b[0m \u001b[1;33m:\u001b[0m\u001b[1;33m]\u001b[0m\u001b[1;33m,\u001b[0m \u001b[0mself\u001b[0m\u001b[1;33m.\u001b[0m\u001b[0my\u001b[0m\u001b[1;33m[\u001b[0m\u001b[0midx\u001b[0m\u001b[1;33m,\u001b[0m \u001b[1;36m0\u001b[0m\u001b[1;33m]\u001b[0m\u001b[1;33m\u001b[0m\u001b[1;33m\u001b[0m\u001b[0m\n\u001b[0m\u001b[0;32m     12\u001b[0m \u001b[1;33m\u001b[0m\u001b[0m\n\u001b[0;32m     13\u001b[0m     \u001b[1;32mdef\u001b[0m \u001b[0mto\u001b[0m\u001b[1;33m(\u001b[0m\u001b[0mself\u001b[0m\u001b[1;33m,\u001b[0m \u001b[0mdevice\u001b[0m\u001b[1;33m)\u001b[0m\u001b[1;33m:\u001b[0m\u001b[1;33m\u001b[0m\u001b[1;33m\u001b[0m\u001b[0m\n",
      "\u001b[1;31mKeyboardInterrupt\u001b[0m: "
     ]
    }
   ],
   "source": [
    "EPOCHS = 100\n",
    "for i in tnrange(EPOCHS):\n",
    "    \n",
    "    model.zero_grad()\n",
    "    \n",
    "    L_cum = 0\n",
    "    \n",
    "    for X, y in dataLoader:\n",
    "        L = CE(y, model.forward(X.view(X.shape[0], 28*28))) # + C*sum([torch.sum(model.state_dict()[a]**2) if a[-1] == 't' else 0 for a in model.state_dict()])\n",
    "        L.backward()\n",
    "        L_cum += L\n",
    "\n",
    "    opt.step()\n",
    "    \n",
    "    # Print\n",
    "    if (i % (EPOCHS//10)) == 0: print(\"Iteration %d \\n        L: %.4f\" % (i, L_cum))\n",
    "    i += 1"
   ]
  },
  {
   "cell_type": "code",
   "execution_count": 218,
   "metadata": {},
   "outputs": [
    {
     "data": {
      "text/plain": [
       "<matplotlib.image.AxesImage at 0x1638d131470>"
      ]
     },
     "execution_count": 218,
     "metadata": {},
     "output_type": "execute_result"
    },
    {
     "data": {
      "image/png": "[encoded data removed]",
      "text/plain": [
       "<Figure size 432x288 with 1 Axes>"
      ]
     },
     "metadata": {
      "needs_background": "light"
     },
     "output_type": "display_data"
    }
   ],
   "source": [
    "plt.imshow(Img[0][0].reshape(28,28).to(cpu))"
   ]
  },
  {
   "cell_type": "code",
   "execution_count": 219,
   "metadata": {},
   "outputs": [
    {
     "data": {
      "text/plain": [
       "tensor(9., device='cuda:0')"
      ]
     },
     "execution_count": 219,
     "metadata": {},
     "output_type": "execute_result"
    }
   ],
   "source": [
    "Img[0][1]"
   ]
  },
  {
   "cell_type": "code",
   "execution_count": 220,
   "metadata": {
    "scrolled": true
   },
   "outputs": [
    {
     "data": {
      "text/plain": [
       "<matplotlib.image.AxesImage at 0x1638d4460f0>"
      ]
     },
     "execution_count": 220,
     "metadata": {},
     "output_type": "execute_result"
    },
    {
     "data": {
      "image/png": "[encoded data removed]",
      "text/plain": [
       "<Figure size 432x288 with 1 Axes>"
      ]
     },
     "metadata": {
      "needs_background": "light"
     },
     "output_type": "display_data"
    }
   ],
   "source": [
    "plt.imshow(Img[1][0].reshape(28,28).to(cpu))"
   ]
  },
  {
   "cell_type": "code",
   "execution_count": 227,
   "metadata": {},
   "outputs": [
    {
     "data": {
      "text/plain": [
       "<matplotlib.image.AxesImage at 0x1638e815438>"
      ]
     },
     "execution_count": 227,
     "metadata": {},
     "output_type": "execute_result"
    },
    {
     "data": {
      "image/png": "[encoded data removed]",
      "text/plain": [
       "<Figure size 432x288 with 1 Axes>"
      ]
     },
     "metadata": {
      "needs_background": "light"
     },
     "output_type": "display_data"
    }
   ],
   "source": [
    "plt.imshow(list(model.parameters())[0].data[1].reshape(28,28).to(cpu))"
   ]
  },
  {
   "cell_type": "code",
   "execution_count": 222,
   "metadata": {},
   "outputs": [
    {
     "data": {
      "text/plain": [
       "tensor([-5.2598e-01,  1.3640e+00,  2.4233e+00,  1.8813e-01, -1.1545e+00,\n",
       "        -8.6601e-01, -1.3209e+00, -1.3033e+00, -8.8189e-01, -1.0257e-01,\n",
       "        -1.0007e+00, -2.4024e-01, -9.7519e-02, -9.1108e-01, -8.5237e-01,\n",
       "        -4.9063e-01,  2.1873e-01, -2.4227e-01, -1.9793e-01, -1.1497e+00,\n",
       "        -1.2466e+00, -2.4679e+00, -2.0479e+00, -1.3785e+00,  1.2963e+00,\n",
       "         8.9295e-01, -4.2391e-01,  2.0765e+00,  1.8875e+00,  2.3116e+00,\n",
       "         2.5894e+00, -2.7409e-01,  7.5132e-02, -1.2695e+00, -1.0254e+00,\n",
       "         1.1009e-01,  3.0741e-01, -2.2586e-02, -4.4738e-01, -2.3375e-01,\n",
       "        -1.2231e-01,  1.8598e-01,  2.1335e-01,  4.7178e-01, -2.5009e-01,\n",
       "        -5.2562e-01, -1.9455e-01, -4.7169e-01,  1.1378e-01, -7.9530e-02,\n",
       "        -5.1495e-01,  5.0680e-02,  9.0906e-01,  1.7674e+00, -2.5883e-02,\n",
       "         2.5883e+00,  1.0841e+00, -3.6145e-01,  1.0916e+00,  5.7574e-02,\n",
       "         7.0201e-01,  4.6851e-01,  4.5550e-01,  6.8461e-01,  5.2234e-01,\n",
       "         3.2289e-01, -5.0550e-02, -1.2938e-01,  1.1434e-01,  5.3573e-01,\n",
       "         2.5398e-01,  2.8249e-01, -1.2531e-01, -3.4093e-02, -6.8976e-02,\n",
       "         1.0582e-01,  2.9945e-01,  3.2342e-01,  7.5119e-01,  9.3275e-01,\n",
       "         2.0756e+00,  1.4939e+00,  5.9512e-01,  7.6403e-01, -8.2687e-01,\n",
       "        -2.4388e-01,  2.6138e+00, -1.1816e+00,  5.5224e-01,  1.9298e-01,\n",
       "         2.1643e-01,  2.8732e-01,  1.8987e-01,  1.2771e-01, -1.6018e-01,\n",
       "        -2.3149e-01,  1.3284e-01, -7.0960e-02, -2.5789e-01, -3.7385e-02,\n",
       "        -5.6572e-02, -1.8212e-01, -1.6198e-02, -1.4449e-01, -6.5803e-03,\n",
       "         4.2593e-02,  1.0631e-01,  5.7486e-01,  9.2357e-01,  1.1595e+00,\n",
       "        -2.6712e-02,  6.2620e-01, -3.9173e-01,  8.9269e-01, -2.3934e-01,\n",
       "         5.5044e-02,  5.1564e-01,  7.1873e-02,  1.9495e-01,  7.3567e-02,\n",
       "         2.1041e-01,  1.3418e-01, -1.5289e-01, -3.3066e-01, -2.4117e-02,\n",
       "        -2.7133e-01, -4.4069e-01,  2.1412e-03, -3.4056e-01, -1.1315e-01,\n",
       "         5.5104e-02, -9.6602e-03,  1.4491e-01,  3.0567e-02,  1.3220e-01,\n",
       "         4.4567e-01,  6.5244e-01,  6.9888e-01, -9.1319e-01, -4.4258e-03,\n",
       "         1.7065e+00,  3.4598e-01, -4.8025e-01,  7.0449e-02,  6.3917e-01,\n",
       "         2.1250e-01,  2.7936e-01, -3.1473e-01, -1.2227e-02, -2.8576e-01,\n",
       "        -4.4113e-02, -2.8731e-01, -2.8911e-01, -4.2149e-01, -4.9493e-01,\n",
       "        -9.8311e-02, -4.3478e-01,  2.2680e-01,  1.0329e-01, -2.2580e-02,\n",
       "        -7.1952e-03, -1.1132e-01,  2.7675e-01,  4.0547e-01,  3.2153e-01,\n",
       "         9.4631e-01, -2.2727e-01,  2.1648e-01,  3.8085e-01,  6.0690e-01,\n",
       "        -2.4777e-01,  1.1135e-01,  3.4151e-01,  1.3166e-01,  2.2629e-01,\n",
       "        -5.7004e-02,  1.1025e-01, -1.9940e-01,  4.2283e-02, -1.3244e-01,\n",
       "        -8.3121e-02, -1.3272e-01, -3.4265e-01, -1.7337e-01, -1.3931e-01,\n",
       "        -8.8343e-02,  2.9613e-01,  3.3814e-01, -1.2817e-01, -1.0963e-01,\n",
       "         6.3981e-02,  2.0552e-01,  4.6206e-01,  1.1767e+00,  4.9882e-01,\n",
       "         5.2833e-02,  1.7454e+00,  3.8567e-01, -9.4374e-02,  2.2936e-01,\n",
       "         1.7452e-01, -9.8671e-02,  8.7048e-02,  4.2556e-02,  3.3946e-01,\n",
       "        -1.3345e-01, -3.4265e-01, -1.6094e-01,  4.4202e-02, -2.6769e-01,\n",
       "        -8.3063e-01, -3.1447e-01, -9.7769e-02, -4.8387e-02,  2.2325e-02,\n",
       "         4.7422e-01,  8.0395e-02, -5.9603e-02,  1.9576e-01,  5.9100e-02,\n",
       "         3.5380e-01,  9.7883e-01,  3.4889e-01, -5.1563e-02,  1.8109e+00,\n",
       "         2.1564e-01,  1.1743e-01,  2.4833e-01,  1.0729e-01,  6.7655e-02,\n",
       "         3.4722e-01,  3.2157e-01,  1.9843e-01, -1.1034e-01, -2.4126e-01,\n",
       "        -3.0126e-01, -5.1357e-02, -4.6263e-01, -4.9518e-01, -1.8632e-01,\n",
       "         2.4382e-02, -4.9103e-02,  6.8240e-02,  3.7327e-01,  1.3181e-01,\n",
       "         1.3719e-01,  1.9396e-01, -1.5176e-01,  2.7305e-01,  4.5951e-01,\n",
       "         5.8402e-02,  2.7963e-01,  1.7269e+00, -1.1199e-01,  1.6382e-01,\n",
       "         4.6100e-01,  1.5257e-01,  4.5031e-01,  3.1225e-01,  3.2211e-01,\n",
       "         3.6009e-01,  1.1508e-01, -1.6228e-01, -2.0958e-01,  5.2764e-03,\n",
       "        -2.1903e-01,  4.5563e-02, -8.3593e-02,  2.1301e-01, -5.3909e-02,\n",
       "         6.9615e-02,  2.2828e-01,  2.1111e-01,  5.0910e-01,  2.4737e-01,\n",
       "         3.8677e-02,  3.5819e-01,  1.8761e-01,  6.2594e-01,  2.2462e-01,\n",
       "         4.3161e-01, -8.7362e-02, -2.1115e-01, -4.3914e-04,  4.4427e-02,\n",
       "         2.3179e-01, -5.7431e-02,  1.6634e-01,  1.6581e-01,  4.3422e-01,\n",
       "        -5.8369e-02, -2.1310e-02, -8.2704e-03, -4.3116e-01,  1.7303e-01,\n",
       "        -1.0934e-01, -6.3235e-02,  6.1388e-02,  1.9000e-01,  1.6205e-01,\n",
       "         1.1548e-01,  4.7608e-01,  3.0879e-01,  1.6095e-01,  1.3353e-01,\n",
       "        -1.9263e-01,  1.4577e-01,  1.8128e-01,  1.3250e+00, -6.1364e-01,\n",
       "        -5.1338e-02, -9.8890e-02,  8.2851e-02,  1.7795e-01, -1.3714e-01,\n",
       "         8.8552e-03,  9.4414e-02,  2.9397e-01,  3.1584e-02,  1.3841e-01,\n",
       "        -1.1413e-02, -1.0908e-01,  2.4224e-01, -7.4741e-02, -1.8498e-01,\n",
       "        -1.4772e-01,  2.9089e-01,  2.1153e-01, -3.0231e-02,  2.3169e-01,\n",
       "         2.6638e-02,  2.1897e-01, -1.0723e-01,  4.4446e-02, -1.0759e-02,\n",
       "        -4.7975e-02,  1.6920e+00, -3.7382e-02,  1.6128e-02, -5.0613e-01,\n",
       "        -7.4957e-02, -1.1971e-01, -3.4332e-01, -2.5532e-01, -7.0793e-02,\n",
       "         2.7096e-01,  5.9109e-02, -7.6258e-02, -2.0374e-01, -1.1073e-01,\n",
       "        -1.1212e-02, -2.4372e-01, -1.0208e-01, -1.0265e-01,  3.1862e-01,\n",
       "         2.3208e-01, -2.9882e-02,  1.1756e-02,  2.3681e-03,  1.6432e-01,\n",
       "        -8.8667e-02, -3.4041e-02,  4.2331e-01,  3.5978e-01, -1.2891e-01,\n",
       "        -2.6941e-01, -2.2374e-01, -5.1453e-01, -3.8580e-01, -6.6958e-02,\n",
       "        -2.6938e-01, -3.1788e-01, -9.6151e-03,  1.2655e-01, -2.3020e-01,\n",
       "        -3.3088e-01, -2.7129e-01, -1.1617e-01,  4.2565e-02, -3.5910e-01,\n",
       "        -3.3861e-01, -1.8865e-02,  3.6520e-01,  2.1503e-01, -1.9558e-01,\n",
       "        -8.1186e-02, -5.7838e-02,  3.2554e-02, -6.6439e-02, -3.0429e-03,\n",
       "         2.8649e-01,  3.7927e-01,  4.4397e-01, -3.8412e-02,  1.7409e-01,\n",
       "        -5.1448e-02, -2.3058e-02,  1.8870e-02, -2.0053e-01, -3.2145e-01,\n",
       "        -1.8027e-01,  1.0801e-01,  7.6085e-02, -1.7408e-01, -3.7102e-01,\n",
       "         6.8533e-02,  2.6428e-01, -4.1879e-01, -3.9173e-01, -4.6647e-02,\n",
       "         2.1281e-01,  3.9361e-02, -2.7380e-01, -2.7768e-03, -1.5728e-01,\n",
       "         1.3535e-01, -1.0218e-01, -6.8989e-02,  7.2009e-02,  5.9470e-01,\n",
       "         1.7214e-01, -1.3725e-01,  5.6677e-02, -5.9147e-02, -6.8879e-02,\n",
       "         1.4540e-02, -1.5899e-01, -8.0345e-02, -2.5181e-01,  1.6800e-01,\n",
       "         1.7763e-01, -9.3128e-02, -3.3763e-01,  2.6748e-01,  4.6525e-01,\n",
       "        -2.8391e-01, -1.7227e-01,  2.4792e-01,  3.3074e-01,  1.0787e-01,\n",
       "        -8.2319e-02,  1.1579e-01, -2.1778e-01,  2.5066e-01, -1.0301e-01,\n",
       "         1.7874e-02,  1.4218e-01, -2.4973e-02, -3.3144e-01, -7.1905e-02,\n",
       "        -7.3306e-03, -1.1599e-01, -9.7939e-02,  1.1825e-02, -5.2825e-03,\n",
       "         7.4391e-02, -1.3847e-01,  3.2279e-01,  1.1159e-01, -1.2182e-01,\n",
       "        -2.1354e-01,  4.6373e-01,  4.8131e-01, -4.1785e-01, -2.1902e-01,\n",
       "         5.1420e-02,  2.8180e-01,  4.2567e-02, -1.1385e-01,  1.9533e-01,\n",
       "        -6.3869e-02,  1.0949e-01,  4.4255e-02, -1.3266e-01,  1.2971e-01,\n",
       "         7.1386e-01, -4.2188e-02, -5.7149e-01, -1.8691e-01, -8.9284e-02,\n",
       "        -3.3967e-03, -3.7334e-02, -3.9755e-02, -3.2832e-03, -3.8765e-02,\n",
       "         8.7426e-02,  7.6714e-02, -3.6540e-01, -2.3924e-01,  4.5309e-01,\n",
       "         5.9729e-01, -9.2235e-02, -2.6535e-01, -4.9558e-02,  1.3583e-01,\n",
       "         4.5550e-02, -1.9715e-01, -7.0575e-02, -1.3961e-01,  1.0501e-01,\n",
       "         5.9289e-02,  4.0438e-02, -1.4577e-01,  8.1445e-02,  2.2709e-01,\n",
       "        -7.2051e-01, -2.0561e-01, -2.4201e-02,  1.1161e-02, -1.1359e-01,\n",
       "        -1.7335e-02, -1.1408e-01,  1.7180e-01,  2.3915e-01,  3.7423e-02,\n",
       "        -7.6422e-02, -1.7412e-01,  4.9155e-01,  6.6733e-01, -5.1316e-02,\n",
       "        -5.9826e-02, -7.0760e-02, -2.5147e-02,  6.5784e-02, -2.0545e-01,\n",
       "        -1.3475e-01, -1.9278e-01,  5.0684e-02, -2.4395e-02,  1.4424e-01,\n",
       "        -3.2266e-01,  1.0220e-02, -2.2559e-01, -4.3922e-01,  1.5963e-01,\n",
       "         1.8911e-02, -1.3708e-01, -4.2512e-02, -1.0647e-01, -2.6059e-01,\n",
       "         2.0139e-01,  5.4128e-02, -8.5379e-02, -2.1530e-01, -1.9838e-01,\n",
       "         4.2122e-01,  7.4346e-01,  8.9940e-02, -3.7998e-01, -1.5636e-01,\n",
       "        -4.8089e-02, -9.4230e-03, -2.2495e-01, -9.0036e-02, -2.2052e-01,\n",
       "        -3.5887e-02,  2.1152e-02,  4.5718e-01, -3.7920e-01, -6.8869e-02,\n",
       "        -8.7686e-01, -7.6396e-02, -3.7066e-03,  3.2794e-01, -1.5729e-01,\n",
       "        -9.2216e-02, -2.3010e-01,  1.7814e-01,  4.7310e-01,  1.1758e-01,\n",
       "        -4.2679e-02, -7.0264e-02, -1.9222e-01,  3.5356e-01,  7.5627e-01,\n",
       "         4.8261e-02, -3.8873e-01, -1.7059e-01,  4.0015e-02,  3.1074e-03,\n",
       "         1.6398e-02,  1.0561e-01, -1.5909e-01, -1.2936e-01, -3.2815e-01,\n",
       "         5.0224e-01, -1.4043e-01, -6.9745e-01, -1.8543e+00, -2.3261e-01,\n",
       "         7.7925e-02,  9.0250e-02, -1.6613e-01, -2.8326e-01, -9.1967e-02,\n",
       "         3.5272e-01,  4.8880e-01,  2.0433e-01,  1.2288e-01, -4.0707e-02,\n",
       "        -1.2170e-01,  3.7293e-01,  7.3516e-01, -6.0757e-02, -3.4409e-01,\n",
       "        -5.6895e-02,  7.0082e-02,  1.1634e-01, -7.0090e-02,  1.7063e-01,\n",
       "        -2.7334e-01, -1.3516e-01, -1.6149e-01,  5.0265e-01, -2.5496e-01,\n",
       "        -1.0225e+00, -1.0609e+00, -1.6374e-01, -3.6655e-01, -2.4813e-01,\n",
       "        -2.0778e-01, -3.3097e-01,  3.5074e-02,  1.2796e-01,  1.4699e-01,\n",
       "         2.7373e-01, -1.2224e-01,  1.1509e-02, -1.4711e-01,  2.1337e-01,\n",
       "         8.7768e-01, -3.0499e-02, -2.0693e-01, -8.4167e-02, -5.6531e-02,\n",
       "         5.9016e-02,  6.7207e-02,  1.9645e-01, -3.6997e-01, -1.9418e-01,\n",
       "        -2.8752e-01, -8.0999e-02, -3.1876e-01, -9.2563e-01,  1.6247e-02,\n",
       "        -3.2410e-01, -1.8248e-01, -2.7596e-01, -3.0932e-01, -1.6622e-01,\n",
       "         8.4392e-02,  1.5708e-01,  1.5787e-01,  2.0381e-01, -3.9770e-02,\n",
       "         1.1733e-01, -1.3702e-01,  2.0777e-01,  7.3116e-01,  3.0152e-02,\n",
       "        -1.1840e-01,  8.6243e-03, -7.5298e-02, -9.6704e-03, -1.1103e-01,\n",
       "         7.8617e-02, -3.1936e-01, -5.4258e-02, -2.5493e-01, -2.6347e-02,\n",
       "         3.1767e-01, -8.2629e-01,  2.1226e-01,  6.5788e-02, -2.0644e-01,\n",
       "        -2.9095e-01, -2.6456e-01, -8.3493e-02,  3.2811e-01,  6.2274e-02,\n",
       "         4.0966e-01,  2.7021e-01,  1.5415e-01, -7.5480e-02, -3.8794e-01,\n",
       "         2.4871e-02,  6.0226e-01, -1.5870e-01, -1.5599e-01, -1.2240e-01,\n",
       "        -4.1227e-02,  1.3237e-01,  4.2569e-01,  1.5721e-01,  6.1654e-02,\n",
       "        -2.4374e-01, -5.2463e-01, -1.6288e-01, -1.0212e-01, -3.2543e-01,\n",
       "         4.0329e-01,  4.1771e-01,  1.9104e-01, -4.3152e-01, -2.9011e-01,\n",
       "        -2.1010e-01, -3.7091e-02, -1.3662e-01,  9.2249e-02,  8.3816e-02,\n",
       "         6.6652e-02, -6.6869e-02, -3.3365e-01,  8.9439e-02,  7.6088e-01,\n",
       "        -2.4792e-01, -1.4849e-01, -7.7438e-02,  2.0235e-01,  1.4698e-01,\n",
       "         2.1919e-01, -3.7724e-01,  1.7278e-02, -5.3439e-01, -3.0440e-01,\n",
       "         2.7750e-01,  3.4784e-01,  6.9456e-02,  1.7852e+00,  1.2812e+00,\n",
       "        -1.6585e-01, -7.4949e-01,  1.0635e-01,  3.8070e-02, -3.2057e-01,\n",
       "         1.8294e-02,  1.6521e-01, -1.7471e-02,  2.1158e-02,  1.0141e-01,\n",
       "        -1.7638e-01,  2.3006e-01,  6.8057e-01, -4.5450e-01, -1.6037e-01,\n",
       "         1.1338e-01,  2.2174e-01,  1.5531e-01,  8.8151e-02, -1.9818e-01,\n",
       "        -1.2013e-01,  1.3327e-01, -1.1689e-01, -1.3764e-01, -4.9679e-01,\n",
       "         7.0761e-01, -3.6516e-01,  4.4319e-01, -3.9865e-01, -1.3356e+00,\n",
       "         1.5071e-01,  1.3862e-01,  1.4858e-01, -1.6955e-01,  8.2615e-02,\n",
       "        -3.9825e-01, -8.3524e-01, -4.1226e-01, -2.1320e-01,  1.7995e+00,\n",
       "         2.1974e+00, -1.8837e-01, -3.9661e-01, -5.0731e-01, -7.3954e-01,\n",
       "        -4.9669e-02,  2.6895e-01, -9.1713e-02,  5.1783e-01,  1.4680e-01,\n",
       "         1.1489e-01,  1.4519e-01, -3.3754e-01,  2.5553e+00], device='cuda:0')"
      ]
     },
     "execution_count": 222,
     "metadata": {},
     "output_type": "execute_result"
    }
   ],
   "source": [
    "list(model.parameters())[0].data[0] - list(model.parameters())[0].data[1]"
   ]
  },
  {
   "cell_type": "code",
   "execution_count": 211,
   "metadata": {},
   "outputs": [
    {
     "data": {
      "text/plain": [
       "tensor([ 0.,  0.,  0.,  0.,  0.,  0.,  0.,  0., -2.,  0.,  0.,  0.,  0.,  0.,\n",
       "         0., -2.,  0.,  0., -4.,  0.,  4.,  0.,  0., -2., -4.,  0.,  0., -4.,\n",
       "         0.,  0.,  0.,  3.,  0., -2.,  0.,  0.,  0.,  0.,  0.,  0.,  4.,  2.,\n",
       "         0.,  0.,  0.,  6.,  0.,  6.,  0.,  0.,  0.,  0.,  0.,  0.,  0.,  0.,\n",
       "         0.,  6.,  0.,  0.,  0.,  0.,  0.,  0.,  3., -5.,  0.,  0.,  0.,  0.,\n",
       "         0.,  0.,  0.,  0.,  0.,  0.,  0.,  0.,  0.,  0.,  0.,  0.,  0.,  0.,\n",
       "         0.,  0.,  0.,  0.,  0.,  0., -6.,  0.,  0.,  0.,  0., -2.,  0.,  0.,\n",
       "        -3.,  0.,  0.,  0.,  0.,  0.,  0.,  0.,  0.,  0.,  0.,  0.,  0.,  0.,\n",
       "         0.,  0.,  0.,  0.,  0.,  0., -6.,  0.,  0.,  0.,  0.,  0.,  0.,  0.,\n",
       "        -2.,  0.,  0.,  0.,  0.,  0.,  0., -6.,  0.,  0.,  0.,  0.,  0.,  0.,\n",
       "         0.,  0.,  0.,  0.,  0.,  0.,  0.,  0.,  0.,  0.,  0.,  0.,  0.,  0.,\n",
       "         0.,  0.,  0.,  0.,  0.,  0.,  0., -2.,  0.,  0.,  0.,  0.,  0.,  0.,\n",
       "         0.,  0.,  0.,  0.,  0.,  0.,  0.,  0.,  0.,  0., -2.,  2.,  4.,  0.,\n",
       "         0.,  0.,  6.,  0.,  0.,  6.,  0.,  0.,  0.,  0.,  0., -3.,  0.,  0.,\n",
       "         0.,  0.,  0.,  0.,  0.,  0.,  0.,  0.,  0.,  0.,  0.,  0.,  0.,  0.,\n",
       "         0.,  0., -2.,  0.,  0.,  0.,  0.,  0.,  0.,  4.,  0.,  0.,  0.,  0.,\n",
       "        -2.,  0.,  0.,  0.,  0.,  0.,  0.,  0.,  0.,  0.,  0.,  0.,  0.,  0.,\n",
       "         0.,  0.,  0.,  0.,  0.,  0.,  0.,  2.,  0.,  0., -6.,  0.,  0.,  0.,\n",
       "         0.,  0.,  2.,  0.,  0.,  0.,  0.,  0.,  2.,  0.,  0., -3.,  0.,  0.,\n",
       "         0.,  0.,  0., -2.,  0.,  0., -3., -3.,  0.,  0.,  0.,  0., -4.,  0.,\n",
       "         0.,  0.,  0.,  0.,  0.,  0.,  0.,  0.,  0.,  0.,  0.,  0.,  0.,  0.,\n",
       "         0., -6.,  0.,  0.,  4.,  0.,  0.,  0.,  0.,  0.,  0.,  0.,  0.,  0.,\n",
       "         0.,  0.,  0.,  0.,  0.,  0.,  0.,  0.,  0.,  0.,  0.,  0.,  2.,  0.,\n",
       "         0., -1.,  0.,  0.,  0.,  0.,  0.,  0.,  0.,  0.,  0.,  0.,  0.,  0.,\n",
       "         0.,  0.,  0.,  6.,  0.,  0.,  0.,  0.,  0., -4.,  0.,  0., -2.,  0.,\n",
       "         0.,  2.,  0.,  0.,  0.,  0.,  0.,  0.,  0., -2.,  0.,  0.,  0.,  0.,\n",
       "         0.,  0.,  0.,  0.,  0.,  0.,  0.,  0.,  0.,  0.,  0.,  0.,  2.,  0.,\n",
       "         0.,  0.,  0., -3.,  0.,  0.,  0.,  2.,  0.,  3.,  0.,  0.,  0.,  0.,\n",
       "        -3.,  2.,  0.,  0.,  0., -2.,  0., -2.,  0.,  0.,  0.,  0.,  0.,  0.,\n",
       "         0.,  0.,  0.,  0.,  0.,  0.,  0.,  2.,  0., -3.,  0.,  0.,  0.,  0.,\n",
       "         0.,  0.,  0.,  0.,  0.,  0., -2.,  6.,  0.,  3.], device='cuda:0')"
      ]
     },
     "execution_count": 211,
     "metadata": {},
     "output_type": "execute_result"
    }
   ],
   "source": [
    "model.forward(X.reshape(X.shape[0], 28*28)).argmax(1) - y"
   ]
  },
  {
   "cell_type": "code",
   "execution_count": 135,
   "metadata": {},
   "outputs": [
    {
     "data": {
      "text/plain": [
       "tensor(0.9839, device='cuda:0', grad_fn=<MeanBackward0>)"
      ]
     },
     "execution_count": 135,
     "metadata": {},
     "output_type": "execute_result"
    }
   ],
   "source": [
    "model.forward(X.reshape(X.shape[0], 28*28)).max(1)[0].mean()"
   ]
  },
  {
   "cell_type": "code",
   "execution_count": null,
   "metadata": {},
   "outputs": [],
   "source": []
  }
 ],
 "metadata": {
  "kernelspec": {
   "display_name": "Python 3",
   "language": "python",
   "name": "python3"
  },
  "language_info": {
   "codemirror_mode": {
    "name": "ipython",
    "version": 3
   },
   "file_extension": ".py",
   "mimetype": "text/x-python",
   "name": "python",
   "nbconvert_exporter": "python",
   "pygments_lexer": "ipython3",
   "version": "3.7.3"
  }
 },
 "nbformat": 4,
 "nbformat_minor": 2
}
