{
 "cells": [
  {
   "cell_type": "code",
   "execution_count": 134,
   "metadata": {},
   "outputs": [],
   "source": [
    "import torch\n",
    "import torch.optim as optim\n",
    "from flair.embeddings import WordEmbeddings\n",
    "from flair.data import Sentence\n",
    "import pandas as pd\n",
    "import numpy as np\n",
    "from torch import nn\n",
    "import torch.nn.functional as F\n",
    "from torch.nn.modules.distance import PairwiseDistance"
   ]
  },
  {
   "cell_type": "code",
   "execution_count": 3,
   "metadata": {},
   "outputs": [
    {
     "data": {
      "text/plain": [
       "tensor([1., 2., 3.])"
      ]
     },
     "execution_count": 3,
     "metadata": {},
     "output_type": "execute_result"
    }
   ],
   "source": [
    "torch.Tensor([1,2,3]) "
   ]
  },
  {
   "cell_type": "code",
   "execution_count": 182,
   "metadata": {},
   "outputs": [],
   "source": [
    "X = torch.rand(100,10)"
   ]
  },
  {
   "cell_type": "code",
   "execution_count": 183,
   "metadata": {},
   "outputs": [],
   "source": [
    "b = torch.rand(10)"
   ]
  },
  {
   "cell_type": "code",
   "execution_count": 184,
   "metadata": {},
   "outputs": [],
   "source": [
    "y = X @ b + torch.randn(100)/100"
   ]
  },
  {
   "cell_type": "code",
   "execution_count": 225,
   "metadata": {},
   "outputs": [],
   "source": [
    "class LogReg(nn.Module):\n",
    "    def __init__(self, input_size, output_size):\n",
    "        super(LogReg, self).__init__()\n",
    "        self.L1 = nn.Linear(input_size, output_size)\n",
    "        \n",
    "    def forward(self, X):\n",
    "        return self.L1(X) # # torch.sigmoid(self.L1(X))"
   ]
  },
  {
   "cell_type": "code",
   "execution_count": 233,
   "metadata": {},
   "outputs": [],
   "source": [
    "model = LogReg(10,1)"
   ]
  },
  {
   "cell_type": "code",
   "execution_count": 234,
   "metadata": {},
   "outputs": [],
   "source": [
    "opt = optim.Adam(model.parameters())"
   ]
  },
  {
   "cell_type": "code",
   "execution_count": 235,
   "metadata": {},
   "outputs": [],
   "source": [
    "y = y.reshape(y.shape[0],1)"
   ]
  },
  {
   "cell_type": "code",
   "execution_count": 237,
   "metadata": {},
   "outputs": [
    {
     "name": "stdout",
     "output_type": "stream",
     "text": [
      "tensor(0.0084, grad_fn=<SumBackward0>)\n",
      "tensor(0.0084, grad_fn=<SumBackward0>)\n",
      "tensor(0.0084, grad_fn=<SumBackward0>)\n",
      "tensor(0.0084, grad_fn=<SumBackward0>)\n",
      "tensor(0.0084, grad_fn=<SumBackward0>)\n",
      "tensor(0.0084, grad_fn=<SumBackward0>)\n",
      "tensor(0.0084, grad_fn=<SumBackward0>)\n",
      "tensor(0.0084, grad_fn=<SumBackward0>)\n",
      "tensor(0.0084, grad_fn=<SumBackward0>)\n",
      "tensor(0.0084, grad_fn=<SumBackward0>)\n"
     ]
    }
   ],
   "source": [
    "for i in range(10000):\n",
    "    model.zero_grad()\n",
    "    y_pred = model.forward(X)\n",
    "    L = torch.sum(torch.pow(y - y_pred, 2))\n",
    "    L.backward()\n",
    "    opt.step()\n",
    "    if (i % 1000) == 0 : print(L)"
   ]
  },
  {
   "cell_type": "code",
   "execution_count": null,
   "metadata": {},
   "outputs": [],
   "source": []
  }
 ],
 "metadata": {
  "kernelspec": {
   "display_name": "Python 3",
   "language": "python",
   "name": "python3"
  },
  "language_info": {
   "codemirror_mode": {
    "name": "ipython",
    "version": 3
   },
   "file_extension": ".py",
   "mimetype": "text/x-python",
   "name": "python",
   "nbconvert_exporter": "python",
   "pygments_lexer": "ipython3",
   "version": "3.7.3"
  }
 },
 "nbformat": 4,
 "nbformat_minor": 2
}
