{
 "cells": [
  {
   "cell_type": "code",
   "execution_count": 1,
   "metadata": {},
   "outputs": [],
   "source": [
    "import pandas as pd\n",
    "import torch\n",
    "from torch import nn\n",
    "import torch.optim as optim\n",
    "import torch.nn.functional as F\n",
    "from torch.nn.modules.distance import PairwiseDistance\n",
    "import numpy as np\n",
    "import matplotlib.pyplot as plt\n",
    "import torch.utils.data\n",
    "from tqdm import tnrange\n",
    "from tqdm import tqdm_notebook"
   ]
  },
  {
   "cell_type": "markdown",
   "metadata": {},
   "source": [
    "# The Mighty KNN"
   ]
  },
  {
   "cell_type": "code",
   "execution_count": 2,
   "metadata": {},
   "outputs": [],
   "source": [
    "def euk2(x,y):\n",
    "    d = x-y\n",
    "    return d @ d"
   ]
  },
  {
   "cell_type": "code",
   "execution_count": 3,
   "metadata": {},
   "outputs": [],
   "source": [
    "def lnorm(p): \n",
    "    return lambda x,y: (x-y).pow(p).sum().pow(1/p)"
   ]
  },
  {
   "cell_type": "code",
   "execution_count": 4,
   "metadata": {},
   "outputs": [],
   "source": [
    "def dist_mat(X, Y, d=None):\n",
    "    if d == euk2:\n",
    "        D = X @ Y.T\n",
    "        return torch.sum(X**2,1,keepdim=True) + torch.sum(Y**2,1,keepdim=True).T - 2*D\n",
    "    else:\n",
    "        return torch.Tensor([d(X[i], Y[i]) for i in range(X.shape[0]) for j in range(Y.shape[0])])               "
   ]
  },
  {
   "cell_type": "code",
   "execution_count": 6,
   "metadata": {},
   "outputs": [],
   "source": [
    "class KNN(nn.Module):\n",
    "    def __init__(self, X_train, y_train, k=5, morphism = lambda x: x, distance=euk2, batch_size=None):\n",
    "        \n",
    "        self.X = morphism(X_train)\n",
    "        self.y = y_train\n",
    "        self.M = morphism\n",
    "        self.d = distance\n",
    "        self.b = batch_size if batch_size else X_train.shape[0]\n",
    "        self.k = k\n",
    "        \n",
    "    def forward(self, Y, fast=False):\n",
    "        ind = torch.randperm(self.X.shape[0])[:self.b]\n",
    "        Y = self.M(Y)\n",
    "        if fast:\n",
    "            dm = dist_mat(Y, self.X[ind], self.d)\n",
    "            _, I = dm.sort(1)\n",
    "            ret, _ = y[ind][I[:,:self.k]].mode(1)\n",
    "        else:\n",
    "            ret = torch.zeros(Y.shape[0])\n",
    "            for i in range(Y.shape[0]):\n",
    "                a = torch.zeros(self.k, dtype=torch.long)\n",
    "                d = torch.ones(self.k) * float('inf')\n",
    "                for j in ind:\n",
    "                    nd = self.d(Y[i], self.X[j])\n",
    "                    if d.max() > nd:\n",
    "                        a[d.argmax()] = j\n",
    "                        d[d.argmax()] = nd\n",
    "                ret[i], _ = self.y[a].mode()\n",
    "        return ret"
   ]
  },
  {
   "cell_type": "code",
   "execution_count": 7,
   "metadata": {},
   "outputs": [],
   "source": [
    "X = torch.rand(100,10)"
   ]
  },
  {
   "cell_type": "code",
   "execution_count": 8,
   "metadata": {},
   "outputs": [],
   "source": [
    "y = torch.ceil(torch.rand(100)*5)"
   ]
  },
  {
   "cell_type": "code",
   "execution_count": 9,
   "metadata": {},
   "outputs": [],
   "source": [
    "Y = torch.rand(20,10)"
   ]
  },
  {
   "cell_type": "code",
   "execution_count": 10,
   "metadata": {},
   "outputs": [],
   "source": [
    "knn = KNN(X, y)"
   ]
  },
  {
   "cell_type": "code",
   "execution_count": 11,
   "metadata": {},
   "outputs": [
    {
     "data": {
      "text/plain": [
       "tensor([1., 2., 4., 1., 1., 5., 1., 3., 1., 5., 1., 2., 1., 4., 1., 5., 1., 3.,\n",
       "        1., 5.])"
      ]
     },
     "execution_count": 11,
     "metadata": {},
     "output_type": "execute_result"
    }
   ],
   "source": [
    "knn.forward(Y)"
   ]
  },
  {
   "cell_type": "code",
   "execution_count": 12,
   "metadata": {},
   "outputs": [
    {
     "data": {
      "text/plain": [
       "tensor([1., 2., 4., 1., 1., 5., 1., 3., 1., 5., 1., 2., 1., 4., 1., 5., 1., 3.,\n",
       "        1., 5.])"
      ]
     },
     "execution_count": 12,
     "metadata": {},
     "output_type": "execute_result"
    }
   ],
   "source": [
    "knn.forward(Y, fast=True)"
   ]
  },
  {
   "cell_type": "code",
   "execution_count": null,
   "metadata": {},
   "outputs": [],
   "source": []
  }
 ],
 "metadata": {
  "kernelspec": {
   "display_name": "Python 3",
   "language": "python",
   "name": "python3"
  },
  "language_info": {
   "codemirror_mode": {
    "name": "ipython",
    "version": 3
   },
   "file_extension": ".py",
   "mimetype": "text/x-python",
   "name": "python",
   "nbconvert_exporter": "python",
   "pygments_lexer": "ipython3",
   "version": "3.7.4"
  }
 },
 "nbformat": 4,
 "nbformat_minor": 2
}
